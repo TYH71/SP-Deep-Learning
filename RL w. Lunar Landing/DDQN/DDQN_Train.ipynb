{
  "cells": [
    {
      "cell_type": "markdown",
      "metadata": {
        "colab_type": "text",
        "id": "view-in-github"
      },
      "source": [
        "<a href=\"https://colab.research.google.com/github/TYH71/DELE_CA2_RL/blob/main/DDQN/DDQN_Train.ipynb\" target=\"_parent\"><img src=\"https://colab.research.google.com/assets/colab-badge.svg\" alt=\"Open In Colab\"/></a>"
      ]
    },
    {
      "cell_type": "markdown",
      "metadata": {
        "id": "ikQ1Sxo83-v0"
      },
      "source": [
        "# DELE CA2 : Dueling DQN\n",
        "\n",
        "## Motivation\n",
        "\n",
        "> This notebook is created to train a Dueling DQN agent on the LunarLander-v2 environtment.\n"
      ]
    },
    {
      "cell_type": "code",
      "execution_count": 1,
      "metadata": {
        "colab": {
          "base_uri": "https://localhost:8080/"
        },
        "id": "4q1sh5cd4JLs",
        "outputId": "ef3d0c58-3ed0-44f4-d932-d98ec48c418f"
      },
      "outputs": [
        {
          "name": "stdout",
          "output_type": "stream",
          "text": [
            "Collecting box2d-py\n",
            "  Downloading box2d_py-2.3.8-cp37-cp37m-manylinux1_x86_64.whl (448 kB)\n",
            "\u001b[?25l\r\u001b[K     |▊                               | 10 kB 19.9 MB/s eta 0:00:01\r\u001b[K     |█▌                              | 20 kB 11.0 MB/s eta 0:00:01\r\u001b[K     |██▏                             | 30 kB 8.7 MB/s eta 0:00:01\r\u001b[K     |███                             | 40 kB 8.0 MB/s eta 0:00:01\r\u001b[K     |███▋                            | 51 kB 5.4 MB/s eta 0:00:01\r\u001b[K     |████▍                           | 61 kB 5.5 MB/s eta 0:00:01\r\u001b[K     |█████▏                          | 71 kB 5.3 MB/s eta 0:00:01\r\u001b[K     |█████▉                          | 81 kB 5.9 MB/s eta 0:00:01\r\u001b[K     |██████▋                         | 92 kB 5.9 MB/s eta 0:00:01\r\u001b[K     |███████▎                        | 102 kB 5.1 MB/s eta 0:00:01\r\u001b[K     |████████                        | 112 kB 5.1 MB/s eta 0:00:01\r\u001b[K     |████████▊                       | 122 kB 5.1 MB/s eta 0:00:01\r\u001b[K     |█████████▌                      | 133 kB 5.1 MB/s eta 0:00:01\r\u001b[K     |██████████▎                     | 143 kB 5.1 MB/s eta 0:00:01\r\u001b[K     |███████████                     | 153 kB 5.1 MB/s eta 0:00:01\r\u001b[K     |███████████▊                    | 163 kB 5.1 MB/s eta 0:00:01\r\u001b[K     |████████████▍                   | 174 kB 5.1 MB/s eta 0:00:01\r\u001b[K     |█████████████▏                  | 184 kB 5.1 MB/s eta 0:00:01\r\u001b[K     |█████████████▉                  | 194 kB 5.1 MB/s eta 0:00:01\r\u001b[K     |██████████████▋                 | 204 kB 5.1 MB/s eta 0:00:01\r\u001b[K     |███████████████▍                | 215 kB 5.1 MB/s eta 0:00:01\r\u001b[K     |████████████████                | 225 kB 5.1 MB/s eta 0:00:01\r\u001b[K     |████████████████▉               | 235 kB 5.1 MB/s eta 0:00:01\r\u001b[K     |█████████████████▌              | 245 kB 5.1 MB/s eta 0:00:01\r\u001b[K     |██████████████████▎             | 256 kB 5.1 MB/s eta 0:00:01\r\u001b[K     |███████████████████             | 266 kB 5.1 MB/s eta 0:00:01\r\u001b[K     |███████████████████▊            | 276 kB 5.1 MB/s eta 0:00:01\r\u001b[K     |████████████████████▌           | 286 kB 5.1 MB/s eta 0:00:01\r\u001b[K     |█████████████████████▏          | 296 kB 5.1 MB/s eta 0:00:01\r\u001b[K     |██████████████████████          | 307 kB 5.1 MB/s eta 0:00:01\r\u001b[K     |██████████████████████▋         | 317 kB 5.1 MB/s eta 0:00:01\r\u001b[K     |███████████████████████▍        | 327 kB 5.1 MB/s eta 0:00:01\r\u001b[K     |████████████████████████        | 337 kB 5.1 MB/s eta 0:00:01\r\u001b[K     |████████████████████████▉       | 348 kB 5.1 MB/s eta 0:00:01\r\u001b[K     |█████████████████████████▋      | 358 kB 5.1 MB/s eta 0:00:01\r\u001b[K     |██████████████████████████▎     | 368 kB 5.1 MB/s eta 0:00:01\r\u001b[K     |███████████████████████████     | 378 kB 5.1 MB/s eta 0:00:01\r\u001b[K     |███████████████████████████▊    | 389 kB 5.1 MB/s eta 0:00:01\r\u001b[K     |████████████████████████████▌   | 399 kB 5.1 MB/s eta 0:00:01\r\u001b[K     |█████████████████████████████▏  | 409 kB 5.1 MB/s eta 0:00:01\r\u001b[K     |██████████████████████████████  | 419 kB 5.1 MB/s eta 0:00:01\r\u001b[K     |██████████████████████████████▊ | 430 kB 5.1 MB/s eta 0:00:01\r\u001b[K     |███████████████████████████████▍| 440 kB 5.1 MB/s eta 0:00:01\r\u001b[K     |████████████████████████████████| 448 kB 5.1 MB/s \n",
            "\u001b[?25hInstalling collected packages: box2d-py\n",
            "Successfully installed box2d-py-2.3.8\n"
          ]
        }
      ],
      "source": [
        "!pip3 install box2d-py"
      ]
    },
    {
      "cell_type": "code",
      "execution_count": 2,
      "metadata": {
        "id": "m2OcD08I39R4"
      },
      "outputs": [],
      "source": [
        "# Import Libraries\n",
        "import tensorflow as tf\n",
        "import numpy as np\n",
        "import matplotlib.pyplot as plt\n",
        "import pandas as pd\n",
        "import tensorflow.keras as keras\n",
        "import gym\n",
        "\n",
        "from tensorflow.python.keras.layers import Dense\n",
        "from tensorflow.keras.optimizers import Adam"
      ]
    },
    {
      "cell_type": "markdown",
      "metadata": {},
      "source": [
        "## Replay Buffer and Experience Replay\n",
        "\n",
        "> A buffer (temporary memory) of observations, rewards, and subsequent observations. The buffer is used to then train the Deep Learning model. \n",
        "\n",
        "The purpose of Experience Replay is to store past experiences and then using a random subset of these experiences to update the Q-network, rather than using just the single recent experience.\n",
        "\n",
        "A replay buffer contains a collection of experience (State, Action, Reward, New State). Normally, a replay buffer is store as a queue, where new buffer is added to the end so that it pushes the oldest experience out of it."
      ]
    },
    {
      "cell_type": "code",
      "execution_count": 3,
      "metadata": {
        "id": "oN8_nxxs3o9d"
      },
      "outputs": [],
      "source": [
        "# The ReplayBuffer class is used to store experiences in a buffer of size N. \n",
        "# The buffer is used to sample a batch of experiences from the buffer to train the agent.\n",
        "class ReplayBuffer:\n",
        "    def __init__(self, size, input_shape):\n",
        "        self.size = size\n",
        "        self.counter = 0\n",
        "        self.state_buffer = np.zeros((self.size, *input_shape), dtype=np.float32)\n",
        "        self.action_buffer = np.zeros(self.size, dtype=np.int32)\n",
        "        self.reward_buffer = np.zeros(self.size, dtype=np.float32)\n",
        "        self.new_state_buffer = np.zeros((self.size, *input_shape), dtype=np.float32)\n",
        "        self.terminal_buffer = np.zeros(self.size, dtype=np.bool_)\n",
        "\n",
        "    # insert experience into the buffer\n",
        "    def store_tuples(self, state, action, reward, new_state, done):\n",
        "        idx = self.counter % self.size\n",
        "        self.state_buffer[idx] = state\n",
        "        self.action_buffer[idx] = action\n",
        "        self.reward_buffer[idx] = reward\n",
        "        self.new_state_buffer[idx] = new_state\n",
        "        self.terminal_buffer[idx] = done\n",
        "        self.counter += 1\n",
        "\n",
        "    # Sample a batch of experiences from the buffer\n",
        "    def sample_buffer(self, batch_size):\n",
        "        max_buffer = min(self.counter, self.size)\n",
        "        batch = np.random.choice(max_buffer, batch_size, replace=False)\n",
        "        state_batch = self.state_buffer[batch]\n",
        "        action_batch = self.action_buffer[batch]\n",
        "        reward_batch = self.reward_buffer[batch]\n",
        "        new_state_batch = self.new_state_buffer[batch]\n",
        "        done_batch = self.terminal_buffer[batch]\n",
        "\n",
        "        return state_batch, action_batch, reward_batch, new_state_batch, done_batch"
      ]
    },
    {
      "cell_type": "markdown",
      "metadata": {},
      "source": [
        "## Dueling DQN\n",
        "\n",
        "The DDQN architecture slightly differs from the DQN architectures. It consists of two estimators - (1) the state value function, and (2) the state dependent action advatage function. These two estimators are combined to generated the action-value function. \n",
        "\n",
        "The benefit is that the state-value function is quicker and easier to learn, which leads to faster convergence.  \n"
      ]
    },
    {
      "cell_type": "code",
      "execution_count": 4,
      "metadata": {
        "id": "yiDYcGb937e5"
      },
      "outputs": [],
      "source": [
        "# The DuelingDQN class inherits from keras.Model.\n",
        "# It has two dense layers, each followed by a relu activation.\n",
        "# The V layer is a dense layer with 1 unit.\n",
        "# The A layer is a dense layer with the same number of units as the action space.\n",
        "# The output of the network is the sum of the output of the V and A layers.\n",
        "class DuelingDQN(keras.Model):\n",
        "    def __init__(self, num_actions, fc1, fc2):\n",
        "        super(DuelingDQN, self).__init__()\n",
        "        self.dense1 = Dense(fc1, activation='relu')\n",
        "        self.dense2 = Dense(fc2, activation='relu')\n",
        "        self.V = Dense(1, activation=None)\n",
        "        self.A = Dense(num_actions, activation=None)\n",
        "\n",
        "    def call(self, state):\n",
        "        x = self.dense1(state)\n",
        "        x = self.dense2(x)\n",
        "        V = self.V(x)\n",
        "        A = self.A(x)\n",
        "        avg_A = tf.math.reduce_mean(A, axis=1, keepdims=True)\n",
        "        Q = (V + (A - avg_A))\n",
        "\n",
        "        return Q, A"
      ]
    },
    {
      "cell_type": "markdown",
      "metadata": {},
      "source": [
        "# Agent\n",
        "\n",
        "## Target Network\n",
        "\n",
        "> A target network is a copy of the estimated value function that is held fixed to serve as a stable target for some number of steps.\n",
        "\n",
        "When we alter the neural network parameters to $Q(s,a)$, it make alter $Q(s',a')$ and other states nearby, which is determined to make training very unstable.\n",
        "\n",
        "To make training more stabel, copying over the Q Net over to the target network and use it for the $Q(s', a')$. \n",
        "\n",
        "## Policy\n",
        "\n",
        "The policy takes the highest Q-value of the current state and chooses the action with the highest Q-value. For the first few episodes, the agent will explore the environment by randomly choosing actions.\n",
        "\n",
        "$a \\leftarrow argmax\\ Q(s, a_s)$\n"
      ]
    },
    {
      "cell_type": "code",
      "execution_count": 5,
      "metadata": {
        "id": "FGGPm-6u3yKt"
      },
      "outputs": [],
      "source": [
        "# Agent Class\n",
        "class Agent:\n",
        "    def __init__(self, lr, discount_factor, num_actions, epsilon, batch_size, input_dim):\n",
        "        self.action_space = [i for i in range(num_actions)]\n",
        "        self.discount_factor = discount_factor\n",
        "        self.epsilon = epsilon\n",
        "        self.batch_size = batch_size\n",
        "        self.epsilon_decay = 0.001\n",
        "        self.epsilon_final = 0.01\n",
        "        self.update_rate = 120\n",
        "        self.step_counter = 0\n",
        "        self.buffer = ReplayBuffer(100000, input_dim)\n",
        "        self.q_net = DuelingDQN(num_actions, 128, 128)\n",
        "        self.q_target_net = DuelingDQN(num_actions, 128, 128)\n",
        "        self.q_net.compile(optimizer=Adam(learning_rate=lr), loss='mse')\n",
        "        self.q_target_net.compile(optimizer=Adam(learning_rate=lr), loss='mse')\n",
        "\n",
        "    def store_tuple(self, state, action, reward, new_state, done):\n",
        "        '''\n",
        "        Store the tuple of the experience in the buffer.\n",
        "        \n",
        "        state: The state of the environment before the action was performed\n",
        "        action: The action taken by the agent in the current state\n",
        "        reward: The reward received for performing action in state\n",
        "        new_state: The state the agent is in after performing the action\n",
        "        done: A boolean that indicates whether the episode has finished\n",
        "        '''\n",
        "        self.buffer.store_tuples(state, action, reward, new_state, done)\n",
        "\n",
        "    def policy(self, observation):\n",
        "        # Explores the env using random actions in the first few episodes\n",
        "        if np.random.random() < self.epsilon:\n",
        "            action = np.random.choice(self.action_space)\n",
        "        else:\n",
        "            # Picks the action with the highest Q value\n",
        "            state = np.array([observation])\n",
        "            _, actions = self.q_net(state)\n",
        "            action = tf.math.argmax(actions, axis=1).numpy()[0]\n",
        "\n",
        "        return action\n",
        "\n",
        "    def train(self):\n",
        "        '''\n",
        "        Update the Q-network by training on a batch sampled from the replay buffer\n",
        "        return: The agent's behaviour.\n",
        "        '''\n",
        "        # If the replay buffer is less than the batch size, don't train\n",
        "        if self.buffer.counter < self.batch_size:\n",
        "            return\n",
        "        \n",
        "        # This is the code that updates the target network. The target network is updated every 120 steps.\n",
        "        if self.step_counter % self.update_rate == 0:\n",
        "            self.q_target_net.set_weights(self.q_net.get_weights())\n",
        "\n",
        "        # Sample a batch of experiences from the replay buffer\n",
        "        state_batch, action_batch, reward_batch, new_state_batch, done_batch = self.buffer.sample_buffer(self.batch_size)\n",
        "\n",
        "        # Get the Q values for the current states\n",
        "        q_predicted, _ = self.q_net(state_batch)\n",
        "        q_next, _ = self.q_target_net(new_state_batch)\n",
        "        q_max_next = tf.math.reduce_max(q_next, axis=1, keepdims=True).numpy()\n",
        "        q_target = np.copy(q_predicted)\n",
        "\n",
        "        # Calculating the target Q value for the current state.\n",
        "        for idx in range(done_batch.shape[0]):\n",
        "            target_q_val = reward_batch[idx]\n",
        "            if not done_batch[idx]:\n",
        "                target_q_val += self.discount_factor*q_max_next[idx]\n",
        "            q_target[idx, action_batch[idx]] = target_q_val\n",
        "        # Train the network over state and q target\n",
        "        self.q_net.train_on_batch(state_batch, q_target)\n",
        "        self.epsilon = self.epsilon - self.epsilon_decay if self.epsilon > self.epsilon_final else self.epsilon_final\n",
        "        self.step_counter += 1\n",
        "\n",
        "    # Main Function to train DDQN\n",
        "    def train_model(self, env, num_episodes, graph):\n",
        "        scores, episodes, avg_scores, obj = [], [], [], []\n",
        "        goal = 200\n",
        "        f = 0\n",
        "        txt = open(\"saved_networks.txt\", \"w\")\n",
        "\n",
        "        # This is the code that is used to train the agent. The agent is trained for a number of episodes.\n",
        "        for i in range(num_episodes):\n",
        "            done = False\n",
        "            score = 0.0\n",
        "            state = env.reset()\n",
        "            while not done:\n",
        "                action = self.policy(state)\n",
        "                new_state, reward, done, _ = env.step(action)\n",
        "                score += reward\n",
        "                self.store_tuple(state, action, reward, new_state, done)\n",
        "                state = new_state\n",
        "                self.train()\n",
        "            scores.append(score)\n",
        "            obj.append(goal)\n",
        "            episodes.append(i)\n",
        "            avg_score = np.mean(scores[-100:])\n",
        "            avg_scores.append(avg_score)\n",
        "            print(\"Episode {0}/{1}, Score: {2} ({3}), AVG Score: {4}\".format(i, num_episodes, score, self.epsilon,\n",
        "                                                                             avg_score))\n",
        "            \n",
        "            # Saves the network's weights when avg score larger than 220 and score larger than 250\n",
        "            if avg_score >= 220.0 and score >= 250:\n",
        "                self.q_net.save((\"saved_networks/duelingdqn_model{0}\".format(f)))\n",
        "                self.q_net.save_weights((\"saved_networks/duelingdqn_model{0}/net_weights{0}.h5\".format(f)))\n",
        "                txt.write(\"Save {0} - Episode {1}/{2}, Score: {3} ({4}), AVG Score: {5}\\n\".format(f, i, num_episodes,\n",
        "                                                                                                  score, self.epsilon,\n",
        "                                                                                                  avg_score))\n",
        "                f += 1\n",
        "                print(\"Network saved\")\n",
        "\n",
        "        txt.close()\n",
        "        \n",
        "        # Creating Training Learning Curve\n",
        "        if graph:\n",
        "            df = pd.DataFrame({'x': episodes, 'Score': scores, 'Average Score': avg_scores, 'Solved Requirement': obj})\n",
        "\n",
        "            with plt.style.context('ggplot'):\n",
        "                fig, ax = plt.subplots(figsize=(16, 9))\n",
        "                plt.plot('x', 'Score', data=df, marker='', color='blue', linewidth=2, label='Score')\n",
        "                plt.plot('x', 'Average Score', data=df, marker='', color='orange', linewidth=2, linestyle='dashed',\n",
        "                        label='AverageScore')\n",
        "                plt.plot('x', 'Solved Requirement', data=df, marker='', color='red', linewidth=2, linestyle='dashed',\n",
        "                        label='Solved Requirement')\n",
        "                plt.legend()\n",
        "                plt.savefig('Train Learning Curve.png')\n",
        "\n",
        "    # Main Function to test the trained DDQN on a rendered env\n",
        "    def test(self, env, num_episodes, file_type, file, graph):\n",
        "        # Loading the DDQN weights from the saved model\n",
        "        if file_type == 'tf':\n",
        "            self.q_net = tf.keras.models.load_model(file)\n",
        "        elif file_type == 'h5':\n",
        "            self.train_model(env, 5, False)\n",
        "            self.q_net.load_weights(file)\n",
        "        self.epsilon = 0.0\n",
        "        scores, episodes, avg_scores, obj = [], [], [], []\n",
        "        goal = 200\n",
        "        score = 0.0\n",
        "        for i in range(num_episodes):\n",
        "            state = env.reset()\n",
        "            done = False\n",
        "            episode_score = 0.0\n",
        "            while not done:\n",
        "                env.render()\n",
        "                action = self.policy(state)\n",
        "                new_state, reward, done, _ = env.step(action)\n",
        "                episode_score += reward\n",
        "                state = new_state\n",
        "            score += episode_score\n",
        "            scores.append(episode_score)\n",
        "            obj.append(goal)\n",
        "            episodes.append(i)\n",
        "            avg_score = np.mean(scores[-100:])\n",
        "            avg_scores.append(avg_score)\n",
        "\n",
        "\n",
        "        # Create Test Learning Curve\n",
        "        if graph:\n",
        "            df = pd.DataFrame({'x': episodes, 'Score': scores, 'Average Score': avg_scores, 'Solved Requirement': obj})\n",
        "\n",
        "            with plt.style.context('ggplot'):\n",
        "                fig, ax = plt.subplots(figsize=(16, 9))\n",
        "                ax.plot('x', 'Score', data=df, marker='', color='blue', linewidth=2, label='Score')\n",
        "                ax.plot('x', 'Average Score', data=df, marker='', color='orange', linewidth=2, linestyle='dashed',\n",
        "                        label='AverageScore')\n",
        "                ax.plot('x', 'Solved Requirement', data=df, marker='', color='red', linewidth=2, linestyle='dashed',\n",
        "                        label='Solved Requirement')\n",
        "                ax.legend()\n",
        "                fig.savefig('Test Learning Curve.png')\n",
        "\n",
        "        env.close()"
      ]
    },
    {
      "cell_type": "code",
      "execution_count": 6,
      "metadata": {
        "id": "Bm6lBCC14FnT"
      },
      "outputs": [],
      "source": [
        "# Creating the environment and setting the specs for the environment.\n",
        "env = gym.make(\"LunarLander-v2\")\n",
        "spec = gym.spec(\"LunarLander-v2\")\n",
        "train = 0\n",
        "test = 1\n",
        "num_episodes = 1000\n",
        "graph = True\n",
        "\n",
        "# Creating an instance of the Agent class.\n",
        "duelingdqn_agent = Agent(lr=0.00075, discount_factor=0.99, num_actions=4, epsilon=1.0, batch_size=64, input_dim=[8])"
      ]
    },
    {
      "cell_type": "code",
      "execution_count": 7,
      "metadata": {
        "colab": {
          "base_uri": "https://localhost:8080/",
          "height": 1000
        },
        "id": "pI6gq7bD4p-E",
        "outputId": "1bdd4d82-8d70-4f1b-ac89-da1bf5724c0b"
      },
      "outputs": [
        {
          "name": "stdout",
          "output_type": "stream",
          "text": [
            "Episode 0/1000, Score: -209.72992958782203 (0.984), AVG Score: -209.72992958782203\n",
            "Episode 1/1000, Score: -339.861828919024 (0.8489999999999999), AVG Score: -274.795879253423\n",
            "Episode 2/1000, Score: -66.40602662551834 (0.7669999999999998), AVG Score: -205.3325950441214\n",
            "Episode 3/1000, Score: -342.5208248581501 (0.6639999999999997), AVG Score: -239.62965249762857\n",
            "Episode 4/1000, Score: -248.7012987194589 (0.5629999999999996), AVG Score: -241.44398174199463\n",
            "Episode 5/1000, Score: -217.64835021647684 (0.36499999999999944), AVG Score: -237.4780431544083\n",
            "Episode 6/1000, Score: -286.78391800739746 (0.2249999999999993), AVG Score: -244.5217395619782\n",
            "Episode 7/1000, Score: -154.23439748973678 (0.0959999999999992), AVG Score: -233.23582180294807\n",
            "Episode 8/1000, Score: -109.0671347400411 (0.01), AVG Score: -219.43930101818063\n",
            "Episode 9/1000, Score: -327.0100679606754 (0.01), AVG Score: -230.1963777124301\n",
            "Episode 10/1000, Score: -72.96215630587496 (0.01), AVG Score: -215.90235758456146\n",
            "Episode 11/1000, Score: -371.13885908806657 (0.01), AVG Score: -228.83873270985353\n",
            "Episode 12/1000, Score: -366.3761310630644 (0.01), AVG Score: -239.41853258317744\n",
            "Episode 13/1000, Score: -416.76069741498367 (0.01), AVG Score: -252.0858300711636\n",
            "Episode 14/1000, Score: -277.36487295722 (0.01), AVG Score: -253.77109959690068\n",
            "Episode 15/1000, Score: -98.78889246147527 (0.01), AVG Score: -244.0847116509366\n",
            "Episode 16/1000, Score: -107.61279639489298 (0.01), AVG Score: -236.05695192999286\n",
            "Episode 17/1000, Score: -115.92878384476714 (0.01), AVG Score: -229.38316481414697\n",
            "Episode 18/1000, Score: -63.649107046357315 (0.01), AVG Score: -220.66031966847382\n",
            "Episode 19/1000, Score: -58.913341519911974 (0.01), AVG Score: -212.57297076104572\n",
            "Episode 20/1000, Score: -84.45907443967054 (0.01), AVG Score: -206.47230903145646\n",
            "Episode 21/1000, Score: -85.32456238825267 (0.01), AVG Score: -200.96559327494722\n",
            "Episode 22/1000, Score: -82.50826343182557 (0.01), AVG Score: -195.81527458611586\n",
            "Episode 23/1000, Score: -103.05009674976371 (0.01), AVG Score: -191.95005884293448\n",
            "Episode 24/1000, Score: -178.91774897360807 (0.01), AVG Score: -191.42876644816144\n",
            "Episode 25/1000, Score: -359.36508621846394 (0.01), AVG Score: -197.88785567009614\n",
            "Episode 26/1000, Score: -128.12497867919663 (0.01), AVG Score: -195.30404541117397\n",
            "Episode 27/1000, Score: -50.61503195504851 (0.01), AVG Score: -190.13658064488376\n",
            "Episode 28/1000, Score: -137.0727751829724 (0.01), AVG Score: -188.30679424964546\n",
            "Episode 29/1000, Score: -69.72377565454448 (0.01), AVG Score: -184.3540269631421\n",
            "Episode 30/1000, Score: -86.90291639058395 (0.01), AVG Score: -181.2104427511241\n",
            "Episode 31/1000, Score: -59.23607694533678 (0.01), AVG Score: -177.3987438196932\n",
            "Episode 32/1000, Score: -23.155823422639173 (0.01), AVG Score: -172.7247159288734\n",
            "Episode 33/1000, Score: -87.99933586617556 (0.01), AVG Score: -170.23279298585288\n",
            "Episode 34/1000, Score: -121.69440287728493 (0.01), AVG Score: -168.8459818398938\n",
            "Episode 35/1000, Score: -119.20046162948748 (0.01), AVG Score: -167.46693961182694\n",
            "Episode 36/1000, Score: -58.127160167281296 (0.01), AVG Score: -164.51181043765004\n",
            "Episode 37/1000, Score: -102.79393595816722 (0.01), AVG Score: -162.8876558460847\n",
            "Episode 38/1000, Score: -36.36951561434821 (0.01), AVG Score: -159.64360096834787\n",
            "Episode 39/1000, Score: 26.48883551779286 (0.01), AVG Score: -154.9902900561943\n",
            "Episode 40/1000, Score: -59.47362558289112 (0.01), AVG Score: -152.660615312943\n",
            "Episode 41/1000, Score: -132.69153100442426 (0.01), AVG Score: -152.18516092464495\n",
            "Episode 42/1000, Score: -31.191414039971413 (0.01), AVG Score: -149.37135285755951\n",
            "Episode 43/1000, Score: -2.421566599966317 (0.01), AVG Score: -146.03158498806877\n",
            "Episode 44/1000, Score: -33.56117837569871 (0.01), AVG Score: -143.53224261890497\n",
            "Episode 45/1000, Score: -39.64185565562567 (0.01), AVG Score: -141.2737559457902\n",
            "Episode 46/1000, Score: 3.7085221881387858 (0.01), AVG Score: -138.1890266237917\n",
            "Episode 47/1000, Score: 3.619125651583977 (0.01), AVG Score: -135.23469011805477\n",
            "Episode 48/1000, Score: 4.302526943875903 (0.01), AVG Score: -132.38699181066843\n",
            "Episode 49/1000, Score: -4.94803877108385 (0.01), AVG Score: -129.83821274987673\n",
            "Episode 50/1000, Score: -20.766537438074707 (0.01), AVG Score: -127.69955244964532\n",
            "Episode 51/1000, Score: 11.610499029958547 (0.01), AVG Score: -125.02051299811448\n",
            "Episode 52/1000, Score: -5.415009503774357 (0.01), AVG Score: -122.76380538501373\n",
            "Episode 53/1000, Score: -28.71618259232755 (0.01), AVG Score: -121.02218274070472\n",
            "Episode 54/1000, Score: 10.711472885462056 (0.01), AVG Score: -118.62702536568351\n",
            "Episode 55/1000, Score: -35.87638051838054 (0.01), AVG Score: -117.14933527912451\n",
            "Episode 56/1000, Score: -29.003608840419506 (0.01), AVG Score: -115.60291902581389\n",
            "Episode 57/1000, Score: -4.532000162349875 (0.01), AVG Score: -113.68790318334037\n",
            "Episode 58/1000, Score: -8.890623027742842 (0.01), AVG Score: -111.91167809595736\n",
            "Episode 59/1000, Score: -33.29273595519166 (0.01), AVG Score: -110.60136239361125\n",
            "Episode 60/1000, Score: -11.187697942284135 (0.01), AVG Score: -108.97163018949114\n",
            "Episode 61/1000, Score: -26.396165916691846 (0.01), AVG Score: -107.6397678625105\n",
            "Episode 62/1000, Score: 18.762854658767797 (0.01), AVG Score: -105.63337702883942\n",
            "Episode 63/1000, Score: -38.20296804423504 (0.01), AVG Score: -104.579776888455\n",
            "Episode 64/1000, Score: -0.8903112644525084 (0.01), AVG Score: -102.98455434039342\n",
            "Episode 65/1000, Score: 19.68717852758125 (0.01), AVG Score: -101.12589172118167\n",
            "Episode 66/1000, Score: -5.462212216094705 (0.01), AVG Score: -99.69807560916544\n",
            "Episode 67/1000, Score: -23.387931839647454 (0.01), AVG Score: -98.57586761255489\n",
            "Episode 68/1000, Score: -21.50162945483724 (0.01), AVG Score: -97.45884966824013\n",
            "Episode 69/1000, Score: -28.13244414414419 (0.01), AVG Score: -96.46847244646733\n",
            "Episode 70/1000, Score: -40.240356994780335 (0.01), AVG Score: -95.6765271584154\n",
            "Episode 71/1000, Score: 10.083762248049108 (0.01), AVG Score: -94.2076342499923\n",
            "Episode 72/1000, Score: -15.63219196120976 (0.01), AVG Score: -93.13125832822816\n",
            "Episode 73/1000, Score: -32.135491765485625 (0.01), AVG Score: -92.30699121251541\n",
            "Episode 74/1000, Score: -9.369952283560345 (0.01), AVG Score: -91.20116402679602\n",
            "Episode 75/1000, Score: 1.352046620125146 (0.01), AVG Score: -89.98335862354706\n",
            "Episode 76/1000, Score: -57.83932309566262 (0.01), AVG Score: -89.56590361669141\n",
            "Episode 77/1000, Score: 5.159582909412172 (0.01), AVG Score: -88.35147430225419\n",
            "Episode 78/1000, Score: -20.193725763315523 (0.01), AVG Score: -87.48871799163472\n",
            "Episode 79/1000, Score: -30.85067202810808 (0.01), AVG Score: -86.78074241709064\n",
            "Episode 80/1000, Score: -43.75824884748581 (0.01), AVG Score: -86.24960052116958\n",
            "Episode 81/1000, Score: -58.2995363741283 (0.01), AVG Score: -85.908746080352\n",
            "Episode 82/1000, Score: 25.49375463907823 (0.01), AVG Score: -84.56654727650344\n",
            "Episode 83/1000, Score: -40.796706989210236 (0.01), AVG Score: -84.04547774927376\n",
            "Episode 84/1000, Score: -30.64523516454072 (0.01), AVG Score: -83.41723960121807\n",
            "Episode 85/1000, Score: -0.9630897133972534 (0.01), AVG Score: -82.45847041647598\n",
            "Episode 86/1000, Score: -35.45099409407647 (0.01), AVG Score: -81.91815459667828\n",
            "Episode 87/1000, Score: -4.389243381467733 (0.01), AVG Score: -81.03714424196\n",
            "Episode 88/1000, Score: 7.015293553200216 (0.01), AVG Score: -80.0477910083065\n",
            "Episode 89/1000, Score: -17.08439783644709 (0.01), AVG Score: -79.3481977508414\n",
            "Episode 90/1000, Score: 156.64590786060484 (0.01), AVG Score: -76.75485593093539\n",
            "Episode 91/1000, Score: -19.036655075429444 (0.01), AVG Score: -76.12748418250598\n",
            "Episode 92/1000, Score: -29.13282144594143 (0.01), AVG Score: -75.62216522834937\n",
            "Episode 93/1000, Score: 238.73090294478803 (0.01), AVG Score: -72.27798365203941\n",
            "Episode 94/1000, Score: 166.03406018486 (0.01), AVG Score: -69.76943582217731\n",
            "Episode 95/1000, Score: 241.37662325947085 (0.01), AVG Score: -66.52833104007681\n",
            "Episode 96/1000, Score: -15.418491011764019 (0.01), AVG Score: -66.00142547277461\n",
            "Episode 97/1000, Score: 48.66172738119633 (0.01), AVG Score: -64.83139330079531\n",
            "Episode 98/1000, Score: -8.289274105706216 (0.01), AVG Score: -64.2602607836732\n",
            "Episode 99/1000, Score: -104.18256497657237 (0.01), AVG Score: -64.6594838256022\n",
            "Episode 100/1000, Score: -30.675206532772737 (0.01), AVG Score: -62.8689365950517\n",
            "Episode 101/1000, Score: 167.30446512858708 (0.01), AVG Score: -57.797273654575584\n",
            "Episode 102/1000, Score: 175.87327557072018 (0.01), AVG Score: -55.374480632613206\n",
            "Episode 103/1000, Score: 222.8524106324788 (0.01), AVG Score: -49.72074827770692\n",
            "Episode 104/1000, Score: 184.0076080455939 (0.01), AVG Score: -45.39365921005639\n",
            "Episode 105/1000, Score: 154.38298143031307 (0.01), AVG Score: -41.673345893588504\n",
            "Episode 106/1000, Score: 225.65620740811096 (0.01), AVG Score: -36.54894463943342\n",
            "Episode 107/1000, Score: 149.27445268176027 (0.01), AVG Score: -33.513856137718435\n",
            "Episode 108/1000, Score: -64.02902915328198 (0.01), AVG Score: -33.063475081850854\n",
            "Episode 109/1000, Score: 7.486844947230664 (0.01), AVG Score: -29.71850595277179\n",
            "Episode 110/1000, Score: -21.80903377464483 (0.01), AVG Score: -29.20697472745948\n",
            "Episode 111/1000, Score: 213.7259610333988 (0.01), AVG Score: -23.358326526244827\n",
            "Episode 112/1000, Score: 7.968282970791729 (0.01), AVG Score: -19.614882385906263\n",
            "Episode 113/1000, Score: -33.01262649699838 (0.01), AVG Score: -15.777401676726411\n",
            "Episode 114/1000, Score: 175.49930533098544 (0.01), AVG Score: -11.248759893844358\n",
            "Episode 115/1000, Score: 208.19219394890516 (0.01), AVG Score: -8.17894902974055\n",
            "Episode 116/1000, Score: -63.23741139846176 (0.01), AVG Score: -7.735195179776238\n",
            "Episode 117/1000, Score: 285.05502655715145 (0.01), AVG Score: -3.7253570757570538\n",
            "Episode 118/1000, Score: 247.98042873227945 (0.01), AVG Score: -0.6090617179706868\n",
            "Episode 119/1000, Score: -15.611145444743276 (0.01), AVG Score: -0.17603975721899817\n",
            "Episode 120/1000, Score: 265.9965199665954 (0.01), AVG Score: 3.328516186843661\n",
            "Episode 121/1000, Score: 221.27191767106788 (0.01), AVG Score: 6.394480987436866\n",
            "Episode 122/1000, Score: -32.426102565587314 (0.01), AVG Score: 6.895302596099247\n",
            "Episode 123/1000, Score: -18.709597027002403 (0.01), AVG Score: 7.738707593326864\n",
            "Episode 124/1000, Score: 236.5637297792921 (0.01), AVG Score: 11.893522380855861\n",
            "Episode 125/1000, Score: 250.68503127810686 (0.01), AVG Score: 17.994023555821567\n",
            "Episode 126/1000, Score: 163.49200463266214 (0.01), AVG Score: 20.910193388940158\n",
            "Episode 127/1000, Score: -40.455354331917746 (0.01), AVG Score: 21.011790165171465\n",
            "Episode 128/1000, Score: 244.27769154214025 (0.01), AVG Score: 24.825294832422586\n",
            "Episode 129/1000, Score: -96.69844690205431 (0.01), AVG Score: 24.55554811994749\n",
            "Episode 130/1000, Score: -116.44242848090502 (0.01), AVG Score: 24.26015299904428\n",
            "Episode 131/1000, Score: 157.66697489048497 (0.01), AVG Score: 26.429183517402492\n",
            "Episode 132/1000, Score: 239.9687158312198 (0.01), AVG Score: 29.060428909941088\n",
            "Episode 133/1000, Score: 171.71318534991713 (0.01), AVG Score: 31.65755412210202\n",
            "Episode 134/1000, Score: 243.627728108536 (0.01), AVG Score: 35.310775431960224\n",
            "Episode 135/1000, Score: 187.90225723977096 (0.01), AVG Score: 38.38180262065281\n",
            "Episode 136/1000, Score: 19.08666785448102 (0.01), AVG Score: 39.15394090087043\n",
            "Episode 137/1000, Score: 203.75172486486193 (0.01), AVG Score: 42.21939750910074\n",
            "Episode 138/1000, Score: 123.5248049863353 (0.01), AVG Score: 43.81834071510756\n",
            "Episode 139/1000, Score: 239.59560740685168 (0.01), AVG Score: 45.94940843399815\n",
            "Episode 140/1000, Score: 244.75915630111635 (0.01), AVG Score: 48.991736252838216\n",
            "Episode 141/1000, Score: 242.0816368890158 (0.01), AVG Score: 52.739467931772616\n",
            "Episode 142/1000, Score: 261.88976226812 (0.01), AVG Score: 55.670279694853534\n",
            "Episode 143/1000, Score: 248.26474006137963 (0.01), AVG Score: 58.177142761466996\n",
            "Episode 144/1000, Score: 259.27798982768354 (0.01), AVG Score: 61.10553444350082\n",
            "Episode 145/1000, Score: 247.55157053574052 (0.01), AVG Score: 63.97746870541447\n",
            "Episode 146/1000, Score: -11.970102663528593 (0.01), AVG Score: 63.8206824568978\n",
            "Episode 147/1000, Score: 258.1691132136632 (0.01), AVG Score: 66.3661823325186\n",
            "Episode 148/1000, Score: 172.1210650128912 (0.01), AVG Score: 68.04436771320876\n",
            "Episode 149/1000, Score: 240.9837646242494 (0.01), AVG Score: 70.5036857471621\n",
            "Episode 150/1000, Score: 228.75718404365205 (0.01), AVG Score: 72.99892296197936\n",
            "Episode 151/1000, Score: 231.21244361893326 (0.01), AVG Score: 75.1949424078691\n",
            "Episode 152/1000, Score: -54.71290102232932 (0.01), AVG Score: 74.70196349268356\n",
            "Episode 153/1000, Score: 213.0601530012197 (0.01), AVG Score: 77.11972684861904\n",
            "Episode 154/1000, Score: 225.1584508293105 (0.01), AVG Score: 79.26419662805752\n",
            "Episode 155/1000, Score: 259.07285146662423 (0.01), AVG Score: 82.21368894790756\n",
            "Episode 156/1000, Score: 237.75856842865724 (0.01), AVG Score: 84.88131072059832\n",
            "Episode 157/1000, Score: 255.03836127781824 (0.01), AVG Score: 87.477014335\n",
            "Episode 158/1000, Score: 257.88233146993156 (0.01), AVG Score: 90.14474387997674\n",
            "Episode 159/1000, Score: 292.1905931524742 (0.01), AVG Score: 93.39957717105341\n",
            "Episode 160/1000, Score: 272.07453133393733 (0.01), AVG Score: 96.23219946381563\n",
            "Episode 161/1000, Score: 283.92810866907996 (0.01), AVG Score: 99.33544220967333\n",
            "Episode 162/1000, Score: 252.96144178856318 (0.01), AVG Score: 101.6774280809713\n",
            "Episode 163/1000, Score: -17.552192370790806 (0.01), AVG Score: 101.88393583770574\n",
            "Episode 164/1000, Score: 235.37044722231732 (0.01), AVG Score: 104.24654342257344\n",
            "Episode 165/1000, Score: -60.27464751062307 (0.01), AVG Score: 103.44692516219138\n",
            "Episode 166/1000, Score: 37.74744249231014 (0.01), AVG Score: 103.87902170927543\n",
            "Episode 167/1000, Score: -21.75153994553547 (0.01), AVG Score: 103.89538562821656\n",
            "Episode 168/1000, Score: 39.850388438128334 (0.01), AVG Score: 104.50890580714622\n",
            "Episode 169/1000, Score: 36.118896166675626 (0.01), AVG Score: 105.1514192102544\n",
            "Episode 170/1000, Score: -11.131407359572776 (0.01), AVG Score: 105.44250870660647\n",
            "Episode 171/1000, Score: 17.73456916712604 (0.01), AVG Score: 105.51901677579724\n",
            "Episode 172/1000, Score: 2.7196185284255705 (0.01), AVG Score: 105.7025348806936\n",
            "Episode 173/1000, Score: 240.4045334918216 (0.01), AVG Score: 108.42793513326666\n",
            "Episode 174/1000, Score: 275.2467679795761 (0.01), AVG Score: 111.27410233589802\n",
            "Episode 175/1000, Score: -281.20860593747943 (0.01), AVG Score: 108.44849581032199\n",
            "Episode 176/1000, Score: -0.7956973867660935 (0.01), AVG Score: 109.01893206741096\n",
            "Episode 177/1000, Score: 91.33871659637 (0.01), AVG Score: 109.88072340428054\n",
            "Episode 178/1000, Score: -50.33026593561992 (0.01), AVG Score: 109.57935800255753\n",
            "Episode 179/1000, Score: 291.611008438207 (0.01), AVG Score: 112.80397480722067\n",
            "Episode 180/1000, Score: -5.03978907698496 (0.01), AVG Score: 113.19115940492567\n",
            "Episode 181/1000, Score: 59.89492726884282 (0.01), AVG Score: 114.37310404135536\n",
            "Episode 182/1000, Score: 279.59546544642814 (0.01), AVG Score: 116.91412114942887\n",
            "Episode 183/1000, Score: 243.79335041856876 (0.01), AVG Score: 119.76002172350667\n",
            "Episode 184/1000, Score: 253.47130237572992 (0.01), AVG Score: 122.60118709890938\n",
            "Episode 185/1000, Score: 251.8236882394047 (0.01), AVG Score: 125.1290548784374\n",
            "Episode 186/1000, Score: 146.57182593482244 (0.01), AVG Score: 126.94928307872641\n",
            "Episode 187/1000, Score: 260.00647605014285 (0.01), AVG Score: 129.5932402730425\n",
            "Episode 188/1000, Score: 260.7280593717028 (0.01), AVG Score: 132.1303679312275\n",
            "Episode 189/1000, Score: -87.03299345116093 (0.01), AVG Score: 131.43088197508038\n",
            "Episode 190/1000, Score: 292.53182466903877 (0.01), AVG Score: 132.7897411431647\n",
            "Episode 191/1000, Score: 232.51898540778907 (0.01), AVG Score: 135.30529754799687\n",
            "Episode 192/1000, Score: 241.80827575809917 (0.01), AVG Score: 138.01470852003732\n",
            "Episode 193/1000, Score: 266.1429228650579 (0.01), AVG Score: 138.28882871924\n",
            "Episode 194/1000, Score: -192.03199741801595 (0.01), AVG Score: 134.70816814321122\n",
            "Episode 195/1000, Score: 249.91973052789933 (0.01), AVG Score: 134.7935992158955\n",
            "Episode 196/1000, Score: 245.40607512375493 (0.01), AVG Score: 137.4018448772507\n",
            "Episode 197/1000, Score: -71.6024524816364 (0.01), AVG Score: 136.1992030786224\n",
            "Episode 198/1000, Score: -306.8292509950811 (0.01), AVG Score: 133.21380330972863\n",
            "Episode 199/1000, Score: 243.560135232768 (0.01), AVG Score: 136.69123031182207\n",
            "Episode 200/1000, Score: -217.4063569322994 (0.01), AVG Score: 134.8239188078268\n",
            "Episode 201/1000, Score: 232.8697930695744 (0.01), AVG Score: 135.47957208723668\n",
            "Episode 202/1000, Score: 241.60979155794953 (0.01), AVG Score: 136.13693724710896\n",
            "Episode 203/1000, Score: 247.71995865354245 (0.01), AVG Score: 136.3856127273196\n",
            "Episode 204/1000, Score: 253.4545453456148 (0.01), AVG Score: 137.08008210031977\n",
            "Episode 205/1000, Score: 241.28856115085787 (0.01), AVG Score: 137.94913789752522\n",
            "Episode 206/1000, Score: 246.67496009335292 (0.01), AVG Score: 138.15932542437764\n",
            "Episode 207/1000, Score: 288.46339456865155 (0.01), AVG Score: 139.55121484324656\n",
            "Episode 208/1000, Score: 138.80929312480305 (0.01), AVG Score: 141.57959806602742\n",
            "Episode 209/1000, Score: 233.64467301103952 (0.01), AVG Score: 143.84117634666552\n",
            "Episode 210/1000, Score: 271.16782155553 (0.01), AVG Score: 146.77094489996725\n",
            "Episode 211/1000, Score: 242.82411941050168 (0.01), AVG Score: 147.0619264837383\n",
            "Episode 212/1000, Score: 221.60775342883403 (0.01), AVG Score: 149.19832118831872\n",
            "Episode 213/1000, Score: 283.9802884295819 (0.01), AVG Score: 152.36825033758453\n",
            "Episode 214/1000, Score: 247.78024690660448 (0.01), AVG Score: 153.09105975334072\n",
            "Episode 215/1000, Score: 204.43931826564233 (0.01), AVG Score: 153.0535309965081\n",
            "Episode 216/1000, Score: 198.86003078267066 (0.01), AVG Score: 155.67450541831943\n",
            "Episode 217/1000, Score: 235.40467832717997 (0.01), AVG Score: 155.1780019360197\n",
            "Episode 218/1000, Score: 234.03637498208178 (0.01), AVG Score: 155.03856139851774\n",
            "Episode 219/1000, Score: 259.01854957984233 (0.01), AVG Score: 157.78485834876358\n",
            "Episode 220/1000, Score: 199.13748494795456 (0.01), AVG Score: 157.11626799857717\n",
            "Episode 221/1000, Score: 167.87823485827533 (0.01), AVG Score: 156.58233117044927\n",
            "Episode 222/1000, Score: 188.25856934371956 (0.01), AVG Score: 158.78917788954232\n",
            "Episode 223/1000, Score: 212.00466995162597 (0.01), AVG Score: 161.0963205593286\n",
            "Episode 224/1000, Score: 231.5376996437168 (0.01), AVG Score: 161.04606025797284\n",
            "Episode 225/1000, Score: 114.4545374909066 (0.01), AVG Score: 159.68375532010086\n",
            "Episode 226/1000, Score: 242.8228077579857 (0.01), AVG Score: 160.47706335135408\n",
            "Episode 227/1000, Score: 242.77588125489333 (0.01), AVG Score: 163.30937570722216\n",
            "Episode 228/1000, Score: 221.56391466454062 (0.01), AVG Score: 163.08223793844618\n",
            "Episode 229/1000, Score: 247.7651051636043 (0.01), AVG Score: 166.52687345910275\n",
            "Episode 230/1000, Score: 277.16364263417006 (0.01), AVG Score: 170.4629341702535\n",
            "Episode 231/1000, Score: 271.459223705236 (0.01), AVG Score: 171.600856658401\n",
            "Episode 232/1000, Score: 270.1076041393643 (0.01), AVG Score: 171.90224554148244\n",
            "Episode 233/1000, Score: 224.4569312942077 (0.01), AVG Score: 172.42968300092537\n",
            "Episode 234/1000, Score: 267.0534453346255 (0.01), AVG Score: 172.66394017318626\n",
            "Episode 235/1000, Score: -10.869207970314221 (0.01), AVG Score: 170.6762255210854\n",
            "Episode 236/1000, Score: -22.263199858453376 (0.01), AVG Score: 170.26272684395605\n",
            "Episode 237/1000, Score: -44.88044440823788 (0.01), AVG Score: 167.77640515122505\n",
            "Episode 238/1000, Score: -36.362904742456266 (0.01), AVG Score: 166.17752805393712\n",
            "Episode 239/1000, Score: -230.34303883564453 (0.01), AVG Score: 161.47814159151218\n",
            "Episode 240/1000, Score: 183.23801391986126 (0.01), AVG Score: 160.86293016769963\n",
            "Episode 241/1000, Score: -75.84865189795504 (0.01), AVG Score: 157.68362727982992\n",
            "Episode 242/1000, Score: 269.0917834415659 (0.01), AVG Score: 157.7556474915644\n",
            "Episode 243/1000, Score: 271.22335761552074 (0.01), AVG Score: 157.9852336671058\n",
            "Episode 244/1000, Score: 245.33891237855428 (0.01), AVG Score: 157.84584289261448\n",
            "Episode 245/1000, Score: 256.0013321521209 (0.01), AVG Score: 157.9303405087783\n",
            "Episode 246/1000, Score: 278.6344806374275 (0.01), AVG Score: 160.8363863417879\n",
            "Episode 247/1000, Score: 285.7891403423745 (0.01), AVG Score: 161.112586613075\n",
            "Episode 248/1000, Score: 212.28703543951684 (0.01), AVG Score: 161.51424631734122\n",
            "Episode 249/1000, Score: -191.89087107845103 (0.01), AVG Score: 157.18549996031425\n",
            "Episode 250/1000, Score: 218.56893084570657 (0.01), AVG Score: 157.08361742833478\n",
            "Episode 251/1000, Score: 35.75653970666144 (0.01), AVG Score: 155.12905838921208\n",
            "Episode 252/1000, Score: 255.96033280160782 (0.01), AVG Score: 158.23579072745144\n",
            "Episode 253/1000, Score: 18.992268688377337 (0.01), AVG Score: 156.295111884323\n",
            "Episode 254/1000, Score: 170.57484384799912 (0.01), AVG Score: 155.7492758145099\n",
            "Episode 255/1000, Score: 283.52147775345287 (0.01), AVG Score: 155.99376207737816\n",
            "Episode 256/1000, Score: 246.75044463955513 (0.01), AVG Score: 156.08368083948716\n",
            "Episode 257/1000, Score: 251.17499278724668 (0.01), AVG Score: 156.04504715458145\n",
            "Episode 258/1000, Score: 257.1325391480914 (0.01), AVG Score: 156.03754923136307\n",
            "Episode 259/1000, Score: 302.2886296137479 (0.01), AVG Score: 156.1385295959758\n",
            "Episode 260/1000, Score: 279.18159016162633 (0.01), AVG Score: 156.20960018425268\n",
            "Episode 261/1000, Score: -29.31312513885962 (0.01), AVG Score: 153.07718784617327\n",
            "Episode 262/1000, Score: -31.538542739742894 (0.01), AVG Score: 150.23218800089023\n",
            "Episode 263/1000, Score: 246.47056081004467 (0.01), AVG Score: 152.87241553269857\n",
            "Episode 264/1000, Score: 256.61306816946154 (0.01), AVG Score: 153.08484174217\n",
            "Episode 265/1000, Score: 224.39691215678653 (0.01), AVG Score: 155.9315573388441\n",
            "Episode 266/1000, Score: 256.8741983562021 (0.01), AVG Score: 158.122824897483\n",
            "Episode 267/1000, Score: 282.1145776343563 (0.01), AVG Score: 161.16148607328194\n",
            "Episode 268/1000, Score: 250.524820912819 (0.01), AVG Score: 163.26823039802883\n",
            "Episode 269/1000, Score: 255.06059669269646 (0.01), AVG Score: 165.45764740328906\n",
            "Episode 270/1000, Score: 269.739438655434 (0.01), AVG Score: 168.26635586343912\n",
            "Episode 271/1000, Score: 255.16545569572585 (0.01), AVG Score: 170.64066472872514\n",
            "Episode 272/1000, Score: 271.69454849923727 (0.01), AVG Score: 173.3304140284332\n",
            "Episode 273/1000, Score: 255.47646836384834 (0.01), AVG Score: 173.48113337715353\n",
            "Episode 274/1000, Score: 266.29695242355024 (0.01), AVG Score: 173.39163522159325\n",
            "Episode 275/1000, Score: 220.86249667125554 (0.01), AVG Score: 178.41234624768057\n",
            "Episode 276/1000, Score: 218.48010642708255 (0.01), AVG Score: 180.60510428581915\n",
            "Episode 277/1000, Score: 157.49379478310615 (0.01), AVG Score: 181.2666550676865\n",
            "Episode 278/1000, Score: 257.2134600404513 (0.01), AVG Score: 184.34209232744718\n",
            "Episode 279/1000, Score: 250.26589291114146 (0.01), AVG Score: 183.9286411721765\n",
            "Episode 280/1000, Score: 287.3169190709767 (0.01), AVG Score: 186.85220825365613\n",
            "Episode 281/1000, Score: 229.0657315829674 (0.01), AVG Score: 188.5439162967974\n",
            "Episode 282/1000, Score: 230.40650583590423 (0.01), AVG Score: 188.05202670069215\n",
            "Episode 283/1000, Score: 261.5689882319566 (0.01), AVG Score: 188.22978307882605\n",
            "Episode 284/1000, Score: 178.69085243261674 (0.01), AVG Score: 187.48197857939488\n",
            "Episode 285/1000, Score: 283.78699175514953 (0.01), AVG Score: 187.80161161455234\n",
            "Episode 286/1000, Score: 241.57228462199052 (0.01), AVG Score: 188.75161620142404\n",
            "Episode 287/1000, Score: 210.9998923557921 (0.01), AVG Score: 188.2615503644805\n",
            "Episode 288/1000, Score: 241.3630191455698 (0.01), AVG Score: 188.0678999622192\n",
            "Episode 289/1000, Score: 289.632805543496 (0.01), AVG Score: 191.83455795216574\n",
            "Episode 290/1000, Score: 276.10704514678457 (0.01), AVG Score: 191.6703101569432\n",
            "Episode 291/1000, Score: 287.5147232509051 (0.01), AVG Score: 192.22026753537438\n",
            "Episode 292/1000, Score: 216.65936324785147 (0.01), AVG Score: 191.9687784102719\n",
            "Episode 293/1000, Score: 282.3754081735438 (0.01), AVG Score: 192.13110326335672\n",
            "Episode 294/1000, Score: 237.5816009530066 (0.01), AVG Score: 196.42723924706695\n",
            "Episode 295/1000, Score: 267.4885315696488 (0.01), AVG Score: 196.60292725748445\n",
            "Episode 296/1000, Score: 243.14185883549547 (0.01), AVG Score: 196.5802850946019\n",
            "Episode 297/1000, Score: 245.70694147221337 (0.01), AVG Score: 199.75337903414038\n",
            "Episode 298/1000, Score: 304.7797896200011 (0.01), AVG Score: 205.86946944029123\n",
            "Episode 299/1000, Score: 223.16281393664252 (0.01), AVG Score: 205.66549622733\n",
            "Episode 300/1000, Score: 230.2282835374561 (0.01), AVG Score: 210.14184263202753\n",
            "Episode 301/1000, Score: 252.5788716129102 (0.01), AVG Score: 210.3389334174609\n",
            "Episode 302/1000, Score: 260.47992699296924 (0.01), AVG Score: 210.52763477181102\n",
            "Episode 303/1000, Score: 230.14037535363246 (0.01), AVG Score: 210.35183893881197\n",
            "Episode 304/1000, Score: 0.5669516139088131 (0.01), AVG Score: 207.8229630014949\n",
            "Episode 305/1000, Score: -87.7808643151426 (0.01), AVG Score: 204.5322687468349\n",
            "Episode 306/1000, Score: 286.7832659886882 (0.01), AVG Score: 204.93335180578825\n",
            "Episode 307/1000, Score: 226.03101209130702 (0.01), AVG Score: 204.30902798101476\n",
            "Episode 308/1000, Score: 236.44390166788642 (0.01), AVG Score: 205.28537406644563\n",
            "Episode 309/1000, Score: 261.405024334976 (0.01), AVG Score: 205.562977579685\n",
            "Episode 310/1000, Score: 260.7519084580121 (0.01), AVG Score: 205.45881844870985\n",
            "Episode 311/1000, Score: -132.53320443692527 (0.01), AVG Score: 201.7052452102356\n",
            "Episode 312/1000, Score: 275.7535860166095 (0.01), AVG Score: 202.2467035361133\n",
            "Episode 313/1000, Score: 165.15776397508654 (0.01), AVG Score: 201.05847829156838\n",
            "Episode 314/1000, Score: 241.99998548219997 (0.01), AVG Score: 201.00067567732432\n",
            "Episode 315/1000, Score: -170.71250116234842 (0.01), AVG Score: 197.2491574830444\n",
            "Episode 316/1000, Score: 6.9818213811608985 (0.01), AVG Score: 195.33037538902929\n",
            "Episode 317/1000, Score: 250.08164148426118 (0.01), AVG Score: 195.47714502060015\n",
            "Episode 318/1000, Score: 291.63054869250004 (0.01), AVG Score: 196.05308675770425\n",
            "Episode 319/1000, Score: 254.02845964383027 (0.01), AVG Score: 196.00318585834415\n",
            "Episode 320/1000, Score: 295.26655366989826 (0.01), AVG Score: 196.9644765455636\n",
            "Episode 321/1000, Score: 254.11991725018964 (0.01), AVG Score: 197.82689336948275\n",
            "Episode 322/1000, Score: 267.9777952601227 (0.01), AVG Score: 198.62408562864675\n",
            "Episode 323/1000, Score: 134.76777434967025 (0.01), AVG Score: 197.85171667262722\n",
            "Episode 324/1000, Score: 272.64893925246884 (0.01), AVG Score: 198.26282906871472\n",
            "Episode 325/1000, Score: 246.75833141846687 (0.01), AVG Score: 199.58586700799034\n",
            "Episode 326/1000, Score: 64.66495454404966 (0.01), AVG Score: 197.80428847585097\n",
            "Episode 327/1000, Score: 48.89685845802441 (0.01), AVG Score: 195.86549824788227\n",
            "Episode 328/1000, Score: 221.2692063733081 (0.01), AVG Score: 195.86255116496994\n",
            "Episode 329/1000, Score: 324.2488935324276 (0.01), AVG Score: 196.6273890486582\n",
            "Episode 330/1000, Score: 230.13277802032542 (0.01), AVG Score: 196.15708040251974\n",
            "Episode 331/1000, Score: 288.186032176505 (0.01), AVG Score: 196.32434848723244\n",
            "Episode 332/1000, Score: 296.0464735577266 (0.01), AVG Score: 196.58373718141607\n",
            "Episode 333/1000, Score: -7.381219631934854 (0.01), AVG Score: 194.2653556721546\n",
            "Episode 334/1000, Score: 48.101174505356965 (0.01), AVG Score: 192.07583296386193\n",
            "Episode 335/1000, Score: -173.79895412459325 (0.01), AVG Score: 190.4465355023192\n",
            "Episode 336/1000, Score: -68.53179879352278 (0.01), AVG Score: 189.9838495129685\n",
            "Episode 337/1000, Score: 256.8529105477513 (0.01), AVG Score: 193.00118306252836\n",
            "Episode 338/1000, Score: 15.012873056970363 (0.01), AVG Score: 193.51494084052263\n",
            "Episode 339/1000, Score: 19.509381821602247 (0.01), AVG Score: 196.01346504709505\n",
            "Episode 340/1000, Score: 278.69131852327735 (0.01), AVG Score: 196.96799809312924\n",
            "Episode 341/1000, Score: 283.56403634388397 (0.01), AVG Score: 200.56212497554762\n",
            "Episode 342/1000, Score: 291.9387702096949 (0.01), AVG Score: 200.7905948432289\n",
            "Episode 343/1000, Score: 254.94376182535916 (0.01), AVG Score: 200.62779888532725\n",
            "Episode 344/1000, Score: 41.06858087563387 (0.01), AVG Score: 198.58509557029808\n",
            "Episode 345/1000, Score: 235.12670545823488 (0.01), AVG Score: 198.37634930335923\n",
            "Episode 346/1000, Score: 281.68000930819665 (0.01), AVG Score: 198.40680459006697\n",
            "Episode 347/1000, Score: 254.45203301052132 (0.01), AVG Score: 198.09343351674843\n",
            "Episode 348/1000, Score: 284.08074952540636 (0.01), AVG Score: 198.81137065760734\n",
            "Episode 349/1000, Score: 275.6009091729702 (0.01), AVG Score: 203.48628846012159\n",
            "Episode 350/1000, Score: -214.8554710895198 (0.01), AVG Score: 199.15204444076923\n",
            "Episode 351/1000, Score: 274.64543807612864 (0.01), AVG Score: 201.54093342446396\n",
            "Episode 352/1000, Score: -0.846765991409768 (0.01), AVG Score: 198.97286243653377\n",
            "Episode 353/1000, Score: 11.634739459093922 (0.01), AVG Score: 198.89928714424096\n",
            "Episode 354/1000, Score: 260.4419896938962 (0.01), AVG Score: 199.7979586026999\n",
            "Episode 355/1000, Score: 260.8004667842689 (0.01), AVG Score: 199.57074849300807\n",
            "Episode 356/1000, Score: 257.1550833089739 (0.01), AVG Score: 199.6747948797023\n",
            "Episode 357/1000, Score: 140.1332307282315 (0.01), AVG Score: 198.56437725911212\n",
            "Episode 358/1000, Score: 222.55710085245767 (0.01), AVG Score: 198.21862287615576\n",
            "Episode 359/1000, Score: 169.78761998443935 (0.01), AVG Score: 196.89361277986268\n",
            "Episode 360/1000, Score: 221.3731082223398 (0.01), AVG Score: 196.31552796046978\n",
            "Episode 361/1000, Score: 249.91720732905583 (0.01), AVG Score: 199.10783128514896\n",
            "Episode 362/1000, Score: 33.30449088150232 (0.01), AVG Score: 199.7562616213614\n",
            "Episode 363/1000, Score: 41.107557478935746 (0.01), AVG Score: 197.70263158805037\n",
            "Episode 364/1000, Score: 192.12901950285868 (0.01), AVG Score: 197.0577911013843\n",
            "Episode 365/1000, Score: 244.86700118553577 (0.01), AVG Score: 197.26249199167182\n",
            "Episode 366/1000, Score: 263.65808255591173 (0.01), AVG Score: 197.33033083366888\n",
            "Episode 367/1000, Score: 278.11518618277887 (0.01), AVG Score: 197.29033691915308\n",
            "Episode 368/1000, Score: 203.52679950926594 (0.01), AVG Score: 196.82035670511755\n",
            "Episode 369/1000, Score: 202.3750658548152 (0.01), AVG Score: 196.29350139673875\n",
            "Episode 370/1000, Score: 252.35641891216457 (0.01), AVG Score: 196.11967119930605\n",
            "Episode 371/1000, Score: 219.94999017172444 (0.01), AVG Score: 195.767516544066\n",
            "Episode 372/1000, Score: 193.61149678981138 (0.01), AVG Score: 194.9866860269718\n",
            "Episode 373/1000, Score: 210.05721116177526 (0.01), AVG Score: 194.53249345495107\n",
            "Episode 374/1000, Score: 239.39207396504426 (0.01), AVG Score: 194.263444670366\n",
            "Episode 375/1000, Score: 60.37993226240974 (0.01), AVG Score: 192.65861902627756\n",
            "Episode 376/1000, Score: 198.69467610606836 (0.01), AVG Score: 192.46076472306743\n",
            "Episode 377/1000, Score: 265.68461664046504 (0.01), AVG Score: 193.54267294164103\n",
            "Episode 378/1000, Score: 267.54567998391224 (0.01), AVG Score: 193.6459951410756\n",
            "Episode 379/1000, Score: 260.5389423620008 (0.01), AVG Score: 193.74872563558415\n",
            "Episode 380/1000, Score: 268.43832974805093 (0.01), AVG Score: 193.55993974235494\n",
            "Episode 381/1000, Score: 238.04463031067928 (0.01), AVG Score: 193.64972872963207\n",
            "Episode 382/1000, Score: -9.262121220914338 (0.01), AVG Score: 191.25304245906386\n",
            "Episode 383/1000, Score: 258.5482613445728 (0.01), AVG Score: 191.22283519019004\n",
            "Episode 384/1000, Score: 200.41093240992615 (0.01), AVG Score: 191.44003598996312\n",
            "Episode 385/1000, Score: 285.1606192196001 (0.01), AVG Score: 191.4537722646076\n",
            "Episode 386/1000, Score: 213.9876982477322 (0.01), AVG Score: 191.17792640086503\n",
            "Episode 387/1000, Score: 0.40805139110695166 (0.01), AVG Score: 189.07200799121824\n",
            "Episode 388/1000, Score: 275.9207365181346 (0.01), AVG Score: 189.41758516494386\n",
            "Episode 389/1000, Score: 253.8779971695261 (0.01), AVG Score: 189.06003708120414\n",
            "Episode 390/1000, Score: 271.74975239299795 (0.01), AVG Score: 189.01646415366628\n",
            "Episode 391/1000, Score: 288.5672117791254 (0.01), AVG Score: 189.02698903894853\n",
            "Episode 392/1000, Score: 250.12860276847925 (0.01), AVG Score: 189.36168143415478\n",
            "Episode 393/1000, Score: 285.13887916572867 (0.01), AVG Score: 189.38931614407664\n",
            "Episode 394/1000, Score: 233.70976201069809 (0.01), AVG Score: 189.35059775465356\n",
            "Episode 395/1000, Score: 253.02090124518668 (0.01), AVG Score: 189.2059214514089\n",
            "Episode 396/1000, Score: 210.7776359944648 (0.01), AVG Score: 188.8822792229986\n",
            "Episode 397/1000, Score: 258.7752137178544 (0.01), AVG Score: 189.012961945455\n",
            "Episode 398/1000, Score: 273.2648780125752 (0.01), AVG Score: 188.69781282938075\n",
            "Episode 399/1000, Score: 259.14560317637086 (0.01), AVG Score: 189.05764072177806\n",
            "Episode 400/1000, Score: 265.00321528179245 (0.01), AVG Score: 189.40539003922137\n",
            "Episode 401/1000, Score: 289.5759000654273 (0.01), AVG Score: 189.77536032374658\n",
            "Episode 402/1000, Score: 255.24523562071116 (0.01), AVG Score: 189.72301341002395\n",
            "Episode 403/1000, Score: 262.46693375363475 (0.01), AVG Score: 190.04627899402402\n",
            "Episode 404/1000, Score: 276.94487625757137 (0.01), AVG Score: 192.81005824046065\n",
            "Episode 405/1000, Score: 242.82453923762907 (0.01), AVG Score: 196.11611227598837\n",
            "Episode 406/1000, Score: 315.78529901299675 (0.01), AVG Score: 196.40613260623147\n",
            "Episode 407/1000, Score: 278.9458494246526 (0.01), AVG Score: 196.93528097956494\n",
            "Episode 408/1000, Score: 247.61959558922356 (0.01), AVG Score: 197.0470379187783\n",
            "Episode 409/1000, Score: 173.90483368105214 (0.01), AVG Score: 196.1720360122391\n",
            "Episode 410/1000, Score: 250.62841769757046 (0.01), AVG Score: 196.07080110463465\n",
            "Episode 411/1000, Score: 275.7142342022379 (0.01), AVG Score: 200.15327549102628\n",
            "Episode 412/1000, Score: 251.76589469338637 (0.01), AVG Score: 199.91339857779403\n",
            "Episode 413/1000, Score: 218.55675589586946 (0.01), AVG Score: 200.44738849700184\n",
            "Episode 414/1000, Score: 304.5179624161075 (0.01), AVG Score: 201.0725682663409\n",
            "Episode 415/1000, Score: 27.981238696803175 (0.01), AVG Score: 203.05950566493243\n",
            "Episode 416/1000, Score: 23.95768198597996 (0.01), AVG Score: 203.2292642709806\n",
            "Episode 417/1000, Score: 242.36119826293955 (0.01), AVG Score: 203.15205983876743\n",
            "Episode 418/1000, Score: 263.21658383438705 (0.01), AVG Score: 202.86792019018628\n",
            "Episode 419/1000, Score: 258.81551993265424 (0.01), AVG Score: 202.9157907930745\n",
            "Episode 420/1000, Score: 246.64393059425825 (0.01), AVG Score: 202.42956456231812\n",
            "Episode 421/1000, Score: 191.82737919632928 (0.01), AVG Score: 201.8066391817795\n",
            "Episode 422/1000, Score: 256.7560048416496 (0.01), AVG Score: 201.69442127759478\n",
            "Episode 423/1000, Score: 279.8998107184408 (0.01), AVG Score: 203.1457416412825\n",
            "Episode 424/1000, Score: 270.0491842905452 (0.01), AVG Score: 203.11974409166328\n",
            "Episode 425/1000, Score: 239.82301036026334 (0.01), AVG Score: 203.05039088108123\n",
            "Episode 426/1000, Score: 215.30096187305946 (0.01), AVG Score: 204.5567509543713\n",
            "Episode 427/1000, Score: 221.77590469395972 (0.01), AVG Score: 206.2855414167307\n",
            "Episode 428/1000, Score: 249.9410185309177 (0.01), AVG Score: 206.57225953830678\n",
            "Episode 429/1000, Score: 250.14306759359522 (0.01), AVG Score: 205.83120127891846\n",
            "Episode 430/1000, Score: 296.59966893568395 (0.01), AVG Score: 206.495870188072\n",
            "Episode 431/1000, Score: 293.8378909923439 (0.01), AVG Score: 206.5523887762304\n",
            "Episode 432/1000, Score: 302.47652649292183 (0.01), AVG Score: 206.61668930558236\n",
            "Episode 433/1000, Score: 260.45476913050504 (0.01), AVG Score: 209.29504919320675\n",
            "Episode 434/1000, Score: 264.7945395960013 (0.01), AVG Score: 211.46198284411324\n",
            "Episode 435/1000, Score: 260.2724188835706 (0.01), AVG Score: 215.80269657419484\n",
            "Episode 436/1000, Score: -138.9083574854749 (0.01), AVG Score: 215.09893098727534\n",
            "Episode 437/1000, Score: 270.0180349005327 (0.01), AVG Score: 215.23058223080315\n",
            "Episode 438/1000, Score: 270.84272394983634 (0.01), AVG Score: 217.78888073973178\n",
            "Episode 439/1000, Score: 283.76824526405306 (0.01), AVG Score: 220.43146937415634\n"
          ]
        },
        {
          "name": "stderr",
          "output_type": "stream",
          "text": [
            "WARNING:absl:Found untraced functions such as dense_layer_call_fn, dense_layer_call_and_return_conditional_losses, dense_1_layer_call_fn, dense_1_layer_call_and_return_conditional_losses, dense_2_layer_call_fn while saving (showing 5 of 20). These functions will not be directly callable after loading.\n"
          ]
        },
        {
          "name": "stdout",
          "output_type": "stream",
          "text": [
            "INFO:tensorflow:Assets written to: saved_networks/duelingdqn_model0/assets\n"
          ]
        },
        {
          "name": "stderr",
          "output_type": "stream",
          "text": [
            "INFO:tensorflow:Assets written to: saved_networks/duelingdqn_model0/assets\n"
          ]
        },
        {
          "name": "stdout",
          "output_type": "stream",
          "text": [
            "Network saved\n",
            "Episode 440/1000, Score: -54.49369766188207 (0.01), AVG Score: 217.09961921230476\n",
            "Episode 441/1000, Score: 283.5819950031492 (0.01), AVG Score: 217.09979879889744\n",
            "Episode 442/1000, Score: 239.9087868581382 (0.01), AVG Score: 216.57949896538182\n",
            "Episode 443/1000, Score: 258.6437935293147 (0.01), AVG Score: 216.61649928242136\n",
            "Episode 444/1000, Score: 239.7685212048823 (0.01), AVG Score: 218.60349868571384\n",
            "Episode 445/1000, Score: 37.17133278395886 (0.01), AVG Score: 216.62394495897104\n",
            "Episode 446/1000, Score: -144.51184861150915 (0.01), AVG Score: 212.36202637977402\n",
            "Episode 447/1000, Score: 233.08128246020453 (0.01), AVG Score: 212.14831887427084\n",
            "Episode 448/1000, Score: 283.4976566960934 (0.01), AVG Score: 212.14248794597773\n",
            "Episode 449/1000, Score: 241.98715124719592 (0.01), AVG Score: 211.80635036671995\n",
            "Episode 450/1000, Score: 259.7623413365984 (0.01), AVG Score: 216.55252849098113\n",
            "Episode 451/1000, Score: 234.660559933327 (0.01), AVG Score: 216.15267970955313\n",
            "Episode 452/1000, Score: 248.74709253815922 (0.01), AVG Score: 218.64861829484883\n",
            "Episode 453/1000, Score: 260.1643346036951 (0.01), AVG Score: 221.13391424629484\n"
          ]
        },
        {
          "name": "stderr",
          "output_type": "stream",
          "text": [
            "WARNING:absl:Found untraced functions such as dense_layer_call_fn, dense_layer_call_and_return_conditional_losses, dense_1_layer_call_fn, dense_1_layer_call_and_return_conditional_losses, dense_2_layer_call_fn while saving (showing 5 of 20). These functions will not be directly callable after loading.\n"
          ]
        },
        {
          "name": "stdout",
          "output_type": "stream",
          "text": [
            "INFO:tensorflow:Assets written to: saved_networks/duelingdqn_model1/assets\n"
          ]
        },
        {
          "name": "stderr",
          "output_type": "stream",
          "text": [
            "INFO:tensorflow:Assets written to: saved_networks/duelingdqn_model1/assets\n"
          ]
        },
        {
          "name": "stdout",
          "output_type": "stream",
          "text": [
            "Network saved\n",
            "Episode 454/1000, Score: 263.7211911276505 (0.01), AVG Score: 221.1667062606324\n"
          ]
        },
        {
          "name": "stderr",
          "output_type": "stream",
          "text": [
            "WARNING:absl:Found untraced functions such as dense_layer_call_fn, dense_layer_call_and_return_conditional_losses, dense_1_layer_call_fn, dense_1_layer_call_and_return_conditional_losses, dense_2_layer_call_fn while saving (showing 5 of 20). These functions will not be directly callable after loading.\n"
          ]
        },
        {
          "name": "stdout",
          "output_type": "stream",
          "text": [
            "INFO:tensorflow:Assets written to: saved_networks/duelingdqn_model2/assets\n"
          ]
        },
        {
          "name": "stderr",
          "output_type": "stream",
          "text": [
            "INFO:tensorflow:Assets written to: saved_networks/duelingdqn_model2/assets\n"
          ]
        },
        {
          "name": "stdout",
          "output_type": "stream",
          "text": [
            "Network saved\n",
            "Episode 455/1000, Score: 292.3634551291036 (0.01), AVG Score: 221.48233614408076\n"
          ]
        },
        {
          "name": "stderr",
          "output_type": "stream",
          "text": [
            "WARNING:absl:Found untraced functions such as dense_layer_call_fn, dense_layer_call_and_return_conditional_losses, dense_1_layer_call_fn, dense_1_layer_call_and_return_conditional_losses, dense_2_layer_call_fn while saving (showing 5 of 20). These functions will not be directly callable after loading.\n"
          ]
        },
        {
          "name": "stdout",
          "output_type": "stream",
          "text": [
            "INFO:tensorflow:Assets written to: saved_networks/duelingdqn_model3/assets\n"
          ]
        },
        {
          "name": "stderr",
          "output_type": "stream",
          "text": [
            "INFO:tensorflow:Assets written to: saved_networks/duelingdqn_model3/assets\n"
          ]
        },
        {
          "name": "stdout",
          "output_type": "stream",
          "text": [
            "Network saved\n",
            "Episode 456/1000, Score: 256.8442807093058 (0.01), AVG Score: 221.47922811808402\n"
          ]
        },
        {
          "name": "stderr",
          "output_type": "stream",
          "text": [
            "WARNING:absl:Found untraced functions such as dense_layer_call_fn, dense_layer_call_and_return_conditional_losses, dense_1_layer_call_fn, dense_1_layer_call_and_return_conditional_losses, dense_2_layer_call_fn while saving (showing 5 of 20). These functions will not be directly callable after loading.\n"
          ]
        },
        {
          "name": "stdout",
          "output_type": "stream",
          "text": [
            "INFO:tensorflow:Assets written to: saved_networks/duelingdqn_model4/assets\n"
          ]
        },
        {
          "name": "stderr",
          "output_type": "stream",
          "text": [
            "INFO:tensorflow:Assets written to: saved_networks/duelingdqn_model4/assets\n"
          ]
        },
        {
          "name": "stdout",
          "output_type": "stream",
          "text": [
            "Network saved\n",
            "Episode 457/1000, Score: 20.759162326137485 (0.01), AVG Score: 220.2854874340631\n",
            "Episode 458/1000, Score: -10.214713236671514 (0.01), AVG Score: 217.95776929317185\n",
            "Episode 459/1000, Score: 245.4584686497089 (0.01), AVG Score: 218.7144777798245\n",
            "Episode 460/1000, Score: 205.90929196037598 (0.01), AVG Score: 218.55983961720486\n",
            "Episode 461/1000, Score: 227.61945668368688 (0.01), AVG Score: 218.3368621107512\n",
            "Episode 462/1000, Score: 243.03339060302488 (0.01), AVG Score: 220.43415110796636\n",
            "Episode 463/1000, Score: -24.813710902851938 (0.01), AVG Score: 219.77493842414853\n",
            "Episode 464/1000, Score: 163.62666291450762 (0.01), AVG Score: 219.489914858265\n",
            "Episode 465/1000, Score: 224.74303514564951 (0.01), AVG Score: 219.28867519786616\n",
            "Episode 466/1000, Score: 280.2967939955375 (0.01), AVG Score: 219.4550623122624\n",
            "Episode 467/1000, Score: 42.28447988229021 (0.01), AVG Score: 217.09675524925754\n",
            "Episode 468/1000, Score: 272.0310724899931 (0.01), AVG Score: 217.78179797906483\n",
            "Episode 469/1000, Score: 218.7349793147218 (0.01), AVG Score: 217.9453971136639\n",
            "Episode 470/1000, Score: 309.5543145483382 (0.01), AVG Score: 218.5173760700256\n",
            "Episode 471/1000, Score: 250.79951449856677 (0.01), AVG Score: 218.82587131329404\n",
            "Episode 472/1000, Score: 278.190349029612 (0.01), AVG Score: 219.67165983569205\n",
            "Episode 473/1000, Score: 276.88616311209535 (0.01), AVG Score: 220.33994935519527\n"
          ]
        },
        {
          "name": "stderr",
          "output_type": "stream",
          "text": [
            "WARNING:absl:Found untraced functions such as dense_layer_call_fn, dense_layer_call_and_return_conditional_losses, dense_1_layer_call_fn, dense_1_layer_call_and_return_conditional_losses, dense_2_layer_call_fn while saving (showing 5 of 20). These functions will not be directly callable after loading.\n"
          ]
        },
        {
          "name": "stdout",
          "output_type": "stream",
          "text": [
            "INFO:tensorflow:Assets written to: saved_networks/duelingdqn_model5/assets\n"
          ]
        },
        {
          "name": "stderr",
          "output_type": "stream",
          "text": [
            "INFO:tensorflow:Assets written to: saved_networks/duelingdqn_model5/assets\n"
          ]
        },
        {
          "name": "stdout",
          "output_type": "stream",
          "text": [
            "Network saved\n",
            "Episode 474/1000, Score: 263.1570083694135 (0.01), AVG Score: 220.5775986992389\n"
          ]
        },
        {
          "name": "stderr",
          "output_type": "stream",
          "text": [
            "WARNING:absl:Found untraced functions such as dense_layer_call_fn, dense_layer_call_and_return_conditional_losses, dense_1_layer_call_fn, dense_1_layer_call_and_return_conditional_losses, dense_2_layer_call_fn while saving (showing 5 of 20). These functions will not be directly callable after loading.\n"
          ]
        },
        {
          "name": "stdout",
          "output_type": "stream",
          "text": [
            "INFO:tensorflow:Assets written to: saved_networks/duelingdqn_model6/assets\n"
          ]
        },
        {
          "name": "stderr",
          "output_type": "stream",
          "text": [
            "INFO:tensorflow:Assets written to: saved_networks/duelingdqn_model6/assets\n"
          ]
        },
        {
          "name": "stdout",
          "output_type": "stream",
          "text": [
            "Network saved\n",
            "Episode 475/1000, Score: 223.1699112035156 (0.01), AVG Score: 222.20549848865002\n",
            "Episode 476/1000, Score: 226.72741393566872 (0.01), AVG Score: 222.48582586694604\n",
            "Episode 477/1000, Score: 262.6711793784219 (0.01), AVG Score: 222.45569149432558\n"
          ]
        },
        {
          "name": "stderr",
          "output_type": "stream",
          "text": [
            "WARNING:absl:Found untraced functions such as dense_layer_call_fn, dense_layer_call_and_return_conditional_losses, dense_1_layer_call_fn, dense_1_layer_call_and_return_conditional_losses, dense_2_layer_call_fn while saving (showing 5 of 20). These functions will not be directly callable after loading.\n"
          ]
        },
        {
          "name": "stdout",
          "output_type": "stream",
          "text": [
            "INFO:tensorflow:Assets written to: saved_networks/duelingdqn_model7/assets\n"
          ]
        },
        {
          "name": "stderr",
          "output_type": "stream",
          "text": [
            "INFO:tensorflow:Assets written to: saved_networks/duelingdqn_model7/assets\n"
          ]
        },
        {
          "name": "stdout",
          "output_type": "stream",
          "text": [
            "Network saved\n",
            "Episode 478/1000, Score: 208.3326177166613 (0.01), AVG Score: 221.8635608716531\n",
            "Episode 479/1000, Score: 190.46494732906478 (0.01), AVG Score: 221.1628209213237\n",
            "Episode 480/1000, Score: 266.46681170118643 (0.01), AVG Score: 221.14310574085505\n"
          ]
        },
        {
          "name": "stderr",
          "output_type": "stream",
          "text": [
            "WARNING:absl:Found untraced functions such as dense_layer_call_fn, dense_layer_call_and_return_conditional_losses, dense_1_layer_call_fn, dense_1_layer_call_and_return_conditional_losses, dense_2_layer_call_fn while saving (showing 5 of 20). These functions will not be directly callable after loading.\n"
          ]
        },
        {
          "name": "stdout",
          "output_type": "stream",
          "text": [
            "INFO:tensorflow:Assets written to: saved_networks/duelingdqn_model8/assets\n"
          ]
        },
        {
          "name": "stderr",
          "output_type": "stream",
          "text": [
            "INFO:tensorflow:Assets written to: saved_networks/duelingdqn_model8/assets\n"
          ]
        },
        {
          "name": "stdout",
          "output_type": "stream",
          "text": [
            "Network saved\n",
            "Episode 481/1000, Score: 139.35898713853481 (0.01), AVG Score: 220.15624930913356\n",
            "Episode 482/1000, Score: 266.900576768045 (0.01), AVG Score: 222.9178762890232\n"
          ]
        },
        {
          "name": "stderr",
          "output_type": "stream",
          "text": [
            "WARNING:absl:Found untraced functions such as dense_layer_call_fn, dense_layer_call_and_return_conditional_losses, dense_1_layer_call_fn, dense_1_layer_call_and_return_conditional_losses, dense_2_layer_call_fn while saving (showing 5 of 20). These functions will not be directly callable after loading.\n"
          ]
        },
        {
          "name": "stdout",
          "output_type": "stream",
          "text": [
            "INFO:tensorflow:Assets written to: saved_networks/duelingdqn_model9/assets\n"
          ]
        },
        {
          "name": "stderr",
          "output_type": "stream",
          "text": [
            "INFO:tensorflow:Assets written to: saved_networks/duelingdqn_model9/assets\n"
          ]
        },
        {
          "name": "stdout",
          "output_type": "stream",
          "text": [
            "Network saved\n",
            "Episode 483/1000, Score: 249.52447344768692 (0.01), AVG Score: 222.82763841005436\n",
            "Episode 484/1000, Score: 262.3121085791145 (0.01), AVG Score: 223.44665017174626\n"
          ]
        },
        {
          "name": "stderr",
          "output_type": "stream",
          "text": [
            "WARNING:absl:Found untraced functions such as dense_layer_call_fn, dense_layer_call_and_return_conditional_losses, dense_1_layer_call_fn, dense_1_layer_call_and_return_conditional_losses, dense_2_layer_call_fn while saving (showing 5 of 20). These functions will not be directly callable after loading.\n"
          ]
        },
        {
          "name": "stdout",
          "output_type": "stream",
          "text": [
            "INFO:tensorflow:Assets written to: saved_networks/duelingdqn_model10/assets\n"
          ]
        },
        {
          "name": "stderr",
          "output_type": "stream",
          "text": [
            "INFO:tensorflow:Assets written to: saved_networks/duelingdqn_model10/assets\n"
          ]
        },
        {
          "name": "stdout",
          "output_type": "stream",
          "text": [
            "Network saved\n",
            "Episode 485/1000, Score: 265.6972121901049 (0.01), AVG Score: 223.25201610145126\n"
          ]
        },
        {
          "name": "stderr",
          "output_type": "stream",
          "text": [
            "WARNING:absl:Found untraced functions such as dense_layer_call_fn, dense_layer_call_and_return_conditional_losses, dense_1_layer_call_fn, dense_1_layer_call_and_return_conditional_losses, dense_2_layer_call_fn while saving (showing 5 of 20). These functions will not be directly callable after loading.\n"
          ]
        },
        {
          "name": "stdout",
          "output_type": "stream",
          "text": [
            "INFO:tensorflow:Assets written to: saved_networks/duelingdqn_model11/assets\n"
          ]
        },
        {
          "name": "stderr",
          "output_type": "stream",
          "text": [
            "INFO:tensorflow:Assets written to: saved_networks/duelingdqn_model11/assets\n"
          ]
        },
        {
          "name": "stdout",
          "output_type": "stream",
          "text": [
            "Network saved\n",
            "Episode 486/1000, Score: 241.2154418149876 (0.01), AVG Score: 223.52429353712384\n",
            "Episode 487/1000, Score: 266.62040486489644 (0.01), AVG Score: 226.1864170718617\n"
          ]
        },
        {
          "name": "stderr",
          "output_type": "stream",
          "text": [
            "WARNING:absl:Found untraced functions such as dense_layer_call_fn, dense_layer_call_and_return_conditional_losses, dense_1_layer_call_fn, dense_1_layer_call_and_return_conditional_losses, dense_2_layer_call_fn while saving (showing 5 of 20). These functions will not be directly callable after loading.\n"
          ]
        },
        {
          "name": "stdout",
          "output_type": "stream",
          "text": [
            "INFO:tensorflow:Assets written to: saved_networks/duelingdqn_model12/assets\n"
          ]
        },
        {
          "name": "stderr",
          "output_type": "stream",
          "text": [
            "INFO:tensorflow:Assets written to: saved_networks/duelingdqn_model12/assets\n"
          ]
        },
        {
          "name": "stdout",
          "output_type": "stream",
          "text": [
            "Network saved\n",
            "Episode 488/1000, Score: 238.1736377194725 (0.01), AVG Score: 225.80894608387513\n",
            "Episode 489/1000, Score: 270.6789803835968 (0.01), AVG Score: 225.97695591601584\n"
          ]
        },
        {
          "name": "stderr",
          "output_type": "stream",
          "text": [
            "WARNING:absl:Found untraced functions such as dense_layer_call_fn, dense_layer_call_and_return_conditional_losses, dense_1_layer_call_fn, dense_1_layer_call_and_return_conditional_losses, dense_2_layer_call_fn while saving (showing 5 of 20). These functions will not be directly callable after loading.\n"
          ]
        },
        {
          "name": "stdout",
          "output_type": "stream",
          "text": [
            "INFO:tensorflow:Assets written to: saved_networks/duelingdqn_model13/assets\n"
          ]
        },
        {
          "name": "stderr",
          "output_type": "stream",
          "text": [
            "INFO:tensorflow:Assets written to: saved_networks/duelingdqn_model13/assets\n"
          ]
        },
        {
          "name": "stdout",
          "output_type": "stream",
          "text": [
            "Network saved\n",
            "Episode 490/1000, Score: 243.90189740139252 (0.01), AVG Score: 225.69847736609975\n",
            "Episode 491/1000, Score: 226.07716334563798 (0.01), AVG Score: 225.0735768817649\n",
            "Episode 492/1000, Score: 285.40413834024946 (0.01), AVG Score: 225.42633223748257\n"
          ]
        },
        {
          "name": "stderr",
          "output_type": "stream",
          "text": [
            "WARNING:absl:Found untraced functions such as dense_layer_call_fn, dense_layer_call_and_return_conditional_losses, dense_1_layer_call_fn, dense_1_layer_call_and_return_conditional_losses, dense_2_layer_call_fn while saving (showing 5 of 20). These functions will not be directly callable after loading.\n"
          ]
        },
        {
          "name": "stdout",
          "output_type": "stream",
          "text": [
            "INFO:tensorflow:Assets written to: saved_networks/duelingdqn_model14/assets\n"
          ]
        },
        {
          "name": "stderr",
          "output_type": "stream",
          "text": [
            "INFO:tensorflow:Assets written to: saved_networks/duelingdqn_model14/assets\n"
          ]
        },
        {
          "name": "stdout",
          "output_type": "stream",
          "text": [
            "Network saved\n",
            "Episode 493/1000, Score: 281.3536720125512 (0.01), AVG Score: 225.38848016595085\n"
          ]
        },
        {
          "name": "stderr",
          "output_type": "stream",
          "text": [
            "WARNING:absl:Found untraced functions such as dense_layer_call_fn, dense_layer_call_and_return_conditional_losses, dense_1_layer_call_fn, dense_1_layer_call_and_return_conditional_losses, dense_2_layer_call_fn while saving (showing 5 of 20). These functions will not be directly callable after loading.\n"
          ]
        },
        {
          "name": "stdout",
          "output_type": "stream",
          "text": [
            "INFO:tensorflow:Assets written to: saved_networks/duelingdqn_model15/assets\n"
          ]
        },
        {
          "name": "stderr",
          "output_type": "stream",
          "text": [
            "INFO:tensorflow:Assets written to: saved_networks/duelingdqn_model15/assets\n"
          ]
        },
        {
          "name": "stdout",
          "output_type": "stream",
          "text": [
            "Network saved\n",
            "Episode 494/1000, Score: 269.60800492898073 (0.01), AVG Score: 225.74746259513367\n"
          ]
        },
        {
          "name": "stderr",
          "output_type": "stream",
          "text": [
            "WARNING:absl:Found untraced functions such as dense_layer_call_fn, dense_layer_call_and_return_conditional_losses, dense_1_layer_call_fn, dense_1_layer_call_and_return_conditional_losses, dense_2_layer_call_fn while saving (showing 5 of 20). These functions will not be directly callable after loading.\n"
          ]
        },
        {
          "name": "stdout",
          "output_type": "stream",
          "text": [
            "INFO:tensorflow:Assets written to: saved_networks/duelingdqn_model16/assets\n"
          ]
        },
        {
          "name": "stderr",
          "output_type": "stream",
          "text": [
            "INFO:tensorflow:Assets written to: saved_networks/duelingdqn_model16/assets\n"
          ]
        },
        {
          "name": "stdout",
          "output_type": "stream",
          "text": [
            "Network saved\n",
            "Episode 495/1000, Score: 196.26273062556223 (0.01), AVG Score: 225.17988088893745\n",
            "Episode 496/1000, Score: 281.2860938991019 (0.01), AVG Score: 225.8849654679838\n"
          ]
        },
        {
          "name": "stderr",
          "output_type": "stream",
          "text": [
            "WARNING:absl:Found untraced functions such as dense_layer_call_fn, dense_layer_call_and_return_conditional_losses, dense_1_layer_call_fn, dense_1_layer_call_and_return_conditional_losses, dense_2_layer_call_fn while saving (showing 5 of 20). These functions will not be directly callable after loading.\n"
          ]
        },
        {
          "name": "stdout",
          "output_type": "stream",
          "text": [
            "INFO:tensorflow:Assets written to: saved_networks/duelingdqn_model17/assets\n"
          ]
        },
        {
          "name": "stderr",
          "output_type": "stream",
          "text": [
            "INFO:tensorflow:Assets written to: saved_networks/duelingdqn_model17/assets\n"
          ]
        },
        {
          "name": "stdout",
          "output_type": "stream",
          "text": [
            "Network saved\n",
            "Episode 497/1000, Score: 206.01860362227134 (0.01), AVG Score: 225.35739936702797\n",
            "Episode 498/1000, Score: 267.90161585160297 (0.01), AVG Score: 225.30376674541824\n"
          ]
        },
        {
          "name": "stderr",
          "output_type": "stream",
          "text": [
            "WARNING:absl:Found untraced functions such as dense_layer_call_fn, dense_layer_call_and_return_conditional_losses, dense_1_layer_call_fn, dense_1_layer_call_and_return_conditional_losses, dense_2_layer_call_fn while saving (showing 5 of 20). These functions will not be directly callable after loading.\n"
          ]
        },
        {
          "name": "stdout",
          "output_type": "stream",
          "text": [
            "INFO:tensorflow:Assets written to: saved_networks/duelingdqn_model18/assets\n"
          ]
        },
        {
          "name": "stderr",
          "output_type": "stream",
          "text": [
            "INFO:tensorflow:Assets written to: saved_networks/duelingdqn_model18/assets\n"
          ]
        },
        {
          "name": "stdout",
          "output_type": "stream",
          "text": [
            "Network saved\n",
            "Episode 499/1000, Score: 278.1536999032252 (0.01), AVG Score: 225.4938477126868\n"
          ]
        },
        {
          "name": "stderr",
          "output_type": "stream",
          "text": [
            "WARNING:absl:Found untraced functions such as dense_layer_call_fn, dense_layer_call_and_return_conditional_losses, dense_1_layer_call_fn, dense_1_layer_call_and_return_conditional_losses, dense_2_layer_call_fn while saving (showing 5 of 20). These functions will not be directly callable after loading.\n"
          ]
        },
        {
          "name": "stdout",
          "output_type": "stream",
          "text": [
            "INFO:tensorflow:Assets written to: saved_networks/duelingdqn_model19/assets\n"
          ]
        },
        {
          "name": "stderr",
          "output_type": "stream",
          "text": [
            "INFO:tensorflow:Assets written to: saved_networks/duelingdqn_model19/assets\n"
          ]
        },
        {
          "name": "stdout",
          "output_type": "stream",
          "text": [
            "Network saved\n",
            "Episode 500/1000, Score: 18.28768992635345 (0.01), AVG Score: 223.02669245913236\n",
            "Episode 501/1000, Score: 261.6280574954819 (0.01), AVG Score: 222.74721403343293\n"
          ]
        },
        {
          "name": "stderr",
          "output_type": "stream",
          "text": [
            "WARNING:absl:Found untraced functions such as dense_layer_call_fn, dense_layer_call_and_return_conditional_losses, dense_1_layer_call_fn, dense_1_layer_call_and_return_conditional_losses, dense_2_layer_call_fn while saving (showing 5 of 20). These functions will not be directly callable after loading.\n"
          ]
        },
        {
          "name": "stdout",
          "output_type": "stream",
          "text": [
            "INFO:tensorflow:Assets written to: saved_networks/duelingdqn_model20/assets\n"
          ]
        },
        {
          "name": "stderr",
          "output_type": "stream",
          "text": [
            "INFO:tensorflow:Assets written to: saved_networks/duelingdqn_model20/assets\n"
          ]
        },
        {
          "name": "stdout",
          "output_type": "stream",
          "text": [
            "Network saved\n",
            "Episode 502/1000, Score: 279.8634460104592 (0.01), AVG Score: 222.99339613733042\n"
          ]
        },
        {
          "name": "stderr",
          "output_type": "stream",
          "text": [
            "WARNING:absl:Found untraced functions such as dense_layer_call_fn, dense_layer_call_and_return_conditional_losses, dense_1_layer_call_fn, dense_1_layer_call_and_return_conditional_losses, dense_2_layer_call_fn while saving (showing 5 of 20). These functions will not be directly callable after loading.\n"
          ]
        },
        {
          "name": "stdout",
          "output_type": "stream",
          "text": [
            "INFO:tensorflow:Assets written to: saved_networks/duelingdqn_model21/assets\n"
          ]
        },
        {
          "name": "stderr",
          "output_type": "stream",
          "text": [
            "INFO:tensorflow:Assets written to: saved_networks/duelingdqn_model21/assets\n"
          ]
        },
        {
          "name": "stdout",
          "output_type": "stream",
          "text": [
            "Network saved\n",
            "Episode 503/1000, Score: 244.7748399544998 (0.01), AVG Score: 222.81647519933904\n",
            "Episode 504/1000, Score: -0.09639184646675858 (0.01), AVG Score: 220.04606251829867\n",
            "Episode 505/1000, Score: 256.19554307149167 (0.01), AVG Score: 220.1797725566373\n"
          ]
        },
        {
          "name": "stderr",
          "output_type": "stream",
          "text": [
            "WARNING:absl:Found untraced functions such as dense_layer_call_fn, dense_layer_call_and_return_conditional_losses, dense_1_layer_call_fn, dense_1_layer_call_and_return_conditional_losses, dense_2_layer_call_fn while saving (showing 5 of 20). These functions will not be directly callable after loading.\n"
          ]
        },
        {
          "name": "stdout",
          "output_type": "stream",
          "text": [
            "INFO:tensorflow:Assets written to: saved_networks/duelingdqn_model22/assets\n"
          ]
        },
        {
          "name": "stderr",
          "output_type": "stream",
          "text": [
            "INFO:tensorflow:Assets written to: saved_networks/duelingdqn_model22/assets\n"
          ]
        },
        {
          "name": "stdout",
          "output_type": "stream",
          "text": [
            "Network saved\n",
            "Episode 506/1000, Score: 280.86546974462715 (0.01), AVG Score: 219.83057426395357\n",
            "Episode 507/1000, Score: 312.0520668474069 (0.01), AVG Score: 220.1616364381811\n"
          ]
        },
        {
          "name": "stderr",
          "output_type": "stream",
          "text": [
            "WARNING:absl:Found untraced functions such as dense_layer_call_fn, dense_layer_call_and_return_conditional_losses, dense_1_layer_call_fn, dense_1_layer_call_and_return_conditional_losses, dense_2_layer_call_fn while saving (showing 5 of 20). These functions will not be directly callable after loading.\n"
          ]
        },
        {
          "name": "stdout",
          "output_type": "stream",
          "text": [
            "INFO:tensorflow:Assets written to: saved_networks/duelingdqn_model23/assets\n"
          ]
        },
        {
          "name": "stderr",
          "output_type": "stream",
          "text": [
            "INFO:tensorflow:Assets written to: saved_networks/duelingdqn_model23/assets\n"
          ]
        },
        {
          "name": "stdout",
          "output_type": "stream",
          "text": [
            "Network saved\n",
            "Episode 508/1000, Score: 297.1726035189532 (0.01), AVG Score: 220.6571665174784\n"
          ]
        },
        {
          "name": "stderr",
          "output_type": "stream",
          "text": [
            "WARNING:absl:Found untraced functions such as dense_layer_call_fn, dense_layer_call_and_return_conditional_losses, dense_1_layer_call_fn, dense_1_layer_call_and_return_conditional_losses, dense_2_layer_call_fn while saving (showing 5 of 20). These functions will not be directly callable after loading.\n"
          ]
        },
        {
          "name": "stdout",
          "output_type": "stream",
          "text": [
            "INFO:tensorflow:Assets written to: saved_networks/duelingdqn_model24/assets\n"
          ]
        },
        {
          "name": "stderr",
          "output_type": "stream",
          "text": [
            "INFO:tensorflow:Assets written to: saved_networks/duelingdqn_model24/assets\n"
          ]
        },
        {
          "name": "stdout",
          "output_type": "stream",
          "text": [
            "Network saved\n",
            "Episode 509/1000, Score: 297.8113541436728 (0.01), AVG Score: 221.89623172210457\n"
          ]
        },
        {
          "name": "stderr",
          "output_type": "stream",
          "text": [
            "WARNING:absl:Found untraced functions such as dense_layer_call_fn, dense_layer_call_and_return_conditional_losses, dense_1_layer_call_fn, dense_1_layer_call_and_return_conditional_losses, dense_2_layer_call_fn while saving (showing 5 of 20). These functions will not be directly callable after loading.\n"
          ]
        },
        {
          "name": "stdout",
          "output_type": "stream",
          "text": [
            "INFO:tensorflow:Assets written to: saved_networks/duelingdqn_model25/assets\n"
          ]
        },
        {
          "name": "stderr",
          "output_type": "stream",
          "text": [
            "INFO:tensorflow:Assets written to: saved_networks/duelingdqn_model25/assets\n"
          ]
        },
        {
          "name": "stdout",
          "output_type": "stream",
          "text": [
            "Network saved\n",
            "Episode 510/1000, Score: 260.93805203343385 (0.01), AVG Score: 221.99932806546323\n"
          ]
        },
        {
          "name": "stderr",
          "output_type": "stream",
          "text": [
            "WARNING:absl:Found untraced functions such as dense_layer_call_fn, dense_layer_call_and_return_conditional_losses, dense_1_layer_call_fn, dense_1_layer_call_and_return_conditional_losses, dense_2_layer_call_fn while saving (showing 5 of 20). These functions will not be directly callable after loading.\n"
          ]
        },
        {
          "name": "stdout",
          "output_type": "stream",
          "text": [
            "INFO:tensorflow:Assets written to: saved_networks/duelingdqn_model26/assets\n"
          ]
        },
        {
          "name": "stderr",
          "output_type": "stream",
          "text": [
            "INFO:tensorflow:Assets written to: saved_networks/duelingdqn_model26/assets\n"
          ]
        },
        {
          "name": "stdout",
          "output_type": "stream",
          "text": [
            "Network saved\n",
            "Episode 511/1000, Score: 277.980063982008 (0.01), AVG Score: 222.021986363261\n"
          ]
        },
        {
          "name": "stderr",
          "output_type": "stream",
          "text": [
            "WARNING:absl:Found untraced functions such as dense_layer_call_fn, dense_layer_call_and_return_conditional_losses, dense_1_layer_call_fn, dense_1_layer_call_and_return_conditional_losses, dense_2_layer_call_fn while saving (showing 5 of 20). These functions will not be directly callable after loading.\n"
          ]
        },
        {
          "name": "stdout",
          "output_type": "stream",
          "text": [
            "INFO:tensorflow:Assets written to: saved_networks/duelingdqn_model27/assets\n"
          ]
        },
        {
          "name": "stderr",
          "output_type": "stream",
          "text": [
            "INFO:tensorflow:Assets written to: saved_networks/duelingdqn_model27/assets\n"
          ]
        },
        {
          "name": "stdout",
          "output_type": "stream",
          "text": [
            "Network saved\n",
            "Episode 512/1000, Score: 303.5903989343692 (0.01), AVG Score: 222.5402314056708\n"
          ]
        },
        {
          "name": "stderr",
          "output_type": "stream",
          "text": [
            "WARNING:absl:Found untraced functions such as dense_layer_call_fn, dense_layer_call_and_return_conditional_losses, dense_1_layer_call_fn, dense_1_layer_call_and_return_conditional_losses, dense_2_layer_call_fn while saving (showing 5 of 20). These functions will not be directly callable after loading.\n"
          ]
        },
        {
          "name": "stdout",
          "output_type": "stream",
          "text": [
            "INFO:tensorflow:Assets written to: saved_networks/duelingdqn_model28/assets\n"
          ]
        },
        {
          "name": "stderr",
          "output_type": "stream",
          "text": [
            "INFO:tensorflow:Assets written to: saved_networks/duelingdqn_model28/assets\n"
          ]
        },
        {
          "name": "stdout",
          "output_type": "stream",
          "text": [
            "Network saved\n",
            "Episode 513/1000, Score: 246.45804475176814 (0.01), AVG Score: 222.8192442942298\n",
            "Episode 514/1000, Score: 266.6038908563041 (0.01), AVG Score: 222.44010357863172\n"
          ]
        },
        {
          "name": "stderr",
          "output_type": "stream",
          "text": [
            "WARNING:absl:Found untraced functions such as dense_layer_call_fn, dense_layer_call_and_return_conditional_losses, dense_1_layer_call_fn, dense_1_layer_call_and_return_conditional_losses, dense_2_layer_call_fn while saving (showing 5 of 20). These functions will not be directly callable after loading.\n"
          ]
        },
        {
          "name": "stdout",
          "output_type": "stream",
          "text": [
            "INFO:tensorflow:Assets written to: saved_networks/duelingdqn_model29/assets\n"
          ]
        },
        {
          "name": "stderr",
          "output_type": "stream",
          "text": [
            "INFO:tensorflow:Assets written to: saved_networks/duelingdqn_model29/assets\n"
          ]
        },
        {
          "name": "stdout",
          "output_type": "stream",
          "text": [
            "Network saved\n",
            "Episode 515/1000, Score: 234.247098033583 (0.01), AVG Score: 224.5027621719995\n",
            "Episode 516/1000, Score: 291.9446031529716 (0.01), AVG Score: 227.18263138366947\n"
          ]
        },
        {
          "name": "stderr",
          "output_type": "stream",
          "text": [
            "WARNING:absl:Found untraced functions such as dense_layer_call_fn, dense_layer_call_and_return_conditional_losses, dense_1_layer_call_fn, dense_1_layer_call_and_return_conditional_losses, dense_2_layer_call_fn while saving (showing 5 of 20). These functions will not be directly callable after loading.\n"
          ]
        },
        {
          "name": "stdout",
          "output_type": "stream",
          "text": [
            "INFO:tensorflow:Assets written to: saved_networks/duelingdqn_model30/assets\n"
          ]
        },
        {
          "name": "stderr",
          "output_type": "stream",
          "text": [
            "INFO:tensorflow:Assets written to: saved_networks/duelingdqn_model30/assets\n"
          ]
        },
        {
          "name": "stdout",
          "output_type": "stream",
          "text": [
            "Network saved\n",
            "Episode 517/1000, Score: 250.97904075643768 (0.01), AVG Score: 227.26880980860443\n"
          ]
        },
        {
          "name": "stderr",
          "output_type": "stream",
          "text": [
            "WARNING:absl:Found untraced functions such as dense_layer_call_fn, dense_layer_call_and_return_conditional_losses, dense_1_layer_call_fn, dense_1_layer_call_and_return_conditional_losses, dense_2_layer_call_fn while saving (showing 5 of 20). These functions will not be directly callable after loading.\n"
          ]
        },
        {
          "name": "stdout",
          "output_type": "stream",
          "text": [
            "INFO:tensorflow:Assets written to: saved_networks/duelingdqn_model31/assets\n"
          ]
        },
        {
          "name": "stderr",
          "output_type": "stream",
          "text": [
            "INFO:tensorflow:Assets written to: saved_networks/duelingdqn_model31/assets\n"
          ]
        },
        {
          "name": "stdout",
          "output_type": "stream",
          "text": [
            "Network saved\n",
            "Episode 518/1000, Score: 257.29864518571776 (0.01), AVG Score: 227.20963042211773\n"
          ]
        },
        {
          "name": "stderr",
          "output_type": "stream",
          "text": [
            "WARNING:absl:Found untraced functions such as dense_layer_call_fn, dense_layer_call_and_return_conditional_losses, dense_1_layer_call_fn, dense_1_layer_call_and_return_conditional_losses, dense_2_layer_call_fn while saving (showing 5 of 20). These functions will not be directly callable after loading.\n"
          ]
        },
        {
          "name": "stdout",
          "output_type": "stream",
          "text": [
            "INFO:tensorflow:Assets written to: saved_networks/duelingdqn_model32/assets\n"
          ]
        },
        {
          "name": "stderr",
          "output_type": "stream",
          "text": [
            "INFO:tensorflow:Assets written to: saved_networks/duelingdqn_model32/assets\n"
          ]
        },
        {
          "name": "stdout",
          "output_type": "stream",
          "text": [
            "Network saved\n",
            "Episode 519/1000, Score: 259.25611361282716 (0.01), AVG Score: 227.21403635891951\n"
          ]
        },
        {
          "name": "stderr",
          "output_type": "stream",
          "text": [
            "WARNING:absl:Found untraced functions such as dense_layer_call_fn, dense_layer_call_and_return_conditional_losses, dense_1_layer_call_fn, dense_1_layer_call_and_return_conditional_losses, dense_2_layer_call_fn while saving (showing 5 of 20). These functions will not be directly callable after loading.\n"
          ]
        },
        {
          "name": "stdout",
          "output_type": "stream",
          "text": [
            "INFO:tensorflow:Assets written to: saved_networks/duelingdqn_model33/assets\n"
          ]
        },
        {
          "name": "stderr",
          "output_type": "stream",
          "text": [
            "INFO:tensorflow:Assets written to: saved_networks/duelingdqn_model33/assets\n"
          ]
        },
        {
          "name": "stdout",
          "output_type": "stream",
          "text": [
            "Network saved\n",
            "Episode 520/1000, Score: 253.0882204196165 (0.01), AVG Score: 227.27847925717305\n"
          ]
        },
        {
          "name": "stderr",
          "output_type": "stream",
          "text": [
            "WARNING:absl:Found untraced functions such as dense_layer_call_fn, dense_layer_call_and_return_conditional_losses, dense_1_layer_call_fn, dense_1_layer_call_and_return_conditional_losses, dense_2_layer_call_fn while saving (showing 5 of 20). These functions will not be directly callable after loading.\n"
          ]
        },
        {
          "name": "stdout",
          "output_type": "stream",
          "text": [
            "INFO:tensorflow:Assets written to: saved_networks/duelingdqn_model34/assets\n"
          ]
        },
        {
          "name": "stderr",
          "output_type": "stream",
          "text": [
            "INFO:tensorflow:Assets written to: saved_networks/duelingdqn_model34/assets\n"
          ]
        },
        {
          "name": "stdout",
          "output_type": "stream",
          "text": [
            "Network saved\n",
            "Episode 521/1000, Score: 234.66639458902407 (0.01), AVG Score: 227.7068694111\n",
            "Episode 522/1000, Score: 257.6233090017484 (0.01), AVG Score: 227.71554245270104\n"
          ]
        },
        {
          "name": "stderr",
          "output_type": "stream",
          "text": [
            "WARNING:absl:Found untraced functions such as dense_layer_call_fn, dense_layer_call_and_return_conditional_losses, dense_1_layer_call_fn, dense_1_layer_call_and_return_conditional_losses, dense_2_layer_call_fn while saving (showing 5 of 20). These functions will not be directly callable after loading.\n"
          ]
        },
        {
          "name": "stdout",
          "output_type": "stream",
          "text": [
            "INFO:tensorflow:Assets written to: saved_networks/duelingdqn_model35/assets\n"
          ]
        },
        {
          "name": "stderr",
          "output_type": "stream",
          "text": [
            "INFO:tensorflow:Assets written to: saved_networks/duelingdqn_model35/assets\n"
          ]
        },
        {
          "name": "stdout",
          "output_type": "stream",
          "text": [
            "Network saved\n",
            "Episode 523/1000, Score: 239.34650095775055 (0.01), AVG Score: 227.31000935509417\n",
            "Episode 524/1000, Score: 263.2002052957754 (0.01), AVG Score: 227.24151956514643\n"
          ]
        },
        {
          "name": "stderr",
          "output_type": "stream",
          "text": [
            "WARNING:absl:Found untraced functions such as dense_layer_call_fn, dense_layer_call_and_return_conditional_losses, dense_1_layer_call_fn, dense_1_layer_call_and_return_conditional_losses, dense_2_layer_call_fn while saving (showing 5 of 20). These functions will not be directly callable after loading.\n"
          ]
        },
        {
          "name": "stdout",
          "output_type": "stream",
          "text": [
            "INFO:tensorflow:Assets written to: saved_networks/duelingdqn_model36/assets\n"
          ]
        },
        {
          "name": "stderr",
          "output_type": "stream",
          "text": [
            "INFO:tensorflow:Assets written to: saved_networks/duelingdqn_model36/assets\n"
          ]
        },
        {
          "name": "stdout",
          "output_type": "stream",
          "text": [
            "Network saved\n",
            "Episode 525/1000, Score: 261.26349666159274 (0.01), AVG Score: 227.4559244281597\n"
          ]
        },
        {
          "name": "stderr",
          "output_type": "stream",
          "text": [
            "WARNING:absl:Found untraced functions such as dense_layer_call_fn, dense_layer_call_and_return_conditional_losses, dense_1_layer_call_fn, dense_1_layer_call_and_return_conditional_losses, dense_2_layer_call_fn while saving (showing 5 of 20). These functions will not be directly callable after loading.\n"
          ]
        },
        {
          "name": "stdout",
          "output_type": "stream",
          "text": [
            "INFO:tensorflow:Assets written to: saved_networks/duelingdqn_model37/assets\n"
          ]
        },
        {
          "name": "stderr",
          "output_type": "stream",
          "text": [
            "INFO:tensorflow:Assets written to: saved_networks/duelingdqn_model37/assets\n"
          ]
        },
        {
          "name": "stdout",
          "output_type": "stream",
          "text": [
            "Network saved\n",
            "Episode 526/1000, Score: 274.1589035324746 (0.01), AVG Score: 228.04450384475388\n"
          ]
        },
        {
          "name": "stderr",
          "output_type": "stream",
          "text": [
            "WARNING:absl:Found untraced functions such as dense_layer_call_fn, dense_layer_call_and_return_conditional_losses, dense_1_layer_call_fn, dense_1_layer_call_and_return_conditional_losses, dense_2_layer_call_fn while saving (showing 5 of 20). These functions will not be directly callable after loading.\n"
          ]
        },
        {
          "name": "stdout",
          "output_type": "stream",
          "text": [
            "INFO:tensorflow:Assets written to: saved_networks/duelingdqn_model38/assets\n"
          ]
        },
        {
          "name": "stderr",
          "output_type": "stream",
          "text": [
            "INFO:tensorflow:Assets written to: saved_networks/duelingdqn_model38/assets\n"
          ]
        },
        {
          "name": "stdout",
          "output_type": "stream",
          "text": [
            "Network saved\n",
            "Episode 527/1000, Score: 233.2880356591938 (0.01), AVG Score: 228.15962515440617\n",
            "Episode 528/1000, Score: 277.60777942005643 (0.01), AVG Score: 228.43629276329756\n"
          ]
        },
        {
          "name": "stderr",
          "output_type": "stream",
          "text": [
            "WARNING:absl:Found untraced functions such as dense_layer_call_fn, dense_layer_call_and_return_conditional_losses, dense_1_layer_call_fn, dense_1_layer_call_and_return_conditional_losses, dense_2_layer_call_fn while saving (showing 5 of 20). These functions will not be directly callable after loading.\n"
          ]
        },
        {
          "name": "stdout",
          "output_type": "stream",
          "text": [
            "INFO:tensorflow:Assets written to: saved_networks/duelingdqn_model39/assets\n"
          ]
        },
        {
          "name": "stderr",
          "output_type": "stream",
          "text": [
            "INFO:tensorflow:Assets written to: saved_networks/duelingdqn_model39/assets\n"
          ]
        },
        {
          "name": "stdout",
          "output_type": "stream",
          "text": [
            "Network saved\n",
            "Episode 529/1000, Score: 244.81647554887843 (0.01), AVG Score: 228.38302684285043\n",
            "Episode 530/1000, Score: 251.363296695095 (0.01), AVG Score: 227.9306631204445\n"
          ]
        },
        {
          "name": "stderr",
          "output_type": "stream",
          "text": [
            "WARNING:absl:Found untraced functions such as dense_layer_call_fn, dense_layer_call_and_return_conditional_losses, dense_1_layer_call_fn, dense_1_layer_call_and_return_conditional_losses, dense_2_layer_call_fn while saving (showing 5 of 20). These functions will not be directly callable after loading.\n"
          ]
        },
        {
          "name": "stdout",
          "output_type": "stream",
          "text": [
            "INFO:tensorflow:Assets written to: saved_networks/duelingdqn_model40/assets\n"
          ]
        },
        {
          "name": "stderr",
          "output_type": "stream",
          "text": [
            "INFO:tensorflow:Assets written to: saved_networks/duelingdqn_model40/assets\n"
          ]
        },
        {
          "name": "stdout",
          "output_type": "stream",
          "text": [
            "Network saved\n",
            "Episode 531/1000, Score: 256.5844478843422 (0.01), AVG Score: 227.55812868936448\n"
          ]
        },
        {
          "name": "stderr",
          "output_type": "stream",
          "text": [
            "WARNING:absl:Found untraced functions such as dense_layer_call_fn, dense_layer_call_and_return_conditional_losses, dense_1_layer_call_fn, dense_1_layer_call_and_return_conditional_losses, dense_2_layer_call_fn while saving (showing 5 of 20). These functions will not be directly callable after loading.\n"
          ]
        },
        {
          "name": "stdout",
          "output_type": "stream",
          "text": [
            "INFO:tensorflow:Assets written to: saved_networks/duelingdqn_model41/assets\n"
          ]
        },
        {
          "name": "stderr",
          "output_type": "stream",
          "text": [
            "INFO:tensorflow:Assets written to: saved_networks/duelingdqn_model41/assets\n"
          ]
        },
        {
          "name": "stdout",
          "output_type": "stream",
          "text": [
            "Network saved\n",
            "Episode 532/1000, Score: 245.6089192414081 (0.01), AVG Score: 226.98945261684938\n",
            "Episode 533/1000, Score: 275.78523034214805 (0.01), AVG Score: 227.1427572289658\n"
          ]
        },
        {
          "name": "stderr",
          "output_type": "stream",
          "text": [
            "WARNING:absl:Found untraced functions such as dense_layer_call_fn, dense_layer_call_and_return_conditional_losses, dense_1_layer_call_fn, dense_1_layer_call_and_return_conditional_losses, dense_2_layer_call_fn while saving (showing 5 of 20). These functions will not be directly callable after loading.\n"
          ]
        },
        {
          "name": "stdout",
          "output_type": "stream",
          "text": [
            "INFO:tensorflow:Assets written to: saved_networks/duelingdqn_model42/assets\n"
          ]
        },
        {
          "name": "stderr",
          "output_type": "stream",
          "text": [
            "INFO:tensorflow:Assets written to: saved_networks/duelingdqn_model42/assets\n"
          ]
        },
        {
          "name": "stdout",
          "output_type": "stream",
          "text": [
            "Network saved\n",
            "Episode 534/1000, Score: 298.5289405886398 (0.01), AVG Score: 227.48010123889216\n"
          ]
        },
        {
          "name": "stderr",
          "output_type": "stream",
          "text": [
            "WARNING:absl:Found untraced functions such as dense_layer_call_fn, dense_layer_call_and_return_conditional_losses, dense_1_layer_call_fn, dense_1_layer_call_and_return_conditional_losses, dense_2_layer_call_fn while saving (showing 5 of 20). These functions will not be directly callable after loading.\n"
          ]
        },
        {
          "name": "stdout",
          "output_type": "stream",
          "text": [
            "INFO:tensorflow:Assets written to: saved_networks/duelingdqn_model43/assets\n"
          ]
        },
        {
          "name": "stderr",
          "output_type": "stream",
          "text": [
            "INFO:tensorflow:Assets written to: saved_networks/duelingdqn_model43/assets\n"
          ]
        },
        {
          "name": "stdout",
          "output_type": "stream",
          "text": [
            "Network saved\n",
            "Episode 535/1000, Score: 282.0429036016399 (0.01), AVG Score: 227.69780608607286\n"
          ]
        },
        {
          "name": "stderr",
          "output_type": "stream",
          "text": [
            "WARNING:absl:Found untraced functions such as dense_layer_call_fn, dense_layer_call_and_return_conditional_losses, dense_1_layer_call_fn, dense_1_layer_call_and_return_conditional_losses, dense_2_layer_call_fn while saving (showing 5 of 20). These functions will not be directly callable after loading.\n"
          ]
        },
        {
          "name": "stdout",
          "output_type": "stream",
          "text": [
            "INFO:tensorflow:Assets written to: saved_networks/duelingdqn_model44/assets\n"
          ]
        },
        {
          "name": "stderr",
          "output_type": "stream",
          "text": [
            "INFO:tensorflow:Assets written to: saved_networks/duelingdqn_model44/assets\n"
          ]
        },
        {
          "name": "stdout",
          "output_type": "stream",
          "text": [
            "Network saved\n",
            "Episode 536/1000, Score: 315.4869829091601 (0.01), AVG Score: 232.24175949001926\n"
          ]
        },
        {
          "name": "stderr",
          "output_type": "stream",
          "text": [
            "WARNING:absl:Found untraced functions such as dense_layer_call_fn, dense_layer_call_and_return_conditional_losses, dense_1_layer_call_fn, dense_1_layer_call_and_return_conditional_losses, dense_2_layer_call_fn while saving (showing 5 of 20). These functions will not be directly callable after loading.\n"
          ]
        },
        {
          "name": "stdout",
          "output_type": "stream",
          "text": [
            "INFO:tensorflow:Assets written to: saved_networks/duelingdqn_model45/assets\n"
          ]
        },
        {
          "name": "stderr",
          "output_type": "stream",
          "text": [
            "INFO:tensorflow:Assets written to: saved_networks/duelingdqn_model45/assets\n"
          ]
        },
        {
          "name": "stdout",
          "output_type": "stream",
          "text": [
            "Network saved\n",
            "Episode 537/1000, Score: 282.1834059819721 (0.01), AVG Score: 232.3634132008336\n"
          ]
        },
        {
          "name": "stderr",
          "output_type": "stream",
          "text": [
            "WARNING:absl:Found untraced functions such as dense_layer_call_fn, dense_layer_call_and_return_conditional_losses, dense_1_layer_call_fn, dense_1_layer_call_and_return_conditional_losses, dense_2_layer_call_fn while saving (showing 5 of 20). These functions will not be directly callable after loading.\n"
          ]
        },
        {
          "name": "stdout",
          "output_type": "stream",
          "text": [
            "INFO:tensorflow:Assets written to: saved_networks/duelingdqn_model46/assets\n"
          ]
        },
        {
          "name": "stderr",
          "output_type": "stream",
          "text": [
            "INFO:tensorflow:Assets written to: saved_networks/duelingdqn_model46/assets\n"
          ]
        },
        {
          "name": "stdout",
          "output_type": "stream",
          "text": [
            "Network saved\n",
            "Episode 538/1000, Score: 301.9113068269644 (0.01), AVG Score: 232.67409902960492\n"
          ]
        },
        {
          "name": "stderr",
          "output_type": "stream",
          "text": [
            "WARNING:absl:Found untraced functions such as dense_layer_call_fn, dense_layer_call_and_return_conditional_losses, dense_1_layer_call_fn, dense_1_layer_call_and_return_conditional_losses, dense_2_layer_call_fn while saving (showing 5 of 20). These functions will not be directly callable after loading.\n"
          ]
        },
        {
          "name": "stdout",
          "output_type": "stream",
          "text": [
            "INFO:tensorflow:Assets written to: saved_networks/duelingdqn_model47/assets\n"
          ]
        },
        {
          "name": "stderr",
          "output_type": "stream",
          "text": [
            "INFO:tensorflow:Assets written to: saved_networks/duelingdqn_model47/assets\n"
          ]
        },
        {
          "name": "stdout",
          "output_type": "stream",
          "text": [
            "Network saved\n",
            "Episode 539/1000, Score: 293.75882982496756 (0.01), AVG Score: 232.77400487521402\n"
          ]
        },
        {
          "name": "stderr",
          "output_type": "stream",
          "text": [
            "WARNING:absl:Found untraced functions such as dense_layer_call_fn, dense_layer_call_and_return_conditional_losses, dense_1_layer_call_fn, dense_1_layer_call_and_return_conditional_losses, dense_2_layer_call_fn while saving (showing 5 of 20). These functions will not be directly callable after loading.\n"
          ]
        },
        {
          "name": "stdout",
          "output_type": "stream",
          "text": [
            "INFO:tensorflow:Assets written to: saved_networks/duelingdqn_model48/assets\n"
          ]
        },
        {
          "name": "stderr",
          "output_type": "stream",
          "text": [
            "INFO:tensorflow:Assets written to: saved_networks/duelingdqn_model48/assets\n"
          ]
        },
        {
          "name": "stdout",
          "output_type": "stream",
          "text": [
            "Network saved\n",
            "Episode 540/1000, Score: 233.0960561059805 (0.01), AVG Score: 235.64990241289266\n",
            "Episode 541/1000, Score: 266.351662379387 (0.01), AVG Score: 235.47759908665503\n"
          ]
        },
        {
          "name": "stderr",
          "output_type": "stream",
          "text": [
            "WARNING:absl:Found untraced functions such as dense_layer_call_fn, dense_layer_call_and_return_conditional_losses, dense_1_layer_call_fn, dense_1_layer_call_and_return_conditional_losses, dense_2_layer_call_fn while saving (showing 5 of 20). These functions will not be directly callable after loading.\n"
          ]
        },
        {
          "name": "stdout",
          "output_type": "stream",
          "text": [
            "INFO:tensorflow:Assets written to: saved_networks/duelingdqn_model49/assets\n"
          ]
        },
        {
          "name": "stderr",
          "output_type": "stream",
          "text": [
            "INFO:tensorflow:Assets written to: saved_networks/duelingdqn_model49/assets\n"
          ]
        },
        {
          "name": "stdout",
          "output_type": "stream",
          "text": [
            "Network saved\n",
            "Episode 542/1000, Score: 259.05687635009735 (0.01), AVG Score: 235.66907998157464\n"
          ]
        },
        {
          "name": "stderr",
          "output_type": "stream",
          "text": [
            "WARNING:absl:Found untraced functions such as dense_layer_call_fn, dense_layer_call_and_return_conditional_losses, dense_1_layer_call_fn, dense_1_layer_call_and_return_conditional_losses, dense_2_layer_call_fn while saving (showing 5 of 20). These functions will not be directly callable after loading.\n"
          ]
        },
        {
          "name": "stdout",
          "output_type": "stream",
          "text": [
            "INFO:tensorflow:Assets written to: saved_networks/duelingdqn_model50/assets\n"
          ]
        },
        {
          "name": "stderr",
          "output_type": "stream",
          "text": [
            "INFO:tensorflow:Assets written to: saved_networks/duelingdqn_model50/assets\n"
          ]
        },
        {
          "name": "stdout",
          "output_type": "stream",
          "text": [
            "Network saved\n",
            "Episode 543/1000, Score: 256.56890545254 (0.01), AVG Score: 235.64833110080681\n"
          ]
        },
        {
          "name": "stderr",
          "output_type": "stream",
          "text": [
            "WARNING:absl:Found untraced functions such as dense_layer_call_fn, dense_layer_call_and_return_conditional_losses, dense_1_layer_call_fn, dense_1_layer_call_and_return_conditional_losses, dense_2_layer_call_fn while saving (showing 5 of 20). These functions will not be directly callable after loading.\n"
          ]
        },
        {
          "name": "stdout",
          "output_type": "stream",
          "text": [
            "INFO:tensorflow:Assets written to: saved_networks/duelingdqn_model51/assets\n"
          ]
        },
        {
          "name": "stderr",
          "output_type": "stream",
          "text": [
            "INFO:tensorflow:Assets written to: saved_networks/duelingdqn_model51/assets\n"
          ]
        },
        {
          "name": "stdout",
          "output_type": "stream",
          "text": [
            "Network saved\n",
            "Episode 544/1000, Score: 234.1109061621094 (0.01), AVG Score: 235.59175495037914\n",
            "Episode 545/1000, Score: 269.356940235556 (0.01), AVG Score: 237.91361102489512\n"
          ]
        },
        {
          "name": "stderr",
          "output_type": "stream",
          "text": [
            "WARNING:absl:Found untraced functions such as dense_layer_call_fn, dense_layer_call_and_return_conditional_losses, dense_1_layer_call_fn, dense_1_layer_call_and_return_conditional_losses, dense_2_layer_call_fn while saving (showing 5 of 20). These functions will not be directly callable after loading.\n"
          ]
        },
        {
          "name": "stdout",
          "output_type": "stream",
          "text": [
            "INFO:tensorflow:Assets written to: saved_networks/duelingdqn_model52/assets\n"
          ]
        },
        {
          "name": "stderr",
          "output_type": "stream",
          "text": [
            "INFO:tensorflow:Assets written to: saved_networks/duelingdqn_model52/assets\n"
          ]
        },
        {
          "name": "stdout",
          "output_type": "stream",
          "text": [
            "Network saved\n",
            "Episode 546/1000, Score: 268.6507722905 (0.01), AVG Score: 242.0452372339152\n"
          ]
        },
        {
          "name": "stderr",
          "output_type": "stream",
          "text": [
            "WARNING:absl:Found untraced functions such as dense_layer_call_fn, dense_layer_call_and_return_conditional_losses, dense_1_layer_call_fn, dense_1_layer_call_and_return_conditional_losses, dense_2_layer_call_fn while saving (showing 5 of 20). These functions will not be directly callable after loading.\n"
          ]
        },
        {
          "name": "stdout",
          "output_type": "stream",
          "text": [
            "INFO:tensorflow:Assets written to: saved_networks/duelingdqn_model53/assets\n"
          ]
        },
        {
          "name": "stderr",
          "output_type": "stream",
          "text": [
            "INFO:tensorflow:Assets written to: saved_networks/duelingdqn_model53/assets\n"
          ]
        },
        {
          "name": "stdout",
          "output_type": "stream",
          "text": [
            "Network saved\n",
            "Episode 547/1000, Score: 276.33756905266506 (0.01), AVG Score: 242.47780009983984\n"
          ]
        },
        {
          "name": "stderr",
          "output_type": "stream",
          "text": [
            "WARNING:absl:Found untraced functions such as dense_layer_call_fn, dense_layer_call_and_return_conditional_losses, dense_1_layer_call_fn, dense_1_layer_call_and_return_conditional_losses, dense_2_layer_call_fn while saving (showing 5 of 20). These functions will not be directly callable after loading.\n"
          ]
        },
        {
          "name": "stdout",
          "output_type": "stream",
          "text": [
            "INFO:tensorflow:Assets written to: saved_networks/duelingdqn_model54/assets\n"
          ]
        },
        {
          "name": "stderr",
          "output_type": "stream",
          "text": [
            "INFO:tensorflow:Assets written to: saved_networks/duelingdqn_model54/assets\n"
          ]
        },
        {
          "name": "stdout",
          "output_type": "stream",
          "text": [
            "Network saved\n",
            "Episode 548/1000, Score: 282.11710360881773 (0.01), AVG Score: 242.46399456896705\n"
          ]
        },
        {
          "name": "stderr",
          "output_type": "stream",
          "text": [
            "WARNING:absl:Found untraced functions such as dense_layer_call_fn, dense_layer_call_and_return_conditional_losses, dense_1_layer_call_fn, dense_1_layer_call_and_return_conditional_losses, dense_2_layer_call_fn while saving (showing 5 of 20). These functions will not be directly callable after loading.\n"
          ]
        },
        {
          "name": "stdout",
          "output_type": "stream",
          "text": [
            "INFO:tensorflow:Assets written to: saved_networks/duelingdqn_model55/assets\n"
          ]
        },
        {
          "name": "stderr",
          "output_type": "stream",
          "text": [
            "INFO:tensorflow:Assets written to: saved_networks/duelingdqn_model55/assets\n"
          ]
        },
        {
          "name": "stdout",
          "output_type": "stream",
          "text": [
            "Network saved\n",
            "Episode 549/1000, Score: 292.4681126562324 (0.01), AVG Score: 242.96880418305744\n"
          ]
        },
        {
          "name": "stderr",
          "output_type": "stream",
          "text": [
            "WARNING:absl:Found untraced functions such as dense_layer_call_fn, dense_layer_call_and_return_conditional_losses, dense_1_layer_call_fn, dense_1_layer_call_and_return_conditional_losses, dense_2_layer_call_fn while saving (showing 5 of 20). These functions will not be directly callable after loading.\n"
          ]
        },
        {
          "name": "stdout",
          "output_type": "stream",
          "text": [
            "INFO:tensorflow:Assets written to: saved_networks/duelingdqn_model56/assets\n"
          ]
        },
        {
          "name": "stderr",
          "output_type": "stream",
          "text": [
            "INFO:tensorflow:Assets written to: saved_networks/duelingdqn_model56/assets\n"
          ]
        },
        {
          "name": "stdout",
          "output_type": "stream",
          "text": [
            "Network saved\n",
            "Episode 550/1000, Score: 294.6423981065336 (0.01), AVG Score: 243.3176047507568\n"
          ]
        },
        {
          "name": "stderr",
          "output_type": "stream",
          "text": [
            "WARNING:absl:Found untraced functions such as dense_layer_call_fn, dense_layer_call_and_return_conditional_losses, dense_1_layer_call_fn, dense_1_layer_call_and_return_conditional_losses, dense_2_layer_call_fn while saving (showing 5 of 20). These functions will not be directly callable after loading.\n"
          ]
        },
        {
          "name": "stdout",
          "output_type": "stream",
          "text": [
            "INFO:tensorflow:Assets written to: saved_networks/duelingdqn_model57/assets\n"
          ]
        },
        {
          "name": "stderr",
          "output_type": "stream",
          "text": [
            "INFO:tensorflow:Assets written to: saved_networks/duelingdqn_model57/assets\n"
          ]
        },
        {
          "name": "stdout",
          "output_type": "stream",
          "text": [
            "Network saved\n",
            "Episode 551/1000, Score: 261.0467999418852 (0.01), AVG Score: 243.58146715084237\n"
          ]
        },
        {
          "name": "stderr",
          "output_type": "stream",
          "text": [
            "WARNING:absl:Found untraced functions such as dense_layer_call_fn, dense_layer_call_and_return_conditional_losses, dense_1_layer_call_fn, dense_1_layer_call_and_return_conditional_losses, dense_2_layer_call_fn while saving (showing 5 of 20). These functions will not be directly callable after loading.\n"
          ]
        },
        {
          "name": "stdout",
          "output_type": "stream",
          "text": [
            "INFO:tensorflow:Assets written to: saved_networks/duelingdqn_model58/assets\n"
          ]
        },
        {
          "name": "stderr",
          "output_type": "stream",
          "text": [
            "INFO:tensorflow:Assets written to: saved_networks/duelingdqn_model58/assets\n"
          ]
        },
        {
          "name": "stdout",
          "output_type": "stream",
          "text": [
            "Network saved\n",
            "Episode 552/1000, Score: 303.88963112425927 (0.01), AVG Score: 244.1328925367034\n"
          ]
        },
        {
          "name": "stderr",
          "output_type": "stream",
          "text": [
            "WARNING:absl:Found untraced functions such as dense_layer_call_fn, dense_layer_call_and_return_conditional_losses, dense_1_layer_call_fn, dense_1_layer_call_and_return_conditional_losses, dense_2_layer_call_fn while saving (showing 5 of 20). These functions will not be directly callable after loading.\n"
          ]
        },
        {
          "name": "stdout",
          "output_type": "stream",
          "text": [
            "INFO:tensorflow:Assets written to: saved_networks/duelingdqn_model59/assets\n"
          ]
        },
        {
          "name": "stderr",
          "output_type": "stream",
          "text": [
            "INFO:tensorflow:Assets written to: saved_networks/duelingdqn_model59/assets\n"
          ]
        },
        {
          "name": "stdout",
          "output_type": "stream",
          "text": [
            "Network saved\n",
            "Episode 553/1000, Score: 253.84604090343748 (0.01), AVG Score: 244.06970959970084\n"
          ]
        },
        {
          "name": "stderr",
          "output_type": "stream",
          "text": [
            "WARNING:absl:Found untraced functions such as dense_layer_call_fn, dense_layer_call_and_return_conditional_losses, dense_1_layer_call_fn, dense_1_layer_call_and_return_conditional_losses, dense_2_layer_call_fn while saving (showing 5 of 20). These functions will not be directly callable after loading.\n"
          ]
        },
        {
          "name": "stdout",
          "output_type": "stream",
          "text": [
            "INFO:tensorflow:Assets written to: saved_networks/duelingdqn_model60/assets\n"
          ]
        },
        {
          "name": "stderr",
          "output_type": "stream",
          "text": [
            "INFO:tensorflow:Assets written to: saved_networks/duelingdqn_model60/assets\n"
          ]
        },
        {
          "name": "stdout",
          "output_type": "stream",
          "text": [
            "Network saved\n",
            "Episode 554/1000, Score: 244.99354715871254 (0.01), AVG Score: 243.88243316001143\n",
            "Episode 555/1000, Score: 269.404683415836 (0.01), AVG Score: 243.65284544287874\n"
          ]
        },
        {
          "name": "stderr",
          "output_type": "stream",
          "text": [
            "WARNING:absl:Found untraced functions such as dense_layer_call_fn, dense_layer_call_and_return_conditional_losses, dense_1_layer_call_fn, dense_1_layer_call_and_return_conditional_losses, dense_2_layer_call_fn while saving (showing 5 of 20). These functions will not be directly callable after loading.\n"
          ]
        },
        {
          "name": "stdout",
          "output_type": "stream",
          "text": [
            "INFO:tensorflow:Assets written to: saved_networks/duelingdqn_model61/assets\n"
          ]
        },
        {
          "name": "stderr",
          "output_type": "stream",
          "text": [
            "INFO:tensorflow:Assets written to: saved_networks/duelingdqn_model61/assets\n"
          ]
        },
        {
          "name": "stdout",
          "output_type": "stream",
          "text": [
            "Network saved\n",
            "Episode 556/1000, Score: 246.74098983984518 (0.01), AVG Score: 243.55181253418414\n",
            "Episode 557/1000, Score: 11.264030117599333 (0.01), AVG Score: 243.45686121209874\n",
            "Episode 558/1000, Score: 236.08521082975548 (0.01), AVG Score: 245.91986045276303\n",
            "Episode 559/1000, Score: 275.6777096324521 (0.01), AVG Score: 246.22205286259043\n"
          ]
        },
        {
          "name": "stderr",
          "output_type": "stream",
          "text": [
            "WARNING:absl:Found untraced functions such as dense_layer_call_fn, dense_layer_call_and_return_conditional_losses, dense_1_layer_call_fn, dense_1_layer_call_and_return_conditional_losses, dense_2_layer_call_fn while saving (showing 5 of 20). These functions will not be directly callable after loading.\n"
          ]
        },
        {
          "name": "stdout",
          "output_type": "stream",
          "text": [
            "INFO:tensorflow:Assets written to: saved_networks/duelingdqn_model62/assets\n"
          ]
        },
        {
          "name": "stderr",
          "output_type": "stream",
          "text": [
            "INFO:tensorflow:Assets written to: saved_networks/duelingdqn_model62/assets\n"
          ]
        },
        {
          "name": "stdout",
          "output_type": "stream",
          "text": [
            "Network saved\n",
            "Episode 560/1000, Score: 266.83057020584477 (0.01), AVG Score: 246.83126564504516\n"
          ]
        },
        {
          "name": "stderr",
          "output_type": "stream",
          "text": [
            "WARNING:absl:Found untraced functions such as dense_layer_call_fn, dense_layer_call_and_return_conditional_losses, dense_1_layer_call_fn, dense_1_layer_call_and_return_conditional_losses, dense_2_layer_call_fn while saving (showing 5 of 20). These functions will not be directly callable after loading.\n"
          ]
        },
        {
          "name": "stdout",
          "output_type": "stream",
          "text": [
            "INFO:tensorflow:Assets written to: saved_networks/duelingdqn_model63/assets\n"
          ]
        },
        {
          "name": "stderr",
          "output_type": "stream",
          "text": [
            "INFO:tensorflow:Assets written to: saved_networks/duelingdqn_model63/assets\n"
          ]
        },
        {
          "name": "stdout",
          "output_type": "stream",
          "text": [
            "Network saved\n",
            "Episode 561/1000, Score: 283.29788835347006 (0.01), AVG Score: 247.38804996174298\n"
          ]
        },
        {
          "name": "stderr",
          "output_type": "stream",
          "text": [
            "WARNING:absl:Found untraced functions such as dense_layer_call_fn, dense_layer_call_and_return_conditional_losses, dense_1_layer_call_fn, dense_1_layer_call_and_return_conditional_losses, dense_2_layer_call_fn while saving (showing 5 of 20). These functions will not be directly callable after loading.\n"
          ]
        },
        {
          "name": "stdout",
          "output_type": "stream",
          "text": [
            "INFO:tensorflow:Assets written to: saved_networks/duelingdqn_model64/assets\n"
          ]
        },
        {
          "name": "stderr",
          "output_type": "stream",
          "text": [
            "INFO:tensorflow:Assets written to: saved_networks/duelingdqn_model64/assets\n"
          ]
        },
        {
          "name": "stdout",
          "output_type": "stream",
          "text": [
            "Network saved\n",
            "Episode 562/1000, Score: 15.798404929043969 (0.01), AVG Score: 245.11570010500316\n",
            "Episode 563/1000, Score: 248.3846794657651 (0.01), AVG Score: 247.84768400868933\n",
            "Episode 564/1000, Score: 274.04390326204214 (0.01), AVG Score: 248.95185641216463\n"
          ]
        },
        {
          "name": "stderr",
          "output_type": "stream",
          "text": [
            "WARNING:absl:Found untraced functions such as dense_layer_call_fn, dense_layer_call_and_return_conditional_losses, dense_1_layer_call_fn, dense_1_layer_call_and_return_conditional_losses, dense_2_layer_call_fn while saving (showing 5 of 20). These functions will not be directly callable after loading.\n"
          ]
        },
        {
          "name": "stdout",
          "output_type": "stream",
          "text": [
            "INFO:tensorflow:Assets written to: saved_networks/duelingdqn_model65/assets\n"
          ]
        },
        {
          "name": "stderr",
          "output_type": "stream",
          "text": [
            "INFO:tensorflow:Assets written to: saved_networks/duelingdqn_model65/assets\n"
          ]
        },
        {
          "name": "stdout",
          "output_type": "stream",
          "text": [
            "Network saved\n",
            "Episode 565/1000, Score: 297.5120278245182 (0.01), AVG Score: 249.67954633895337\n"
          ]
        },
        {
          "name": "stderr",
          "output_type": "stream",
          "text": [
            "WARNING:absl:Found untraced functions such as dense_layer_call_fn, dense_layer_call_and_return_conditional_losses, dense_1_layer_call_fn, dense_1_layer_call_and_return_conditional_losses, dense_2_layer_call_fn while saving (showing 5 of 20). These functions will not be directly callable after loading.\n"
          ]
        },
        {
          "name": "stdout",
          "output_type": "stream",
          "text": [
            "INFO:tensorflow:Assets written to: saved_networks/duelingdqn_model66/assets\n"
          ]
        },
        {
          "name": "stderr",
          "output_type": "stream",
          "text": [
            "INFO:tensorflow:Assets written to: saved_networks/duelingdqn_model66/assets\n"
          ]
        },
        {
          "name": "stdout",
          "output_type": "stream",
          "text": [
            "Network saved\n",
            "Episode 566/1000, Score: 272.34177893498963 (0.01), AVG Score: 249.59999618834786\n"
          ]
        },
        {
          "name": "stderr",
          "output_type": "stream",
          "text": [
            "WARNING:absl:Found untraced functions such as dense_layer_call_fn, dense_layer_call_and_return_conditional_losses, dense_1_layer_call_fn, dense_1_layer_call_and_return_conditional_losses, dense_2_layer_call_fn while saving (showing 5 of 20). These functions will not be directly callable after loading.\n"
          ]
        },
        {
          "name": "stdout",
          "output_type": "stream",
          "text": [
            "INFO:tensorflow:Assets written to: saved_networks/duelingdqn_model67/assets\n"
          ]
        },
        {
          "name": "stderr",
          "output_type": "stream",
          "text": [
            "INFO:tensorflow:Assets written to: saved_networks/duelingdqn_model67/assets\n"
          ]
        },
        {
          "name": "stdout",
          "output_type": "stream",
          "text": [
            "Network saved\n",
            "Episode 567/1000, Score: 273.34745434444994 (0.01), AVG Score: 251.91062593296945\n"
          ]
        },
        {
          "name": "stderr",
          "output_type": "stream",
          "text": [
            "WARNING:absl:Found untraced functions such as dense_layer_call_fn, dense_layer_call_and_return_conditional_losses, dense_1_layer_call_fn, dense_1_layer_call_and_return_conditional_losses, dense_2_layer_call_fn while saving (showing 5 of 20). These functions will not be directly callable after loading.\n"
          ]
        },
        {
          "name": "stdout",
          "output_type": "stream",
          "text": [
            "INFO:tensorflow:Assets written to: saved_networks/duelingdqn_model68/assets\n"
          ]
        },
        {
          "name": "stderr",
          "output_type": "stream",
          "text": [
            "INFO:tensorflow:Assets written to: saved_networks/duelingdqn_model68/assets\n"
          ]
        },
        {
          "name": "stdout",
          "output_type": "stream",
          "text": [
            "Network saved\n",
            "Episode 568/1000, Score: 199.07018253149297 (0.01), AVG Score: 251.18101703338448\n",
            "Episode 569/1000, Score: 260.8679645970371 (0.01), AVG Score: 251.60234688620764\n"
          ]
        },
        {
          "name": "stderr",
          "output_type": "stream",
          "text": [
            "WARNING:absl:Found untraced functions such as dense_layer_call_fn, dense_layer_call_and_return_conditional_losses, dense_1_layer_call_fn, dense_1_layer_call_and_return_conditional_losses, dense_2_layer_call_fn while saving (showing 5 of 20). These functions will not be directly callable after loading.\n"
          ]
        },
        {
          "name": "stdout",
          "output_type": "stream",
          "text": [
            "INFO:tensorflow:Assets written to: saved_networks/duelingdqn_model69/assets\n"
          ]
        },
        {
          "name": "stderr",
          "output_type": "stream",
          "text": [
            "INFO:tensorflow:Assets written to: saved_networks/duelingdqn_model69/assets\n"
          ]
        },
        {
          "name": "stdout",
          "output_type": "stream",
          "text": [
            "Network saved\n",
            "Episode 570/1000, Score: 253.9273473789271 (0.01), AVG Score: 251.0460772145135\n"
          ]
        },
        {
          "name": "stderr",
          "output_type": "stream",
          "text": [
            "WARNING:absl:Found untraced functions such as dense_layer_call_fn, dense_layer_call_and_return_conditional_losses, dense_1_layer_call_fn, dense_1_layer_call_and_return_conditional_losses, dense_2_layer_call_fn while saving (showing 5 of 20). These functions will not be directly callable after loading.\n"
          ]
        },
        {
          "name": "stdout",
          "output_type": "stream",
          "text": [
            "INFO:tensorflow:Assets written to: saved_networks/duelingdqn_model70/assets\n"
          ]
        },
        {
          "name": "stderr",
          "output_type": "stream",
          "text": [
            "INFO:tensorflow:Assets written to: saved_networks/duelingdqn_model70/assets\n"
          ]
        },
        {
          "name": "stdout",
          "output_type": "stream",
          "text": [
            "Network saved\n",
            "Episode 571/1000, Score: 250.08563538325774 (0.01), AVG Score: 251.0389384233604\n"
          ]
        },
        {
          "name": "stderr",
          "output_type": "stream",
          "text": [
            "WARNING:absl:Found untraced functions such as dense_layer_call_fn, dense_layer_call_and_return_conditional_losses, dense_1_layer_call_fn, dense_1_layer_call_and_return_conditional_losses, dense_2_layer_call_fn while saving (showing 5 of 20). These functions will not be directly callable after loading.\n"
          ]
        },
        {
          "name": "stdout",
          "output_type": "stream",
          "text": [
            "INFO:tensorflow:Assets written to: saved_networks/duelingdqn_model71/assets\n"
          ]
        },
        {
          "name": "stderr",
          "output_type": "stream",
          "text": [
            "INFO:tensorflow:Assets written to: saved_networks/duelingdqn_model71/assets\n"
          ]
        },
        {
          "name": "stdout",
          "output_type": "stream",
          "text": [
            "Network saved\n",
            "Episode 572/1000, Score: 280.81927951825776 (0.01), AVG Score: 251.06522772824687\n"
          ]
        },
        {
          "name": "stderr",
          "output_type": "stream",
          "text": [
            "WARNING:absl:Found untraced functions such as dense_layer_call_fn, dense_layer_call_and_return_conditional_losses, dense_1_layer_call_fn, dense_1_layer_call_and_return_conditional_losses, dense_2_layer_call_fn while saving (showing 5 of 20). These functions will not be directly callable after loading.\n"
          ]
        },
        {
          "name": "stdout",
          "output_type": "stream",
          "text": [
            "INFO:tensorflow:Assets written to: saved_networks/duelingdqn_model72/assets\n"
          ]
        },
        {
          "name": "stderr",
          "output_type": "stream",
          "text": [
            "INFO:tensorflow:Assets written to: saved_networks/duelingdqn_model72/assets\n"
          ]
        },
        {
          "name": "stdout",
          "output_type": "stream",
          "text": [
            "Network saved\n",
            "Episode 573/1000, Score: 269.4616296906474 (0.01), AVG Score: 250.99098239403236\n"
          ]
        },
        {
          "name": "stderr",
          "output_type": "stream",
          "text": [
            "WARNING:absl:Found untraced functions such as dense_layer_call_fn, dense_layer_call_and_return_conditional_losses, dense_1_layer_call_fn, dense_1_layer_call_and_return_conditional_losses, dense_2_layer_call_fn while saving (showing 5 of 20). These functions will not be directly callable after loading.\n"
          ]
        },
        {
          "name": "stdout",
          "output_type": "stream",
          "text": [
            "INFO:tensorflow:Assets written to: saved_networks/duelingdqn_model73/assets\n"
          ]
        },
        {
          "name": "stderr",
          "output_type": "stream",
          "text": [
            "INFO:tensorflow:Assets written to: saved_networks/duelingdqn_model73/assets\n"
          ]
        },
        {
          "name": "stdout",
          "output_type": "stream",
          "text": [
            "Network saved\n",
            "Episode 574/1000, Score: 204.67828609333588 (0.01), AVG Score: 250.4061951712716\n",
            "Episode 575/1000, Score: -18.325919771393174 (0.01), AVG Score: 247.9912368615225\n",
            "Episode 576/1000, Score: 278.32568343158965 (0.01), AVG Score: 248.50721955648177\n"
          ]
        },
        {
          "name": "stderr",
          "output_type": "stream",
          "text": [
            "WARNING:absl:Found untraced functions such as dense_layer_call_fn, dense_layer_call_and_return_conditional_losses, dense_1_layer_call_fn, dense_1_layer_call_and_return_conditional_losses, dense_2_layer_call_fn while saving (showing 5 of 20). These functions will not be directly callable after loading.\n"
          ]
        },
        {
          "name": "stdout",
          "output_type": "stream",
          "text": [
            "INFO:tensorflow:Assets written to: saved_networks/duelingdqn_model74/assets\n"
          ]
        },
        {
          "name": "stderr",
          "output_type": "stream",
          "text": [
            "INFO:tensorflow:Assets written to: saved_networks/duelingdqn_model74/assets\n"
          ]
        },
        {
          "name": "stdout",
          "output_type": "stream",
          "text": [
            "Network saved\n",
            "Episode 577/1000, Score: 221.87115652256693 (0.01), AVG Score: 248.0992193279232\n",
            "Episode 578/1000, Score: 275.92813577128265 (0.01), AVG Score: 248.77517450846946\n"
          ]
        },
        {
          "name": "stderr",
          "output_type": "stream",
          "text": [
            "WARNING:absl:Found untraced functions such as dense_layer_call_fn, dense_layer_call_and_return_conditional_losses, dense_1_layer_call_fn, dense_1_layer_call_and_return_conditional_losses, dense_2_layer_call_fn while saving (showing 5 of 20). These functions will not be directly callable after loading.\n"
          ]
        },
        {
          "name": "stdout",
          "output_type": "stream",
          "text": [
            "INFO:tensorflow:Assets written to: saved_networks/duelingdqn_model75/assets\n"
          ]
        },
        {
          "name": "stderr",
          "output_type": "stream",
          "text": [
            "INFO:tensorflow:Assets written to: saved_networks/duelingdqn_model75/assets\n"
          ]
        },
        {
          "name": "stdout",
          "output_type": "stream",
          "text": [
            "Network saved\n",
            "Episode 579/1000, Score: 297.4927827708075 (0.01), AVG Score: 249.84545286288687\n"
          ]
        },
        {
          "name": "stderr",
          "output_type": "stream",
          "text": [
            "WARNING:absl:Found untraced functions such as dense_layer_call_fn, dense_layer_call_and_return_conditional_losses, dense_1_layer_call_fn, dense_1_layer_call_and_return_conditional_losses, dense_2_layer_call_fn while saving (showing 5 of 20). These functions will not be directly callable after loading.\n"
          ]
        },
        {
          "name": "stdout",
          "output_type": "stream",
          "text": [
            "INFO:tensorflow:Assets written to: saved_networks/duelingdqn_model76/assets\n"
          ]
        },
        {
          "name": "stderr",
          "output_type": "stream",
          "text": [
            "INFO:tensorflow:Assets written to: saved_networks/duelingdqn_model76/assets\n"
          ]
        },
        {
          "name": "stdout",
          "output_type": "stream",
          "text": [
            "Network saved\n",
            "Episode 580/1000, Score: 284.58163866762527 (0.01), AVG Score: 250.02660113255126\n"
          ]
        },
        {
          "name": "stderr",
          "output_type": "stream",
          "text": [
            "WARNING:absl:Found untraced functions such as dense_layer_call_fn, dense_layer_call_and_return_conditional_losses, dense_1_layer_call_fn, dense_1_layer_call_and_return_conditional_losses, dense_2_layer_call_fn while saving (showing 5 of 20). These functions will not be directly callable after loading.\n"
          ]
        },
        {
          "name": "stdout",
          "output_type": "stream",
          "text": [
            "INFO:tensorflow:Assets written to: saved_networks/duelingdqn_model77/assets\n"
          ]
        },
        {
          "name": "stderr",
          "output_type": "stream",
          "text": [
            "INFO:tensorflow:Assets written to: saved_networks/duelingdqn_model77/assets\n"
          ]
        },
        {
          "name": "stdout",
          "output_type": "stream",
          "text": [
            "Network saved\n",
            "Episode 581/1000, Score: 265.40071080958705 (0.01), AVG Score: 251.28701836926174\n"
          ]
        },
        {
          "name": "stderr",
          "output_type": "stream",
          "text": [
            "WARNING:absl:Found untraced functions such as dense_layer_call_fn, dense_layer_call_and_return_conditional_losses, dense_1_layer_call_fn, dense_1_layer_call_and_return_conditional_losses, dense_2_layer_call_fn while saving (showing 5 of 20). These functions will not be directly callable after loading.\n"
          ]
        },
        {
          "name": "stdout",
          "output_type": "stream",
          "text": [
            "INFO:tensorflow:Assets written to: saved_networks/duelingdqn_model78/assets\n"
          ]
        },
        {
          "name": "stderr",
          "output_type": "stream",
          "text": [
            "INFO:tensorflow:Assets written to: saved_networks/duelingdqn_model78/assets\n"
          ]
        },
        {
          "name": "stdout",
          "output_type": "stream",
          "text": [
            "Network saved\n",
            "Episode 582/1000, Score: 276.82401600669414 (0.01), AVG Score: 251.38625276164828\n"
          ]
        },
        {
          "name": "stderr",
          "output_type": "stream",
          "text": [
            "WARNING:absl:Found untraced functions such as dense_layer_call_fn, dense_layer_call_and_return_conditional_losses, dense_1_layer_call_fn, dense_1_layer_call_and_return_conditional_losses, dense_2_layer_call_fn while saving (showing 5 of 20). These functions will not be directly callable after loading.\n"
          ]
        },
        {
          "name": "stdout",
          "output_type": "stream",
          "text": [
            "INFO:tensorflow:Assets written to: saved_networks/duelingdqn_model79/assets\n"
          ]
        },
        {
          "name": "stderr",
          "output_type": "stream",
          "text": [
            "INFO:tensorflow:Assets written to: saved_networks/duelingdqn_model79/assets\n"
          ]
        },
        {
          "name": "stdout",
          "output_type": "stream",
          "text": [
            "Network saved\n",
            "Episode 583/1000, Score: 273.90374692500393 (0.01), AVG Score: 251.63004549642142\n"
          ]
        },
        {
          "name": "stderr",
          "output_type": "stream",
          "text": [
            "WARNING:absl:Found untraced functions such as dense_layer_call_fn, dense_layer_call_and_return_conditional_losses, dense_1_layer_call_fn, dense_1_layer_call_and_return_conditional_losses, dense_2_layer_call_fn while saving (showing 5 of 20). These functions will not be directly callable after loading.\n"
          ]
        },
        {
          "name": "stdout",
          "output_type": "stream",
          "text": [
            "INFO:tensorflow:Assets written to: saved_networks/duelingdqn_model80/assets\n"
          ]
        },
        {
          "name": "stderr",
          "output_type": "stream",
          "text": [
            "INFO:tensorflow:Assets written to: saved_networks/duelingdqn_model80/assets\n"
          ]
        },
        {
          "name": "stdout",
          "output_type": "stream",
          "text": [
            "Network saved\n",
            "Episode 584/1000, Score: 308.1158321640054 (0.01), AVG Score: 252.0880827322703\n"
          ]
        },
        {
          "name": "stderr",
          "output_type": "stream",
          "text": [
            "WARNING:absl:Found untraced functions such as dense_layer_call_fn, dense_layer_call_and_return_conditional_losses, dense_1_layer_call_fn, dense_1_layer_call_and_return_conditional_losses, dense_2_layer_call_fn while saving (showing 5 of 20). These functions will not be directly callable after loading.\n"
          ]
        },
        {
          "name": "stdout",
          "output_type": "stream",
          "text": [
            "INFO:tensorflow:Assets written to: saved_networks/duelingdqn_model81/assets\n"
          ]
        },
        {
          "name": "stderr",
          "output_type": "stream",
          "text": [
            "INFO:tensorflow:Assets written to: saved_networks/duelingdqn_model81/assets\n"
          ]
        },
        {
          "name": "stdout",
          "output_type": "stream",
          "text": [
            "Network saved\n",
            "Episode 585/1000, Score: 282.1606069437731 (0.01), AVG Score: 252.25271667980698\n"
          ]
        },
        {
          "name": "stderr",
          "output_type": "stream",
          "text": [
            "WARNING:absl:Found untraced functions such as dense_layer_call_fn, dense_layer_call_and_return_conditional_losses, dense_1_layer_call_fn, dense_1_layer_call_and_return_conditional_losses, dense_2_layer_call_fn while saving (showing 5 of 20). These functions will not be directly callable after loading.\n"
          ]
        },
        {
          "name": "stdout",
          "output_type": "stream",
          "text": [
            "INFO:tensorflow:Assets written to: saved_networks/duelingdqn_model82/assets\n"
          ]
        },
        {
          "name": "stderr",
          "output_type": "stream",
          "text": [
            "INFO:tensorflow:Assets written to: saved_networks/duelingdqn_model82/assets\n"
          ]
        },
        {
          "name": "stdout",
          "output_type": "stream",
          "text": [
            "Network saved\n",
            "Episode 586/1000, Score: 268.0592858022096 (0.01), AVG Score: 252.5211551196792\n"
          ]
        },
        {
          "name": "stderr",
          "output_type": "stream",
          "text": [
            "WARNING:absl:Found untraced functions such as dense_layer_call_fn, dense_layer_call_and_return_conditional_losses, dense_1_layer_call_fn, dense_1_layer_call_and_return_conditional_losses, dense_2_layer_call_fn while saving (showing 5 of 20). These functions will not be directly callable after loading.\n"
          ]
        },
        {
          "name": "stdout",
          "output_type": "stream",
          "text": [
            "INFO:tensorflow:Assets written to: saved_networks/duelingdqn_model83/assets\n"
          ]
        },
        {
          "name": "stderr",
          "output_type": "stream",
          "text": [
            "INFO:tensorflow:Assets written to: saved_networks/duelingdqn_model83/assets\n"
          ]
        },
        {
          "name": "stdout",
          "output_type": "stream",
          "text": [
            "Network saved\n",
            "Episode 587/1000, Score: 276.9139587997486 (0.01), AVG Score: 252.62409065902776\n"
          ]
        },
        {
          "name": "stderr",
          "output_type": "stream",
          "text": [
            "WARNING:absl:Found untraced functions such as dense_layer_call_fn, dense_layer_call_and_return_conditional_losses, dense_1_layer_call_fn, dense_1_layer_call_and_return_conditional_losses, dense_2_layer_call_fn while saving (showing 5 of 20). These functions will not be directly callable after loading.\n"
          ]
        },
        {
          "name": "stdout",
          "output_type": "stream",
          "text": [
            "INFO:tensorflow:Assets written to: saved_networks/duelingdqn_model84/assets\n"
          ]
        },
        {
          "name": "stderr",
          "output_type": "stream",
          "text": [
            "INFO:tensorflow:Assets written to: saved_networks/duelingdqn_model84/assets\n"
          ]
        },
        {
          "name": "stdout",
          "output_type": "stream",
          "text": [
            "Network saved\n",
            "Episode 588/1000, Score: 18.278438159746727 (0.01), AVG Score: 250.42513866343052\n",
            "Episode 589/1000, Score: 269.1539061984666 (0.01), AVG Score: 250.4098879215792\n"
          ]
        },
        {
          "name": "stderr",
          "output_type": "stream",
          "text": [
            "WARNING:absl:Found untraced functions such as dense_layer_call_fn, dense_layer_call_and_return_conditional_losses, dense_1_layer_call_fn, dense_1_layer_call_and_return_conditional_losses, dense_2_layer_call_fn while saving (showing 5 of 20). These functions will not be directly callable after loading.\n"
          ]
        },
        {
          "name": "stdout",
          "output_type": "stream",
          "text": [
            "INFO:tensorflow:Assets written to: saved_networks/duelingdqn_model85/assets\n"
          ]
        },
        {
          "name": "stderr",
          "output_type": "stream",
          "text": [
            "INFO:tensorflow:Assets written to: saved_networks/duelingdqn_model85/assets\n"
          ]
        },
        {
          "name": "stdout",
          "output_type": "stream",
          "text": [
            "Network saved\n",
            "Episode 590/1000, Score: 229.3237717035022 (0.01), AVG Score: 250.26410666460026\n",
            "Episode 591/1000, Score: 282.1231638508793 (0.01), AVG Score: 250.8245666696527\n"
          ]
        },
        {
          "name": "stderr",
          "output_type": "stream",
          "text": [
            "WARNING:absl:Found untraced functions such as dense_layer_call_fn, dense_layer_call_and_return_conditional_losses, dense_1_layer_call_fn, dense_1_layer_call_and_return_conditional_losses, dense_2_layer_call_fn while saving (showing 5 of 20). These functions will not be directly callable after loading.\n"
          ]
        },
        {
          "name": "stdout",
          "output_type": "stream",
          "text": [
            "INFO:tensorflow:Assets written to: saved_networks/duelingdqn_model86/assets\n"
          ]
        },
        {
          "name": "stderr",
          "output_type": "stream",
          "text": [
            "INFO:tensorflow:Assets written to: saved_networks/duelingdqn_model86/assets\n"
          ]
        },
        {
          "name": "stdout",
          "output_type": "stream",
          "text": [
            "Network saved\n",
            "Episode 592/1000, Score: 307.2626199918366 (0.01), AVG Score: 251.04315148616857\n"
          ]
        },
        {
          "name": "stderr",
          "output_type": "stream",
          "text": [
            "WARNING:absl:Found untraced functions such as dense_layer_call_fn, dense_layer_call_and_return_conditional_losses, dense_1_layer_call_fn, dense_1_layer_call_and_return_conditional_losses, dense_2_layer_call_fn while saving (showing 5 of 20). These functions will not be directly callable after loading.\n"
          ]
        },
        {
          "name": "stdout",
          "output_type": "stream",
          "text": [
            "INFO:tensorflow:Assets written to: saved_networks/duelingdqn_model87/assets\n"
          ]
        },
        {
          "name": "stderr",
          "output_type": "stream",
          "text": [
            "INFO:tensorflow:Assets written to: saved_networks/duelingdqn_model87/assets\n"
          ]
        },
        {
          "name": "stdout",
          "output_type": "stream",
          "text": [
            "Network saved\n",
            "Episode 593/1000, Score: 300.0941573523929 (0.01), AVG Score: 251.230556339567\n"
          ]
        },
        {
          "name": "stderr",
          "output_type": "stream",
          "text": [
            "WARNING:absl:Found untraced functions such as dense_layer_call_fn, dense_layer_call_and_return_conditional_losses, dense_1_layer_call_fn, dense_1_layer_call_and_return_conditional_losses, dense_2_layer_call_fn while saving (showing 5 of 20). These functions will not be directly callable after loading.\n"
          ]
        },
        {
          "name": "stdout",
          "output_type": "stream",
          "text": [
            "INFO:tensorflow:Assets written to: saved_networks/duelingdqn_model88/assets\n"
          ]
        },
        {
          "name": "stderr",
          "output_type": "stream",
          "text": [
            "INFO:tensorflow:Assets written to: saved_networks/duelingdqn_model88/assets\n"
          ]
        },
        {
          "name": "stdout",
          "output_type": "stream",
          "text": [
            "Network saved\n",
            "Episode 594/1000, Score: 253.2535825587918 (0.01), AVG Score: 251.06701211586508\n"
          ]
        },
        {
          "name": "stderr",
          "output_type": "stream",
          "text": [
            "WARNING:absl:Found untraced functions such as dense_layer_call_fn, dense_layer_call_and_return_conditional_losses, dense_1_layer_call_fn, dense_1_layer_call_and_return_conditional_losses, dense_2_layer_call_fn while saving (showing 5 of 20). These functions will not be directly callable after loading.\n"
          ]
        },
        {
          "name": "stdout",
          "output_type": "stream",
          "text": [
            "INFO:tensorflow:Assets written to: saved_networks/duelingdqn_model89/assets\n"
          ]
        },
        {
          "name": "stderr",
          "output_type": "stream",
          "text": [
            "INFO:tensorflow:Assets written to: saved_networks/duelingdqn_model89/assets\n"
          ]
        },
        {
          "name": "stdout",
          "output_type": "stream",
          "text": [
            "Network saved\n",
            "Episode 595/1000, Score: 268.72059951314134 (0.01), AVG Score: 251.79159080474085\n"
          ]
        },
        {
          "name": "stderr",
          "output_type": "stream",
          "text": [
            "WARNING:absl:Found untraced functions such as dense_layer_call_fn, dense_layer_call_and_return_conditional_losses, dense_1_layer_call_fn, dense_1_layer_call_and_return_conditional_losses, dense_2_layer_call_fn while saving (showing 5 of 20). These functions will not be directly callable after loading.\n"
          ]
        },
        {
          "name": "stdout",
          "output_type": "stream",
          "text": [
            "INFO:tensorflow:Assets written to: saved_networks/duelingdqn_model90/assets\n"
          ]
        },
        {
          "name": "stderr",
          "output_type": "stream",
          "text": [
            "INFO:tensorflow:Assets written to: saved_networks/duelingdqn_model90/assets\n"
          ]
        },
        {
          "name": "stdout",
          "output_type": "stream",
          "text": [
            "Network saved\n",
            "Episode 596/1000, Score: 282.713365681405 (0.01), AVG Score: 251.8058635225639\n"
          ]
        },
        {
          "name": "stderr",
          "output_type": "stream",
          "text": [
            "WARNING:absl:Found untraced functions such as dense_layer_call_fn, dense_layer_call_and_return_conditional_losses, dense_1_layer_call_fn, dense_1_layer_call_and_return_conditional_losses, dense_2_layer_call_fn while saving (showing 5 of 20). These functions will not be directly callable after loading.\n"
          ]
        },
        {
          "name": "stdout",
          "output_type": "stream",
          "text": [
            "INFO:tensorflow:Assets written to: saved_networks/duelingdqn_model91/assets\n"
          ]
        },
        {
          "name": "stderr",
          "output_type": "stream",
          "text": [
            "INFO:tensorflow:Assets written to: saved_networks/duelingdqn_model91/assets\n"
          ]
        },
        {
          "name": "stdout",
          "output_type": "stream",
          "text": [
            "Network saved\n",
            "Episode 597/1000, Score: 276.41894711996935 (0.01), AVG Score: 252.50986695754088\n"
          ]
        },
        {
          "name": "stderr",
          "output_type": "stream",
          "text": [
            "WARNING:absl:Found untraced functions such as dense_layer_call_fn, dense_layer_call_and_return_conditional_losses, dense_1_layer_call_fn, dense_1_layer_call_and_return_conditional_losses, dense_2_layer_call_fn while saving (showing 5 of 20). These functions will not be directly callable after loading.\n"
          ]
        },
        {
          "name": "stdout",
          "output_type": "stream",
          "text": [
            "INFO:tensorflow:Assets written to: saved_networks/duelingdqn_model92/assets\n"
          ]
        },
        {
          "name": "stderr",
          "output_type": "stream",
          "text": [
            "INFO:tensorflow:Assets written to: saved_networks/duelingdqn_model92/assets\n"
          ]
        },
        {
          "name": "stdout",
          "output_type": "stream",
          "text": [
            "Network saved\n",
            "Episode 598/1000, Score: 292.2720204774292 (0.01), AVG Score: 252.75357100379915\n"
          ]
        },
        {
          "name": "stderr",
          "output_type": "stream",
          "text": [
            "WARNING:absl:Found untraced functions such as dense_layer_call_fn, dense_layer_call_and_return_conditional_losses, dense_1_layer_call_fn, dense_1_layer_call_and_return_conditional_losses, dense_2_layer_call_fn while saving (showing 5 of 20). These functions will not be directly callable after loading.\n"
          ]
        },
        {
          "name": "stdout",
          "output_type": "stream",
          "text": [
            "INFO:tensorflow:Assets written to: saved_networks/duelingdqn_model93/assets\n"
          ]
        },
        {
          "name": "stderr",
          "output_type": "stream",
          "text": [
            "INFO:tensorflow:Assets written to: saved_networks/duelingdqn_model93/assets\n"
          ]
        },
        {
          "name": "stdout",
          "output_type": "stream",
          "text": [
            "Network saved\n",
            "Episode 599/1000, Score: 282.23945598555883 (0.01), AVG Score: 252.79442856462248\n"
          ]
        },
        {
          "name": "stderr",
          "output_type": "stream",
          "text": [
            "WARNING:absl:Found untraced functions such as dense_layer_call_fn, dense_layer_call_and_return_conditional_losses, dense_1_layer_call_fn, dense_1_layer_call_and_return_conditional_losses, dense_2_layer_call_fn while saving (showing 5 of 20). These functions will not be directly callable after loading.\n"
          ]
        },
        {
          "name": "stdout",
          "output_type": "stream",
          "text": [
            "INFO:tensorflow:Assets written to: saved_networks/duelingdqn_model94/assets\n"
          ]
        },
        {
          "name": "stderr",
          "output_type": "stream",
          "text": [
            "INFO:tensorflow:Assets written to: saved_networks/duelingdqn_model94/assets\n"
          ]
        },
        {
          "name": "stdout",
          "output_type": "stream",
          "text": [
            "Network saved\n",
            "Episode 600/1000, Score: 240.4607692625744 (0.01), AVG Score: 255.01615935798472\n",
            "Episode 601/1000, Score: 271.5024751028783 (0.01), AVG Score: 255.11490353405873\n"
          ]
        },
        {
          "name": "stderr",
          "output_type": "stream",
          "text": [
            "WARNING:absl:Found untraced functions such as dense_layer_call_fn, dense_layer_call_and_return_conditional_losses, dense_1_layer_call_fn, dense_1_layer_call_and_return_conditional_losses, dense_2_layer_call_fn while saving (showing 5 of 20). These functions will not be directly callable after loading.\n"
          ]
        },
        {
          "name": "stdout",
          "output_type": "stream",
          "text": [
            "INFO:tensorflow:Assets written to: saved_networks/duelingdqn_model95/assets\n"
          ]
        },
        {
          "name": "stderr",
          "output_type": "stream",
          "text": [
            "INFO:tensorflow:Assets written to: saved_networks/duelingdqn_model95/assets\n"
          ]
        },
        {
          "name": "stdout",
          "output_type": "stream",
          "text": [
            "Network saved\n",
            "Episode 602/1000, Score: 270.2126184375761 (0.01), AVG Score: 255.01839525832986\n"
          ]
        },
        {
          "name": "stderr",
          "output_type": "stream",
          "text": [
            "WARNING:absl:Found untraced functions such as dense_layer_call_fn, dense_layer_call_and_return_conditional_losses, dense_1_layer_call_fn, dense_1_layer_call_and_return_conditional_losses, dense_2_layer_call_fn while saving (showing 5 of 20). These functions will not be directly callable after loading.\n"
          ]
        },
        {
          "name": "stdout",
          "output_type": "stream",
          "text": [
            "INFO:tensorflow:Assets written to: saved_networks/duelingdqn_model96/assets\n"
          ]
        },
        {
          "name": "stderr",
          "output_type": "stream",
          "text": [
            "INFO:tensorflow:Assets written to: saved_networks/duelingdqn_model96/assets\n"
          ]
        },
        {
          "name": "stdout",
          "output_type": "stream",
          "text": [
            "Network saved\n",
            "Episode 603/1000, Score: 267.19861841404634 (0.01), AVG Score: 255.24263304292535\n"
          ]
        },
        {
          "name": "stderr",
          "output_type": "stream",
          "text": [
            "WARNING:absl:Found untraced functions such as dense_layer_call_fn, dense_layer_call_and_return_conditional_losses, dense_1_layer_call_fn, dense_1_layer_call_and_return_conditional_losses, dense_2_layer_call_fn while saving (showing 5 of 20). These functions will not be directly callable after loading.\n"
          ]
        },
        {
          "name": "stdout",
          "output_type": "stream",
          "text": [
            "INFO:tensorflow:Assets written to: saved_networks/duelingdqn_model97/assets\n"
          ]
        },
        {
          "name": "stderr",
          "output_type": "stream",
          "text": [
            "INFO:tensorflow:Assets written to: saved_networks/duelingdqn_model97/assets\n"
          ]
        },
        {
          "name": "stdout",
          "output_type": "stream",
          "text": [
            "Network saved\n",
            "Episode 604/1000, Score: 254.20645849338274 (0.01), AVG Score: 257.7856615463238\n"
          ]
        },
        {
          "name": "stderr",
          "output_type": "stream",
          "text": [
            "WARNING:absl:Found untraced functions such as dense_layer_call_fn, dense_layer_call_and_return_conditional_losses, dense_1_layer_call_fn, dense_1_layer_call_and_return_conditional_losses, dense_2_layer_call_fn while saving (showing 5 of 20). These functions will not be directly callable after loading.\n"
          ]
        },
        {
          "name": "stdout",
          "output_type": "stream",
          "text": [
            "INFO:tensorflow:Assets written to: saved_networks/duelingdqn_model98/assets\n"
          ]
        },
        {
          "name": "stderr",
          "output_type": "stream",
          "text": [
            "INFO:tensorflow:Assets written to: saved_networks/duelingdqn_model98/assets\n"
          ]
        },
        {
          "name": "stdout",
          "output_type": "stream",
          "text": [
            "Network saved\n",
            "Episode 605/1000, Score: 270.96259147041707 (0.01), AVG Score: 257.93333203031307\n"
          ]
        },
        {
          "name": "stderr",
          "output_type": "stream",
          "text": [
            "WARNING:absl:Found untraced functions such as dense_layer_call_fn, dense_layer_call_and_return_conditional_losses, dense_1_layer_call_fn, dense_1_layer_call_and_return_conditional_losses, dense_2_layer_call_fn while saving (showing 5 of 20). These functions will not be directly callable after loading.\n"
          ]
        },
        {
          "name": "stdout",
          "output_type": "stream",
          "text": [
            "INFO:tensorflow:Assets written to: saved_networks/duelingdqn_model99/assets\n"
          ]
        },
        {
          "name": "stderr",
          "output_type": "stream",
          "text": [
            "INFO:tensorflow:Assets written to: saved_networks/duelingdqn_model99/assets\n"
          ]
        },
        {
          "name": "stdout",
          "output_type": "stream",
          "text": [
            "Network saved\n",
            "Episode 606/1000, Score: 265.7331382738819 (0.01), AVG Score: 257.78200871560557\n"
          ]
        },
        {
          "name": "stderr",
          "output_type": "stream",
          "text": [
            "WARNING:absl:Found untraced functions such as dense_layer_call_fn, dense_layer_call_and_return_conditional_losses, dense_1_layer_call_fn, dense_1_layer_call_and_return_conditional_losses, dense_2_layer_call_fn while saving (showing 5 of 20). These functions will not be directly callable after loading.\n"
          ]
        },
        {
          "name": "stdout",
          "output_type": "stream",
          "text": [
            "INFO:tensorflow:Assets written to: saved_networks/duelingdqn_model100/assets\n"
          ]
        },
        {
          "name": "stderr",
          "output_type": "stream",
          "text": [
            "INFO:tensorflow:Assets written to: saved_networks/duelingdqn_model100/assets\n"
          ]
        },
        {
          "name": "stdout",
          "output_type": "stream",
          "text": [
            "Network saved\n",
            "Episode 607/1000, Score: 265.05965366602965 (0.01), AVG Score: 257.31208458379183\n"
          ]
        },
        {
          "name": "stderr",
          "output_type": "stream",
          "text": [
            "WARNING:absl:Found untraced functions such as dense_layer_call_fn, dense_layer_call_and_return_conditional_losses, dense_1_layer_call_fn, dense_1_layer_call_and_return_conditional_losses, dense_2_layer_call_fn while saving (showing 5 of 20). These functions will not be directly callable after loading.\n"
          ]
        },
        {
          "name": "stdout",
          "output_type": "stream",
          "text": [
            "INFO:tensorflow:Assets written to: saved_networks/duelingdqn_model101/assets\n"
          ]
        },
        {
          "name": "stderr",
          "output_type": "stream",
          "text": [
            "INFO:tensorflow:Assets written to: saved_networks/duelingdqn_model101/assets\n"
          ]
        },
        {
          "name": "stdout",
          "output_type": "stream",
          "text": [
            "Network saved\n",
            "Episode 608/1000, Score: 275.2288453627506 (0.01), AVG Score: 257.0926470022298\n"
          ]
        },
        {
          "name": "stderr",
          "output_type": "stream",
          "text": [
            "WARNING:absl:Found untraced functions such as dense_layer_call_fn, dense_layer_call_and_return_conditional_losses, dense_1_layer_call_fn, dense_1_layer_call_and_return_conditional_losses, dense_2_layer_call_fn while saving (showing 5 of 20). These functions will not be directly callable after loading.\n"
          ]
        },
        {
          "name": "stdout",
          "output_type": "stream",
          "text": [
            "INFO:tensorflow:Assets written to: saved_networks/duelingdqn_model102/assets\n"
          ]
        },
        {
          "name": "stderr",
          "output_type": "stream",
          "text": [
            "INFO:tensorflow:Assets written to: saved_networks/duelingdqn_model102/assets\n"
          ]
        },
        {
          "name": "stdout",
          "output_type": "stream",
          "text": [
            "Network saved\n",
            "Episode 609/1000, Score: 274.6243774977502 (0.01), AVG Score: 256.86077723577057\n"
          ]
        },
        {
          "name": "stderr",
          "output_type": "stream",
          "text": [
            "WARNING:absl:Found untraced functions such as dense_layer_call_fn, dense_layer_call_and_return_conditional_losses, dense_1_layer_call_fn, dense_1_layer_call_and_return_conditional_losses, dense_2_layer_call_fn while saving (showing 5 of 20). These functions will not be directly callable after loading.\n"
          ]
        },
        {
          "name": "stdout",
          "output_type": "stream",
          "text": [
            "INFO:tensorflow:Assets written to: saved_networks/duelingdqn_model103/assets\n"
          ]
        },
        {
          "name": "stderr",
          "output_type": "stream",
          "text": [
            "INFO:tensorflow:Assets written to: saved_networks/duelingdqn_model103/assets\n"
          ]
        },
        {
          "name": "stdout",
          "output_type": "stream",
          "text": [
            "Network saved\n",
            "Episode 610/1000, Score: 277.569534596808 (0.01), AVG Score: 257.02709206140435\n"
          ]
        },
        {
          "name": "stderr",
          "output_type": "stream",
          "text": [
            "WARNING:absl:Found untraced functions such as dense_layer_call_fn, dense_layer_call_and_return_conditional_losses, dense_1_layer_call_fn, dense_1_layer_call_and_return_conditional_losses, dense_2_layer_call_fn while saving (showing 5 of 20). These functions will not be directly callable after loading.\n"
          ]
        },
        {
          "name": "stdout",
          "output_type": "stream",
          "text": [
            "INFO:tensorflow:Assets written to: saved_networks/duelingdqn_model104/assets\n"
          ]
        },
        {
          "name": "stderr",
          "output_type": "stream",
          "text": [
            "INFO:tensorflow:Assets written to: saved_networks/duelingdqn_model104/assets\n"
          ]
        },
        {
          "name": "stdout",
          "output_type": "stream",
          "text": [
            "Network saved\n",
            "Episode 611/1000, Score: 272.0219835855537 (0.01), AVG Score: 256.9675112574398\n"
          ]
        },
        {
          "name": "stderr",
          "output_type": "stream",
          "text": [
            "WARNING:absl:Found untraced functions such as dense_layer_call_fn, dense_layer_call_and_return_conditional_losses, dense_1_layer_call_fn, dense_1_layer_call_and_return_conditional_losses, dense_2_layer_call_fn while saving (showing 5 of 20). These functions will not be directly callable after loading.\n"
          ]
        },
        {
          "name": "stdout",
          "output_type": "stream",
          "text": [
            "INFO:tensorflow:Assets written to: saved_networks/duelingdqn_model105/assets\n"
          ]
        },
        {
          "name": "stderr",
          "output_type": "stream",
          "text": [
            "INFO:tensorflow:Assets written to: saved_networks/duelingdqn_model105/assets\n"
          ]
        },
        {
          "name": "stdout",
          "output_type": "stream",
          "text": [
            "Network saved\n",
            "Episode 612/1000, Score: 260.8015899469084 (0.01), AVG Score: 256.5396231675652\n"
          ]
        },
        {
          "name": "stderr",
          "output_type": "stream",
          "text": [
            "WARNING:absl:Found untraced functions such as dense_layer_call_fn, dense_layer_call_and_return_conditional_losses, dense_1_layer_call_fn, dense_1_layer_call_and_return_conditional_losses, dense_2_layer_call_fn while saving (showing 5 of 20). These functions will not be directly callable after loading.\n"
          ]
        },
        {
          "name": "stdout",
          "output_type": "stream",
          "text": [
            "INFO:tensorflow:Assets written to: saved_networks/duelingdqn_model106/assets\n"
          ]
        },
        {
          "name": "stderr",
          "output_type": "stream",
          "text": [
            "INFO:tensorflow:Assets written to: saved_networks/duelingdqn_model106/assets\n"
          ]
        },
        {
          "name": "stdout",
          "output_type": "stream",
          "text": [
            "Network saved\n",
            "Episode 613/1000, Score: 277.2386428819348 (0.01), AVG Score: 256.84742914886687\n"
          ]
        },
        {
          "name": "stderr",
          "output_type": "stream",
          "text": [
            "WARNING:absl:Found untraced functions such as dense_layer_call_fn, dense_layer_call_and_return_conditional_losses, dense_1_layer_call_fn, dense_1_layer_call_and_return_conditional_losses, dense_2_layer_call_fn while saving (showing 5 of 20). These functions will not be directly callable after loading.\n"
          ]
        },
        {
          "name": "stdout",
          "output_type": "stream",
          "text": [
            "INFO:tensorflow:Assets written to: saved_networks/duelingdqn_model107/assets\n"
          ]
        },
        {
          "name": "stderr",
          "output_type": "stream",
          "text": [
            "INFO:tensorflow:Assets written to: saved_networks/duelingdqn_model107/assets\n"
          ]
        },
        {
          "name": "stdout",
          "output_type": "stream",
          "text": [
            "Network saved\n",
            "Episode 614/1000, Score: 304.2123665403103 (0.01), AVG Score: 257.2235139057069\n"
          ]
        },
        {
          "name": "stderr",
          "output_type": "stream",
          "text": [
            "WARNING:absl:Found untraced functions such as dense_layer_call_fn, dense_layer_call_and_return_conditional_losses, dense_1_layer_call_fn, dense_1_layer_call_and_return_conditional_losses, dense_2_layer_call_fn while saving (showing 5 of 20). These functions will not be directly callable after loading.\n"
          ]
        },
        {
          "name": "stdout",
          "output_type": "stream",
          "text": [
            "INFO:tensorflow:Assets written to: saved_networks/duelingdqn_model108/assets\n"
          ]
        },
        {
          "name": "stderr",
          "output_type": "stream",
          "text": [
            "INFO:tensorflow:Assets written to: saved_networks/duelingdqn_model108/assets\n"
          ]
        },
        {
          "name": "stdout",
          "output_type": "stream",
          "text": [
            "Network saved\n",
            "Episode 615/1000, Score: 272.0125898191758 (0.01), AVG Score: 257.60116882356283\n"
          ]
        },
        {
          "name": "stderr",
          "output_type": "stream",
          "text": [
            "WARNING:absl:Found untraced functions such as dense_layer_call_fn, dense_layer_call_and_return_conditional_losses, dense_1_layer_call_fn, dense_1_layer_call_and_return_conditional_losses, dense_2_layer_call_fn while saving (showing 5 of 20). These functions will not be directly callable after loading.\n"
          ]
        },
        {
          "name": "stdout",
          "output_type": "stream",
          "text": [
            "INFO:tensorflow:Assets written to: saved_networks/duelingdqn_model109/assets\n"
          ]
        },
        {
          "name": "stderr",
          "output_type": "stream",
          "text": [
            "INFO:tensorflow:Assets written to: saved_networks/duelingdqn_model109/assets\n"
          ]
        },
        {
          "name": "stdout",
          "output_type": "stream",
          "text": [
            "Network saved\n",
            "Episode 616/1000, Score: 310.19301981275464 (0.01), AVG Score: 257.78365299016065\n"
          ]
        },
        {
          "name": "stderr",
          "output_type": "stream",
          "text": [
            "WARNING:absl:Found untraced functions such as dense_layer_call_fn, dense_layer_call_and_return_conditional_losses, dense_1_layer_call_fn, dense_1_layer_call_and_return_conditional_losses, dense_2_layer_call_fn while saving (showing 5 of 20). These functions will not be directly callable after loading.\n"
          ]
        },
        {
          "name": "stdout",
          "output_type": "stream",
          "text": [
            "INFO:tensorflow:Assets written to: saved_networks/duelingdqn_model110/assets\n"
          ]
        },
        {
          "name": "stderr",
          "output_type": "stream",
          "text": [
            "INFO:tensorflow:Assets written to: saved_networks/duelingdqn_model110/assets\n"
          ]
        },
        {
          "name": "stdout",
          "output_type": "stream",
          "text": [
            "Network saved\n",
            "Episode 617/1000, Score: 292.0924238069301 (0.01), AVG Score: 258.1947868206656\n"
          ]
        },
        {
          "name": "stderr",
          "output_type": "stream",
          "text": [
            "WARNING:absl:Found untraced functions such as dense_layer_call_fn, dense_layer_call_and_return_conditional_losses, dense_1_layer_call_fn, dense_1_layer_call_and_return_conditional_losses, dense_2_layer_call_fn while saving (showing 5 of 20). These functions will not be directly callable after loading.\n"
          ]
        },
        {
          "name": "stdout",
          "output_type": "stream",
          "text": [
            "INFO:tensorflow:Assets written to: saved_networks/duelingdqn_model111/assets\n"
          ]
        },
        {
          "name": "stderr",
          "output_type": "stream",
          "text": [
            "INFO:tensorflow:Assets written to: saved_networks/duelingdqn_model111/assets\n"
          ]
        },
        {
          "name": "stdout",
          "output_type": "stream",
          "text": [
            "Network saved\n",
            "Episode 618/1000, Score: 258.9009204561226 (0.01), AVG Score: 258.2108095733697\n"
          ]
        },
        {
          "name": "stderr",
          "output_type": "stream",
          "text": [
            "WARNING:absl:Found untraced functions such as dense_layer_call_fn, dense_layer_call_and_return_conditional_losses, dense_1_layer_call_fn, dense_1_layer_call_and_return_conditional_losses, dense_2_layer_call_fn while saving (showing 5 of 20). These functions will not be directly callable after loading.\n"
          ]
        },
        {
          "name": "stdout",
          "output_type": "stream",
          "text": [
            "INFO:tensorflow:Assets written to: saved_networks/duelingdqn_model112/assets\n"
          ]
        },
        {
          "name": "stderr",
          "output_type": "stream",
          "text": [
            "INFO:tensorflow:Assets written to: saved_networks/duelingdqn_model112/assets\n"
          ]
        },
        {
          "name": "stdout",
          "output_type": "stream",
          "text": [
            "Network saved\n",
            "Episode 619/1000, Score: 274.05101887913344 (0.01), AVG Score: 258.35875862603274\n"
          ]
        },
        {
          "name": "stderr",
          "output_type": "stream",
          "text": [
            "WARNING:absl:Found untraced functions such as dense_layer_call_fn, dense_layer_call_and_return_conditional_losses, dense_1_layer_call_fn, dense_1_layer_call_and_return_conditional_losses, dense_2_layer_call_fn while saving (showing 5 of 20). These functions will not be directly callable after loading.\n"
          ]
        },
        {
          "name": "stdout",
          "output_type": "stream",
          "text": [
            "INFO:tensorflow:Assets written to: saved_networks/duelingdqn_model113/assets\n"
          ]
        },
        {
          "name": "stderr",
          "output_type": "stream",
          "text": [
            "INFO:tensorflow:Assets written to: saved_networks/duelingdqn_model113/assets\n"
          ]
        },
        {
          "name": "stdout",
          "output_type": "stream",
          "text": [
            "Network saved\n",
            "Episode 620/1000, Score: 221.73555904315918 (0.01), AVG Score: 258.0452320122681\n",
            "Episode 621/1000, Score: 260.0178455639332 (0.01), AVG Score: 258.2987465220172\n"
          ]
        },
        {
          "name": "stderr",
          "output_type": "stream",
          "text": [
            "WARNING:absl:Found untraced functions such as dense_layer_call_fn, dense_layer_call_and_return_conditional_losses, dense_1_layer_call_fn, dense_1_layer_call_and_return_conditional_losses, dense_2_layer_call_fn while saving (showing 5 of 20). These functions will not be directly callable after loading.\n"
          ]
        },
        {
          "name": "stdout",
          "output_type": "stream",
          "text": [
            "INFO:tensorflow:Assets written to: saved_networks/duelingdqn_model114/assets\n"
          ]
        },
        {
          "name": "stderr",
          "output_type": "stream",
          "text": [
            "INFO:tensorflow:Assets written to: saved_networks/duelingdqn_model114/assets\n"
          ]
        },
        {
          "name": "stdout",
          "output_type": "stream",
          "text": [
            "Network saved\n",
            "Episode 622/1000, Score: 268.239923360765 (0.01), AVG Score: 258.40491266560736\n"
          ]
        },
        {
          "name": "stderr",
          "output_type": "stream",
          "text": [
            "WARNING:absl:Found untraced functions such as dense_layer_call_fn, dense_layer_call_and_return_conditional_losses, dense_1_layer_call_fn, dense_1_layer_call_and_return_conditional_losses, dense_2_layer_call_fn while saving (showing 5 of 20). These functions will not be directly callable after loading.\n"
          ]
        },
        {
          "name": "stdout",
          "output_type": "stream",
          "text": [
            "INFO:tensorflow:Assets written to: saved_networks/duelingdqn_model115/assets\n"
          ]
        },
        {
          "name": "stderr",
          "output_type": "stream",
          "text": [
            "INFO:tensorflow:Assets written to: saved_networks/duelingdqn_model115/assets\n"
          ]
        },
        {
          "name": "stdout",
          "output_type": "stream",
          "text": [
            "Network saved\n",
            "Episode 623/1000, Score: 269.3968187778624 (0.01), AVG Score: 258.70541584380845\n"
          ]
        },
        {
          "name": "stderr",
          "output_type": "stream",
          "text": [
            "WARNING:absl:Found untraced functions such as dense_layer_call_fn, dense_layer_call_and_return_conditional_losses, dense_1_layer_call_fn, dense_1_layer_call_and_return_conditional_losses, dense_2_layer_call_fn while saving (showing 5 of 20). These functions will not be directly callable after loading.\n"
          ]
        },
        {
          "name": "stdout",
          "output_type": "stream",
          "text": [
            "INFO:tensorflow:Assets written to: saved_networks/duelingdqn_model116/assets\n"
          ]
        },
        {
          "name": "stderr",
          "output_type": "stream",
          "text": [
            "INFO:tensorflow:Assets written to: saved_networks/duelingdqn_model116/assets\n"
          ]
        },
        {
          "name": "stdout",
          "output_type": "stream",
          "text": [
            "Network saved\n",
            "Episode 624/1000, Score: 264.4792732033676 (0.01), AVG Score: 258.7182065228844\n"
          ]
        },
        {
          "name": "stderr",
          "output_type": "stream",
          "text": [
            "WARNING:absl:Found untraced functions such as dense_layer_call_fn, dense_layer_call_and_return_conditional_losses, dense_1_layer_call_fn, dense_1_layer_call_and_return_conditional_losses, dense_2_layer_call_fn while saving (showing 5 of 20). These functions will not be directly callable after loading.\n"
          ]
        },
        {
          "name": "stdout",
          "output_type": "stream",
          "text": [
            "INFO:tensorflow:Assets written to: saved_networks/duelingdqn_model117/assets\n"
          ]
        },
        {
          "name": "stderr",
          "output_type": "stream",
          "text": [
            "INFO:tensorflow:Assets written to: saved_networks/duelingdqn_model117/assets\n"
          ]
        },
        {
          "name": "stdout",
          "output_type": "stream",
          "text": [
            "Network saved\n",
            "Episode 625/1000, Score: 219.14442537970243 (0.01), AVG Score: 258.2970158100655\n",
            "Episode 626/1000, Score: 245.44056427780302 (0.01), AVG Score: 258.0098324175188\n",
            "Episode 627/1000, Score: 260.26643959055434 (0.01), AVG Score: 258.2796164568324\n"
          ]
        },
        {
          "name": "stderr",
          "output_type": "stream",
          "text": [
            "WARNING:absl:Found untraced functions such as dense_layer_call_fn, dense_layer_call_and_return_conditional_losses, dense_1_layer_call_fn, dense_1_layer_call_and_return_conditional_losses, dense_2_layer_call_fn while saving (showing 5 of 20). These functions will not be directly callable after loading.\n"
          ]
        },
        {
          "name": "stdout",
          "output_type": "stream",
          "text": [
            "INFO:tensorflow:Assets written to: saved_networks/duelingdqn_model118/assets\n"
          ]
        },
        {
          "name": "stderr",
          "output_type": "stream",
          "text": [
            "INFO:tensorflow:Assets written to: saved_networks/duelingdqn_model118/assets\n"
          ]
        },
        {
          "name": "stdout",
          "output_type": "stream",
          "text": [
            "Network saved\n",
            "Episode 628/1000, Score: 243.15927411054463 (0.01), AVG Score: 257.9351314037373\n",
            "Episode 629/1000, Score: 269.708234199345 (0.01), AVG Score: 258.184048990242\n"
          ]
        },
        {
          "name": "stderr",
          "output_type": "stream",
          "text": [
            "WARNING:absl:Found untraced functions such as dense_layer_call_fn, dense_layer_call_and_return_conditional_losses, dense_1_layer_call_fn, dense_1_layer_call_and_return_conditional_losses, dense_2_layer_call_fn while saving (showing 5 of 20). These functions will not be directly callable after loading.\n"
          ]
        },
        {
          "name": "stdout",
          "output_type": "stream",
          "text": [
            "INFO:tensorflow:Assets written to: saved_networks/duelingdqn_model119/assets\n"
          ]
        },
        {
          "name": "stderr",
          "output_type": "stream",
          "text": [
            "INFO:tensorflow:Assets written to: saved_networks/duelingdqn_model119/assets\n"
          ]
        },
        {
          "name": "stdout",
          "output_type": "stream",
          "text": [
            "Network saved\n",
            "Episode 630/1000, Score: 247.57539101136578 (0.01), AVG Score: 258.14616993340474\n",
            "Episode 631/1000, Score: 249.57981565514012 (0.01), AVG Score: 258.0761236111126\n",
            "Episode 632/1000, Score: 281.1035027958811 (0.01), AVG Score: 258.4310694466574\n"
          ]
        },
        {
          "name": "stderr",
          "output_type": "stream",
          "text": [
            "WARNING:absl:Found untraced functions such as dense_layer_call_fn, dense_layer_call_and_return_conditional_losses, dense_1_layer_call_fn, dense_1_layer_call_and_return_conditional_losses, dense_2_layer_call_fn while saving (showing 5 of 20). These functions will not be directly callable after loading.\n"
          ]
        },
        {
          "name": "stdout",
          "output_type": "stream",
          "text": [
            "INFO:tensorflow:Assets written to: saved_networks/duelingdqn_model120/assets\n"
          ]
        },
        {
          "name": "stderr",
          "output_type": "stream",
          "text": [
            "INFO:tensorflow:Assets written to: saved_networks/duelingdqn_model120/assets\n"
          ]
        },
        {
          "name": "stdout",
          "output_type": "stream",
          "text": [
            "Network saved\n",
            "Episode 633/1000, Score: 260.11188386451204 (0.01), AVG Score: 258.27433598188105\n"
          ]
        },
        {
          "name": "stderr",
          "output_type": "stream",
          "text": [
            "WARNING:absl:Found untraced functions such as dense_layer_call_fn, dense_layer_call_and_return_conditional_losses, dense_1_layer_call_fn, dense_1_layer_call_and_return_conditional_losses, dense_2_layer_call_fn while saving (showing 5 of 20). These functions will not be directly callable after loading.\n"
          ]
        },
        {
          "name": "stdout",
          "output_type": "stream",
          "text": [
            "INFO:tensorflow:Assets written to: saved_networks/duelingdqn_model121/assets\n"
          ]
        },
        {
          "name": "stderr",
          "output_type": "stream",
          "text": [
            "INFO:tensorflow:Assets written to: saved_networks/duelingdqn_model121/assets\n"
          ]
        },
        {
          "name": "stdout",
          "output_type": "stream",
          "text": [
            "Network saved\n",
            "Episode 634/1000, Score: 278.1080423441932 (0.01), AVG Score: 258.0701269994365\n"
          ]
        },
        {
          "name": "stderr",
          "output_type": "stream",
          "text": [
            "WARNING:absl:Found untraced functions such as dense_layer_call_fn, dense_layer_call_and_return_conditional_losses, dense_1_layer_call_fn, dense_1_layer_call_and_return_conditional_losses, dense_2_layer_call_fn while saving (showing 5 of 20). These functions will not be directly callable after loading.\n"
          ]
        },
        {
          "name": "stdout",
          "output_type": "stream",
          "text": [
            "INFO:tensorflow:Assets written to: saved_networks/duelingdqn_model122/assets\n"
          ]
        },
        {
          "name": "stderr",
          "output_type": "stream",
          "text": [
            "INFO:tensorflow:Assets written to: saved_networks/duelingdqn_model122/assets\n"
          ]
        },
        {
          "name": "stdout",
          "output_type": "stream",
          "text": [
            "Network saved\n",
            "Episode 635/1000, Score: 295.0306118095366 (0.01), AVG Score: 258.20000408151554\n"
          ]
        },
        {
          "name": "stderr",
          "output_type": "stream",
          "text": [
            "WARNING:absl:Found untraced functions such as dense_layer_call_fn, dense_layer_call_and_return_conditional_losses, dense_1_layer_call_fn, dense_1_layer_call_and_return_conditional_losses, dense_2_layer_call_fn while saving (showing 5 of 20). These functions will not be directly callable after loading.\n"
          ]
        },
        {
          "name": "stdout",
          "output_type": "stream",
          "text": [
            "INFO:tensorflow:Assets written to: saved_networks/duelingdqn_model123/assets\n"
          ]
        },
        {
          "name": "stderr",
          "output_type": "stream",
          "text": [
            "INFO:tensorflow:Assets written to: saved_networks/duelingdqn_model123/assets\n"
          ]
        },
        {
          "name": "stdout",
          "output_type": "stream",
          "text": [
            "Network saved\n",
            "Episode 636/1000, Score: -18.619151582972265 (0.01), AVG Score: 254.85894273659417\n",
            "Episode 637/1000, Score: 270.03416288609395 (0.01), AVG Score: 254.73745030563543\n"
          ]
        },
        {
          "name": "stderr",
          "output_type": "stream",
          "text": [
            "WARNING:absl:Found untraced functions such as dense_layer_call_fn, dense_layer_call_and_return_conditional_losses, dense_1_layer_call_fn, dense_1_layer_call_and_return_conditional_losses, dense_2_layer_call_fn while saving (showing 5 of 20). These functions will not be directly callable after loading.\n"
          ]
        },
        {
          "name": "stdout",
          "output_type": "stream",
          "text": [
            "INFO:tensorflow:Assets written to: saved_networks/duelingdqn_model124/assets\n"
          ]
        },
        {
          "name": "stderr",
          "output_type": "stream",
          "text": [
            "INFO:tensorflow:Assets written to: saved_networks/duelingdqn_model124/assets\n"
          ]
        },
        {
          "name": "stdout",
          "output_type": "stream",
          "text": [
            "Network saved\n",
            "Episode 638/1000, Score: -50.38907899114977 (0.01), AVG Score: 251.2144464474543\n",
            "Episode 639/1000, Score: 216.29854769196575 (0.01), AVG Score: 250.43984362612431\n",
            "Episode 640/1000, Score: 258.8067235729543 (0.01), AVG Score: 250.69695030079401\n"
          ]
        },
        {
          "name": "stderr",
          "output_type": "stream",
          "text": [
            "WARNING:absl:Found untraced functions such as dense_layer_call_fn, dense_layer_call_and_return_conditional_losses, dense_1_layer_call_fn, dense_1_layer_call_and_return_conditional_losses, dense_2_layer_call_fn while saving (showing 5 of 20). These functions will not be directly callable after loading.\n"
          ]
        },
        {
          "name": "stdout",
          "output_type": "stream",
          "text": [
            "INFO:tensorflow:Assets written to: saved_networks/duelingdqn_model125/assets\n"
          ]
        },
        {
          "name": "stderr",
          "output_type": "stream",
          "text": [
            "INFO:tensorflow:Assets written to: saved_networks/duelingdqn_model125/assets\n"
          ]
        },
        {
          "name": "stdout",
          "output_type": "stream",
          "text": [
            "Network saved\n",
            "Episode 641/1000, Score: 254.2343041381105 (0.01), AVG Score: 250.57577671838123\n"
          ]
        },
        {
          "name": "stderr",
          "output_type": "stream",
          "text": [
            "WARNING:absl:Found untraced functions such as dense_layer_call_fn, dense_layer_call_and_return_conditional_losses, dense_1_layer_call_fn, dense_1_layer_call_and_return_conditional_losses, dense_2_layer_call_fn while saving (showing 5 of 20). These functions will not be directly callable after loading.\n"
          ]
        },
        {
          "name": "stdout",
          "output_type": "stream",
          "text": [
            "INFO:tensorflow:Assets written to: saved_networks/duelingdqn_model126/assets\n"
          ]
        },
        {
          "name": "stderr",
          "output_type": "stream",
          "text": [
            "INFO:tensorflow:Assets written to: saved_networks/duelingdqn_model126/assets\n"
          ]
        },
        {
          "name": "stdout",
          "output_type": "stream",
          "text": [
            "Network saved\n",
            "Episode 642/1000, Score: 257.2034067275223 (0.01), AVG Score: 250.5572420221555\n"
          ]
        },
        {
          "name": "stderr",
          "output_type": "stream",
          "text": [
            "WARNING:absl:Found untraced functions such as dense_layer_call_fn, dense_layer_call_and_return_conditional_losses, dense_1_layer_call_fn, dense_1_layer_call_and_return_conditional_losses, dense_2_layer_call_fn while saving (showing 5 of 20). These functions will not be directly callable after loading.\n"
          ]
        },
        {
          "name": "stdout",
          "output_type": "stream",
          "text": [
            "INFO:tensorflow:Assets written to: saved_networks/duelingdqn_model127/assets\n"
          ]
        },
        {
          "name": "stderr",
          "output_type": "stream",
          "text": [
            "INFO:tensorflow:Assets written to: saved_networks/duelingdqn_model127/assets\n"
          ]
        },
        {
          "name": "stdout",
          "output_type": "stream",
          "text": [
            "Network saved\n",
            "Episode 643/1000, Score: 253.4353236368743 (0.01), AVG Score: 250.52590620399877\n"
          ]
        },
        {
          "name": "stderr",
          "output_type": "stream",
          "text": [
            "WARNING:absl:Found untraced functions such as dense_layer_call_fn, dense_layer_call_and_return_conditional_losses, dense_1_layer_call_fn, dense_1_layer_call_and_return_conditional_losses, dense_2_layer_call_fn while saving (showing 5 of 20). These functions will not be directly callable after loading.\n"
          ]
        },
        {
          "name": "stdout",
          "output_type": "stream",
          "text": [
            "INFO:tensorflow:Assets written to: saved_networks/duelingdqn_model128/assets\n"
          ]
        },
        {
          "name": "stderr",
          "output_type": "stream",
          "text": [
            "INFO:tensorflow:Assets written to: saved_networks/duelingdqn_model128/assets\n"
          ]
        },
        {
          "name": "stdout",
          "output_type": "stream",
          "text": [
            "Network saved\n",
            "Episode 644/1000, Score: 252.7934407822246 (0.01), AVG Score: 250.71273155019992\n"
          ]
        },
        {
          "name": "stderr",
          "output_type": "stream",
          "text": [
            "WARNING:absl:Found untraced functions such as dense_layer_call_fn, dense_layer_call_and_return_conditional_losses, dense_1_layer_call_fn, dense_1_layer_call_and_return_conditional_losses, dense_2_layer_call_fn while saving (showing 5 of 20). These functions will not be directly callable after loading.\n"
          ]
        },
        {
          "name": "stdout",
          "output_type": "stream",
          "text": [
            "INFO:tensorflow:Assets written to: saved_networks/duelingdqn_model129/assets\n"
          ]
        },
        {
          "name": "stderr",
          "output_type": "stream",
          "text": [
            "INFO:tensorflow:Assets written to: saved_networks/duelingdqn_model129/assets\n"
          ]
        },
        {
          "name": "stdout",
          "output_type": "stream",
          "text": [
            "Network saved\n",
            "Episode 645/1000, Score: -85.96188571862152 (0.01), AVG Score: 247.15954329065818\n",
            "Episode 646/1000, Score: 293.37271490930993 (0.01), AVG Score: 247.4067627168463\n"
          ]
        },
        {
          "name": "stderr",
          "output_type": "stream",
          "text": [
            "WARNING:absl:Found untraced functions such as dense_layer_call_fn, dense_layer_call_and_return_conditional_losses, dense_1_layer_call_fn, dense_1_layer_call_and_return_conditional_losses, dense_2_layer_call_fn while saving (showing 5 of 20). These functions will not be directly callable after loading.\n"
          ]
        },
        {
          "name": "stdout",
          "output_type": "stream",
          "text": [
            "INFO:tensorflow:Assets written to: saved_networks/duelingdqn_model130/assets\n"
          ]
        },
        {
          "name": "stderr",
          "output_type": "stream",
          "text": [
            "INFO:tensorflow:Assets written to: saved_networks/duelingdqn_model130/assets\n"
          ]
        },
        {
          "name": "stdout",
          "output_type": "stream",
          "text": [
            "Network saved\n",
            "Episode 647/1000, Score: 256.28039573912986 (0.01), AVG Score: 247.2061909837109\n"
          ]
        },
        {
          "name": "stderr",
          "output_type": "stream",
          "text": [
            "WARNING:absl:Found untraced functions such as dense_layer_call_fn, dense_layer_call_and_return_conditional_losses, dense_1_layer_call_fn, dense_1_layer_call_and_return_conditional_losses, dense_2_layer_call_fn while saving (showing 5 of 20). These functions will not be directly callable after loading.\n"
          ]
        },
        {
          "name": "stdout",
          "output_type": "stream",
          "text": [
            "INFO:tensorflow:Assets written to: saved_networks/duelingdqn_model131/assets\n"
          ]
        },
        {
          "name": "stderr",
          "output_type": "stream",
          "text": [
            "INFO:tensorflow:Assets written to: saved_networks/duelingdqn_model131/assets\n"
          ]
        },
        {
          "name": "stdout",
          "output_type": "stream",
          "text": [
            "Network saved\n",
            "Episode 648/1000, Score: 279.0691041201711 (0.01), AVG Score: 247.17571098882448\n"
          ]
        },
        {
          "name": "stderr",
          "output_type": "stream",
          "text": [
            "WARNING:absl:Found untraced functions such as dense_layer_call_fn, dense_layer_call_and_return_conditional_losses, dense_1_layer_call_fn, dense_1_layer_call_and_return_conditional_losses, dense_2_layer_call_fn while saving (showing 5 of 20). These functions will not be directly callable after loading.\n"
          ]
        },
        {
          "name": "stdout",
          "output_type": "stream",
          "text": [
            "INFO:tensorflow:Assets written to: saved_networks/duelingdqn_model132/assets\n"
          ]
        },
        {
          "name": "stderr",
          "output_type": "stream",
          "text": [
            "INFO:tensorflow:Assets written to: saved_networks/duelingdqn_model132/assets\n"
          ]
        },
        {
          "name": "stdout",
          "output_type": "stream",
          "text": [
            "Network saved\n",
            "Episode 649/1000, Score: 283.4527612857804 (0.01), AVG Score: 247.08555747511997\n"
          ]
        },
        {
          "name": "stderr",
          "output_type": "stream",
          "text": [
            "WARNING:absl:Found untraced functions such as dense_layer_call_fn, dense_layer_call_and_return_conditional_losses, dense_1_layer_call_fn, dense_1_layer_call_and_return_conditional_losses, dense_2_layer_call_fn while saving (showing 5 of 20). These functions will not be directly callable after loading.\n"
          ]
        },
        {
          "name": "stdout",
          "output_type": "stream",
          "text": [
            "INFO:tensorflow:Assets written to: saved_networks/duelingdqn_model133/assets\n"
          ]
        },
        {
          "name": "stderr",
          "output_type": "stream",
          "text": [
            "INFO:tensorflow:Assets written to: saved_networks/duelingdqn_model133/assets\n"
          ]
        },
        {
          "name": "stdout",
          "output_type": "stream",
          "text": [
            "Network saved\n",
            "Episode 650/1000, Score: 281.6288768045386 (0.01), AVG Score: 246.9554222621\n"
          ]
        },
        {
          "name": "stderr",
          "output_type": "stream",
          "text": [
            "WARNING:absl:Found untraced functions such as dense_layer_call_fn, dense_layer_call_and_return_conditional_losses, dense_1_layer_call_fn, dense_1_layer_call_and_return_conditional_losses, dense_2_layer_call_fn while saving (showing 5 of 20). These functions will not be directly callable after loading.\n"
          ]
        },
        {
          "name": "stdout",
          "output_type": "stream",
          "text": [
            "INFO:tensorflow:Assets written to: saved_networks/duelingdqn_model134/assets\n"
          ]
        },
        {
          "name": "stderr",
          "output_type": "stream",
          "text": [
            "INFO:tensorflow:Assets written to: saved_networks/duelingdqn_model134/assets\n"
          ]
        },
        {
          "name": "stdout",
          "output_type": "stream",
          "text": [
            "Network saved\n",
            "Episode 651/1000, Score: 253.8449075922434 (0.01), AVG Score: 246.88340333860356\n"
          ]
        },
        {
          "name": "stderr",
          "output_type": "stream",
          "text": [
            "WARNING:absl:Found untraced functions such as dense_layer_call_fn, dense_layer_call_and_return_conditional_losses, dense_1_layer_call_fn, dense_1_layer_call_and_return_conditional_losses, dense_2_layer_call_fn while saving (showing 5 of 20). These functions will not be directly callable after loading.\n"
          ]
        },
        {
          "name": "stdout",
          "output_type": "stream",
          "text": [
            "INFO:tensorflow:Assets written to: saved_networks/duelingdqn_model135/assets\n"
          ]
        },
        {
          "name": "stderr",
          "output_type": "stream",
          "text": [
            "INFO:tensorflow:Assets written to: saved_networks/duelingdqn_model135/assets\n"
          ]
        },
        {
          "name": "stdout",
          "output_type": "stream",
          "text": [
            "Network saved\n",
            "Episode 652/1000, Score: 265.24464292869004 (0.01), AVG Score: 246.4969534566479\n"
          ]
        },
        {
          "name": "stderr",
          "output_type": "stream",
          "text": [
            "WARNING:absl:Found untraced functions such as dense_layer_call_fn, dense_layer_call_and_return_conditional_losses, dense_1_layer_call_fn, dense_1_layer_call_and_return_conditional_losses, dense_2_layer_call_fn while saving (showing 5 of 20). These functions will not be directly callable after loading.\n"
          ]
        },
        {
          "name": "stdout",
          "output_type": "stream",
          "text": [
            "INFO:tensorflow:Assets written to: saved_networks/duelingdqn_model136/assets\n"
          ]
        },
        {
          "name": "stderr",
          "output_type": "stream",
          "text": [
            "INFO:tensorflow:Assets written to: saved_networks/duelingdqn_model136/assets\n"
          ]
        },
        {
          "name": "stdout",
          "output_type": "stream",
          "text": [
            "Network saved\n",
            "Episode 653/1000, Score: 273.20989077258804 (0.01), AVG Score: 246.69059195533936\n"
          ]
        },
        {
          "name": "stderr",
          "output_type": "stream",
          "text": [
            "WARNING:absl:Found untraced functions such as dense_layer_call_fn, dense_layer_call_and_return_conditional_losses, dense_1_layer_call_fn, dense_1_layer_call_and_return_conditional_losses, dense_2_layer_call_fn while saving (showing 5 of 20). These functions will not be directly callable after loading.\n"
          ]
        },
        {
          "name": "stdout",
          "output_type": "stream",
          "text": [
            "INFO:tensorflow:Assets written to: saved_networks/duelingdqn_model137/assets\n"
          ]
        },
        {
          "name": "stderr",
          "output_type": "stream",
          "text": [
            "INFO:tensorflow:Assets written to: saved_networks/duelingdqn_model137/assets\n"
          ]
        },
        {
          "name": "stdout",
          "output_type": "stream",
          "text": [
            "Network saved\n",
            "Episode 654/1000, Score: 262.4770396406991 (0.01), AVG Score: 246.86542688015928\n"
          ]
        },
        {
          "name": "stderr",
          "output_type": "stream",
          "text": [
            "WARNING:absl:Found untraced functions such as dense_layer_call_fn, dense_layer_call_and_return_conditional_losses, dense_1_layer_call_fn, dense_1_layer_call_and_return_conditional_losses, dense_2_layer_call_fn while saving (showing 5 of 20). These functions will not be directly callable after loading.\n"
          ]
        },
        {
          "name": "stdout",
          "output_type": "stream",
          "text": [
            "INFO:tensorflow:Assets written to: saved_networks/duelingdqn_model138/assets\n"
          ]
        },
        {
          "name": "stderr",
          "output_type": "stream",
          "text": [
            "INFO:tensorflow:Assets written to: saved_networks/duelingdqn_model138/assets\n"
          ]
        },
        {
          "name": "stdout",
          "output_type": "stream",
          "text": [
            "Network saved\n",
            "Episode 655/1000, Score: 272.5596422686499 (0.01), AVG Score: 246.89697646868743\n"
          ]
        },
        {
          "name": "stderr",
          "output_type": "stream",
          "text": [
            "WARNING:absl:Found untraced functions such as dense_layer_call_fn, dense_layer_call_and_return_conditional_losses, dense_1_layer_call_fn, dense_1_layer_call_and_return_conditional_losses, dense_2_layer_call_fn while saving (showing 5 of 20). These functions will not be directly callable after loading.\n"
          ]
        },
        {
          "name": "stdout",
          "output_type": "stream",
          "text": [
            "INFO:tensorflow:Assets written to: saved_networks/duelingdqn_model139/assets\n"
          ]
        },
        {
          "name": "stderr",
          "output_type": "stream",
          "text": [
            "INFO:tensorflow:Assets written to: saved_networks/duelingdqn_model139/assets\n"
          ]
        },
        {
          "name": "stdout",
          "output_type": "stream",
          "text": [
            "Network saved\n",
            "Episode 656/1000, Score: 271.24994469844256 (0.01), AVG Score: 247.14206601727338\n"
          ]
        },
        {
          "name": "stderr",
          "output_type": "stream",
          "text": [
            "WARNING:absl:Found untraced functions such as dense_layer_call_fn, dense_layer_call_and_return_conditional_losses, dense_1_layer_call_fn, dense_1_layer_call_and_return_conditional_losses, dense_2_layer_call_fn while saving (showing 5 of 20). These functions will not be directly callable after loading.\n"
          ]
        },
        {
          "name": "stdout",
          "output_type": "stream",
          "text": [
            "INFO:tensorflow:Assets written to: saved_networks/duelingdqn_model140/assets\n"
          ]
        },
        {
          "name": "stderr",
          "output_type": "stream",
          "text": [
            "INFO:tensorflow:Assets written to: saved_networks/duelingdqn_model140/assets\n"
          ]
        },
        {
          "name": "stdout",
          "output_type": "stream",
          "text": [
            "Network saved\n",
            "Episode 657/1000, Score: 265.96117302772336 (0.01), AVG Score: 249.68903744637464\n"
          ]
        },
        {
          "name": "stderr",
          "output_type": "stream",
          "text": [
            "WARNING:absl:Found untraced functions such as dense_layer_call_fn, dense_layer_call_and_return_conditional_losses, dense_1_layer_call_fn, dense_1_layer_call_and_return_conditional_losses, dense_2_layer_call_fn while saving (showing 5 of 20). These functions will not be directly callable after loading.\n"
          ]
        },
        {
          "name": "stdout",
          "output_type": "stream",
          "text": [
            "INFO:tensorflow:Assets written to: saved_networks/duelingdqn_model141/assets\n"
          ]
        },
        {
          "name": "stderr",
          "output_type": "stream",
          "text": [
            "INFO:tensorflow:Assets written to: saved_networks/duelingdqn_model141/assets\n"
          ]
        },
        {
          "name": "stdout",
          "output_type": "stream",
          "text": [
            "Network saved\n",
            "Episode 658/1000, Score: -1.368626601488657 (0.01), AVG Score: 247.3144990720622\n",
            "Episode 659/1000, Score: 251.67594838880518 (0.01), AVG Score: 247.0744814596257\n"
          ]
        },
        {
          "name": "stderr",
          "output_type": "stream",
          "text": [
            "WARNING:absl:Found untraced functions such as dense_layer_call_fn, dense_layer_call_and_return_conditional_losses, dense_1_layer_call_fn, dense_1_layer_call_and_return_conditional_losses, dense_2_layer_call_fn while saving (showing 5 of 20). These functions will not be directly callable after loading.\n"
          ]
        },
        {
          "name": "stdout",
          "output_type": "stream",
          "text": [
            "INFO:tensorflow:Assets written to: saved_networks/duelingdqn_model142/assets\n"
          ]
        },
        {
          "name": "stderr",
          "output_type": "stream",
          "text": [
            "INFO:tensorflow:Assets written to: saved_networks/duelingdqn_model142/assets\n"
          ]
        },
        {
          "name": "stdout",
          "output_type": "stream",
          "text": [
            "Network saved\n",
            "Episode 660/1000, Score: 34.12561174737556 (0.01), AVG Score: 244.747431875041\n",
            "Episode 661/1000, Score: 299.11777255844225 (0.01), AVG Score: 244.90563071709073\n"
          ]
        },
        {
          "name": "stderr",
          "output_type": "stream",
          "text": [
            "WARNING:absl:Found untraced functions such as dense_layer_call_fn, dense_layer_call_and_return_conditional_losses, dense_1_layer_call_fn, dense_1_layer_call_and_return_conditional_losses, dense_2_layer_call_fn while saving (showing 5 of 20). These functions will not be directly callable after loading.\n"
          ]
        },
        {
          "name": "stdout",
          "output_type": "stream",
          "text": [
            "INFO:tensorflow:Assets written to: saved_networks/duelingdqn_model143/assets\n"
          ]
        },
        {
          "name": "stderr",
          "output_type": "stream",
          "text": [
            "INFO:tensorflow:Assets written to: saved_networks/duelingdqn_model143/assets\n"
          ]
        },
        {
          "name": "stdout",
          "output_type": "stream",
          "text": [
            "Network saved\n",
            "Episode 662/1000, Score: 305.9419537002227 (0.01), AVG Score: 247.80706620480248\n"
          ]
        },
        {
          "name": "stderr",
          "output_type": "stream",
          "text": [
            "WARNING:absl:Found untraced functions such as dense_layer_call_fn, dense_layer_call_and_return_conditional_losses, dense_1_layer_call_fn, dense_1_layer_call_and_return_conditional_losses, dense_2_layer_call_fn while saving (showing 5 of 20). These functions will not be directly callable after loading.\n"
          ]
        },
        {
          "name": "stdout",
          "output_type": "stream",
          "text": [
            "INFO:tensorflow:Assets written to: saved_networks/duelingdqn_model144/assets\n"
          ]
        },
        {
          "name": "stderr",
          "output_type": "stream",
          "text": [
            "INFO:tensorflow:Assets written to: saved_networks/duelingdqn_model144/assets\n"
          ]
        },
        {
          "name": "stdout",
          "output_type": "stream",
          "text": [
            "Network saved\n",
            "Episode 663/1000, Score: 285.8311437869371 (0.01), AVG Score: 248.18153084801423\n"
          ]
        },
        {
          "name": "stderr",
          "output_type": "stream",
          "text": [
            "WARNING:absl:Found untraced functions such as dense_layer_call_fn, dense_layer_call_and_return_conditional_losses, dense_1_layer_call_fn, dense_1_layer_call_and_return_conditional_losses, dense_2_layer_call_fn while saving (showing 5 of 20). These functions will not be directly callable after loading.\n"
          ]
        },
        {
          "name": "stdout",
          "output_type": "stream",
          "text": [
            "INFO:tensorflow:Assets written to: saved_networks/duelingdqn_model145/assets\n"
          ]
        },
        {
          "name": "stderr",
          "output_type": "stream",
          "text": [
            "INFO:tensorflow:Assets written to: saved_networks/duelingdqn_model145/assets\n"
          ]
        },
        {
          "name": "stdout",
          "output_type": "stream",
          "text": [
            "Network saved\n",
            "Episode 664/1000, Score: 262.9225075284024 (0.01), AVG Score: 248.07031689067782\n"
          ]
        },
        {
          "name": "stderr",
          "output_type": "stream",
          "text": [
            "WARNING:absl:Found untraced functions such as dense_layer_call_fn, dense_layer_call_and_return_conditional_losses, dense_1_layer_call_fn, dense_1_layer_call_and_return_conditional_losses, dense_2_layer_call_fn while saving (showing 5 of 20). These functions will not be directly callable after loading.\n"
          ]
        },
        {
          "name": "stdout",
          "output_type": "stream",
          "text": [
            "INFO:tensorflow:Assets written to: saved_networks/duelingdqn_model146/assets\n"
          ]
        },
        {
          "name": "stderr",
          "output_type": "stream",
          "text": [
            "INFO:tensorflow:Assets written to: saved_networks/duelingdqn_model146/assets\n"
          ]
        },
        {
          "name": "stdout",
          "output_type": "stream",
          "text": [
            "Network saved\n",
            "Episode 665/1000, Score: 248.5045634991795 (0.01), AVG Score: 247.58024224742442\n",
            "Episode 666/1000, Score: -2.3482937090946194 (0.01), AVG Score: 244.83334152098357\n",
            "Episode 667/1000, Score: 262.7127297610185 (0.01), AVG Score: 244.72699427514922\n"
          ]
        },
        {
          "name": "stderr",
          "output_type": "stream",
          "text": [
            "WARNING:absl:Found untraced functions such as dense_layer_call_fn, dense_layer_call_and_return_conditional_losses, dense_1_layer_call_fn, dense_1_layer_call_and_return_conditional_losses, dense_2_layer_call_fn while saving (showing 5 of 20). These functions will not be directly callable after loading.\n"
          ]
        },
        {
          "name": "stdout",
          "output_type": "stream",
          "text": [
            "INFO:tensorflow:Assets written to: saved_networks/duelingdqn_model147/assets\n"
          ]
        },
        {
          "name": "stderr",
          "output_type": "stream",
          "text": [
            "INFO:tensorflow:Assets written to: saved_networks/duelingdqn_model147/assets\n"
          ]
        },
        {
          "name": "stdout",
          "output_type": "stream",
          "text": [
            "Network saved\n",
            "Episode 668/1000, Score: -196.03010393158894 (0.01), AVG Score: 240.7759914105185\n",
            "Episode 669/1000, Score: 262.417451637807 (0.01), AVG Score: 240.79148628092614\n"
          ]
        },
        {
          "name": "stderr",
          "output_type": "stream",
          "text": [
            "WARNING:absl:Found untraced functions such as dense_layer_call_fn, dense_layer_call_and_return_conditional_losses, dense_1_layer_call_fn, dense_1_layer_call_and_return_conditional_losses, dense_2_layer_call_fn while saving (showing 5 of 20). These functions will not be directly callable after loading.\n"
          ]
        },
        {
          "name": "stdout",
          "output_type": "stream",
          "text": [
            "INFO:tensorflow:Assets written to: saved_networks/duelingdqn_model148/assets\n"
          ]
        },
        {
          "name": "stderr",
          "output_type": "stream",
          "text": [
            "INFO:tensorflow:Assets written to: saved_networks/duelingdqn_model148/assets\n"
          ]
        },
        {
          "name": "stdout",
          "output_type": "stream",
          "text": [
            "Network saved\n",
            "Episode 670/1000, Score: 280.66209331844937 (0.01), AVG Score: 241.05883374032138\n"
          ]
        },
        {
          "name": "stderr",
          "output_type": "stream",
          "text": [
            "WARNING:absl:Found untraced functions such as dense_layer_call_fn, dense_layer_call_and_return_conditional_losses, dense_1_layer_call_fn, dense_1_layer_call_and_return_conditional_losses, dense_2_layer_call_fn while saving (showing 5 of 20). These functions will not be directly callable after loading.\n"
          ]
        },
        {
          "name": "stdout",
          "output_type": "stream",
          "text": [
            "INFO:tensorflow:Assets written to: saved_networks/duelingdqn_model149/assets\n"
          ]
        },
        {
          "name": "stderr",
          "output_type": "stream",
          "text": [
            "INFO:tensorflow:Assets written to: saved_networks/duelingdqn_model149/assets\n"
          ]
        },
        {
          "name": "stdout",
          "output_type": "stream",
          "text": [
            "Network saved\n",
            "Episode 671/1000, Score: 275.2177539058326 (0.01), AVG Score: 241.31015492554715\n"
          ]
        },
        {
          "name": "stderr",
          "output_type": "stream",
          "text": [
            "WARNING:absl:Found untraced functions such as dense_layer_call_fn, dense_layer_call_and_return_conditional_losses, dense_1_layer_call_fn, dense_1_layer_call_and_return_conditional_losses, dense_2_layer_call_fn while saving (showing 5 of 20). These functions will not be directly callable after loading.\n"
          ]
        },
        {
          "name": "stdout",
          "output_type": "stream",
          "text": [
            "INFO:tensorflow:Assets written to: saved_networks/duelingdqn_model150/assets\n"
          ]
        },
        {
          "name": "stderr",
          "output_type": "stream",
          "text": [
            "INFO:tensorflow:Assets written to: saved_networks/duelingdqn_model150/assets\n"
          ]
        },
        {
          "name": "stdout",
          "output_type": "stream",
          "text": [
            "Network saved\n",
            "Episode 672/1000, Score: 239.98328855783387 (0.01), AVG Score: 240.90179501594287\n",
            "Episode 673/1000, Score: -30.634283006172268 (0.01), AVG Score: 237.90083588897468\n",
            "Episode 674/1000, Score: 248.3293774420479 (0.01), AVG Score: 238.3373468024618\n",
            "Episode 675/1000, Score: 236.83707098875203 (0.01), AVG Score: 240.88897671006328\n",
            "Episode 676/1000, Score: 267.56257183250995 (0.01), AVG Score: 240.7813455940725\n"
          ]
        },
        {
          "name": "stderr",
          "output_type": "stream",
          "text": [
            "WARNING:absl:Found untraced functions such as dense_layer_call_fn, dense_layer_call_and_return_conditional_losses, dense_1_layer_call_fn, dense_1_layer_call_and_return_conditional_losses, dense_2_layer_call_fn while saving (showing 5 of 20). These functions will not be directly callable after loading.\n"
          ]
        },
        {
          "name": "stdout",
          "output_type": "stream",
          "text": [
            "INFO:tensorflow:Assets written to: saved_networks/duelingdqn_model151/assets\n"
          ]
        },
        {
          "name": "stderr",
          "output_type": "stream",
          "text": [
            "INFO:tensorflow:Assets written to: saved_networks/duelingdqn_model151/assets\n"
          ]
        },
        {
          "name": "stdout",
          "output_type": "stream",
          "text": [
            "Network saved\n",
            "Episode 677/1000, Score: 288.63326144152416 (0.01), AVG Score: 241.4489666432621\n"
          ]
        },
        {
          "name": "stderr",
          "output_type": "stream",
          "text": [
            "WARNING:absl:Found untraced functions such as dense_layer_call_fn, dense_layer_call_and_return_conditional_losses, dense_1_layer_call_fn, dense_1_layer_call_and_return_conditional_losses, dense_2_layer_call_fn while saving (showing 5 of 20). These functions will not be directly callable after loading.\n"
          ]
        },
        {
          "name": "stdout",
          "output_type": "stream",
          "text": [
            "INFO:tensorflow:Assets written to: saved_networks/duelingdqn_model152/assets\n"
          ]
        },
        {
          "name": "stderr",
          "output_type": "stream",
          "text": [
            "INFO:tensorflow:Assets written to: saved_networks/duelingdqn_model152/assets\n"
          ]
        },
        {
          "name": "stdout",
          "output_type": "stream",
          "text": [
            "Network saved\n",
            "Episode 678/1000, Score: 262.80831833837465 (0.01), AVG Score: 241.31776846893302\n"
          ]
        },
        {
          "name": "stderr",
          "output_type": "stream",
          "text": [
            "WARNING:absl:Found untraced functions such as dense_layer_call_fn, dense_layer_call_and_return_conditional_losses, dense_1_layer_call_fn, dense_1_layer_call_and_return_conditional_losses, dense_2_layer_call_fn while saving (showing 5 of 20). These functions will not be directly callable after loading.\n"
          ]
        },
        {
          "name": "stdout",
          "output_type": "stream",
          "text": [
            "INFO:tensorflow:Assets written to: saved_networks/duelingdqn_model153/assets\n"
          ]
        },
        {
          "name": "stderr",
          "output_type": "stream",
          "text": [
            "INFO:tensorflow:Assets written to: saved_networks/duelingdqn_model153/assets\n"
          ]
        },
        {
          "name": "stdout",
          "output_type": "stream",
          "text": [
            "Network saved\n",
            "Episode 679/1000, Score: -36.83773650846682 (0.01), AVG Score: 237.97446327614026\n",
            "Episode 680/1000, Score: 276.3129458712739 (0.01), AVG Score: 237.8917763481767\n"
          ]
        },
        {
          "name": "stderr",
          "output_type": "stream",
          "text": [
            "WARNING:absl:Found untraced functions such as dense_layer_call_fn, dense_layer_call_and_return_conditional_losses, dense_1_layer_call_fn, dense_1_layer_call_and_return_conditional_losses, dense_2_layer_call_fn while saving (showing 5 of 20). These functions will not be directly callable after loading.\n"
          ]
        },
        {
          "name": "stdout",
          "output_type": "stream",
          "text": [
            "INFO:tensorflow:Assets written to: saved_networks/duelingdqn_model154/assets\n"
          ]
        },
        {
          "name": "stderr",
          "output_type": "stream",
          "text": [
            "INFO:tensorflow:Assets written to: saved_networks/duelingdqn_model154/assets\n"
          ]
        },
        {
          "name": "stdout",
          "output_type": "stream",
          "text": [
            "Network saved\n",
            "Episode 681/1000, Score: 266.90460636508925 (0.01), AVG Score: 237.90681530373178\n"
          ]
        },
        {
          "name": "stderr",
          "output_type": "stream",
          "text": [
            "WARNING:absl:Found untraced functions such as dense_layer_call_fn, dense_layer_call_and_return_conditional_losses, dense_1_layer_call_fn, dense_1_layer_call_and_return_conditional_losses, dense_2_layer_call_fn while saving (showing 5 of 20). These functions will not be directly callable after loading.\n"
          ]
        },
        {
          "name": "stdout",
          "output_type": "stream",
          "text": [
            "INFO:tensorflow:Assets written to: saved_networks/duelingdqn_model155/assets\n"
          ]
        },
        {
          "name": "stderr",
          "output_type": "stream",
          "text": [
            "INFO:tensorflow:Assets written to: saved_networks/duelingdqn_model155/assets\n"
          ]
        },
        {
          "name": "stdout",
          "output_type": "stream",
          "text": [
            "Network saved\n",
            "Episode 682/1000, Score: 256.5876688127511 (0.01), AVG Score: 237.7044518317923\n"
          ]
        },
        {
          "name": "stderr",
          "output_type": "stream",
          "text": [
            "WARNING:absl:Found untraced functions such as dense_layer_call_fn, dense_layer_call_and_return_conditional_losses, dense_1_layer_call_fn, dense_1_layer_call_and_return_conditional_losses, dense_2_layer_call_fn while saving (showing 5 of 20). These functions will not be directly callable after loading.\n"
          ]
        },
        {
          "name": "stdout",
          "output_type": "stream",
          "text": [
            "INFO:tensorflow:Assets written to: saved_networks/duelingdqn_model156/assets\n"
          ]
        },
        {
          "name": "stderr",
          "output_type": "stream",
          "text": [
            "INFO:tensorflow:Assets written to: saved_networks/duelingdqn_model156/assets\n"
          ]
        },
        {
          "name": "stdout",
          "output_type": "stream",
          "text": [
            "Network saved\n",
            "Episode 683/1000, Score: 260.6217590751927 (0.01), AVG Score: 237.5716319532942\n"
          ]
        },
        {
          "name": "stderr",
          "output_type": "stream",
          "text": [
            "WARNING:absl:Found untraced functions such as dense_layer_call_fn, dense_layer_call_and_return_conditional_losses, dense_1_layer_call_fn, dense_1_layer_call_and_return_conditional_losses, dense_2_layer_call_fn while saving (showing 5 of 20). These functions will not be directly callable after loading.\n"
          ]
        },
        {
          "name": "stdout",
          "output_type": "stream",
          "text": [
            "INFO:tensorflow:Assets written to: saved_networks/duelingdqn_model157/assets\n"
          ]
        },
        {
          "name": "stderr",
          "output_type": "stream",
          "text": [
            "INFO:tensorflow:Assets written to: saved_networks/duelingdqn_model157/assets\n"
          ]
        },
        {
          "name": "stdout",
          "output_type": "stream",
          "text": [
            "Network saved\n",
            "Episode 684/1000, Score: 266.4498160199735 (0.01), AVG Score: 237.15497179185385\n"
          ]
        },
        {
          "name": "stderr",
          "output_type": "stream",
          "text": [
            "WARNING:absl:Found untraced functions such as dense_layer_call_fn, dense_layer_call_and_return_conditional_losses, dense_1_layer_call_fn, dense_1_layer_call_and_return_conditional_losses, dense_2_layer_call_fn while saving (showing 5 of 20). These functions will not be directly callable after loading.\n"
          ]
        },
        {
          "name": "stdout",
          "output_type": "stream",
          "text": [
            "INFO:tensorflow:Assets written to: saved_networks/duelingdqn_model158/assets\n"
          ]
        },
        {
          "name": "stderr",
          "output_type": "stream",
          "text": [
            "INFO:tensorflow:Assets written to: saved_networks/duelingdqn_model158/assets\n"
          ]
        },
        {
          "name": "stdout",
          "output_type": "stream",
          "text": [
            "Network saved\n",
            "Episode 685/1000, Score: 247.32511119811363 (0.01), AVG Score: 236.8066168343973\n",
            "Episode 686/1000, Score: 11.974970729194254 (0.01), AVG Score: 234.24577368366718\n",
            "Episode 687/1000, Score: -96.00344538755556 (0.01), AVG Score: 230.5165996417941\n",
            "Episode 688/1000, Score: 224.42688472334132 (0.01), AVG Score: 232.57808410743004\n",
            "Episode 689/1000, Score: 235.94121073302654 (0.01), AVG Score: 232.24595715277562\n",
            "Episode 690/1000, Score: 222.09010607481946 (0.01), AVG Score: 232.1736204964888\n",
            "Episode 691/1000, Score: 274.07094783428386 (0.01), AVG Score: 232.09309833632284\n"
          ]
        },
        {
          "name": "stderr",
          "output_type": "stream",
          "text": [
            "WARNING:absl:Found untraced functions such as dense_layer_call_fn, dense_layer_call_and_return_conditional_losses, dense_1_layer_call_fn, dense_1_layer_call_and_return_conditional_losses, dense_2_layer_call_fn while saving (showing 5 of 20). These functions will not be directly callable after loading.\n"
          ]
        },
        {
          "name": "stdout",
          "output_type": "stream",
          "text": [
            "INFO:tensorflow:Assets written to: saved_networks/duelingdqn_model159/assets\n"
          ]
        },
        {
          "name": "stderr",
          "output_type": "stream",
          "text": [
            "INFO:tensorflow:Assets written to: saved_networks/duelingdqn_model159/assets\n"
          ]
        },
        {
          "name": "stdout",
          "output_type": "stream",
          "text": [
            "Network saved\n",
            "Episode 692/1000, Score: 290.56185510253897 (0.01), AVG Score: 231.9260906874299\n"
          ]
        },
        {
          "name": "stderr",
          "output_type": "stream",
          "text": [
            "WARNING:absl:Found untraced functions such as dense_layer_call_fn, dense_layer_call_and_return_conditional_losses, dense_1_layer_call_fn, dense_1_layer_call_and_return_conditional_losses, dense_2_layer_call_fn while saving (showing 5 of 20). These functions will not be directly callable after loading.\n"
          ]
        },
        {
          "name": "stdout",
          "output_type": "stream",
          "text": [
            "INFO:tensorflow:Assets written to: saved_networks/duelingdqn_model160/assets\n"
          ]
        },
        {
          "name": "stderr",
          "output_type": "stream",
          "text": [
            "INFO:tensorflow:Assets written to: saved_networks/duelingdqn_model160/assets\n"
          ]
        },
        {
          "name": "stdout",
          "output_type": "stream",
          "text": [
            "Network saved\n",
            "Episode 693/1000, Score: 270.43796078573337 (0.01), AVG Score: 231.62952872176328\n"
          ]
        },
        {
          "name": "stderr",
          "output_type": "stream",
          "text": [
            "WARNING:absl:Found untraced functions such as dense_layer_call_fn, dense_layer_call_and_return_conditional_losses, dense_1_layer_call_fn, dense_1_layer_call_and_return_conditional_losses, dense_2_layer_call_fn while saving (showing 5 of 20). These functions will not be directly callable after loading.\n"
          ]
        },
        {
          "name": "stdout",
          "output_type": "stream",
          "text": [
            "INFO:tensorflow:Assets written to: saved_networks/duelingdqn_model161/assets\n"
          ]
        },
        {
          "name": "stderr",
          "output_type": "stream",
          "text": [
            "INFO:tensorflow:Assets written to: saved_networks/duelingdqn_model161/assets\n"
          ]
        },
        {
          "name": "stdout",
          "output_type": "stream",
          "text": [
            "Network saved\n",
            "Episode 694/1000, Score: 288.80272406281165 (0.01), AVG Score: 231.98502013680346\n"
          ]
        },
        {
          "name": "stderr",
          "output_type": "stream",
          "text": [
            "WARNING:absl:Found untraced functions such as dense_layer_call_fn, dense_layer_call_and_return_conditional_losses, dense_1_layer_call_fn, dense_1_layer_call_and_return_conditional_losses, dense_2_layer_call_fn while saving (showing 5 of 20). These functions will not be directly callable after loading.\n"
          ]
        },
        {
          "name": "stdout",
          "output_type": "stream",
          "text": [
            "INFO:tensorflow:Assets written to: saved_networks/duelingdqn_model162/assets\n"
          ]
        },
        {
          "name": "stderr",
          "output_type": "stream",
          "text": [
            "INFO:tensorflow:Assets written to: saved_networks/duelingdqn_model162/assets\n"
          ]
        },
        {
          "name": "stdout",
          "output_type": "stream",
          "text": [
            "Network saved\n",
            "Episode 695/1000, Score: 188.19781378736093 (0.01), AVG Score: 231.1797922795457\n",
            "Episode 696/1000, Score: 245.81174450844856 (0.01), AVG Score: 230.8107760678161\n",
            "Episode 697/1000, Score: 296.6617337073046 (0.01), AVG Score: 231.01320393368948\n"
          ]
        },
        {
          "name": "stderr",
          "output_type": "stream",
          "text": [
            "WARNING:absl:Found untraced functions such as dense_layer_call_fn, dense_layer_call_and_return_conditional_losses, dense_1_layer_call_fn, dense_1_layer_call_and_return_conditional_losses, dense_2_layer_call_fn while saving (showing 5 of 20). These functions will not be directly callable after loading.\n"
          ]
        },
        {
          "name": "stdout",
          "output_type": "stream",
          "text": [
            "INFO:tensorflow:Assets written to: saved_networks/duelingdqn_model163/assets\n"
          ]
        },
        {
          "name": "stderr",
          "output_type": "stream",
          "text": [
            "INFO:tensorflow:Assets written to: saved_networks/duelingdqn_model163/assets\n"
          ]
        },
        {
          "name": "stdout",
          "output_type": "stream",
          "text": [
            "Network saved\n",
            "Episode 698/1000, Score: 236.32001207833758 (0.01), AVG Score: 230.45368384969854\n",
            "Episode 699/1000, Score: 269.614412822787 (0.01), AVG Score: 230.32743341807083\n"
          ]
        },
        {
          "name": "stderr",
          "output_type": "stream",
          "text": [
            "WARNING:absl:Found untraced functions such as dense_layer_call_fn, dense_layer_call_and_return_conditional_losses, dense_1_layer_call_fn, dense_1_layer_call_and_return_conditional_losses, dense_2_layer_call_fn while saving (showing 5 of 20). These functions will not be directly callable after loading.\n"
          ]
        },
        {
          "name": "stdout",
          "output_type": "stream",
          "text": [
            "INFO:tensorflow:Assets written to: saved_networks/duelingdqn_model164/assets\n"
          ]
        },
        {
          "name": "stderr",
          "output_type": "stream",
          "text": [
            "INFO:tensorflow:Assets written to: saved_networks/duelingdqn_model164/assets\n"
          ]
        },
        {
          "name": "stdout",
          "output_type": "stream",
          "text": [
            "Network saved\n",
            "Episode 700/1000, Score: 255.85572180769182 (0.01), AVG Score: 230.48138294352196\n"
          ]
        },
        {
          "name": "stderr",
          "output_type": "stream",
          "text": [
            "WARNING:absl:Found untraced functions such as dense_layer_call_fn, dense_layer_call_and_return_conditional_losses, dense_1_layer_call_fn, dense_1_layer_call_and_return_conditional_losses, dense_2_layer_call_fn while saving (showing 5 of 20). These functions will not be directly callable after loading.\n"
          ]
        },
        {
          "name": "stdout",
          "output_type": "stream",
          "text": [
            "INFO:tensorflow:Assets written to: saved_networks/duelingdqn_model165/assets\n"
          ]
        },
        {
          "name": "stderr",
          "output_type": "stream",
          "text": [
            "INFO:tensorflow:Assets written to: saved_networks/duelingdqn_model165/assets\n"
          ]
        },
        {
          "name": "stdout",
          "output_type": "stream",
          "text": [
            "Network saved\n",
            "Episode 701/1000, Score: 14.500326620628115 (0.01), AVG Score: 227.9113614586995\n",
            "Episode 702/1000, Score: 308.826692756438 (0.01), AVG Score: 228.29750220188814\n"
          ]
        },
        {
          "name": "stderr",
          "output_type": "stream",
          "text": [
            "WARNING:absl:Found untraced functions such as dense_layer_call_fn, dense_layer_call_and_return_conditional_losses, dense_1_layer_call_fn, dense_1_layer_call_and_return_conditional_losses, dense_2_layer_call_fn while saving (showing 5 of 20). These functions will not be directly callable after loading.\n"
          ]
        },
        {
          "name": "stdout",
          "output_type": "stream",
          "text": [
            "INFO:tensorflow:Assets written to: saved_networks/duelingdqn_model166/assets\n"
          ]
        },
        {
          "name": "stderr",
          "output_type": "stream",
          "text": [
            "INFO:tensorflow:Assets written to: saved_networks/duelingdqn_model166/assets\n"
          ]
        },
        {
          "name": "stdout",
          "output_type": "stream",
          "text": [
            "Network saved\n",
            "Episode 703/1000, Score: 281.9189434586717 (0.01), AVG Score: 228.44470545233443\n"
          ]
        },
        {
          "name": "stderr",
          "output_type": "stream",
          "text": [
            "WARNING:absl:Found untraced functions such as dense_layer_call_fn, dense_layer_call_and_return_conditional_losses, dense_1_layer_call_fn, dense_1_layer_call_and_return_conditional_losses, dense_2_layer_call_fn while saving (showing 5 of 20). These functions will not be directly callable after loading.\n"
          ]
        },
        {
          "name": "stdout",
          "output_type": "stream",
          "text": [
            "INFO:tensorflow:Assets written to: saved_networks/duelingdqn_model167/assets\n"
          ]
        },
        {
          "name": "stderr",
          "output_type": "stream",
          "text": [
            "INFO:tensorflow:Assets written to: saved_networks/duelingdqn_model167/assets\n"
          ]
        },
        {
          "name": "stdout",
          "output_type": "stream",
          "text": [
            "Network saved\n",
            "Episode 704/1000, Score: 279.99399271602164 (0.01), AVG Score: 228.7025807945608\n"
          ]
        },
        {
          "name": "stderr",
          "output_type": "stream",
          "text": [
            "WARNING:absl:Found untraced functions such as dense_layer_call_fn, dense_layer_call_and_return_conditional_losses, dense_1_layer_call_fn, dense_1_layer_call_and_return_conditional_losses, dense_2_layer_call_fn while saving (showing 5 of 20). These functions will not be directly callable after loading.\n"
          ]
        },
        {
          "name": "stdout",
          "output_type": "stream",
          "text": [
            "INFO:tensorflow:Assets written to: saved_networks/duelingdqn_model168/assets\n"
          ]
        },
        {
          "name": "stderr",
          "output_type": "stream",
          "text": [
            "INFO:tensorflow:Assets written to: saved_networks/duelingdqn_model168/assets\n"
          ]
        },
        {
          "name": "stdout",
          "output_type": "stream",
          "text": [
            "Network saved\n",
            "Episode 705/1000, Score: 255.5835542995027 (0.01), AVG Score: 228.5487904228516\n"
          ]
        },
        {
          "name": "stderr",
          "output_type": "stream",
          "text": [
            "WARNING:absl:Found untraced functions such as dense_layer_call_fn, dense_layer_call_and_return_conditional_losses, dense_1_layer_call_fn, dense_1_layer_call_and_return_conditional_losses, dense_2_layer_call_fn while saving (showing 5 of 20). These functions will not be directly callable after loading.\n"
          ]
        },
        {
          "name": "stdout",
          "output_type": "stream",
          "text": [
            "INFO:tensorflow:Assets written to: saved_networks/duelingdqn_model169/assets\n"
          ]
        },
        {
          "name": "stderr",
          "output_type": "stream",
          "text": [
            "INFO:tensorflow:Assets written to: saved_networks/duelingdqn_model169/assets\n"
          ]
        },
        {
          "name": "stdout",
          "output_type": "stream",
          "text": [
            "Network saved\n",
            "Episode 706/1000, Score: 279.2374831137729 (0.01), AVG Score: 228.68383387125053\n"
          ]
        },
        {
          "name": "stderr",
          "output_type": "stream",
          "text": [
            "WARNING:absl:Found untraced functions such as dense_layer_call_fn, dense_layer_call_and_return_conditional_losses, dense_1_layer_call_fn, dense_1_layer_call_and_return_conditional_losses, dense_2_layer_call_fn while saving (showing 5 of 20). These functions will not be directly callable after loading.\n"
          ]
        },
        {
          "name": "stdout",
          "output_type": "stream",
          "text": [
            "INFO:tensorflow:Assets written to: saved_networks/duelingdqn_model170/assets\n"
          ]
        },
        {
          "name": "stderr",
          "output_type": "stream",
          "text": [
            "INFO:tensorflow:Assets written to: saved_networks/duelingdqn_model170/assets\n"
          ]
        },
        {
          "name": "stdout",
          "output_type": "stream",
          "text": [
            "Network saved\n",
            "Episode 707/1000, Score: -162.48612316475334 (0.01), AVG Score: 224.40837610294267\n",
            "Episode 708/1000, Score: 299.63174644721096 (0.01), AVG Score: 224.65240511378732\n"
          ]
        },
        {
          "name": "stderr",
          "output_type": "stream",
          "text": [
            "WARNING:absl:Found untraced functions such as dense_layer_call_fn, dense_layer_call_and_return_conditional_losses, dense_1_layer_call_fn, dense_1_layer_call_and_return_conditional_losses, dense_2_layer_call_fn while saving (showing 5 of 20). These functions will not be directly callable after loading.\n"
          ]
        },
        {
          "name": "stdout",
          "output_type": "stream",
          "text": [
            "INFO:tensorflow:Assets written to: saved_networks/duelingdqn_model171/assets\n"
          ]
        },
        {
          "name": "stderr",
          "output_type": "stream",
          "text": [
            "INFO:tensorflow:Assets written to: saved_networks/duelingdqn_model171/assets\n"
          ]
        },
        {
          "name": "stdout",
          "output_type": "stream",
          "text": [
            "Network saved\n",
            "Episode 709/1000, Score: 218.61585001780003 (0.01), AVG Score: 224.09231983898778\n",
            "Episode 710/1000, Score: 261.58386331295395 (0.01), AVG Score: 223.93246312614932\n"
          ]
        },
        {
          "name": "stderr",
          "output_type": "stream",
          "text": [
            "WARNING:absl:Found untraced functions such as dense_layer_call_fn, dense_layer_call_and_return_conditional_losses, dense_1_layer_call_fn, dense_1_layer_call_and_return_conditional_losses, dense_2_layer_call_fn while saving (showing 5 of 20). These functions will not be directly callable after loading.\n"
          ]
        },
        {
          "name": "stdout",
          "output_type": "stream",
          "text": [
            "INFO:tensorflow:Assets written to: saved_networks/duelingdqn_model172/assets\n"
          ]
        },
        {
          "name": "stderr",
          "output_type": "stream",
          "text": [
            "INFO:tensorflow:Assets written to: saved_networks/duelingdqn_model172/assets\n"
          ]
        },
        {
          "name": "stdout",
          "output_type": "stream",
          "text": [
            "Network saved\n",
            "Episode 711/1000, Score: 259.5696935229713 (0.01), AVG Score: 223.80794022552345\n"
          ]
        },
        {
          "name": "stderr",
          "output_type": "stream",
          "text": [
            "WARNING:absl:Found untraced functions such as dense_layer_call_fn, dense_layer_call_and_return_conditional_losses, dense_1_layer_call_fn, dense_1_layer_call_and_return_conditional_losses, dense_2_layer_call_fn while saving (showing 5 of 20). These functions will not be directly callable after loading.\n"
          ]
        },
        {
          "name": "stdout",
          "output_type": "stream",
          "text": [
            "INFO:tensorflow:Assets written to: saved_networks/duelingdqn_model173/assets\n"
          ]
        },
        {
          "name": "stderr",
          "output_type": "stream",
          "text": [
            "INFO:tensorflow:Assets written to: saved_networks/duelingdqn_model173/assets\n"
          ]
        },
        {
          "name": "stdout",
          "output_type": "stream",
          "text": [
            "Network saved\n",
            "Episode 712/1000, Score: -130.79800090093394 (0.01), AVG Score: 219.89194431704502\n",
            "Episode 713/1000, Score: 237.95222179716527 (0.01), AVG Score: 219.4990801061973\n",
            "Episode 714/1000, Score: 199.649872101379 (0.01), AVG Score: 218.45345516180802\n",
            "Episode 715/1000, Score: 275.696677585955 (0.01), AVG Score: 218.4902960394758\n",
            "Episode 716/1000, Score: 278.1046819905039 (0.01), AVG Score: 218.16941266125326\n",
            "Episode 717/1000, Score: 218.42065874930086 (0.01), AVG Score: 217.43269501067698\n",
            "Episode 718/1000, Score: 240.80490853990116 (0.01), AVG Score: 217.25173489151476\n",
            "Episode 719/1000, Score: 266.92799636068935 (0.01), AVG Score: 217.18050466633034\n",
            "Episode 720/1000, Score: 260.4418951491221 (0.01), AVG Score: 217.56756802738994\n",
            "Episode 721/1000, Score: 248.34980631023512 (0.01), AVG Score: 217.45088763485296\n",
            "Episode 722/1000, Score: 217.28576134788722 (0.01), AVG Score: 216.94134601472422\n",
            "Episode 723/1000, Score: 290.4904334051387 (0.01), AVG Score: 217.15228216099698\n",
            "Episode 724/1000, Score: 293.23513046368447 (0.01), AVG Score: 217.43984073360014\n",
            "Episode 725/1000, Score: 253.01764537288216 (0.01), AVG Score: 217.77857293353193\n",
            "Episode 726/1000, Score: 262.90848113072934 (0.01), AVG Score: 217.95325210206124\n",
            "Episode 727/1000, Score: 278.6322777287961 (0.01), AVG Score: 218.13691048344364\n",
            "Episode 728/1000, Score: 270.25800659087463 (0.01), AVG Score: 218.40789780824693\n",
            "Episode 729/1000, Score: -152.69631830124592 (0.01), AVG Score: 214.18385228324104\n",
            "Episode 730/1000, Score: 275.6555608137401 (0.01), AVG Score: 214.46465398126477\n",
            "Episode 731/1000, Score: 225.59336876010752 (0.01), AVG Score: 214.22478951231443\n",
            "Episode 732/1000, Score: 271.21357731224805 (0.01), AVG Score: 214.12589025747806\n",
            "Episode 733/1000, Score: 185.735199870018 (0.01), AVG Score: 213.3821234175331\n",
            "Episode 734/1000, Score: 258.92944721328934 (0.01), AVG Score: 213.1903374662241\n",
            "Episode 735/1000, Score: 297.79616248472274 (0.01), AVG Score: 213.21799297297596\n",
            "Episode 736/1000, Score: 307.72202768886024 (0.01), AVG Score: 216.48140476569432\n",
            "Episode 737/1000, Score: 207.63810620970693 (0.01), AVG Score: 215.85744419893044\n",
            "Episode 738/1000, Score: 238.14249644306656 (0.01), AVG Score: 218.74275995327258\n",
            "Episode 739/1000, Score: 260.1924767528005 (0.01), AVG Score: 219.18169924388093\n",
            "Episode 740/1000, Score: 257.3755047291877 (0.01), AVG Score: 219.1673870554433\n",
            "Episode 741/1000, Score: 292.2860382010789 (0.01), AVG Score: 219.547904396073\n",
            "Episode 742/1000, Score: 266.8536665364381 (0.01), AVG Score: 219.64440699416213\n",
            "Episode 743/1000, Score: 272.869748036813 (0.01), AVG Score: 219.83875123816156\n",
            "Episode 744/1000, Score: 288.34276866591995 (0.01), AVG Score: 220.19424451699848\n"
          ]
        },
        {
          "name": "stderr",
          "output_type": "stream",
          "text": [
            "WARNING:absl:Found untraced functions such as dense_layer_call_fn, dense_layer_call_and_return_conditional_losses, dense_1_layer_call_fn, dense_1_layer_call_and_return_conditional_losses, dense_2_layer_call_fn while saving (showing 5 of 20). These functions will not be directly callable after loading.\n"
          ]
        },
        {
          "name": "stdout",
          "output_type": "stream",
          "text": [
            "INFO:tensorflow:Assets written to: saved_networks/duelingdqn_model174/assets\n"
          ]
        },
        {
          "name": "stderr",
          "output_type": "stream",
          "text": [
            "INFO:tensorflow:Assets written to: saved_networks/duelingdqn_model174/assets\n"
          ]
        },
        {
          "name": "stdout",
          "output_type": "stream",
          "text": [
            "Network saved\n",
            "Episode 745/1000, Score: 246.64808417704134 (0.01), AVG Score: 223.52034421595508\n",
            "Episode 746/1000, Score: 283.6648209670009 (0.01), AVG Score: 223.423265276532\n"
          ]
        },
        {
          "name": "stderr",
          "output_type": "stream",
          "text": [
            "WARNING:absl:Found untraced functions such as dense_layer_call_fn, dense_layer_call_and_return_conditional_losses, dense_1_layer_call_fn, dense_1_layer_call_and_return_conditional_losses, dense_2_layer_call_fn while saving (showing 5 of 20). These functions will not be directly callable after loading.\n"
          ]
        },
        {
          "name": "stdout",
          "output_type": "stream",
          "text": [
            "INFO:tensorflow:Assets written to: saved_networks/duelingdqn_model175/assets\n"
          ]
        },
        {
          "name": "stderr",
          "output_type": "stream",
          "text": [
            "INFO:tensorflow:Assets written to: saved_networks/duelingdqn_model175/assets\n"
          ]
        },
        {
          "name": "stdout",
          "output_type": "stream",
          "text": [
            "Network saved\n",
            "Episode 747/1000, Score: 260.9357090882811 (0.01), AVG Score: 223.46981841002352\n"
          ]
        },
        {
          "name": "stderr",
          "output_type": "stream",
          "text": [
            "WARNING:absl:Found untraced functions such as dense_layer_call_fn, dense_layer_call_and_return_conditional_losses, dense_1_layer_call_fn, dense_1_layer_call_and_return_conditional_losses, dense_2_layer_call_fn while saving (showing 5 of 20). These functions will not be directly callable after loading.\n"
          ]
        },
        {
          "name": "stdout",
          "output_type": "stream",
          "text": [
            "INFO:tensorflow:Assets written to: saved_networks/duelingdqn_model176/assets\n"
          ]
        },
        {
          "name": "stderr",
          "output_type": "stream",
          "text": [
            "INFO:tensorflow:Assets written to: saved_networks/duelingdqn_model176/assets\n"
          ]
        },
        {
          "name": "stdout",
          "output_type": "stream",
          "text": [
            "Network saved\n",
            "Episode 748/1000, Score: 309.5816354339161 (0.01), AVG Score: 223.77494372316093\n"
          ]
        },
        {
          "name": "stderr",
          "output_type": "stream",
          "text": [
            "WARNING:absl:Found untraced functions such as dense_layer_call_fn, dense_layer_call_and_return_conditional_losses, dense_1_layer_call_fn, dense_1_layer_call_and_return_conditional_losses, dense_2_layer_call_fn while saving (showing 5 of 20). These functions will not be directly callable after loading.\n"
          ]
        },
        {
          "name": "stdout",
          "output_type": "stream",
          "text": [
            "INFO:tensorflow:Assets written to: saved_networks/duelingdqn_model177/assets\n"
          ]
        },
        {
          "name": "stderr",
          "output_type": "stream",
          "text": [
            "INFO:tensorflow:Assets written to: saved_networks/duelingdqn_model177/assets\n"
          ]
        },
        {
          "name": "stdout",
          "output_type": "stream",
          "text": [
            "Network saved\n",
            "Episode 749/1000, Score: 248.672263150459 (0.01), AVG Score: 223.42713874180777\n",
            "Episode 750/1000, Score: 235.54463029502432 (0.01), AVG Score: 222.9662962767126\n",
            "Episode 751/1000, Score: 251.233560269557 (0.01), AVG Score: 222.94018280348575\n"
          ]
        },
        {
          "name": "stderr",
          "output_type": "stream",
          "text": [
            "WARNING:absl:Found untraced functions such as dense_layer_call_fn, dense_layer_call_and_return_conditional_losses, dense_1_layer_call_fn, dense_1_layer_call_and_return_conditional_losses, dense_2_layer_call_fn while saving (showing 5 of 20). These functions will not be directly callable after loading.\n"
          ]
        },
        {
          "name": "stdout",
          "output_type": "stream",
          "text": [
            "INFO:tensorflow:Assets written to: saved_networks/duelingdqn_model178/assets\n"
          ]
        },
        {
          "name": "stderr",
          "output_type": "stream",
          "text": [
            "INFO:tensorflow:Assets written to: saved_networks/duelingdqn_model178/assets\n"
          ]
        },
        {
          "name": "stdout",
          "output_type": "stream",
          "text": [
            "Network saved\n",
            "Episode 752/1000, Score: 272.1337250716499 (0.01), AVG Score: 223.00907362491537\n"
          ]
        },
        {
          "name": "stderr",
          "output_type": "stream",
          "text": [
            "WARNING:absl:Found untraced functions such as dense_layer_call_fn, dense_layer_call_and_return_conditional_losses, dense_1_layer_call_fn, dense_1_layer_call_and_return_conditional_losses, dense_2_layer_call_fn while saving (showing 5 of 20). These functions will not be directly callable after loading.\n"
          ]
        },
        {
          "name": "stdout",
          "output_type": "stream",
          "text": [
            "INFO:tensorflow:Assets written to: saved_networks/duelingdqn_model179/assets\n"
          ]
        },
        {
          "name": "stderr",
          "output_type": "stream",
          "text": [
            "INFO:tensorflow:Assets written to: saved_networks/duelingdqn_model179/assets\n"
          ]
        },
        {
          "name": "stdout",
          "output_type": "stream",
          "text": [
            "Network saved\n",
            "Episode 753/1000, Score: -184.31757146883106 (0.01), AVG Score: 218.4337990025012\n",
            "Episode 754/1000, Score: 289.5281980749453 (0.01), AVG Score: 218.70431058684363\n",
            "Episode 755/1000, Score: 302.5545897257157 (0.01), AVG Score: 219.00426006141433\n",
            "Episode 756/1000, Score: 194.89978879092016 (0.01), AVG Score: 218.24075850233905\n",
            "Episode 757/1000, Score: 292.2766038017933 (0.01), AVG Score: 218.50391281007975\n",
            "Episode 758/1000, Score: 249.46149822344432 (0.01), AVG Score: 221.01221405832908\n",
            "Episode 759/1000, Score: 275.2059482642659 (0.01), AVG Score: 221.24751405708372\n"
          ]
        },
        {
          "name": "stderr",
          "output_type": "stream",
          "text": [
            "WARNING:absl:Found untraced functions such as dense_layer_call_fn, dense_layer_call_and_return_conditional_losses, dense_1_layer_call_fn, dense_1_layer_call_and_return_conditional_losses, dense_2_layer_call_fn while saving (showing 5 of 20). These functions will not be directly callable after loading.\n"
          ]
        },
        {
          "name": "stdout",
          "output_type": "stream",
          "text": [
            "INFO:tensorflow:Assets written to: saved_networks/duelingdqn_model180/assets\n"
          ]
        },
        {
          "name": "stderr",
          "output_type": "stream",
          "text": [
            "INFO:tensorflow:Assets written to: saved_networks/duelingdqn_model180/assets\n"
          ]
        },
        {
          "name": "stdout",
          "output_type": "stream",
          "text": [
            "Network saved\n",
            "Episode 760/1000, Score: 283.1672861941355 (0.01), AVG Score: 223.7379308015513\n"
          ]
        },
        {
          "name": "stderr",
          "output_type": "stream",
          "text": [
            "WARNING:absl:Found untraced functions such as dense_layer_call_fn, dense_layer_call_and_return_conditional_losses, dense_1_layer_call_fn, dense_1_layer_call_and_return_conditional_losses, dense_2_layer_call_fn while saving (showing 5 of 20). These functions will not be directly callable after loading.\n"
          ]
        },
        {
          "name": "stdout",
          "output_type": "stream",
          "text": [
            "INFO:tensorflow:Assets written to: saved_networks/duelingdqn_model181/assets\n"
          ]
        },
        {
          "name": "stderr",
          "output_type": "stream",
          "text": [
            "INFO:tensorflow:Assets written to: saved_networks/duelingdqn_model181/assets\n"
          ]
        },
        {
          "name": "stdout",
          "output_type": "stream",
          "text": [
            "Network saved\n",
            "Episode 761/1000, Score: 278.41730025992223 (0.01), AVG Score: 223.53092607856613\n"
          ]
        },
        {
          "name": "stderr",
          "output_type": "stream",
          "text": [
            "WARNING:absl:Found untraced functions such as dense_layer_call_fn, dense_layer_call_and_return_conditional_losses, dense_1_layer_call_fn, dense_1_layer_call_and_return_conditional_losses, dense_2_layer_call_fn while saving (showing 5 of 20). These functions will not be directly callable after loading.\n"
          ]
        },
        {
          "name": "stdout",
          "output_type": "stream",
          "text": [
            "INFO:tensorflow:Assets written to: saved_networks/duelingdqn_model182/assets\n"
          ]
        },
        {
          "name": "stderr",
          "output_type": "stream",
          "text": [
            "INFO:tensorflow:Assets written to: saved_networks/duelingdqn_model182/assets\n"
          ]
        },
        {
          "name": "stdout",
          "output_type": "stream",
          "text": [
            "Network saved\n",
            "Episode 762/1000, Score: 284.814133571871 (0.01), AVG Score: 223.3196478772826\n"
          ]
        },
        {
          "name": "stderr",
          "output_type": "stream",
          "text": [
            "WARNING:absl:Found untraced functions such as dense_layer_call_fn, dense_layer_call_and_return_conditional_losses, dense_1_layer_call_fn, dense_1_layer_call_and_return_conditional_losses, dense_2_layer_call_fn while saving (showing 5 of 20). These functions will not be directly callable after loading.\n"
          ]
        },
        {
          "name": "stdout",
          "output_type": "stream",
          "text": [
            "INFO:tensorflow:Assets written to: saved_networks/duelingdqn_model183/assets\n"
          ]
        },
        {
          "name": "stderr",
          "output_type": "stream",
          "text": [
            "INFO:tensorflow:Assets written to: saved_networks/duelingdqn_model183/assets\n"
          ]
        },
        {
          "name": "stdout",
          "output_type": "stream",
          "text": [
            "Network saved\n",
            "Episode 763/1000, Score: 289.0439219734223 (0.01), AVG Score: 223.35177565914745\n"
          ]
        },
        {
          "name": "stderr",
          "output_type": "stream",
          "text": [
            "WARNING:absl:Found untraced functions such as dense_layer_call_fn, dense_layer_call_and_return_conditional_losses, dense_1_layer_call_fn, dense_1_layer_call_and_return_conditional_losses, dense_2_layer_call_fn while saving (showing 5 of 20). These functions will not be directly callable after loading.\n"
          ]
        },
        {
          "name": "stdout",
          "output_type": "stream",
          "text": [
            "INFO:tensorflow:Assets written to: saved_networks/duelingdqn_model184/assets\n"
          ]
        },
        {
          "name": "stderr",
          "output_type": "stream",
          "text": [
            "INFO:tensorflow:Assets written to: saved_networks/duelingdqn_model184/assets\n"
          ]
        },
        {
          "name": "stdout",
          "output_type": "stream",
          "text": [
            "Network saved\n",
            "Episode 764/1000, Score: 271.15995578316813 (0.01), AVG Score: 223.4341501416951\n"
          ]
        },
        {
          "name": "stderr",
          "output_type": "stream",
          "text": [
            "WARNING:absl:Found untraced functions such as dense_layer_call_fn, dense_layer_call_and_return_conditional_losses, dense_1_layer_call_fn, dense_1_layer_call_and_return_conditional_losses, dense_2_layer_call_fn while saving (showing 5 of 20). These functions will not be directly callable after loading.\n"
          ]
        },
        {
          "name": "stdout",
          "output_type": "stream",
          "text": [
            "INFO:tensorflow:Assets written to: saved_networks/duelingdqn_model185/assets\n"
          ]
        },
        {
          "name": "stderr",
          "output_type": "stream",
          "text": [
            "INFO:tensorflow:Assets written to: saved_networks/duelingdqn_model185/assets\n"
          ]
        },
        {
          "name": "stdout",
          "output_type": "stream",
          "text": [
            "Network saved\n",
            "Episode 765/1000, Score: 277.8494770483018 (0.01), AVG Score: 223.7275992771863\n"
          ]
        },
        {
          "name": "stderr",
          "output_type": "stream",
          "text": [
            "WARNING:absl:Found untraced functions such as dense_layer_call_fn, dense_layer_call_and_return_conditional_losses, dense_1_layer_call_fn, dense_1_layer_call_and_return_conditional_losses, dense_2_layer_call_fn while saving (showing 5 of 20). These functions will not be directly callable after loading.\n"
          ]
        },
        {
          "name": "stdout",
          "output_type": "stream",
          "text": [
            "INFO:tensorflow:Assets written to: saved_networks/duelingdqn_model186/assets\n"
          ]
        },
        {
          "name": "stderr",
          "output_type": "stream",
          "text": [
            "INFO:tensorflow:Assets written to: saved_networks/duelingdqn_model186/assets\n"
          ]
        },
        {
          "name": "stdout",
          "output_type": "stream",
          "text": [
            "Network saved\n",
            "Episode 766/1000, Score: 212.18022854363807 (0.01), AVG Score: 225.87288449971365\n",
            "Episode 767/1000, Score: 183.41327219251002 (0.01), AVG Score: 225.07988992402855\n",
            "Episode 768/1000, Score: 247.47704229428177 (0.01), AVG Score: 229.51496138628724\n",
            "Episode 769/1000, Score: 231.41495762862272 (0.01), AVG Score: 229.20493644619538\n",
            "Episode 770/1000, Score: 278.9528172506907 (0.01), AVG Score: 229.1878436855178\n"
          ]
        },
        {
          "name": "stderr",
          "output_type": "stream",
          "text": [
            "WARNING:absl:Found untraced functions such as dense_layer_call_fn, dense_layer_call_and_return_conditional_losses, dense_1_layer_call_fn, dense_1_layer_call_and_return_conditional_losses, dense_2_layer_call_fn while saving (showing 5 of 20). These functions will not be directly callable after loading.\n"
          ]
        },
        {
          "name": "stdout",
          "output_type": "stream",
          "text": [
            "INFO:tensorflow:Assets written to: saved_networks/duelingdqn_model187/assets\n"
          ]
        },
        {
          "name": "stderr",
          "output_type": "stream",
          "text": [
            "INFO:tensorflow:Assets written to: saved_networks/duelingdqn_model187/assets\n"
          ]
        },
        {
          "name": "stdout",
          "output_type": "stream",
          "text": [
            "Network saved\n",
            "Episode 771/1000, Score: 296.9839584928643 (0.01), AVG Score: 229.4055057313881\n"
          ]
        },
        {
          "name": "stderr",
          "output_type": "stream",
          "text": [
            "WARNING:absl:Found untraced functions such as dense_layer_call_fn, dense_layer_call_and_return_conditional_losses, dense_1_layer_call_fn, dense_1_layer_call_and_return_conditional_losses, dense_2_layer_call_fn while saving (showing 5 of 20). These functions will not be directly callable after loading.\n"
          ]
        },
        {
          "name": "stdout",
          "output_type": "stream",
          "text": [
            "INFO:tensorflow:Assets written to: saved_networks/duelingdqn_model188/assets\n"
          ]
        },
        {
          "name": "stderr",
          "output_type": "stream",
          "text": [
            "INFO:tensorflow:Assets written to: saved_networks/duelingdqn_model188/assets\n"
          ]
        },
        {
          "name": "stdout",
          "output_type": "stream",
          "text": [
            "Network saved\n",
            "Episode 772/1000, Score: 288.5379387120663 (0.01), AVG Score: 229.89105223293046\n"
          ]
        },
        {
          "name": "stderr",
          "output_type": "stream",
          "text": [
            "WARNING:absl:Found untraced functions such as dense_layer_call_fn, dense_layer_call_and_return_conditional_losses, dense_1_layer_call_fn, dense_1_layer_call_and_return_conditional_losses, dense_2_layer_call_fn while saving (showing 5 of 20). These functions will not be directly callable after loading.\n"
          ]
        },
        {
          "name": "stdout",
          "output_type": "stream",
          "text": [
            "INFO:tensorflow:Assets written to: saved_networks/duelingdqn_model189/assets\n"
          ]
        },
        {
          "name": "stderr",
          "output_type": "stream",
          "text": [
            "INFO:tensorflow:Assets written to: saved_networks/duelingdqn_model189/assets\n"
          ]
        },
        {
          "name": "stdout",
          "output_type": "stream",
          "text": [
            "Network saved\n",
            "Episode 773/1000, Score: 295.2442130587574 (0.01), AVG Score: 233.14983719357977\n"
          ]
        },
        {
          "name": "stderr",
          "output_type": "stream",
          "text": [
            "WARNING:absl:Found untraced functions such as dense_layer_call_fn, dense_layer_call_and_return_conditional_losses, dense_1_layer_call_fn, dense_1_layer_call_and_return_conditional_losses, dense_2_layer_call_fn while saving (showing 5 of 20). These functions will not be directly callable after loading.\n"
          ]
        },
        {
          "name": "stdout",
          "output_type": "stream",
          "text": [
            "INFO:tensorflow:Assets written to: saved_networks/duelingdqn_model190/assets\n"
          ]
        },
        {
          "name": "stderr",
          "output_type": "stream",
          "text": [
            "INFO:tensorflow:Assets written to: saved_networks/duelingdqn_model190/assets\n"
          ]
        },
        {
          "name": "stdout",
          "output_type": "stream",
          "text": [
            "Network saved\n",
            "Episode 774/1000, Score: 271.8311533551559 (0.01), AVG Score: 233.38485495271084\n"
          ]
        },
        {
          "name": "stderr",
          "output_type": "stream",
          "text": [
            "WARNING:absl:Found untraced functions such as dense_layer_call_fn, dense_layer_call_and_return_conditional_losses, dense_1_layer_call_fn, dense_1_layer_call_and_return_conditional_losses, dense_2_layer_call_fn while saving (showing 5 of 20). These functions will not be directly callable after loading.\n"
          ]
        },
        {
          "name": "stdout",
          "output_type": "stream",
          "text": [
            "INFO:tensorflow:Assets written to: saved_networks/duelingdqn_model191/assets\n"
          ]
        },
        {
          "name": "stderr",
          "output_type": "stream",
          "text": [
            "INFO:tensorflow:Assets written to: saved_networks/duelingdqn_model191/assets\n"
          ]
        },
        {
          "name": "stdout",
          "output_type": "stream",
          "text": [
            "Network saved\n",
            "Episode 775/1000, Score: 283.8620837907692 (0.01), AVG Score: 233.85510508073105\n"
          ]
        },
        {
          "name": "stderr",
          "output_type": "stream",
          "text": [
            "WARNING:absl:Found untraced functions such as dense_layer_call_fn, dense_layer_call_and_return_conditional_losses, dense_1_layer_call_fn, dense_1_layer_call_and_return_conditional_losses, dense_2_layer_call_fn while saving (showing 5 of 20). These functions will not be directly callable after loading.\n"
          ]
        },
        {
          "name": "stdout",
          "output_type": "stream",
          "text": [
            "INFO:tensorflow:Assets written to: saved_networks/duelingdqn_model192/assets\n"
          ]
        },
        {
          "name": "stderr",
          "output_type": "stream",
          "text": [
            "INFO:tensorflow:Assets written to: saved_networks/duelingdqn_model192/assets\n"
          ]
        },
        {
          "name": "stdout",
          "output_type": "stream",
          "text": [
            "Network saved\n",
            "Episode 776/1000, Score: 255.96376954581746 (0.01), AVG Score: 233.73911705786412\n"
          ]
        },
        {
          "name": "stderr",
          "output_type": "stream",
          "text": [
            "WARNING:absl:Found untraced functions such as dense_layer_call_fn, dense_layer_call_and_return_conditional_losses, dense_1_layer_call_fn, dense_1_layer_call_and_return_conditional_losses, dense_2_layer_call_fn while saving (showing 5 of 20). These functions will not be directly callable after loading.\n"
          ]
        },
        {
          "name": "stdout",
          "output_type": "stream",
          "text": [
            "INFO:tensorflow:Assets written to: saved_networks/duelingdqn_model193/assets\n"
          ]
        },
        {
          "name": "stderr",
          "output_type": "stream",
          "text": [
            "INFO:tensorflow:Assets written to: saved_networks/duelingdqn_model193/assets\n"
          ]
        },
        {
          "name": "stdout",
          "output_type": "stream",
          "text": [
            "Network saved\n",
            "Episode 777/1000, Score: 262.3054322589445 (0.01), AVG Score: 233.47583876603832\n"
          ]
        },
        {
          "name": "stderr",
          "output_type": "stream",
          "text": [
            "WARNING:absl:Found untraced functions such as dense_layer_call_fn, dense_layer_call_and_return_conditional_losses, dense_1_layer_call_fn, dense_1_layer_call_and_return_conditional_losses, dense_2_layer_call_fn while saving (showing 5 of 20). These functions will not be directly callable after loading.\n"
          ]
        },
        {
          "name": "stdout",
          "output_type": "stream",
          "text": [
            "INFO:tensorflow:Assets written to: saved_networks/duelingdqn_model194/assets\n"
          ]
        },
        {
          "name": "stderr",
          "output_type": "stream",
          "text": [
            "INFO:tensorflow:Assets written to: saved_networks/duelingdqn_model194/assets\n"
          ]
        },
        {
          "name": "stdout",
          "output_type": "stream",
          "text": [
            "Network saved\n",
            "Episode 778/1000, Score: 248.91978526251626 (0.01), AVG Score: 233.33695343527972\n",
            "Episode 779/1000, Score: 266.57970928011 (0.01), AVG Score: 236.37112789316546\n"
          ]
        },
        {
          "name": "stderr",
          "output_type": "stream",
          "text": [
            "WARNING:absl:Found untraced functions such as dense_layer_call_fn, dense_layer_call_and_return_conditional_losses, dense_1_layer_call_fn, dense_1_layer_call_and_return_conditional_losses, dense_2_layer_call_fn while saving (showing 5 of 20). These functions will not be directly callable after loading.\n"
          ]
        },
        {
          "name": "stdout",
          "output_type": "stream",
          "text": [
            "INFO:tensorflow:Assets written to: saved_networks/duelingdqn_model195/assets\n"
          ]
        },
        {
          "name": "stderr",
          "output_type": "stream",
          "text": [
            "INFO:tensorflow:Assets written to: saved_networks/duelingdqn_model195/assets\n"
          ]
        },
        {
          "name": "stdout",
          "output_type": "stream",
          "text": [
            "Network saved\n",
            "Episode 780/1000, Score: 276.9202136579706 (0.01), AVG Score: 236.37720057103243\n"
          ]
        },
        {
          "name": "stderr",
          "output_type": "stream",
          "text": [
            "WARNING:absl:Found untraced functions such as dense_layer_call_fn, dense_layer_call_and_return_conditional_losses, dense_1_layer_call_fn, dense_1_layer_call_and_return_conditional_losses, dense_2_layer_call_fn while saving (showing 5 of 20). These functions will not be directly callable after loading.\n"
          ]
        },
        {
          "name": "stdout",
          "output_type": "stream",
          "text": [
            "INFO:tensorflow:Assets written to: saved_networks/duelingdqn_model196/assets\n"
          ]
        },
        {
          "name": "stderr",
          "output_type": "stream",
          "text": [
            "INFO:tensorflow:Assets written to: saved_networks/duelingdqn_model196/assets\n"
          ]
        },
        {
          "name": "stdout",
          "output_type": "stream",
          "text": [
            "Network saved\n",
            "Episode 781/1000, Score: 258.1119695324639 (0.01), AVG Score: 236.28927420270614\n"
          ]
        },
        {
          "name": "stderr",
          "output_type": "stream",
          "text": [
            "WARNING:absl:Found untraced functions such as dense_layer_call_fn, dense_layer_call_and_return_conditional_losses, dense_1_layer_call_fn, dense_1_layer_call_and_return_conditional_losses, dense_2_layer_call_fn while saving (showing 5 of 20). These functions will not be directly callable after loading.\n"
          ]
        },
        {
          "name": "stdout",
          "output_type": "stream",
          "text": [
            "INFO:tensorflow:Assets written to: saved_networks/duelingdqn_model197/assets\n"
          ]
        },
        {
          "name": "stderr",
          "output_type": "stream",
          "text": [
            "INFO:tensorflow:Assets written to: saved_networks/duelingdqn_model197/assets\n"
          ]
        },
        {
          "name": "stdout",
          "output_type": "stream",
          "text": [
            "Network saved\n",
            "Episode 782/1000, Score: 265.29919817047437 (0.01), AVG Score: 236.37638949628342\n"
          ]
        },
        {
          "name": "stderr",
          "output_type": "stream",
          "text": [
            "WARNING:absl:Found untraced functions such as dense_layer_call_fn, dense_layer_call_and_return_conditional_losses, dense_1_layer_call_fn, dense_1_layer_call_and_return_conditional_losses, dense_2_layer_call_fn while saving (showing 5 of 20). These functions will not be directly callable after loading.\n"
          ]
        },
        {
          "name": "stdout",
          "output_type": "stream",
          "text": [
            "INFO:tensorflow:Assets written to: saved_networks/duelingdqn_model198/assets\n"
          ]
        },
        {
          "name": "stderr",
          "output_type": "stream",
          "text": [
            "INFO:tensorflow:Assets written to: saved_networks/duelingdqn_model198/assets\n"
          ]
        },
        {
          "name": "stdout",
          "output_type": "stream",
          "text": [
            "Network saved\n",
            "Episode 783/1000, Score: 249.82799964755836 (0.01), AVG Score: 236.26845190200703\n",
            "Episode 784/1000, Score: 275.75762563664625 (0.01), AVG Score: 236.36152999817375\n"
          ]
        },
        {
          "name": "stderr",
          "output_type": "stream",
          "text": [
            "WARNING:absl:Found untraced functions such as dense_layer_call_fn, dense_layer_call_and_return_conditional_losses, dense_1_layer_call_fn, dense_1_layer_call_and_return_conditional_losses, dense_2_layer_call_fn while saving (showing 5 of 20). These functions will not be directly callable after loading.\n"
          ]
        },
        {
          "name": "stdout",
          "output_type": "stream",
          "text": [
            "INFO:tensorflow:Assets written to: saved_networks/duelingdqn_model199/assets\n"
          ]
        },
        {
          "name": "stderr",
          "output_type": "stream",
          "text": [
            "INFO:tensorflow:Assets written to: saved_networks/duelingdqn_model199/assets\n"
          ]
        },
        {
          "name": "stdout",
          "output_type": "stream",
          "text": [
            "Network saved\n",
            "Episode 785/1000, Score: -334.6164223383744 (0.01), AVG Score: 230.5421146628089\n",
            "Episode 786/1000, Score: 241.73899114203508 (0.01), AVG Score: 232.83975486693734\n",
            "Episode 787/1000, Score: 252.86513166235108 (0.01), AVG Score: 236.3284406374364\n"
          ]
        },
        {
          "name": "stderr",
          "output_type": "stream",
          "text": [
            "WARNING:absl:Found untraced functions such as dense_layer_call_fn, dense_layer_call_and_return_conditional_losses, dense_1_layer_call_fn, dense_1_layer_call_and_return_conditional_losses, dense_2_layer_call_fn while saving (showing 5 of 20). These functions will not be directly callable after loading.\n"
          ]
        },
        {
          "name": "stdout",
          "output_type": "stream",
          "text": [
            "INFO:tensorflow:Assets written to: saved_networks/duelingdqn_model200/assets\n"
          ]
        },
        {
          "name": "stderr",
          "output_type": "stream",
          "text": [
            "INFO:tensorflow:Assets written to: saved_networks/duelingdqn_model200/assets\n"
          ]
        },
        {
          "name": "stdout",
          "output_type": "stream",
          "text": [
            "Network saved\n",
            "Episode 788/1000, Score: -167.1500168573797 (0.01), AVG Score: 232.4126716216292\n",
            "Episode 789/1000, Score: 242.90672742889063 (0.01), AVG Score: 232.4823267885878\n",
            "Episode 790/1000, Score: 235.6910872426757 (0.01), AVG Score: 232.6183366002664\n",
            "Episode 791/1000, Score: 256.84671334243114 (0.01), AVG Score: 232.44609425534784\n"
          ]
        },
        {
          "name": "stderr",
          "output_type": "stream",
          "text": [
            "WARNING:absl:Found untraced functions such as dense_layer_call_fn, dense_layer_call_and_return_conditional_losses, dense_1_layer_call_fn, dense_1_layer_call_and_return_conditional_losses, dense_2_layer_call_fn while saving (showing 5 of 20). These functions will not be directly callable after loading.\n"
          ]
        },
        {
          "name": "stdout",
          "output_type": "stream",
          "text": [
            "INFO:tensorflow:Assets written to: saved_networks/duelingdqn_model201/assets\n"
          ]
        },
        {
          "name": "stderr",
          "output_type": "stream",
          "text": [
            "INFO:tensorflow:Assets written to: saved_networks/duelingdqn_model201/assets\n"
          ]
        },
        {
          "name": "stdout",
          "output_type": "stream",
          "text": [
            "Network saved\n",
            "Episode 792/1000, Score: 251.1718069534692 (0.01), AVG Score: 232.05219377385714\n"
          ]
        },
        {
          "name": "stderr",
          "output_type": "stream",
          "text": [
            "WARNING:absl:Found untraced functions such as dense_layer_call_fn, dense_layer_call_and_return_conditional_losses, dense_1_layer_call_fn, dense_1_layer_call_and_return_conditional_losses, dense_2_layer_call_fn while saving (showing 5 of 20). These functions will not be directly callable after loading.\n"
          ]
        },
        {
          "name": "stdout",
          "output_type": "stream",
          "text": [
            "INFO:tensorflow:Assets written to: saved_networks/duelingdqn_model202/assets\n"
          ]
        },
        {
          "name": "stderr",
          "output_type": "stream",
          "text": [
            "INFO:tensorflow:Assets written to: saved_networks/duelingdqn_model202/assets\n"
          ]
        },
        {
          "name": "stdout",
          "output_type": "stream",
          "text": [
            "Network saved\n",
            "Episode 793/1000, Score: 248.39143812136103 (0.01), AVG Score: 231.83172854721343\n",
            "Episode 794/1000, Score: 309.1050965956369 (0.01), AVG Score: 232.0347522725417\n"
          ]
        },
        {
          "name": "stderr",
          "output_type": "stream",
          "text": [
            "WARNING:absl:Found untraced functions such as dense_layer_call_fn, dense_layer_call_and_return_conditional_losses, dense_1_layer_call_fn, dense_1_layer_call_and_return_conditional_losses, dense_2_layer_call_fn while saving (showing 5 of 20). These functions will not be directly callable after loading.\n"
          ]
        },
        {
          "name": "stdout",
          "output_type": "stream",
          "text": [
            "INFO:tensorflow:Assets written to: saved_networks/duelingdqn_model203/assets\n"
          ]
        },
        {
          "name": "stderr",
          "output_type": "stream",
          "text": [
            "INFO:tensorflow:Assets written to: saved_networks/duelingdqn_model203/assets\n"
          ]
        },
        {
          "name": "stdout",
          "output_type": "stream",
          "text": [
            "Network saved\n",
            "Episode 795/1000, Score: 269.5947293524557 (0.01), AVG Score: 232.84872142819265\n"
          ]
        },
        {
          "name": "stderr",
          "output_type": "stream",
          "text": [
            "WARNING:absl:Found untraced functions such as dense_layer_call_fn, dense_layer_call_and_return_conditional_losses, dense_1_layer_call_fn, dense_1_layer_call_and_return_conditional_losses, dense_2_layer_call_fn while saving (showing 5 of 20). These functions will not be directly callable after loading.\n"
          ]
        },
        {
          "name": "stdout",
          "output_type": "stream",
          "text": [
            "INFO:tensorflow:Assets written to: saved_networks/duelingdqn_model204/assets\n"
          ]
        },
        {
          "name": "stderr",
          "output_type": "stream",
          "text": [
            "INFO:tensorflow:Assets written to: saved_networks/duelingdqn_model204/assets\n"
          ]
        },
        {
          "name": "stdout",
          "output_type": "stream",
          "text": [
            "Network saved\n",
            "Episode 796/1000, Score: 286.3462085162756 (0.01), AVG Score: 233.25406606827096\n"
          ]
        },
        {
          "name": "stderr",
          "output_type": "stream",
          "text": [
            "WARNING:absl:Found untraced functions such as dense_layer_call_fn, dense_layer_call_and_return_conditional_losses, dense_1_layer_call_fn, dense_1_layer_call_and_return_conditional_losses, dense_2_layer_call_fn while saving (showing 5 of 20). These functions will not be directly callable after loading.\n"
          ]
        },
        {
          "name": "stdout",
          "output_type": "stream",
          "text": [
            "INFO:tensorflow:Assets written to: saved_networks/duelingdqn_model205/assets\n"
          ]
        },
        {
          "name": "stderr",
          "output_type": "stream",
          "text": [
            "INFO:tensorflow:Assets written to: saved_networks/duelingdqn_model205/assets\n"
          ]
        },
        {
          "name": "stdout",
          "output_type": "stream",
          "text": [
            "Network saved\n",
            "Episode 797/1000, Score: 229.90506090838483 (0.01), AVG Score: 232.58649934028173\n",
            "Episode 798/1000, Score: 286.8241778366117 (0.01), AVG Score: 233.09154099786443\n"
          ]
        },
        {
          "name": "stderr",
          "output_type": "stream",
          "text": [
            "WARNING:absl:Found untraced functions such as dense_layer_call_fn, dense_layer_call_and_return_conditional_losses, dense_1_layer_call_fn, dense_1_layer_call_and_return_conditional_losses, dense_2_layer_call_fn while saving (showing 5 of 20). These functions will not be directly callable after loading.\n"
          ]
        },
        {
          "name": "stdout",
          "output_type": "stream",
          "text": [
            "INFO:tensorflow:Assets written to: saved_networks/duelingdqn_model206/assets\n"
          ]
        },
        {
          "name": "stderr",
          "output_type": "stream",
          "text": [
            "INFO:tensorflow:Assets written to: saved_networks/duelingdqn_model206/assets\n"
          ]
        },
        {
          "name": "stdout",
          "output_type": "stream",
          "text": [
            "Network saved\n",
            "Episode 799/1000, Score: 290.4089028366873 (0.01), AVG Score: 233.29948589800344\n"
          ]
        },
        {
          "name": "stderr",
          "output_type": "stream",
          "text": [
            "WARNING:absl:Found untraced functions such as dense_layer_call_fn, dense_layer_call_and_return_conditional_losses, dense_1_layer_call_fn, dense_1_layer_call_and_return_conditional_losses, dense_2_layer_call_fn while saving (showing 5 of 20). These functions will not be directly callable after loading.\n"
          ]
        },
        {
          "name": "stdout",
          "output_type": "stream",
          "text": [
            "INFO:tensorflow:Assets written to: saved_networks/duelingdqn_model207/assets\n"
          ]
        },
        {
          "name": "stderr",
          "output_type": "stream",
          "text": [
            "INFO:tensorflow:Assets written to: saved_networks/duelingdqn_model207/assets\n"
          ]
        },
        {
          "name": "stdout",
          "output_type": "stream",
          "text": [
            "Network saved\n",
            "Episode 800/1000, Score: 246.9363714828532 (0.01), AVG Score: 233.2102923947551\n",
            "Episode 801/1000, Score: 148.70859091041285 (0.01), AVG Score: 234.5523750376529\n",
            "Episode 802/1000, Score: 273.8082597813821 (0.01), AVG Score: 234.20219070790233\n"
          ]
        },
        {
          "name": "stderr",
          "output_type": "stream",
          "text": [
            "WARNING:absl:Found untraced functions such as dense_layer_call_fn, dense_layer_call_and_return_conditional_losses, dense_1_layer_call_fn, dense_1_layer_call_and_return_conditional_losses, dense_2_layer_call_fn while saving (showing 5 of 20). These functions will not be directly callable after loading.\n"
          ]
        },
        {
          "name": "stdout",
          "output_type": "stream",
          "text": [
            "INFO:tensorflow:Assets written to: saved_networks/duelingdqn_model208/assets\n"
          ]
        },
        {
          "name": "stderr",
          "output_type": "stream",
          "text": [
            "INFO:tensorflow:Assets written to: saved_networks/duelingdqn_model208/assets\n"
          ]
        },
        {
          "name": "stdout",
          "output_type": "stream",
          "text": [
            "Network saved\n",
            "Episode 803/1000, Score: 232.27167125294193 (0.01), AVG Score: 233.70571798584507\n",
            "Episode 804/1000, Score: 283.43667991829886 (0.01), AVG Score: 233.74014485786782\n"
          ]
        },
        {
          "name": "stderr",
          "output_type": "stream",
          "text": [
            "WARNING:absl:Found untraced functions such as dense_layer_call_fn, dense_layer_call_and_return_conditional_losses, dense_1_layer_call_fn, dense_1_layer_call_and_return_conditional_losses, dense_2_layer_call_fn while saving (showing 5 of 20). These functions will not be directly callable after loading.\n"
          ]
        },
        {
          "name": "stdout",
          "output_type": "stream",
          "text": [
            "INFO:tensorflow:Assets written to: saved_networks/duelingdqn_model209/assets\n"
          ]
        },
        {
          "name": "stderr",
          "output_type": "stream",
          "text": [
            "INFO:tensorflow:Assets written to: saved_networks/duelingdqn_model209/assets\n"
          ]
        },
        {
          "name": "stdout",
          "output_type": "stream",
          "text": [
            "Network saved\n",
            "Episode 805/1000, Score: 276.40076390656407 (0.01), AVG Score: 233.94831695393842\n"
          ]
        },
        {
          "name": "stderr",
          "output_type": "stream",
          "text": [
            "WARNING:absl:Found untraced functions such as dense_layer_call_fn, dense_layer_call_and_return_conditional_losses, dense_1_layer_call_fn, dense_1_layer_call_and_return_conditional_losses, dense_2_layer_call_fn while saving (showing 5 of 20). These functions will not be directly callable after loading.\n"
          ]
        },
        {
          "name": "stdout",
          "output_type": "stream",
          "text": [
            "INFO:tensorflow:Assets written to: saved_networks/duelingdqn_model210/assets\n"
          ]
        },
        {
          "name": "stderr",
          "output_type": "stream",
          "text": [
            "INFO:tensorflow:Assets written to: saved_networks/duelingdqn_model210/assets\n"
          ]
        },
        {
          "name": "stdout",
          "output_type": "stream",
          "text": [
            "Network saved\n",
            "Episode 806/1000, Score: 259.4752474597235 (0.01), AVG Score: 233.75069459739797\n"
          ]
        },
        {
          "name": "stderr",
          "output_type": "stream",
          "text": [
            "WARNING:absl:Found untraced functions such as dense_layer_call_fn, dense_layer_call_and_return_conditional_losses, dense_1_layer_call_fn, dense_1_layer_call_and_return_conditional_losses, dense_2_layer_call_fn while saving (showing 5 of 20). These functions will not be directly callable after loading.\n"
          ]
        },
        {
          "name": "stdout",
          "output_type": "stream",
          "text": [
            "INFO:tensorflow:Assets written to: saved_networks/duelingdqn_model211/assets\n"
          ]
        },
        {
          "name": "stderr",
          "output_type": "stream",
          "text": [
            "INFO:tensorflow:Assets written to: saved_networks/duelingdqn_model211/assets\n"
          ]
        },
        {
          "name": "stdout",
          "output_type": "stream",
          "text": [
            "Network saved\n",
            "Episode 807/1000, Score: 256.7201184517045 (0.01), AVG Score: 237.94275701356253\n"
          ]
        },
        {
          "name": "stderr",
          "output_type": "stream",
          "text": [
            "WARNING:absl:Found untraced functions such as dense_layer_call_fn, dense_layer_call_and_return_conditional_losses, dense_1_layer_call_fn, dense_1_layer_call_and_return_conditional_losses, dense_2_layer_call_fn while saving (showing 5 of 20). These functions will not be directly callable after loading.\n"
          ]
        },
        {
          "name": "stdout",
          "output_type": "stream",
          "text": [
            "INFO:tensorflow:Assets written to: saved_networks/duelingdqn_model212/assets\n"
          ]
        },
        {
          "name": "stderr",
          "output_type": "stream",
          "text": [
            "INFO:tensorflow:Assets written to: saved_networks/duelingdqn_model212/assets\n"
          ]
        },
        {
          "name": "stdout",
          "output_type": "stream",
          "text": [
            "Network saved\n",
            "Episode 808/1000, Score: 255.48050844798934 (0.01), AVG Score: 237.5012446335703\n"
          ]
        },
        {
          "name": "stderr",
          "output_type": "stream",
          "text": [
            "WARNING:absl:Found untraced functions such as dense_layer_call_fn, dense_layer_call_and_return_conditional_losses, dense_1_layer_call_fn, dense_1_layer_call_and_return_conditional_losses, dense_2_layer_call_fn while saving (showing 5 of 20). These functions will not be directly callable after loading.\n"
          ]
        },
        {
          "name": "stdout",
          "output_type": "stream",
          "text": [
            "INFO:tensorflow:Assets written to: saved_networks/duelingdqn_model213/assets\n"
          ]
        },
        {
          "name": "stderr",
          "output_type": "stream",
          "text": [
            "INFO:tensorflow:Assets written to: saved_networks/duelingdqn_model213/assets\n"
          ]
        },
        {
          "name": "stdout",
          "output_type": "stream",
          "text": [
            "Network saved\n",
            "Episode 809/1000, Score: 272.2410918413287 (0.01), AVG Score: 238.0374970518056\n"
          ]
        },
        {
          "name": "stderr",
          "output_type": "stream",
          "text": [
            "WARNING:absl:Found untraced functions such as dense_layer_call_fn, dense_layer_call_and_return_conditional_losses, dense_1_layer_call_fn, dense_1_layer_call_and_return_conditional_losses, dense_2_layer_call_fn while saving (showing 5 of 20). These functions will not be directly callable after loading.\n"
          ]
        },
        {
          "name": "stdout",
          "output_type": "stream",
          "text": [
            "INFO:tensorflow:Assets written to: saved_networks/duelingdqn_model214/assets\n"
          ]
        },
        {
          "name": "stderr",
          "output_type": "stream",
          "text": [
            "INFO:tensorflow:Assets written to: saved_networks/duelingdqn_model214/assets\n"
          ]
        },
        {
          "name": "stdout",
          "output_type": "stream",
          "text": [
            "Network saved\n",
            "Episode 810/1000, Score: 283.08008904382416 (0.01), AVG Score: 238.25245930911436\n"
          ]
        },
        {
          "name": "stderr",
          "output_type": "stream",
          "text": [
            "WARNING:absl:Found untraced functions such as dense_layer_call_fn, dense_layer_call_and_return_conditional_losses, dense_1_layer_call_fn, dense_1_layer_call_and_return_conditional_losses, dense_2_layer_call_fn while saving (showing 5 of 20). These functions will not be directly callable after loading.\n"
          ]
        },
        {
          "name": "stdout",
          "output_type": "stream",
          "text": [
            "INFO:tensorflow:Assets written to: saved_networks/duelingdqn_model215/assets\n"
          ]
        },
        {
          "name": "stderr",
          "output_type": "stream",
          "text": [
            "INFO:tensorflow:Assets written to: saved_networks/duelingdqn_model215/assets\n"
          ]
        },
        {
          "name": "stdout",
          "output_type": "stream",
          "text": [
            "Network saved\n",
            "Episode 811/1000, Score: 277.9466377627053 (0.01), AVG Score: 238.4362287515117\n"
          ]
        },
        {
          "name": "stderr",
          "output_type": "stream",
          "text": [
            "WARNING:absl:Found untraced functions such as dense_layer_call_fn, dense_layer_call_and_return_conditional_losses, dense_1_layer_call_fn, dense_1_layer_call_and_return_conditional_losses, dense_2_layer_call_fn while saving (showing 5 of 20). These functions will not be directly callable after loading.\n"
          ]
        },
        {
          "name": "stdout",
          "output_type": "stream",
          "text": [
            "INFO:tensorflow:Assets written to: saved_networks/duelingdqn_model216/assets\n"
          ]
        },
        {
          "name": "stderr",
          "output_type": "stream",
          "text": [
            "INFO:tensorflow:Assets written to: saved_networks/duelingdqn_model216/assets\n"
          ]
        },
        {
          "name": "stdout",
          "output_type": "stream",
          "text": [
            "Network saved\n",
            "Episode 812/1000, Score: 269.4029091047282 (0.01), AVG Score: 242.4382378515683\n"
          ]
        },
        {
          "name": "stderr",
          "output_type": "stream",
          "text": [
            "WARNING:absl:Found untraced functions such as dense_layer_call_fn, dense_layer_call_and_return_conditional_losses, dense_1_layer_call_fn, dense_1_layer_call_and_return_conditional_losses, dense_2_layer_call_fn while saving (showing 5 of 20). These functions will not be directly callable after loading.\n"
          ]
        },
        {
          "name": "stdout",
          "output_type": "stream",
          "text": [
            "INFO:tensorflow:Assets written to: saved_networks/duelingdqn_model217/assets\n"
          ]
        },
        {
          "name": "stderr",
          "output_type": "stream",
          "text": [
            "INFO:tensorflow:Assets written to: saved_networks/duelingdqn_model217/assets\n"
          ]
        },
        {
          "name": "stdout",
          "output_type": "stream",
          "text": [
            "Network saved\n",
            "Episode 813/1000, Score: 262.92211357621386 (0.01), AVG Score: 242.68793676935874\n"
          ]
        },
        {
          "name": "stderr",
          "output_type": "stream",
          "text": [
            "WARNING:absl:Found untraced functions such as dense_layer_call_fn, dense_layer_call_and_return_conditional_losses, dense_1_layer_call_fn, dense_1_layer_call_and_return_conditional_losses, dense_2_layer_call_fn while saving (showing 5 of 20). These functions will not be directly callable after loading.\n"
          ]
        },
        {
          "name": "stdout",
          "output_type": "stream",
          "text": [
            "INFO:tensorflow:Assets written to: saved_networks/duelingdqn_model218/assets\n"
          ]
        },
        {
          "name": "stderr",
          "output_type": "stream",
          "text": [
            "INFO:tensorflow:Assets written to: saved_networks/duelingdqn_model218/assets\n"
          ]
        },
        {
          "name": "stdout",
          "output_type": "stream",
          "text": [
            "Network saved\n",
            "Episode 814/1000, Score: 270.64431072094953 (0.01), AVG Score: 243.39788115555447\n"
          ]
        },
        {
          "name": "stderr",
          "output_type": "stream",
          "text": [
            "WARNING:absl:Found untraced functions such as dense_layer_call_fn, dense_layer_call_and_return_conditional_losses, dense_1_layer_call_fn, dense_1_layer_call_and_return_conditional_losses, dense_2_layer_call_fn while saving (showing 5 of 20). These functions will not be directly callable after loading.\n"
          ]
        },
        {
          "name": "stdout",
          "output_type": "stream",
          "text": [
            "INFO:tensorflow:Assets written to: saved_networks/duelingdqn_model219/assets\n"
          ]
        },
        {
          "name": "stderr",
          "output_type": "stream",
          "text": [
            "INFO:tensorflow:Assets written to: saved_networks/duelingdqn_model219/assets\n"
          ]
        },
        {
          "name": "stdout",
          "output_type": "stream",
          "text": [
            "Network saved\n",
            "Episode 815/1000, Score: 279.7673422073675 (0.01), AVG Score: 243.43858780176856\n"
          ]
        },
        {
          "name": "stderr",
          "output_type": "stream",
          "text": [
            "WARNING:absl:Found untraced functions such as dense_layer_call_fn, dense_layer_call_and_return_conditional_losses, dense_1_layer_call_fn, dense_1_layer_call_and_return_conditional_losses, dense_2_layer_call_fn while saving (showing 5 of 20). These functions will not be directly callable after loading.\n"
          ]
        },
        {
          "name": "stdout",
          "output_type": "stream",
          "text": [
            "INFO:tensorflow:Assets written to: saved_networks/duelingdqn_model220/assets\n"
          ]
        },
        {
          "name": "stderr",
          "output_type": "stream",
          "text": [
            "INFO:tensorflow:Assets written to: saved_networks/duelingdqn_model220/assets\n"
          ]
        },
        {
          "name": "stdout",
          "output_type": "stream",
          "text": [
            "Network saved\n",
            "Episode 816/1000, Score: 262.250951134365 (0.01), AVG Score: 243.28005049320717\n"
          ]
        },
        {
          "name": "stderr",
          "output_type": "stream",
          "text": [
            "WARNING:absl:Found untraced functions such as dense_layer_call_fn, dense_layer_call_and_return_conditional_losses, dense_1_layer_call_fn, dense_1_layer_call_and_return_conditional_losses, dense_2_layer_call_fn while saving (showing 5 of 20). These functions will not be directly callable after loading.\n"
          ]
        },
        {
          "name": "stdout",
          "output_type": "stream",
          "text": [
            "INFO:tensorflow:Assets written to: saved_networks/duelingdqn_model221/assets\n"
          ]
        },
        {
          "name": "stderr",
          "output_type": "stream",
          "text": [
            "INFO:tensorflow:Assets written to: saved_networks/duelingdqn_model221/assets\n"
          ]
        },
        {
          "name": "stdout",
          "output_type": "stream",
          "text": [
            "Network saved\n",
            "Episode 817/1000, Score: 287.58420026101044 (0.01), AVG Score: 243.97168590832425\n"
          ]
        },
        {
          "name": "stderr",
          "output_type": "stream",
          "text": [
            "WARNING:absl:Found untraced functions such as dense_layer_call_fn, dense_layer_call_and_return_conditional_losses, dense_1_layer_call_fn, dense_1_layer_call_and_return_conditional_losses, dense_2_layer_call_fn while saving (showing 5 of 20). These functions will not be directly callable after loading.\n"
          ]
        },
        {
          "name": "stdout",
          "output_type": "stream",
          "text": [
            "INFO:tensorflow:Assets written to: saved_networks/duelingdqn_model222/assets\n"
          ]
        },
        {
          "name": "stderr",
          "output_type": "stream",
          "text": [
            "INFO:tensorflow:Assets written to: saved_networks/duelingdqn_model222/assets\n"
          ]
        },
        {
          "name": "stdout",
          "output_type": "stream",
          "text": [
            "Network saved\n",
            "Episode 818/1000, Score: 287.61894648978995 (0.01), AVG Score: 244.43982628782317\n"
          ]
        },
        {
          "name": "stderr",
          "output_type": "stream",
          "text": [
            "WARNING:absl:Found untraced functions such as dense_layer_call_fn, dense_layer_call_and_return_conditional_losses, dense_1_layer_call_fn, dense_1_layer_call_and_return_conditional_losses, dense_2_layer_call_fn while saving (showing 5 of 20). These functions will not be directly callable after loading.\n"
          ]
        },
        {
          "name": "stdout",
          "output_type": "stream",
          "text": [
            "INFO:tensorflow:Assets written to: saved_networks/duelingdqn_model223/assets\n"
          ]
        },
        {
          "name": "stderr",
          "output_type": "stream",
          "text": [
            "INFO:tensorflow:Assets written to: saved_networks/duelingdqn_model223/assets\n"
          ]
        },
        {
          "name": "stdout",
          "output_type": "stream",
          "text": [
            "Network saved\n",
            "Episode 819/1000, Score: 261.9342353142274 (0.01), AVG Score: 244.38988867735853\n"
          ]
        },
        {
          "name": "stderr",
          "output_type": "stream",
          "text": [
            "WARNING:absl:Found untraced functions such as dense_layer_call_fn, dense_layer_call_and_return_conditional_losses, dense_1_layer_call_fn, dense_1_layer_call_and_return_conditional_losses, dense_2_layer_call_fn while saving (showing 5 of 20). These functions will not be directly callable after loading.\n"
          ]
        },
        {
          "name": "stdout",
          "output_type": "stream",
          "text": [
            "INFO:tensorflow:Assets written to: saved_networks/duelingdqn_model224/assets\n"
          ]
        },
        {
          "name": "stderr",
          "output_type": "stream",
          "text": [
            "INFO:tensorflow:Assets written to: saved_networks/duelingdqn_model224/assets\n"
          ]
        },
        {
          "name": "stdout",
          "output_type": "stream",
          "text": [
            "Network saved\n",
            "Episode 820/1000, Score: -224.73845756491437 (0.01), AVG Score: 239.53808515021822\n",
            "Episode 821/1000, Score: 261.9688059041787 (0.01), AVG Score: 239.67427514615764\n"
          ]
        },
        {
          "name": "stderr",
          "output_type": "stream",
          "text": [
            "WARNING:absl:Found untraced functions such as dense_layer_call_fn, dense_layer_call_and_return_conditional_losses, dense_1_layer_call_fn, dense_1_layer_call_and_return_conditional_losses, dense_2_layer_call_fn while saving (showing 5 of 20). These functions will not be directly callable after loading.\n"
          ]
        },
        {
          "name": "stdout",
          "output_type": "stream",
          "text": [
            "INFO:tensorflow:Assets written to: saved_networks/duelingdqn_model225/assets\n"
          ]
        },
        {
          "name": "stderr",
          "output_type": "stream",
          "text": [
            "INFO:tensorflow:Assets written to: saved_networks/duelingdqn_model225/assets\n"
          ]
        },
        {
          "name": "stdout",
          "output_type": "stream",
          "text": [
            "Network saved\n",
            "Episode 822/1000, Score: 263.48638416906454 (0.01), AVG Score: 240.1362813743694\n"
          ]
        },
        {
          "name": "stderr",
          "output_type": "stream",
          "text": [
            "WARNING:absl:Found untraced functions such as dense_layer_call_fn, dense_layer_call_and_return_conditional_losses, dense_1_layer_call_fn, dense_1_layer_call_and_return_conditional_losses, dense_2_layer_call_fn while saving (showing 5 of 20). These functions will not be directly callable after loading.\n"
          ]
        },
        {
          "name": "stdout",
          "output_type": "stream",
          "text": [
            "INFO:tensorflow:Assets written to: saved_networks/duelingdqn_model226/assets\n"
          ]
        },
        {
          "name": "stderr",
          "output_type": "stream",
          "text": [
            "INFO:tensorflow:Assets written to: saved_networks/duelingdqn_model226/assets\n"
          ]
        },
        {
          "name": "stdout",
          "output_type": "stream",
          "text": [
            "Network saved\n",
            "Episode 823/1000, Score: -62.11079834443144 (0.01), AVG Score: 236.6102690568737\n",
            "Episode 824/1000, Score: 284.4166363681345 (0.01), AVG Score: 236.52208411591823\n"
          ]
        },
        {
          "name": "stderr",
          "output_type": "stream",
          "text": [
            "WARNING:absl:Found untraced functions such as dense_layer_call_fn, dense_layer_call_and_return_conditional_losses, dense_1_layer_call_fn, dense_1_layer_call_and_return_conditional_losses, dense_2_layer_call_fn while saving (showing 5 of 20). These functions will not be directly callable after loading.\n"
          ]
        },
        {
          "name": "stdout",
          "output_type": "stream",
          "text": [
            "INFO:tensorflow:Assets written to: saved_networks/duelingdqn_model227/assets\n"
          ]
        },
        {
          "name": "stderr",
          "output_type": "stream",
          "text": [
            "INFO:tensorflow:Assets written to: saved_networks/duelingdqn_model227/assets\n"
          ]
        },
        {
          "name": "stdout",
          "output_type": "stream",
          "text": [
            "Network saved\n",
            "Episode 825/1000, Score: 282.1183135045277 (0.01), AVG Score: 236.81309079723465\n"
          ]
        },
        {
          "name": "stderr",
          "output_type": "stream",
          "text": [
            "WARNING:absl:Found untraced functions such as dense_layer_call_fn, dense_layer_call_and_return_conditional_losses, dense_1_layer_call_fn, dense_1_layer_call_and_return_conditional_losses, dense_2_layer_call_fn while saving (showing 5 of 20). These functions will not be directly callable after loading.\n"
          ]
        },
        {
          "name": "stdout",
          "output_type": "stream",
          "text": [
            "INFO:tensorflow:Assets written to: saved_networks/duelingdqn_model228/assets\n"
          ]
        },
        {
          "name": "stderr",
          "output_type": "stream",
          "text": [
            "INFO:tensorflow:Assets written to: saved_networks/duelingdqn_model228/assets\n"
          ]
        },
        {
          "name": "stdout",
          "output_type": "stream",
          "text": [
            "Network saved\n",
            "Episode 826/1000, Score: 290.7825279915652 (0.01), AVG Score: 237.09183126584307\n"
          ]
        },
        {
          "name": "stderr",
          "output_type": "stream",
          "text": [
            "WARNING:absl:Found untraced functions such as dense_layer_call_fn, dense_layer_call_and_return_conditional_losses, dense_1_layer_call_fn, dense_1_layer_call_and_return_conditional_losses, dense_2_layer_call_fn while saving (showing 5 of 20). These functions will not be directly callable after loading.\n"
          ]
        },
        {
          "name": "stdout",
          "output_type": "stream",
          "text": [
            "INFO:tensorflow:Assets written to: saved_networks/duelingdqn_model229/assets\n"
          ]
        },
        {
          "name": "stderr",
          "output_type": "stream",
          "text": [
            "INFO:tensorflow:Assets written to: saved_networks/duelingdqn_model229/assets\n"
          ]
        },
        {
          "name": "stdout",
          "output_type": "stream",
          "text": [
            "Network saved\n",
            "Episode 827/1000, Score: 254.08621125823896 (0.01), AVG Score: 236.8463706011375\n"
          ]
        },
        {
          "name": "stderr",
          "output_type": "stream",
          "text": [
            "WARNING:absl:Found untraced functions such as dense_layer_call_fn, dense_layer_call_and_return_conditional_losses, dense_1_layer_call_fn, dense_1_layer_call_and_return_conditional_losses, dense_2_layer_call_fn while saving (showing 5 of 20). These functions will not be directly callable after loading.\n"
          ]
        },
        {
          "name": "stdout",
          "output_type": "stream",
          "text": [
            "INFO:tensorflow:Assets written to: saved_networks/duelingdqn_model230/assets\n"
          ]
        },
        {
          "name": "stderr",
          "output_type": "stream",
          "text": [
            "INFO:tensorflow:Assets written to: saved_networks/duelingdqn_model230/assets\n"
          ]
        },
        {
          "name": "stdout",
          "output_type": "stream",
          "text": [
            "Network saved\n",
            "Episode 828/1000, Score: 270.10624272088654 (0.01), AVG Score: 236.84485296243759\n"
          ]
        },
        {
          "name": "stderr",
          "output_type": "stream",
          "text": [
            "WARNING:absl:Found untraced functions such as dense_layer_call_fn, dense_layer_call_and_return_conditional_losses, dense_1_layer_call_fn, dense_1_layer_call_and_return_conditional_losses, dense_2_layer_call_fn while saving (showing 5 of 20). These functions will not be directly callable after loading.\n"
          ]
        },
        {
          "name": "stdout",
          "output_type": "stream",
          "text": [
            "INFO:tensorflow:Assets written to: saved_networks/duelingdqn_model231/assets\n"
          ]
        },
        {
          "name": "stderr",
          "output_type": "stream",
          "text": [
            "INFO:tensorflow:Assets written to: saved_networks/duelingdqn_model231/assets\n"
          ]
        },
        {
          "name": "stdout",
          "output_type": "stream",
          "text": [
            "Network saved\n",
            "Episode 829/1000, Score: 279.75988499618563 (0.01), AVG Score: 241.1694149954119\n"
          ]
        },
        {
          "name": "stderr",
          "output_type": "stream",
          "text": [
            "WARNING:absl:Found untraced functions such as dense_layer_call_fn, dense_layer_call_and_return_conditional_losses, dense_1_layer_call_fn, dense_1_layer_call_and_return_conditional_losses, dense_2_layer_call_fn while saving (showing 5 of 20). These functions will not be directly callable after loading.\n"
          ]
        },
        {
          "name": "stdout",
          "output_type": "stream",
          "text": [
            "INFO:tensorflow:Assets written to: saved_networks/duelingdqn_model232/assets\n"
          ]
        },
        {
          "name": "stderr",
          "output_type": "stream",
          "text": [
            "INFO:tensorflow:Assets written to: saved_networks/duelingdqn_model232/assets\n"
          ]
        },
        {
          "name": "stdout",
          "output_type": "stream",
          "text": [
            "Network saved\n",
            "Episode 830/1000, Score: 5.625699998393799 (0.01), AVG Score: 238.4691163872584\n",
            "Episode 831/1000, Score: 247.23217052172197 (0.01), AVG Score: 238.68550440487456\n",
            "Episode 832/1000, Score: -10.583792922654098 (0.01), AVG Score: 235.86753070252556\n",
            "Episode 833/1000, Score: 242.71714688134404 (0.01), AVG Score: 236.43735017263876\n",
            "Episode 834/1000, Score: 260.6503129133256 (0.01), AVG Score: 236.45455882963913\n"
          ]
        },
        {
          "name": "stderr",
          "output_type": "stream",
          "text": [
            "WARNING:absl:Found untraced functions such as dense_layer_call_fn, dense_layer_call_and_return_conditional_losses, dense_1_layer_call_fn, dense_1_layer_call_and_return_conditional_losses, dense_2_layer_call_fn while saving (showing 5 of 20). These functions will not be directly callable after loading.\n"
          ]
        },
        {
          "name": "stdout",
          "output_type": "stream",
          "text": [
            "INFO:tensorflow:Assets written to: saved_networks/duelingdqn_model233/assets\n"
          ]
        },
        {
          "name": "stderr",
          "output_type": "stream",
          "text": [
            "INFO:tensorflow:Assets written to: saved_networks/duelingdqn_model233/assets\n"
          ]
        },
        {
          "name": "stdout",
          "output_type": "stream",
          "text": [
            "Network saved\n",
            "Episode 835/1000, Score: 277.71098910889117 (0.01), AVG Score: 236.25370709588086\n"
          ]
        },
        {
          "name": "stderr",
          "output_type": "stream",
          "text": [
            "WARNING:absl:Found untraced functions such as dense_layer_call_fn, dense_layer_call_and_return_conditional_losses, dense_1_layer_call_fn, dense_1_layer_call_and_return_conditional_losses, dense_2_layer_call_fn while saving (showing 5 of 20). These functions will not be directly callable after loading.\n"
          ]
        },
        {
          "name": "stdout",
          "output_type": "stream",
          "text": [
            "INFO:tensorflow:Assets written to: saved_networks/duelingdqn_model234/assets\n"
          ]
        },
        {
          "name": "stderr",
          "output_type": "stream",
          "text": [
            "INFO:tensorflow:Assets written to: saved_networks/duelingdqn_model234/assets\n"
          ]
        },
        {
          "name": "stdout",
          "output_type": "stream",
          "text": [
            "Network saved\n",
            "Episode 836/1000, Score: 278.4190575116836 (0.01), AVG Score: 235.96067739410913\n"
          ]
        },
        {
          "name": "stderr",
          "output_type": "stream",
          "text": [
            "WARNING:absl:Found untraced functions such as dense_layer_call_fn, dense_layer_call_and_return_conditional_losses, dense_1_layer_call_fn, dense_1_layer_call_and_return_conditional_losses, dense_2_layer_call_fn while saving (showing 5 of 20). These functions will not be directly callable after loading.\n"
          ]
        },
        {
          "name": "stdout",
          "output_type": "stream",
          "text": [
            "INFO:tensorflow:Assets written to: saved_networks/duelingdqn_model235/assets\n"
          ]
        },
        {
          "name": "stderr",
          "output_type": "stream",
          "text": [
            "INFO:tensorflow:Assets written to: saved_networks/duelingdqn_model235/assets\n"
          ]
        },
        {
          "name": "stdout",
          "output_type": "stream",
          "text": [
            "Network saved\n",
            "Episode 837/1000, Score: 277.3856823819138 (0.01), AVG Score: 236.6581531558312\n"
          ]
        },
        {
          "name": "stderr",
          "output_type": "stream",
          "text": [
            "WARNING:absl:Found untraced functions such as dense_layer_call_fn, dense_layer_call_and_return_conditional_losses, dense_1_layer_call_fn, dense_1_layer_call_and_return_conditional_losses, dense_2_layer_call_fn while saving (showing 5 of 20). These functions will not be directly callable after loading.\n"
          ]
        },
        {
          "name": "stdout",
          "output_type": "stream",
          "text": [
            "INFO:tensorflow:Assets written to: saved_networks/duelingdqn_model236/assets\n"
          ]
        },
        {
          "name": "stderr",
          "output_type": "stream",
          "text": [
            "INFO:tensorflow:Assets written to: saved_networks/duelingdqn_model236/assets\n"
          ]
        },
        {
          "name": "stdout",
          "output_type": "stream",
          "text": [
            "Network saved\n",
            "Episode 838/1000, Score: 235.40262211613387 (0.01), AVG Score: 236.63075441256183\n",
            "Episode 839/1000, Score: 267.9187411221951 (0.01), AVG Score: 236.70801705625578\n"
          ]
        },
        {
          "name": "stderr",
          "output_type": "stream",
          "text": [
            "WARNING:absl:Found untraced functions such as dense_layer_call_fn, dense_layer_call_and_return_conditional_losses, dense_1_layer_call_fn, dense_1_layer_call_and_return_conditional_losses, dense_2_layer_call_fn while saving (showing 5 of 20). These functions will not be directly callable after loading.\n"
          ]
        },
        {
          "name": "stdout",
          "output_type": "stream",
          "text": [
            "INFO:tensorflow:Assets written to: saved_networks/duelingdqn_model237/assets\n"
          ]
        },
        {
          "name": "stderr",
          "output_type": "stream",
          "text": [
            "INFO:tensorflow:Assets written to: saved_networks/duelingdqn_model237/assets\n"
          ]
        },
        {
          "name": "stdout",
          "output_type": "stream",
          "text": [
            "Network saved\n",
            "Episode 840/1000, Score: 266.7748802533738 (0.01), AVG Score: 236.80201081149767\n"
          ]
        },
        {
          "name": "stderr",
          "output_type": "stream",
          "text": [
            "WARNING:absl:Found untraced functions such as dense_layer_call_fn, dense_layer_call_and_return_conditional_losses, dense_1_layer_call_fn, dense_1_layer_call_and_return_conditional_losses, dense_2_layer_call_fn while saving (showing 5 of 20). These functions will not be directly callable after loading.\n"
          ]
        },
        {
          "name": "stdout",
          "output_type": "stream",
          "text": [
            "INFO:tensorflow:Assets written to: saved_networks/duelingdqn_model238/assets\n"
          ]
        },
        {
          "name": "stderr",
          "output_type": "stream",
          "text": [
            "INFO:tensorflow:Assets written to: saved_networks/duelingdqn_model238/assets\n"
          ]
        },
        {
          "name": "stdout",
          "output_type": "stream",
          "text": [
            "Network saved\n",
            "Episode 841/1000, Score: 285.2389394973382 (0.01), AVG Score: 236.73153982446024\n"
          ]
        },
        {
          "name": "stderr",
          "output_type": "stream",
          "text": [
            "WARNING:absl:Found untraced functions such as dense_layer_call_fn, dense_layer_call_and_return_conditional_losses, dense_1_layer_call_fn, dense_1_layer_call_and_return_conditional_losses, dense_2_layer_call_fn while saving (showing 5 of 20). These functions will not be directly callable after loading.\n"
          ]
        },
        {
          "name": "stdout",
          "output_type": "stream",
          "text": [
            "INFO:tensorflow:Assets written to: saved_networks/duelingdqn_model239/assets\n"
          ]
        },
        {
          "name": "stderr",
          "output_type": "stream",
          "text": [
            "INFO:tensorflow:Assets written to: saved_networks/duelingdqn_model239/assets\n"
          ]
        },
        {
          "name": "stdout",
          "output_type": "stream",
          "text": [
            "Network saved\n",
            "Episode 842/1000, Score: 271.0577838304391 (0.01), AVG Score: 236.77358099740024\n"
          ]
        },
        {
          "name": "stderr",
          "output_type": "stream",
          "text": [
            "WARNING:absl:Found untraced functions such as dense_layer_call_fn, dense_layer_call_and_return_conditional_losses, dense_1_layer_call_fn, dense_1_layer_call_and_return_conditional_losses, dense_2_layer_call_fn while saving (showing 5 of 20). These functions will not be directly callable after loading.\n"
          ]
        },
        {
          "name": "stdout",
          "output_type": "stream",
          "text": [
            "INFO:tensorflow:Assets written to: saved_networks/duelingdqn_model240/assets\n"
          ]
        },
        {
          "name": "stderr",
          "output_type": "stream",
          "text": [
            "INFO:tensorflow:Assets written to: saved_networks/duelingdqn_model240/assets\n"
          ]
        },
        {
          "name": "stdout",
          "output_type": "stream",
          "text": [
            "Network saved\n",
            "Episode 843/1000, Score: 269.14457188251635 (0.01), AVG Score: 236.73632923585726\n"
          ]
        },
        {
          "name": "stderr",
          "output_type": "stream",
          "text": [
            "WARNING:absl:Found untraced functions such as dense_layer_call_fn, dense_layer_call_and_return_conditional_losses, dense_1_layer_call_fn, dense_1_layer_call_and_return_conditional_losses, dense_2_layer_call_fn while saving (showing 5 of 20). These functions will not be directly callable after loading.\n"
          ]
        },
        {
          "name": "stdout",
          "output_type": "stream",
          "text": [
            "INFO:tensorflow:Assets written to: saved_networks/duelingdqn_model241/assets\n"
          ]
        },
        {
          "name": "stderr",
          "output_type": "stream",
          "text": [
            "INFO:tensorflow:Assets written to: saved_networks/duelingdqn_model241/assets\n"
          ]
        },
        {
          "name": "stdout",
          "output_type": "stream",
          "text": [
            "Network saved\n",
            "Episode 844/1000, Score: 264.6366611802134 (0.01), AVG Score: 236.49926816100023\n"
          ]
        },
        {
          "name": "stderr",
          "output_type": "stream",
          "text": [
            "WARNING:absl:Found untraced functions such as dense_layer_call_fn, dense_layer_call_and_return_conditional_losses, dense_1_layer_call_fn, dense_1_layer_call_and_return_conditional_losses, dense_2_layer_call_fn while saving (showing 5 of 20). These functions will not be directly callable after loading.\n"
          ]
        },
        {
          "name": "stdout",
          "output_type": "stream",
          "text": [
            "INFO:tensorflow:Assets written to: saved_networks/duelingdqn_model242/assets\n"
          ]
        },
        {
          "name": "stderr",
          "output_type": "stream",
          "text": [
            "INFO:tensorflow:Assets written to: saved_networks/duelingdqn_model242/assets\n"
          ]
        },
        {
          "name": "stdout",
          "output_type": "stream",
          "text": [
            "Network saved\n",
            "Episode 845/1000, Score: 290.3119138358832 (0.01), AVG Score: 236.9359064575886\n"
          ]
        },
        {
          "name": "stderr",
          "output_type": "stream",
          "text": [
            "WARNING:absl:Found untraced functions such as dense_layer_call_fn, dense_layer_call_and_return_conditional_losses, dense_1_layer_call_fn, dense_1_layer_call_and_return_conditional_losses, dense_2_layer_call_fn while saving (showing 5 of 20). These functions will not be directly callable after loading.\n"
          ]
        },
        {
          "name": "stdout",
          "output_type": "stream",
          "text": [
            "INFO:tensorflow:Assets written to: saved_networks/duelingdqn_model243/assets\n"
          ]
        },
        {
          "name": "stderr",
          "output_type": "stream",
          "text": [
            "INFO:tensorflow:Assets written to: saved_networks/duelingdqn_model243/assets\n"
          ]
        },
        {
          "name": "stdout",
          "output_type": "stream",
          "text": [
            "Network saved\n",
            "Episode 846/1000, Score: 248.952373318368 (0.01), AVG Score: 236.58878198110224\n",
            "Episode 847/1000, Score: 268.17441852967056 (0.01), AVG Score: 236.66116907551614\n"
          ]
        },
        {
          "name": "stderr",
          "output_type": "stream",
          "text": [
            "WARNING:absl:Found untraced functions such as dense_layer_call_fn, dense_layer_call_and_return_conditional_losses, dense_1_layer_call_fn, dense_1_layer_call_and_return_conditional_losses, dense_2_layer_call_fn while saving (showing 5 of 20). These functions will not be directly callable after loading.\n"
          ]
        },
        {
          "name": "stdout",
          "output_type": "stream",
          "text": [
            "INFO:tensorflow:Assets written to: saved_networks/duelingdqn_model244/assets\n"
          ]
        },
        {
          "name": "stderr",
          "output_type": "stream",
          "text": [
            "INFO:tensorflow:Assets written to: saved_networks/duelingdqn_model244/assets\n"
          ]
        },
        {
          "name": "stdout",
          "output_type": "stream",
          "text": [
            "Network saved\n",
            "Episode 848/1000, Score: 252.51278592484059 (0.01), AVG Score: 236.09048058042544\n"
          ]
        },
        {
          "name": "stderr",
          "output_type": "stream",
          "text": [
            "WARNING:absl:Found untraced functions such as dense_layer_call_fn, dense_layer_call_and_return_conditional_losses, dense_1_layer_call_fn, dense_1_layer_call_and_return_conditional_losses, dense_2_layer_call_fn while saving (showing 5 of 20). These functions will not be directly callable after loading.\n"
          ]
        },
        {
          "name": "stdout",
          "output_type": "stream",
          "text": [
            "INFO:tensorflow:Assets written to: saved_networks/duelingdqn_model245/assets\n"
          ]
        },
        {
          "name": "stderr",
          "output_type": "stream",
          "text": [
            "INFO:tensorflow:Assets written to: saved_networks/duelingdqn_model245/assets\n"
          ]
        },
        {
          "name": "stdout",
          "output_type": "stream",
          "text": [
            "Network saved\n",
            "Episode 849/1000, Score: 264.90460859102035 (0.01), AVG Score: 236.25280403483103\n"
          ]
        },
        {
          "name": "stderr",
          "output_type": "stream",
          "text": [
            "WARNING:absl:Found untraced functions such as dense_layer_call_fn, dense_layer_call_and_return_conditional_losses, dense_1_layer_call_fn, dense_1_layer_call_and_return_conditional_losses, dense_2_layer_call_fn while saving (showing 5 of 20). These functions will not be directly callable after loading.\n"
          ]
        },
        {
          "name": "stdout",
          "output_type": "stream",
          "text": [
            "INFO:tensorflow:Assets written to: saved_networks/duelingdqn_model246/assets\n"
          ]
        },
        {
          "name": "stderr",
          "output_type": "stream",
          "text": [
            "INFO:tensorflow:Assets written to: saved_networks/duelingdqn_model246/assets\n"
          ]
        },
        {
          "name": "stdout",
          "output_type": "stream",
          "text": [
            "Network saved\n",
            "Episode 850/1000, Score: 266.9258510673652 (0.01), AVG Score: 236.56661624255446\n"
          ]
        },
        {
          "name": "stderr",
          "output_type": "stream",
          "text": [
            "WARNING:absl:Found untraced functions such as dense_layer_call_fn, dense_layer_call_and_return_conditional_losses, dense_1_layer_call_fn, dense_1_layer_call_and_return_conditional_losses, dense_2_layer_call_fn while saving (showing 5 of 20). These functions will not be directly callable after loading.\n"
          ]
        },
        {
          "name": "stdout",
          "output_type": "stream",
          "text": [
            "INFO:tensorflow:Assets written to: saved_networks/duelingdqn_model247/assets\n"
          ]
        },
        {
          "name": "stderr",
          "output_type": "stream",
          "text": [
            "INFO:tensorflow:Assets written to: saved_networks/duelingdqn_model247/assets\n"
          ]
        },
        {
          "name": "stdout",
          "output_type": "stream",
          "text": [
            "Network saved\n",
            "Episode 851/1000, Score: 244.19688425729828 (0.01), AVG Score: 236.49624948243184\n",
            "Episode 852/1000, Score: 285.50118202539494 (0.01), AVG Score: 236.6299240519693\n"
          ]
        },
        {
          "name": "stderr",
          "output_type": "stream",
          "text": [
            "WARNING:absl:Found untraced functions such as dense_layer_call_fn, dense_layer_call_and_return_conditional_losses, dense_1_layer_call_fn, dense_1_layer_call_and_return_conditional_losses, dense_2_layer_call_fn while saving (showing 5 of 20). These functions will not be directly callable after loading.\n"
          ]
        },
        {
          "name": "stdout",
          "output_type": "stream",
          "text": [
            "INFO:tensorflow:Assets written to: saved_networks/duelingdqn_model248/assets\n"
          ]
        },
        {
          "name": "stderr",
          "output_type": "stream",
          "text": [
            "INFO:tensorflow:Assets written to: saved_networks/duelingdqn_model248/assets\n"
          ]
        },
        {
          "name": "stdout",
          "output_type": "stream",
          "text": [
            "Network saved\n",
            "Episode 853/1000, Score: -160.05728587893927 (0.01), AVG Score: 236.87252690786823\n",
            "Episode 854/1000, Score: 286.55159435322815 (0.01), AVG Score: 236.84276087065103\n"
          ]
        },
        {
          "name": "stderr",
          "output_type": "stream",
          "text": [
            "WARNING:absl:Found untraced functions such as dense_layer_call_fn, dense_layer_call_and_return_conditional_losses, dense_1_layer_call_fn, dense_1_layer_call_and_return_conditional_losses, dense_2_layer_call_fn while saving (showing 5 of 20). These functions will not be directly callable after loading.\n"
          ]
        },
        {
          "name": "stdout",
          "output_type": "stream",
          "text": [
            "INFO:tensorflow:Assets written to: saved_networks/duelingdqn_model249/assets\n"
          ]
        },
        {
          "name": "stderr",
          "output_type": "stream",
          "text": [
            "INFO:tensorflow:Assets written to: saved_networks/duelingdqn_model249/assets\n"
          ]
        },
        {
          "name": "stdout",
          "output_type": "stream",
          "text": [
            "Network saved\n",
            "Episode 855/1000, Score: 281.40652288719895 (0.01), AVG Score: 236.6312802022659\n"
          ]
        },
        {
          "name": "stderr",
          "output_type": "stream",
          "text": [
            "WARNING:absl:Found untraced functions such as dense_layer_call_fn, dense_layer_call_and_return_conditional_losses, dense_1_layer_call_fn, dense_1_layer_call_and_return_conditional_losses, dense_2_layer_call_fn while saving (showing 5 of 20). These functions will not be directly callable after loading.\n"
          ]
        },
        {
          "name": "stdout",
          "output_type": "stream",
          "text": [
            "INFO:tensorflow:Assets written to: saved_networks/duelingdqn_model250/assets\n"
          ]
        },
        {
          "name": "stderr",
          "output_type": "stream",
          "text": [
            "INFO:tensorflow:Assets written to: saved_networks/duelingdqn_model250/assets\n"
          ]
        },
        {
          "name": "stdout",
          "output_type": "stream",
          "text": [
            "Network saved\n",
            "Episode 856/1000, Score: -162.01255402366814 (0.01), AVG Score: 233.06215677411998\n",
            "Episode 857/1000, Score: 270.0231254212866 (0.01), AVG Score: 232.83962199031487\n"
          ]
        },
        {
          "name": "stderr",
          "output_type": "stream",
          "text": [
            "WARNING:absl:Found untraced functions such as dense_layer_call_fn, dense_layer_call_and_return_conditional_losses, dense_1_layer_call_fn, dense_1_layer_call_and_return_conditional_losses, dense_2_layer_call_fn while saving (showing 5 of 20). These functions will not be directly callable after loading.\n"
          ]
        },
        {
          "name": "stdout",
          "output_type": "stream",
          "text": [
            "INFO:tensorflow:Assets written to: saved_networks/duelingdqn_model251/assets\n"
          ]
        },
        {
          "name": "stderr",
          "output_type": "stream",
          "text": [
            "INFO:tensorflow:Assets written to: saved_networks/duelingdqn_model251/assets\n"
          ]
        },
        {
          "name": "stdout",
          "output_type": "stream",
          "text": [
            "Network saved\n",
            "Episode 858/1000, Score: 244.35526974358223 (0.01), AVG Score: 232.78855970551626\n",
            "Episode 859/1000, Score: 283.93046757269093 (0.01), AVG Score: 232.87580489860053\n"
          ]
        },
        {
          "name": "stderr",
          "output_type": "stream",
          "text": [
            "WARNING:absl:Found untraced functions such as dense_layer_call_fn, dense_layer_call_and_return_conditional_losses, dense_1_layer_call_fn, dense_1_layer_call_and_return_conditional_losses, dense_2_layer_call_fn while saving (showing 5 of 20). These functions will not be directly callable after loading.\n"
          ]
        },
        {
          "name": "stdout",
          "output_type": "stream",
          "text": [
            "INFO:tensorflow:Assets written to: saved_networks/duelingdqn_model252/assets\n"
          ]
        },
        {
          "name": "stderr",
          "output_type": "stream",
          "text": [
            "INFO:tensorflow:Assets written to: saved_networks/duelingdqn_model252/assets\n"
          ]
        },
        {
          "name": "stdout",
          "output_type": "stream",
          "text": [
            "Network saved\n",
            "Episode 860/1000, Score: 262.07580425263995 (0.01), AVG Score: 232.66489007918557\n"
          ]
        },
        {
          "name": "stderr",
          "output_type": "stream",
          "text": [
            "WARNING:absl:Found untraced functions such as dense_layer_call_fn, dense_layer_call_and_return_conditional_losses, dense_1_layer_call_fn, dense_1_layer_call_and_return_conditional_losses, dense_2_layer_call_fn while saving (showing 5 of 20). These functions will not be directly callable after loading.\n"
          ]
        },
        {
          "name": "stdout",
          "output_type": "stream",
          "text": [
            "INFO:tensorflow:Assets written to: saved_networks/duelingdqn_model253/assets\n"
          ]
        },
        {
          "name": "stderr",
          "output_type": "stream",
          "text": [
            "INFO:tensorflow:Assets written to: saved_networks/duelingdqn_model253/assets\n"
          ]
        },
        {
          "name": "stdout",
          "output_type": "stream",
          "text": [
            "Network saved\n",
            "Episode 861/1000, Score: 226.3929078494394 (0.01), AVG Score: 232.1446461550808\n",
            "Episode 862/1000, Score: 289.88309147231354 (0.01), AVG Score: 232.19533573408523\n"
          ]
        },
        {
          "name": "stderr",
          "output_type": "stream",
          "text": [
            "WARNING:absl:Found untraced functions such as dense_layer_call_fn, dense_layer_call_and_return_conditional_losses, dense_1_layer_call_fn, dense_1_layer_call_and_return_conditional_losses, dense_2_layer_call_fn while saving (showing 5 of 20). These functions will not be directly callable after loading.\n"
          ]
        },
        {
          "name": "stdout",
          "output_type": "stream",
          "text": [
            "INFO:tensorflow:Assets written to: saved_networks/duelingdqn_model254/assets\n"
          ]
        },
        {
          "name": "stderr",
          "output_type": "stream",
          "text": [
            "INFO:tensorflow:Assets written to: saved_networks/duelingdqn_model254/assets\n"
          ]
        },
        {
          "name": "stdout",
          "output_type": "stream",
          "text": [
            "Network saved\n",
            "Episode 863/1000, Score: 288.79434998274485 (0.01), AVG Score: 232.19284001417847\n"
          ]
        },
        {
          "name": "stderr",
          "output_type": "stream",
          "text": [
            "WARNING:absl:Found untraced functions such as dense_layer_call_fn, dense_layer_call_and_return_conditional_losses, dense_1_layer_call_fn, dense_1_layer_call_and_return_conditional_losses, dense_2_layer_call_fn while saving (showing 5 of 20). These functions will not be directly callable after loading.\n"
          ]
        },
        {
          "name": "stdout",
          "output_type": "stream",
          "text": [
            "INFO:tensorflow:Assets written to: saved_networks/duelingdqn_model255/assets\n"
          ]
        },
        {
          "name": "stderr",
          "output_type": "stream",
          "text": [
            "INFO:tensorflow:Assets written to: saved_networks/duelingdqn_model255/assets\n"
          ]
        },
        {
          "name": "stdout",
          "output_type": "stream",
          "text": [
            "Network saved\n",
            "Episode 864/1000, Score: 287.40657252778396 (0.01), AVG Score: 232.35530618162463\n"
          ]
        },
        {
          "name": "stderr",
          "output_type": "stream",
          "text": [
            "WARNING:absl:Found untraced functions such as dense_layer_call_fn, dense_layer_call_and_return_conditional_losses, dense_1_layer_call_fn, dense_1_layer_call_and_return_conditional_losses, dense_2_layer_call_fn while saving (showing 5 of 20). These functions will not be directly callable after loading.\n"
          ]
        },
        {
          "name": "stdout",
          "output_type": "stream",
          "text": [
            "INFO:tensorflow:Assets written to: saved_networks/duelingdqn_model256/assets\n"
          ]
        },
        {
          "name": "stderr",
          "output_type": "stream",
          "text": [
            "INFO:tensorflow:Assets written to: saved_networks/duelingdqn_model256/assets\n"
          ]
        },
        {
          "name": "stdout",
          "output_type": "stream",
          "text": [
            "Network saved\n",
            "Episode 865/1000, Score: 270.3588888751673 (0.01), AVG Score: 232.28040029989327\n"
          ]
        },
        {
          "name": "stderr",
          "output_type": "stream",
          "text": [
            "WARNING:absl:Found untraced functions such as dense_layer_call_fn, dense_layer_call_and_return_conditional_losses, dense_1_layer_call_fn, dense_1_layer_call_and_return_conditional_losses, dense_2_layer_call_fn while saving (showing 5 of 20). These functions will not be directly callable after loading.\n"
          ]
        },
        {
          "name": "stdout",
          "output_type": "stream",
          "text": [
            "INFO:tensorflow:Assets written to: saved_networks/duelingdqn_model257/assets\n"
          ]
        },
        {
          "name": "stderr",
          "output_type": "stream",
          "text": [
            "INFO:tensorflow:Assets written to: saved_networks/duelingdqn_model257/assets\n"
          ]
        },
        {
          "name": "stdout",
          "output_type": "stream",
          "text": [
            "Network saved\n",
            "Episode 866/1000, Score: 275.41307322428463 (0.01), AVG Score: 232.91272874669968\n"
          ]
        },
        {
          "name": "stderr",
          "output_type": "stream",
          "text": [
            "WARNING:absl:Found untraced functions such as dense_layer_call_fn, dense_layer_call_and_return_conditional_losses, dense_1_layer_call_fn, dense_1_layer_call_and_return_conditional_losses, dense_2_layer_call_fn while saving (showing 5 of 20). These functions will not be directly callable after loading.\n"
          ]
        },
        {
          "name": "stdout",
          "output_type": "stream",
          "text": [
            "INFO:tensorflow:Assets written to: saved_networks/duelingdqn_model258/assets\n"
          ]
        },
        {
          "name": "stderr",
          "output_type": "stream",
          "text": [
            "INFO:tensorflow:Assets written to: saved_networks/duelingdqn_model258/assets\n"
          ]
        },
        {
          "name": "stdout",
          "output_type": "stream",
          "text": [
            "Network saved\n",
            "Episode 867/1000, Score: 263.6203093228873 (0.01), AVG Score: 233.71479911800347\n"
          ]
        },
        {
          "name": "stderr",
          "output_type": "stream",
          "text": [
            "WARNING:absl:Found untraced functions such as dense_layer_call_fn, dense_layer_call_and_return_conditional_losses, dense_1_layer_call_fn, dense_1_layer_call_and_return_conditional_losses, dense_2_layer_call_fn while saving (showing 5 of 20). These functions will not be directly callable after loading.\n"
          ]
        },
        {
          "name": "stdout",
          "output_type": "stream",
          "text": [
            "INFO:tensorflow:Assets written to: saved_networks/duelingdqn_model259/assets\n"
          ]
        },
        {
          "name": "stderr",
          "output_type": "stream",
          "text": [
            "INFO:tensorflow:Assets written to: saved_networks/duelingdqn_model259/assets\n"
          ]
        },
        {
          "name": "stdout",
          "output_type": "stream",
          "text": [
            "Network saved\n",
            "Episode 868/1000, Score: 263.06153400066097 (0.01), AVG Score: 233.8706440350673\n"
          ]
        },
        {
          "name": "stderr",
          "output_type": "stream",
          "text": [
            "WARNING:absl:Found untraced functions such as dense_layer_call_fn, dense_layer_call_and_return_conditional_losses, dense_1_layer_call_fn, dense_1_layer_call_and_return_conditional_losses, dense_2_layer_call_fn while saving (showing 5 of 20). These functions will not be directly callable after loading.\n"
          ]
        },
        {
          "name": "stdout",
          "output_type": "stream",
          "text": [
            "INFO:tensorflow:Assets written to: saved_networks/duelingdqn_model260/assets\n"
          ]
        },
        {
          "name": "stderr",
          "output_type": "stream",
          "text": [
            "INFO:tensorflow:Assets written to: saved_networks/duelingdqn_model260/assets\n"
          ]
        },
        {
          "name": "stdout",
          "output_type": "stream",
          "text": [
            "Network saved\n",
            "Episode 869/1000, Score: 267.71821738663357 (0.01), AVG Score: 234.23367663264742\n"
          ]
        },
        {
          "name": "stderr",
          "output_type": "stream",
          "text": [
            "WARNING:absl:Found untraced functions such as dense_layer_call_fn, dense_layer_call_and_return_conditional_losses, dense_1_layer_call_fn, dense_1_layer_call_and_return_conditional_losses, dense_2_layer_call_fn while saving (showing 5 of 20). These functions will not be directly callable after loading.\n"
          ]
        },
        {
          "name": "stdout",
          "output_type": "stream",
          "text": [
            "INFO:tensorflow:Assets written to: saved_networks/duelingdqn_model261/assets\n"
          ]
        },
        {
          "name": "stderr",
          "output_type": "stream",
          "text": [
            "INFO:tensorflow:Assets written to: saved_networks/duelingdqn_model261/assets\n"
          ]
        },
        {
          "name": "stdout",
          "output_type": "stream",
          "text": [
            "Network saved\n",
            "Episode 870/1000, Score: 249.2380845345687 (0.01), AVG Score: 233.93652930548618\n",
            "Episode 871/1000, Score: 286.0219021450927 (0.01), AVG Score: 233.8269087420085\n"
          ]
        },
        {
          "name": "stderr",
          "output_type": "stream",
          "text": [
            "WARNING:absl:Found untraced functions such as dense_layer_call_fn, dense_layer_call_and_return_conditional_losses, dense_1_layer_call_fn, dense_1_layer_call_and_return_conditional_losses, dense_2_layer_call_fn while saving (showing 5 of 20). These functions will not be directly callable after loading.\n"
          ]
        },
        {
          "name": "stdout",
          "output_type": "stream",
          "text": [
            "INFO:tensorflow:Assets written to: saved_networks/duelingdqn_model262/assets\n"
          ]
        },
        {
          "name": "stderr",
          "output_type": "stream",
          "text": [
            "INFO:tensorflow:Assets written to: saved_networks/duelingdqn_model262/assets\n"
          ]
        },
        {
          "name": "stdout",
          "output_type": "stream",
          "text": [
            "Network saved\n",
            "Episode 872/1000, Score: 263.1783664328335 (0.01), AVG Score: 233.57331301921616\n"
          ]
        },
        {
          "name": "stderr",
          "output_type": "stream",
          "text": [
            "WARNING:absl:Found untraced functions such as dense_layer_call_fn, dense_layer_call_and_return_conditional_losses, dense_1_layer_call_fn, dense_1_layer_call_and_return_conditional_losses, dense_2_layer_call_fn while saving (showing 5 of 20). These functions will not be directly callable after loading.\n"
          ]
        },
        {
          "name": "stdout",
          "output_type": "stream",
          "text": [
            "INFO:tensorflow:Assets written to: saved_networks/duelingdqn_model263/assets\n"
          ]
        },
        {
          "name": "stderr",
          "output_type": "stream",
          "text": [
            "INFO:tensorflow:Assets written to: saved_networks/duelingdqn_model263/assets\n"
          ]
        },
        {
          "name": "stdout",
          "output_type": "stream",
          "text": [
            "Network saved\n",
            "Episode 873/1000, Score: 286.4771187232094 (0.01), AVG Score: 233.48564207586068\n"
          ]
        },
        {
          "name": "stderr",
          "output_type": "stream",
          "text": [
            "WARNING:absl:Found untraced functions such as dense_layer_call_fn, dense_layer_call_and_return_conditional_losses, dense_1_layer_call_fn, dense_1_layer_call_and_return_conditional_losses, dense_2_layer_call_fn while saving (showing 5 of 20). These functions will not be directly callable after loading.\n"
          ]
        },
        {
          "name": "stdout",
          "output_type": "stream",
          "text": [
            "INFO:tensorflow:Assets written to: saved_networks/duelingdqn_model264/assets\n"
          ]
        },
        {
          "name": "stderr",
          "output_type": "stream",
          "text": [
            "INFO:tensorflow:Assets written to: saved_networks/duelingdqn_model264/assets\n"
          ]
        },
        {
          "name": "stdout",
          "output_type": "stream",
          "text": [
            "Network saved\n",
            "Episode 874/1000, Score: 248.27400244396125 (0.01), AVG Score: 233.25007056674872\n",
            "Episode 875/1000, Score: 278.4595074838844 (0.01), AVG Score: 233.19604480367988\n"
          ]
        },
        {
          "name": "stderr",
          "output_type": "stream",
          "text": [
            "WARNING:absl:Found untraced functions such as dense_layer_call_fn, dense_layer_call_and_return_conditional_losses, dense_1_layer_call_fn, dense_1_layer_call_and_return_conditional_losses, dense_2_layer_call_fn while saving (showing 5 of 20). These functions will not be directly callable after loading.\n"
          ]
        },
        {
          "name": "stdout",
          "output_type": "stream",
          "text": [
            "INFO:tensorflow:Assets written to: saved_networks/duelingdqn_model265/assets\n"
          ]
        },
        {
          "name": "stderr",
          "output_type": "stream",
          "text": [
            "INFO:tensorflow:Assets written to: saved_networks/duelingdqn_model265/assets\n"
          ]
        },
        {
          "name": "stdout",
          "output_type": "stream",
          "text": [
            "Network saved\n",
            "Episode 876/1000, Score: 36.83284934660276 (0.01), AVG Score: 231.00473560168774\n",
            "Episode 877/1000, Score: 268.6875924495862 (0.01), AVG Score: 231.06855720359417\n"
          ]
        },
        {
          "name": "stderr",
          "output_type": "stream",
          "text": [
            "WARNING:absl:Found untraced functions such as dense_layer_call_fn, dense_layer_call_and_return_conditional_losses, dense_1_layer_call_fn, dense_1_layer_call_and_return_conditional_losses, dense_2_layer_call_fn while saving (showing 5 of 20). These functions will not be directly callable after loading.\n"
          ]
        },
        {
          "name": "stdout",
          "output_type": "stream",
          "text": [
            "INFO:tensorflow:Assets written to: saved_networks/duelingdqn_model266/assets\n"
          ]
        },
        {
          "name": "stderr",
          "output_type": "stream",
          "text": [
            "INFO:tensorflow:Assets written to: saved_networks/duelingdqn_model266/assets\n"
          ]
        },
        {
          "name": "stdout",
          "output_type": "stream",
          "text": [
            "Network saved\n",
            "Episode 878/1000, Score: 254.37234063774886 (0.01), AVG Score: 231.12308275734645\n"
          ]
        },
        {
          "name": "stderr",
          "output_type": "stream",
          "text": [
            "WARNING:absl:Found untraced functions such as dense_layer_call_fn, dense_layer_call_and_return_conditional_losses, dense_1_layer_call_fn, dense_1_layer_call_and_return_conditional_losses, dense_2_layer_call_fn while saving (showing 5 of 20). These functions will not be directly callable after loading.\n"
          ]
        },
        {
          "name": "stdout",
          "output_type": "stream",
          "text": [
            "INFO:tensorflow:Assets written to: saved_networks/duelingdqn_model267/assets\n"
          ]
        },
        {
          "name": "stderr",
          "output_type": "stream",
          "text": [
            "INFO:tensorflow:Assets written to: saved_networks/duelingdqn_model267/assets\n"
          ]
        },
        {
          "name": "stdout",
          "output_type": "stream",
          "text": [
            "Network saved\n",
            "Episode 879/1000, Score: 273.06985473385475 (0.01), AVG Score: 231.18798421188393\n"
          ]
        },
        {
          "name": "stderr",
          "output_type": "stream",
          "text": [
            "WARNING:absl:Found untraced functions such as dense_layer_call_fn, dense_layer_call_and_return_conditional_losses, dense_1_layer_call_fn, dense_1_layer_call_and_return_conditional_losses, dense_2_layer_call_fn while saving (showing 5 of 20). These functions will not be directly callable after loading.\n"
          ]
        },
        {
          "name": "stdout",
          "output_type": "stream",
          "text": [
            "INFO:tensorflow:Assets written to: saved_networks/duelingdqn_model268/assets\n"
          ]
        },
        {
          "name": "stderr",
          "output_type": "stream",
          "text": [
            "INFO:tensorflow:Assets written to: saved_networks/duelingdqn_model268/assets\n"
          ]
        },
        {
          "name": "stdout",
          "output_type": "stream",
          "text": [
            "Network saved\n",
            "Episode 880/1000, Score: 285.0461735041318 (0.01), AVG Score: 231.26924381034553\n"
          ]
        },
        {
          "name": "stderr",
          "output_type": "stream",
          "text": [
            "WARNING:absl:Found untraced functions such as dense_layer_call_fn, dense_layer_call_and_return_conditional_losses, dense_1_layer_call_fn, dense_1_layer_call_and_return_conditional_losses, dense_2_layer_call_fn while saving (showing 5 of 20). These functions will not be directly callable after loading.\n"
          ]
        },
        {
          "name": "stdout",
          "output_type": "stream",
          "text": [
            "INFO:tensorflow:Assets written to: saved_networks/duelingdqn_model269/assets\n"
          ]
        },
        {
          "name": "stderr",
          "output_type": "stream",
          "text": [
            "INFO:tensorflow:Assets written to: saved_networks/duelingdqn_model269/assets\n"
          ]
        },
        {
          "name": "stdout",
          "output_type": "stream",
          "text": [
            "Network saved\n",
            "Episode 881/1000, Score: 232.13287343443437 (0.01), AVG Score: 231.00945284936523\n",
            "Episode 882/1000, Score: 260.6161934161565 (0.01), AVG Score: 230.96262280182208\n"
          ]
        },
        {
          "name": "stderr",
          "output_type": "stream",
          "text": [
            "WARNING:absl:Found untraced functions such as dense_layer_call_fn, dense_layer_call_and_return_conditional_losses, dense_1_layer_call_fn, dense_1_layer_call_and_return_conditional_losses, dense_2_layer_call_fn while saving (showing 5 of 20). These functions will not be directly callable after loading.\n"
          ]
        },
        {
          "name": "stdout",
          "output_type": "stream",
          "text": [
            "INFO:tensorflow:Assets written to: saved_networks/duelingdqn_model270/assets\n"
          ]
        },
        {
          "name": "stderr",
          "output_type": "stream",
          "text": [
            "INFO:tensorflow:Assets written to: saved_networks/duelingdqn_model270/assets\n"
          ]
        },
        {
          "name": "stdout",
          "output_type": "stream",
          "text": [
            "Network saved\n",
            "Episode 883/1000, Score: 250.4074629591491 (0.01), AVG Score: 230.96841743493795\n"
          ]
        },
        {
          "name": "stderr",
          "output_type": "stream",
          "text": [
            "WARNING:absl:Found untraced functions such as dense_layer_call_fn, dense_layer_call_and_return_conditional_losses, dense_1_layer_call_fn, dense_1_layer_call_and_return_conditional_losses, dense_2_layer_call_fn while saving (showing 5 of 20). These functions will not be directly callable after loading.\n"
          ]
        },
        {
          "name": "stdout",
          "output_type": "stream",
          "text": [
            "INFO:tensorflow:Assets written to: saved_networks/duelingdqn_model271/assets\n"
          ]
        },
        {
          "name": "stderr",
          "output_type": "stream",
          "text": [
            "INFO:tensorflow:Assets written to: saved_networks/duelingdqn_model271/assets\n"
          ]
        },
        {
          "name": "stdout",
          "output_type": "stream",
          "text": [
            "Network saved\n",
            "Episode 884/1000, Score: 299.75077785924725 (0.01), AVG Score: 231.208348957164\n"
          ]
        },
        {
          "name": "stderr",
          "output_type": "stream",
          "text": [
            "WARNING:absl:Found untraced functions such as dense_layer_call_fn, dense_layer_call_and_return_conditional_losses, dense_1_layer_call_fn, dense_1_layer_call_and_return_conditional_losses, dense_2_layer_call_fn while saving (showing 5 of 20). These functions will not be directly callable after loading.\n"
          ]
        },
        {
          "name": "stdout",
          "output_type": "stream",
          "text": [
            "INFO:tensorflow:Assets written to: saved_networks/duelingdqn_model272/assets\n"
          ]
        },
        {
          "name": "stderr",
          "output_type": "stream",
          "text": [
            "INFO:tensorflow:Assets written to: saved_networks/duelingdqn_model272/assets\n"
          ]
        },
        {
          "name": "stdout",
          "output_type": "stream",
          "text": [
            "Network saved\n",
            "Episode 885/1000, Score: 256.96865336747715 (0.01), AVG Score: 237.1241997142225\n"
          ]
        },
        {
          "name": "stderr",
          "output_type": "stream",
          "text": [
            "WARNING:absl:Found untraced functions such as dense_layer_call_fn, dense_layer_call_and_return_conditional_losses, dense_1_layer_call_fn, dense_1_layer_call_and_return_conditional_losses, dense_2_layer_call_fn while saving (showing 5 of 20). These functions will not be directly callable after loading.\n"
          ]
        },
        {
          "name": "stdout",
          "output_type": "stream",
          "text": [
            "INFO:tensorflow:Assets written to: saved_networks/duelingdqn_model273/assets\n"
          ]
        },
        {
          "name": "stderr",
          "output_type": "stream",
          "text": [
            "INFO:tensorflow:Assets written to: saved_networks/duelingdqn_model273/assets\n"
          ]
        },
        {
          "name": "stdout",
          "output_type": "stream",
          "text": [
            "Network saved\n",
            "Episode 886/1000, Score: 257.99412361446184 (0.01), AVG Score: 237.2867510389467\n"
          ]
        },
        {
          "name": "stderr",
          "output_type": "stream",
          "text": [
            "WARNING:absl:Found untraced functions such as dense_layer_call_fn, dense_layer_call_and_return_conditional_losses, dense_1_layer_call_fn, dense_1_layer_call_and_return_conditional_losses, dense_2_layer_call_fn while saving (showing 5 of 20). These functions will not be directly callable after loading.\n"
          ]
        },
        {
          "name": "stdout",
          "output_type": "stream",
          "text": [
            "INFO:tensorflow:Assets written to: saved_networks/duelingdqn_model274/assets\n"
          ]
        },
        {
          "name": "stderr",
          "output_type": "stream",
          "text": [
            "INFO:tensorflow:Assets written to: saved_networks/duelingdqn_model274/assets\n"
          ]
        },
        {
          "name": "stdout",
          "output_type": "stream",
          "text": [
            "Network saved\n",
            "Episode 887/1000, Score: 275.46302898129863 (0.01), AVG Score: 237.5127300121362\n"
          ]
        },
        {
          "name": "stderr",
          "output_type": "stream",
          "text": [
            "WARNING:absl:Found untraced functions such as dense_layer_call_fn, dense_layer_call_and_return_conditional_losses, dense_1_layer_call_fn, dense_1_layer_call_and_return_conditional_losses, dense_2_layer_call_fn while saving (showing 5 of 20). These functions will not be directly callable after loading.\n"
          ]
        },
        {
          "name": "stdout",
          "output_type": "stream",
          "text": [
            "INFO:tensorflow:Assets written to: saved_networks/duelingdqn_model275/assets\n"
          ]
        },
        {
          "name": "stderr",
          "output_type": "stream",
          "text": [
            "INFO:tensorflow:Assets written to: saved_networks/duelingdqn_model275/assets\n"
          ]
        },
        {
          "name": "stdout",
          "output_type": "stream",
          "text": [
            "Network saved\n",
            "Episode 888/1000, Score: 282.41673199936224 (0.01), AVG Score: 242.0083975007036\n"
          ]
        },
        {
          "name": "stderr",
          "output_type": "stream",
          "text": [
            "WARNING:absl:Found untraced functions such as dense_layer_call_fn, dense_layer_call_and_return_conditional_losses, dense_1_layer_call_fn, dense_1_layer_call_and_return_conditional_losses, dense_2_layer_call_fn while saving (showing 5 of 20). These functions will not be directly callable after loading.\n"
          ]
        },
        {
          "name": "stdout",
          "output_type": "stream",
          "text": [
            "INFO:tensorflow:Assets written to: saved_networks/duelingdqn_model276/assets\n"
          ]
        },
        {
          "name": "stderr",
          "output_type": "stream",
          "text": [
            "INFO:tensorflow:Assets written to: saved_networks/duelingdqn_model276/assets\n"
          ]
        },
        {
          "name": "stdout",
          "output_type": "stream",
          "text": [
            "Network saved\n",
            "Episode 889/1000, Score: 254.25978485872227 (0.01), AVG Score: 242.12192807500196\n"
          ]
        },
        {
          "name": "stderr",
          "output_type": "stream",
          "text": [
            "WARNING:absl:Found untraced functions such as dense_layer_call_fn, dense_layer_call_and_return_conditional_losses, dense_1_layer_call_fn, dense_1_layer_call_and_return_conditional_losses, dense_2_layer_call_fn while saving (showing 5 of 20). These functions will not be directly callable after loading.\n"
          ]
        },
        {
          "name": "stdout",
          "output_type": "stream",
          "text": [
            "INFO:tensorflow:Assets written to: saved_networks/duelingdqn_model277/assets\n"
          ]
        },
        {
          "name": "stderr",
          "output_type": "stream",
          "text": [
            "INFO:tensorflow:Assets written to: saved_networks/duelingdqn_model277/assets\n"
          ]
        },
        {
          "name": "stdout",
          "output_type": "stream",
          "text": [
            "Network saved\n",
            "Episode 890/1000, Score: 256.3014560146838 (0.01), AVG Score: 242.32803176272202\n"
          ]
        },
        {
          "name": "stderr",
          "output_type": "stream",
          "text": [
            "WARNING:absl:Found untraced functions such as dense_layer_call_fn, dense_layer_call_and_return_conditional_losses, dense_1_layer_call_fn, dense_1_layer_call_and_return_conditional_losses, dense_2_layer_call_fn while saving (showing 5 of 20). These functions will not be directly callable after loading.\n"
          ]
        },
        {
          "name": "stdout",
          "output_type": "stream",
          "text": [
            "INFO:tensorflow:Assets written to: saved_networks/duelingdqn_model278/assets\n"
          ]
        },
        {
          "name": "stderr",
          "output_type": "stream",
          "text": [
            "INFO:tensorflow:Assets written to: saved_networks/duelingdqn_model278/assets\n"
          ]
        },
        {
          "name": "stdout",
          "output_type": "stream",
          "text": [
            "Network saved\n",
            "Episode 891/1000, Score: 266.71048435804664 (0.01), AVG Score: 242.42666947287813\n"
          ]
        },
        {
          "name": "stderr",
          "output_type": "stream",
          "text": [
            "WARNING:absl:Found untraced functions such as dense_layer_call_fn, dense_layer_call_and_return_conditional_losses, dense_1_layer_call_fn, dense_1_layer_call_and_return_conditional_losses, dense_2_layer_call_fn while saving (showing 5 of 20). These functions will not be directly callable after loading.\n"
          ]
        },
        {
          "name": "stdout",
          "output_type": "stream",
          "text": [
            "INFO:tensorflow:Assets written to: saved_networks/duelingdqn_model279/assets\n"
          ]
        },
        {
          "name": "stderr",
          "output_type": "stream",
          "text": [
            "INFO:tensorflow:Assets written to: saved_networks/duelingdqn_model279/assets\n"
          ]
        },
        {
          "name": "stdout",
          "output_type": "stream",
          "text": [
            "Network saved\n",
            "Episode 892/1000, Score: -20.342124201901456 (0.01), AVG Score: 239.71153016132445\n",
            "Episode 893/1000, Score: 231.57627628019262 (0.01), AVG Score: 239.5433785429128\n",
            "Episode 894/1000, Score: 283.0418403881736 (0.01), AVG Score: 239.28274598083814\n"
          ]
        },
        {
          "name": "stderr",
          "output_type": "stream",
          "text": [
            "WARNING:absl:Found untraced functions such as dense_layer_call_fn, dense_layer_call_and_return_conditional_losses, dense_1_layer_call_fn, dense_1_layer_call_and_return_conditional_losses, dense_2_layer_call_fn while saving (showing 5 of 20). These functions will not be directly callable after loading.\n"
          ]
        },
        {
          "name": "stdout",
          "output_type": "stream",
          "text": [
            "INFO:tensorflow:Assets written to: saved_networks/duelingdqn_model280/assets\n"
          ]
        },
        {
          "name": "stderr",
          "output_type": "stream",
          "text": [
            "INFO:tensorflow:Assets written to: saved_networks/duelingdqn_model280/assets\n"
          ]
        },
        {
          "name": "stdout",
          "output_type": "stream",
          "text": [
            "Network saved\n",
            "Episode 895/1000, Score: 228.53396977792568 (0.01), AVG Score: 238.87213838509288\n",
            "Episode 896/1000, Score: 195.3135996120113 (0.01), AVG Score: 237.96181229605025\n",
            "Episode 897/1000, Score: 237.29266870043014 (0.01), AVG Score: 238.0356883739707\n",
            "Episode 898/1000, Score: 240.25154557324183 (0.01), AVG Score: 237.569962051337\n",
            "Episode 899/1000, Score: 281.4037605113763 (0.01), AVG Score: 237.4799106280839\n"
          ]
        },
        {
          "name": "stderr",
          "output_type": "stream",
          "text": [
            "WARNING:absl:Found untraced functions such as dense_layer_call_fn, dense_layer_call_and_return_conditional_losses, dense_1_layer_call_fn, dense_1_layer_call_and_return_conditional_losses, dense_2_layer_call_fn while saving (showing 5 of 20). These functions will not be directly callable after loading.\n"
          ]
        },
        {
          "name": "stdout",
          "output_type": "stream",
          "text": [
            "INFO:tensorflow:Assets written to: saved_networks/duelingdqn_model281/assets\n"
          ]
        },
        {
          "name": "stderr",
          "output_type": "stream",
          "text": [
            "INFO:tensorflow:Assets written to: saved_networks/duelingdqn_model281/assets\n"
          ]
        },
        {
          "name": "stdout",
          "output_type": "stream",
          "text": [
            "Network saved\n",
            "Episode 900/1000, Score: 285.9850244429547 (0.01), AVG Score: 237.8703971576849\n"
          ]
        },
        {
          "name": "stderr",
          "output_type": "stream",
          "text": [
            "WARNING:absl:Found untraced functions such as dense_layer_call_fn, dense_layer_call_and_return_conditional_losses, dense_1_layer_call_fn, dense_1_layer_call_and_return_conditional_losses, dense_2_layer_call_fn while saving (showing 5 of 20). These functions will not be directly callable after loading.\n"
          ]
        },
        {
          "name": "stdout",
          "output_type": "stream",
          "text": [
            "INFO:tensorflow:Assets written to: saved_networks/duelingdqn_model282/assets\n"
          ]
        },
        {
          "name": "stderr",
          "output_type": "stream",
          "text": [
            "INFO:tensorflow:Assets written to: saved_networks/duelingdqn_model282/assets\n"
          ]
        },
        {
          "name": "stdout",
          "output_type": "stream",
          "text": [
            "Network saved\n",
            "Episode 901/1000, Score: 245.32162874262863 (0.01), AVG Score: 238.83652753600708\n",
            "Episode 902/1000, Score: 254.41517249778138 (0.01), AVG Score: 238.64259666317105\n"
          ]
        },
        {
          "name": "stderr",
          "output_type": "stream",
          "text": [
            "WARNING:absl:Found untraced functions such as dense_layer_call_fn, dense_layer_call_and_return_conditional_losses, dense_1_layer_call_fn, dense_1_layer_call_and_return_conditional_losses, dense_2_layer_call_fn while saving (showing 5 of 20). These functions will not be directly callable after loading.\n"
          ]
        },
        {
          "name": "stdout",
          "output_type": "stream",
          "text": [
            "INFO:tensorflow:Assets written to: saved_networks/duelingdqn_model283/assets\n"
          ]
        },
        {
          "name": "stderr",
          "output_type": "stream",
          "text": [
            "INFO:tensorflow:Assets written to: saved_networks/duelingdqn_model283/assets\n"
          ]
        },
        {
          "name": "stdout",
          "output_type": "stream",
          "text": [
            "Network saved\n",
            "Episode 903/1000, Score: 276.03907319774817 (0.01), AVG Score: 239.08027068261913\n"
          ]
        },
        {
          "name": "stderr",
          "output_type": "stream",
          "text": [
            "WARNING:absl:Found untraced functions such as dense_layer_call_fn, dense_layer_call_and_return_conditional_losses, dense_1_layer_call_fn, dense_1_layer_call_and_return_conditional_losses, dense_2_layer_call_fn while saving (showing 5 of 20). These functions will not be directly callable after loading.\n"
          ]
        },
        {
          "name": "stdout",
          "output_type": "stream",
          "text": [
            "INFO:tensorflow:Assets written to: saved_networks/duelingdqn_model284/assets\n"
          ]
        },
        {
          "name": "stderr",
          "output_type": "stream",
          "text": [
            "INFO:tensorflow:Assets written to: saved_networks/duelingdqn_model284/assets\n"
          ]
        },
        {
          "name": "stdout",
          "output_type": "stream",
          "text": [
            "Network saved\n",
            "Episode 904/1000, Score: 255.47896050382468 (0.01), AVG Score: 238.80069348847437\n"
          ]
        },
        {
          "name": "stderr",
          "output_type": "stream",
          "text": [
            "WARNING:absl:Found untraced functions such as dense_layer_call_fn, dense_layer_call_and_return_conditional_losses, dense_1_layer_call_fn, dense_1_layer_call_and_return_conditional_losses, dense_2_layer_call_fn while saving (showing 5 of 20). These functions will not be directly callable after loading.\n"
          ]
        },
        {
          "name": "stdout",
          "output_type": "stream",
          "text": [
            "INFO:tensorflow:Assets written to: saved_networks/duelingdqn_model285/assets\n"
          ]
        },
        {
          "name": "stderr",
          "output_type": "stream",
          "text": [
            "INFO:tensorflow:Assets written to: saved_networks/duelingdqn_model285/assets\n"
          ]
        },
        {
          "name": "stdout",
          "output_type": "stream",
          "text": [
            "Network saved\n",
            "Episode 905/1000, Score: 179.43021940457606 (0.01), AVG Score: 237.83098804345454\n",
            "Episode 906/1000, Score: 254.46648570355785 (0.01), AVG Score: 237.78090042589284\n"
          ]
        },
        {
          "name": "stderr",
          "output_type": "stream",
          "text": [
            "WARNING:absl:Found untraced functions such as dense_layer_call_fn, dense_layer_call_and_return_conditional_losses, dense_1_layer_call_fn, dense_1_layer_call_and_return_conditional_losses, dense_2_layer_call_fn while saving (showing 5 of 20). These functions will not be directly callable after loading.\n"
          ]
        },
        {
          "name": "stdout",
          "output_type": "stream",
          "text": [
            "INFO:tensorflow:Assets written to: saved_networks/duelingdqn_model286/assets\n"
          ]
        },
        {
          "name": "stderr",
          "output_type": "stream",
          "text": [
            "INFO:tensorflow:Assets written to: saved_networks/duelingdqn_model286/assets\n"
          ]
        },
        {
          "name": "stdout",
          "output_type": "stream",
          "text": [
            "Network saved\n",
            "Episode 907/1000, Score: 274.0251629878651 (0.01), AVG Score: 237.95395087125442\n"
          ]
        },
        {
          "name": "stderr",
          "output_type": "stream",
          "text": [
            "WARNING:absl:Found untraced functions such as dense_layer_call_fn, dense_layer_call_and_return_conditional_losses, dense_1_layer_call_fn, dense_1_layer_call_and_return_conditional_losses, dense_2_layer_call_fn while saving (showing 5 of 20). These functions will not be directly callable after loading.\n"
          ]
        },
        {
          "name": "stdout",
          "output_type": "stream",
          "text": [
            "INFO:tensorflow:Assets written to: saved_networks/duelingdqn_model287/assets\n"
          ]
        },
        {
          "name": "stderr",
          "output_type": "stream",
          "text": [
            "INFO:tensorflow:Assets written to: saved_networks/duelingdqn_model287/assets\n"
          ]
        },
        {
          "name": "stdout",
          "output_type": "stream",
          "text": [
            "Network saved\n",
            "Episode 908/1000, Score: 231.43994544609237 (0.01), AVG Score: 237.71354524123544\n",
            "Episode 909/1000, Score: 285.96006033717515 (0.01), AVG Score: 237.85073492619392\n"
          ]
        },
        {
          "name": "stderr",
          "output_type": "stream",
          "text": [
            "WARNING:absl:Found untraced functions such as dense_layer_call_fn, dense_layer_call_and_return_conditional_losses, dense_1_layer_call_fn, dense_1_layer_call_and_return_conditional_losses, dense_2_layer_call_fn while saving (showing 5 of 20). These functions will not be directly callable after loading.\n"
          ]
        },
        {
          "name": "stdout",
          "output_type": "stream",
          "text": [
            "INFO:tensorflow:Assets written to: saved_networks/duelingdqn_model288/assets\n"
          ]
        },
        {
          "name": "stderr",
          "output_type": "stream",
          "text": [
            "INFO:tensorflow:Assets written to: saved_networks/duelingdqn_model288/assets\n"
          ]
        },
        {
          "name": "stdout",
          "output_type": "stream",
          "text": [
            "Network saved\n",
            "Episode 910/1000, Score: 282.30321929632953 (0.01), AVG Score: 237.84296622871898\n"
          ]
        },
        {
          "name": "stderr",
          "output_type": "stream",
          "text": [
            "WARNING:absl:Found untraced functions such as dense_layer_call_fn, dense_layer_call_and_return_conditional_losses, dense_1_layer_call_fn, dense_1_layer_call_and_return_conditional_losses, dense_2_layer_call_fn while saving (showing 5 of 20). These functions will not be directly callable after loading.\n"
          ]
        },
        {
          "name": "stdout",
          "output_type": "stream",
          "text": [
            "INFO:tensorflow:Assets written to: saved_networks/duelingdqn_model289/assets\n"
          ]
        },
        {
          "name": "stderr",
          "output_type": "stream",
          "text": [
            "INFO:tensorflow:Assets written to: saved_networks/duelingdqn_model289/assets\n"
          ]
        },
        {
          "name": "stdout",
          "output_type": "stream",
          "text": [
            "Network saved\n",
            "Episode 911/1000, Score: 277.74142965578426 (0.01), AVG Score: 237.84091414764976\n"
          ]
        },
        {
          "name": "stderr",
          "output_type": "stream",
          "text": [
            "WARNING:absl:Found untraced functions such as dense_layer_call_fn, dense_layer_call_and_return_conditional_losses, dense_1_layer_call_fn, dense_1_layer_call_and_return_conditional_losses, dense_2_layer_call_fn while saving (showing 5 of 20). These functions will not be directly callable after loading.\n"
          ]
        },
        {
          "name": "stdout",
          "output_type": "stream",
          "text": [
            "INFO:tensorflow:Assets written to: saved_networks/duelingdqn_model290/assets\n"
          ]
        },
        {
          "name": "stderr",
          "output_type": "stream",
          "text": [
            "INFO:tensorflow:Assets written to: saved_networks/duelingdqn_model290/assets\n"
          ]
        },
        {
          "name": "stdout",
          "output_type": "stream",
          "text": [
            "Network saved\n",
            "Episode 912/1000, Score: 255.42970310464978 (0.01), AVG Score: 237.70118208764896\n"
          ]
        },
        {
          "name": "stderr",
          "output_type": "stream",
          "text": [
            "WARNING:absl:Found untraced functions such as dense_layer_call_fn, dense_layer_call_and_return_conditional_losses, dense_1_layer_call_fn, dense_1_layer_call_and_return_conditional_losses, dense_2_layer_call_fn while saving (showing 5 of 20). These functions will not be directly callable after loading.\n"
          ]
        },
        {
          "name": "stdout",
          "output_type": "stream",
          "text": [
            "INFO:tensorflow:Assets written to: saved_networks/duelingdqn_model291/assets\n"
          ]
        },
        {
          "name": "stderr",
          "output_type": "stream",
          "text": [
            "INFO:tensorflow:Assets written to: saved_networks/duelingdqn_model291/assets\n"
          ]
        },
        {
          "name": "stdout",
          "output_type": "stream",
          "text": [
            "Network saved\n",
            "Episode 913/1000, Score: 266.0979241568949 (0.01), AVG Score: 237.73294019345576\n"
          ]
        },
        {
          "name": "stderr",
          "output_type": "stream",
          "text": [
            "WARNING:absl:Found untraced functions such as dense_layer_call_fn, dense_layer_call_and_return_conditional_losses, dense_1_layer_call_fn, dense_1_layer_call_and_return_conditional_losses, dense_2_layer_call_fn while saving (showing 5 of 20). These functions will not be directly callable after loading.\n"
          ]
        },
        {
          "name": "stdout",
          "output_type": "stream",
          "text": [
            "INFO:tensorflow:Assets written to: saved_networks/duelingdqn_model292/assets\n"
          ]
        },
        {
          "name": "stderr",
          "output_type": "stream",
          "text": [
            "INFO:tensorflow:Assets written to: saved_networks/duelingdqn_model292/assets\n"
          ]
        },
        {
          "name": "stdout",
          "output_type": "stream",
          "text": [
            "Network saved\n",
            "Episode 914/1000, Score: 61.81128142528672 (0.01), AVG Score: 235.64460990049912\n",
            "Episode 915/1000, Score: 269.7809873667028 (0.01), AVG Score: 235.5447463520925\n"
          ]
        },
        {
          "name": "stderr",
          "output_type": "stream",
          "text": [
            "WARNING:absl:Found untraced functions such as dense_layer_call_fn, dense_layer_call_and_return_conditional_losses, dense_1_layer_call_fn, dense_1_layer_call_and_return_conditional_losses, dense_2_layer_call_fn while saving (showing 5 of 20). These functions will not be directly callable after loading.\n"
          ]
        },
        {
          "name": "stdout",
          "output_type": "stream",
          "text": [
            "INFO:tensorflow:Assets written to: saved_networks/duelingdqn_model293/assets\n"
          ]
        },
        {
          "name": "stderr",
          "output_type": "stream",
          "text": [
            "INFO:tensorflow:Assets written to: saved_networks/duelingdqn_model293/assets\n"
          ]
        },
        {
          "name": "stdout",
          "output_type": "stream",
          "text": [
            "Network saved\n",
            "Episode 916/1000, Score: 262.17031671087716 (0.01), AVG Score: 235.5439400078576\n"
          ]
        },
        {
          "name": "stderr",
          "output_type": "stream",
          "text": [
            "WARNING:absl:Found untraced functions such as dense_layer_call_fn, dense_layer_call_and_return_conditional_losses, dense_1_layer_call_fn, dense_1_layer_call_and_return_conditional_losses, dense_2_layer_call_fn while saving (showing 5 of 20). These functions will not be directly callable after loading.\n"
          ]
        },
        {
          "name": "stdout",
          "output_type": "stream",
          "text": [
            "INFO:tensorflow:Assets written to: saved_networks/duelingdqn_model294/assets\n"
          ]
        },
        {
          "name": "stderr",
          "output_type": "stream",
          "text": [
            "INFO:tensorflow:Assets written to: saved_networks/duelingdqn_model294/assets\n"
          ]
        },
        {
          "name": "stdout",
          "output_type": "stream",
          "text": [
            "Network saved\n",
            "Episode 917/1000, Score: 291.2613621234357 (0.01), AVG Score: 235.58071162648187\n"
          ]
        },
        {
          "name": "stderr",
          "output_type": "stream",
          "text": [
            "WARNING:absl:Found untraced functions such as dense_layer_call_fn, dense_layer_call_and_return_conditional_losses, dense_1_layer_call_fn, dense_1_layer_call_and_return_conditional_losses, dense_2_layer_call_fn while saving (showing 5 of 20). These functions will not be directly callable after loading.\n"
          ]
        },
        {
          "name": "stdout",
          "output_type": "stream",
          "text": [
            "INFO:tensorflow:Assets written to: saved_networks/duelingdqn_model295/assets\n"
          ]
        },
        {
          "name": "stderr",
          "output_type": "stream",
          "text": [
            "INFO:tensorflow:Assets written to: saved_networks/duelingdqn_model295/assets\n"
          ]
        },
        {
          "name": "stdout",
          "output_type": "stream",
          "text": [
            "Network saved\n",
            "Episode 918/1000, Score: -224.59920628242065 (0.01), AVG Score: 230.45853009875975\n",
            "Episode 919/1000, Score: 252.39002934301382 (0.01), AVG Score: 230.36308803904762\n"
          ]
        },
        {
          "name": "stderr",
          "output_type": "stream",
          "text": [
            "WARNING:absl:Found untraced functions such as dense_layer_call_fn, dense_layer_call_and_return_conditional_losses, dense_1_layer_call_fn, dense_1_layer_call_and_return_conditional_losses, dense_2_layer_call_fn while saving (showing 5 of 20). These functions will not be directly callable after loading.\n"
          ]
        },
        {
          "name": "stdout",
          "output_type": "stream",
          "text": [
            "INFO:tensorflow:Assets written to: saved_networks/duelingdqn_model296/assets\n"
          ]
        },
        {
          "name": "stderr",
          "output_type": "stream",
          "text": [
            "INFO:tensorflow:Assets written to: saved_networks/duelingdqn_model296/assets\n"
          ]
        },
        {
          "name": "stdout",
          "output_type": "stream",
          "text": [
            "Network saved\n",
            "Episode 920/1000, Score: 283.0083026398678 (0.01), AVG Score: 235.44055564109541\n"
          ]
        },
        {
          "name": "stderr",
          "output_type": "stream",
          "text": [
            "WARNING:absl:Found untraced functions such as dense_layer_call_fn, dense_layer_call_and_return_conditional_losses, dense_1_layer_call_fn, dense_1_layer_call_and_return_conditional_losses, dense_2_layer_call_fn while saving (showing 5 of 20). These functions will not be directly callable after loading.\n"
          ]
        },
        {
          "name": "stdout",
          "output_type": "stream",
          "text": [
            "INFO:tensorflow:Assets written to: saved_networks/duelingdqn_model297/assets\n"
          ]
        },
        {
          "name": "stderr",
          "output_type": "stream",
          "text": [
            "INFO:tensorflow:Assets written to: saved_networks/duelingdqn_model297/assets\n"
          ]
        },
        {
          "name": "stdout",
          "output_type": "stream",
          "text": [
            "Network saved\n",
            "Episode 921/1000, Score: 294.5412233078465 (0.01), AVG Score: 235.76627981513215\n"
          ]
        },
        {
          "name": "stderr",
          "output_type": "stream",
          "text": [
            "WARNING:absl:Found untraced functions such as dense_layer_call_fn, dense_layer_call_and_return_conditional_losses, dense_1_layer_call_fn, dense_1_layer_call_and_return_conditional_losses, dense_2_layer_call_fn while saving (showing 5 of 20). These functions will not be directly callable after loading.\n"
          ]
        },
        {
          "name": "stdout",
          "output_type": "stream",
          "text": [
            "INFO:tensorflow:Assets written to: saved_networks/duelingdqn_model298/assets\n"
          ]
        },
        {
          "name": "stderr",
          "output_type": "stream",
          "text": [
            "INFO:tensorflow:Assets written to: saved_networks/duelingdqn_model298/assets\n"
          ]
        },
        {
          "name": "stdout",
          "output_type": "stream",
          "text": [
            "Network saved\n",
            "Episode 922/1000, Score: 256.6793028273122 (0.01), AVG Score: 235.69820900171456\n"
          ]
        },
        {
          "name": "stderr",
          "output_type": "stream",
          "text": [
            "WARNING:absl:Found untraced functions such as dense_layer_call_fn, dense_layer_call_and_return_conditional_losses, dense_1_layer_call_fn, dense_1_layer_call_and_return_conditional_losses, dense_2_layer_call_fn while saving (showing 5 of 20). These functions will not be directly callable after loading.\n"
          ]
        },
        {
          "name": "stdout",
          "output_type": "stream",
          "text": [
            "INFO:tensorflow:Assets written to: saved_networks/duelingdqn_model299/assets\n"
          ]
        },
        {
          "name": "stderr",
          "output_type": "stream",
          "text": [
            "INFO:tensorflow:Assets written to: saved_networks/duelingdqn_model299/assets\n"
          ]
        },
        {
          "name": "stdout",
          "output_type": "stream",
          "text": [
            "Network saved\n",
            "Episode 923/1000, Score: 4.668675388851582 (0.01), AVG Score: 236.36600373904741\n",
            "Episode 924/1000, Score: 264.6431612930985 (0.01), AVG Score: 236.16826898829703\n"
          ]
        },
        {
          "name": "stderr",
          "output_type": "stream",
          "text": [
            "WARNING:absl:Found untraced functions such as dense_layer_call_fn, dense_layer_call_and_return_conditional_losses, dense_1_layer_call_fn, dense_1_layer_call_and_return_conditional_losses, dense_2_layer_call_fn while saving (showing 5 of 20). These functions will not be directly callable after loading.\n"
          ]
        },
        {
          "name": "stdout",
          "output_type": "stream",
          "text": [
            "INFO:tensorflow:Assets written to: saved_networks/duelingdqn_model300/assets\n"
          ]
        },
        {
          "name": "stderr",
          "output_type": "stream",
          "text": [
            "INFO:tensorflow:Assets written to: saved_networks/duelingdqn_model300/assets\n"
          ]
        },
        {
          "name": "stdout",
          "output_type": "stream",
          "text": [
            "Network saved\n",
            "Episode 925/1000, Score: 282.7944846933408 (0.01), AVG Score: 236.1750307001852\n"
          ]
        },
        {
          "name": "stderr",
          "output_type": "stream",
          "text": [
            "WARNING:absl:Found untraced functions such as dense_layer_call_fn, dense_layer_call_and_return_conditional_losses, dense_1_layer_call_fn, dense_1_layer_call_and_return_conditional_losses, dense_2_layer_call_fn while saving (showing 5 of 20). These functions will not be directly callable after loading.\n"
          ]
        },
        {
          "name": "stdout",
          "output_type": "stream",
          "text": [
            "INFO:tensorflow:Assets written to: saved_networks/duelingdqn_model301/assets\n"
          ]
        },
        {
          "name": "stderr",
          "output_type": "stream",
          "text": [
            "INFO:tensorflow:Assets written to: saved_networks/duelingdqn_model301/assets\n"
          ]
        },
        {
          "name": "stdout",
          "output_type": "stream",
          "text": [
            "Network saved\n",
            "Episode 926/1000, Score: 301.2106807677704 (0.01), AVG Score: 236.27931222794723\n"
          ]
        },
        {
          "name": "stderr",
          "output_type": "stream",
          "text": [
            "WARNING:absl:Found untraced functions such as dense_layer_call_fn, dense_layer_call_and_return_conditional_losses, dense_1_layer_call_fn, dense_1_layer_call_and_return_conditional_losses, dense_2_layer_call_fn while saving (showing 5 of 20). These functions will not be directly callable after loading.\n"
          ]
        },
        {
          "name": "stdout",
          "output_type": "stream",
          "text": [
            "INFO:tensorflow:Assets written to: saved_networks/duelingdqn_model302/assets\n"
          ]
        },
        {
          "name": "stderr",
          "output_type": "stream",
          "text": [
            "INFO:tensorflow:Assets written to: saved_networks/duelingdqn_model302/assets\n"
          ]
        },
        {
          "name": "stdout",
          "output_type": "stream",
          "text": [
            "Network saved\n",
            "Episode 927/1000, Score: 264.4976713584724 (0.01), AVG Score: 236.3834268289496\n"
          ]
        },
        {
          "name": "stderr",
          "output_type": "stream",
          "text": [
            "WARNING:absl:Found untraced functions such as dense_layer_call_fn, dense_layer_call_and_return_conditional_losses, dense_1_layer_call_fn, dense_1_layer_call_and_return_conditional_losses, dense_2_layer_call_fn while saving (showing 5 of 20). These functions will not be directly callable after loading.\n"
          ]
        },
        {
          "name": "stdout",
          "output_type": "stream",
          "text": [
            "INFO:tensorflow:Assets written to: saved_networks/duelingdqn_model303/assets\n"
          ]
        },
        {
          "name": "stderr",
          "output_type": "stream",
          "text": [
            "INFO:tensorflow:Assets written to: saved_networks/duelingdqn_model303/assets\n"
          ]
        },
        {
          "name": "stdout",
          "output_type": "stream",
          "text": [
            "Network saved\n",
            "Episode 928/1000, Score: 271.8299350788642 (0.01), AVG Score: 236.4006637525294\n"
          ]
        },
        {
          "name": "stderr",
          "output_type": "stream",
          "text": [
            "WARNING:absl:Found untraced functions such as dense_layer_call_fn, dense_layer_call_and_return_conditional_losses, dense_1_layer_call_fn, dense_1_layer_call_and_return_conditional_losses, dense_2_layer_call_fn while saving (showing 5 of 20). These functions will not be directly callable after loading.\n"
          ]
        },
        {
          "name": "stdout",
          "output_type": "stream",
          "text": [
            "INFO:tensorflow:Assets written to: saved_networks/duelingdqn_model304/assets\n"
          ]
        },
        {
          "name": "stderr",
          "output_type": "stream",
          "text": [
            "INFO:tensorflow:Assets written to: saved_networks/duelingdqn_model304/assets\n"
          ]
        },
        {
          "name": "stdout",
          "output_type": "stream",
          "text": [
            "Network saved\n",
            "Episode 929/1000, Score: 268.0410080340956 (0.01), AVG Score: 236.28347498290847\n"
          ]
        },
        {
          "name": "stderr",
          "output_type": "stream",
          "text": [
            "WARNING:absl:Found untraced functions such as dense_layer_call_fn, dense_layer_call_and_return_conditional_losses, dense_1_layer_call_fn, dense_1_layer_call_and_return_conditional_losses, dense_2_layer_call_fn while saving (showing 5 of 20). These functions will not be directly callable after loading.\n"
          ]
        },
        {
          "name": "stdout",
          "output_type": "stream",
          "text": [
            "INFO:tensorflow:Assets written to: saved_networks/duelingdqn_model305/assets\n"
          ]
        },
        {
          "name": "stderr",
          "output_type": "stream",
          "text": [
            "INFO:tensorflow:Assets written to: saved_networks/duelingdqn_model305/assets\n"
          ]
        },
        {
          "name": "stdout",
          "output_type": "stream",
          "text": [
            "Network saved\n",
            "Episode 930/1000, Score: 246.44062367079908 (0.01), AVG Score: 238.69162421963253\n",
            "Episode 931/1000, Score: 266.0234415168453 (0.01), AVG Score: 238.87953692958376\n"
          ]
        },
        {
          "name": "stderr",
          "output_type": "stream",
          "text": [
            "WARNING:absl:Found untraced functions such as dense_layer_call_fn, dense_layer_call_and_return_conditional_losses, dense_1_layer_call_fn, dense_1_layer_call_and_return_conditional_losses, dense_2_layer_call_fn while saving (showing 5 of 20). These functions will not be directly callable after loading.\n"
          ]
        },
        {
          "name": "stdout",
          "output_type": "stream",
          "text": [
            "INFO:tensorflow:Assets written to: saved_networks/duelingdqn_model306/assets\n"
          ]
        },
        {
          "name": "stderr",
          "output_type": "stream",
          "text": [
            "INFO:tensorflow:Assets written to: saved_networks/duelingdqn_model306/assets\n"
          ]
        },
        {
          "name": "stdout",
          "output_type": "stream",
          "text": [
            "Network saved\n",
            "Episode 932/1000, Score: 236.14462245833653 (0.01), AVG Score: 241.34682108339365\n",
            "Episode 933/1000, Score: 290.6192413516866 (0.01), AVG Score: 241.8258420280971\n"
          ]
        },
        {
          "name": "stderr",
          "output_type": "stream",
          "text": [
            "WARNING:absl:Found untraced functions such as dense_layer_call_fn, dense_layer_call_and_return_conditional_losses, dense_1_layer_call_fn, dense_1_layer_call_and_return_conditional_losses, dense_2_layer_call_fn while saving (showing 5 of 20). These functions will not be directly callable after loading.\n"
          ]
        },
        {
          "name": "stdout",
          "output_type": "stream",
          "text": [
            "INFO:tensorflow:Assets written to: saved_networks/duelingdqn_model307/assets\n"
          ]
        },
        {
          "name": "stderr",
          "output_type": "stream",
          "text": [
            "INFO:tensorflow:Assets written to: saved_networks/duelingdqn_model307/assets\n"
          ]
        },
        {
          "name": "stdout",
          "output_type": "stream",
          "text": [
            "Network saved\n",
            "Episode 934/1000, Score: 249.96084877582445 (0.01), AVG Score: 241.7189473867221\n",
            "Episode 935/1000, Score: 244.08463945982152 (0.01), AVG Score: 241.38268389023142\n",
            "Episode 936/1000, Score: 277.5338250999741 (0.01), AVG Score: 241.37383156611432\n"
          ]
        },
        {
          "name": "stderr",
          "output_type": "stream",
          "text": [
            "WARNING:absl:Found untraced functions such as dense_layer_call_fn, dense_layer_call_and_return_conditional_losses, dense_1_layer_call_fn, dense_1_layer_call_and_return_conditional_losses, dense_2_layer_call_fn while saving (showing 5 of 20). These functions will not be directly callable after loading.\n"
          ]
        },
        {
          "name": "stdout",
          "output_type": "stream",
          "text": [
            "INFO:tensorflow:Assets written to: saved_networks/duelingdqn_model308/assets\n"
          ]
        },
        {
          "name": "stderr",
          "output_type": "stream",
          "text": [
            "INFO:tensorflow:Assets written to: saved_networks/duelingdqn_model308/assets\n"
          ]
        },
        {
          "name": "stdout",
          "output_type": "stream",
          "text": [
            "Network saved\n",
            "Episode 937/1000, Score: 296.4903699942937 (0.01), AVG Score: 241.56487844223813\n"
          ]
        },
        {
          "name": "stderr",
          "output_type": "stream",
          "text": [
            "WARNING:absl:Found untraced functions such as dense_layer_call_fn, dense_layer_call_and_return_conditional_losses, dense_1_layer_call_fn, dense_1_layer_call_and_return_conditional_losses, dense_2_layer_call_fn while saving (showing 5 of 20). These functions will not be directly callable after loading.\n"
          ]
        },
        {
          "name": "stdout",
          "output_type": "stream",
          "text": [
            "INFO:tensorflow:Assets written to: saved_networks/duelingdqn_model309/assets\n"
          ]
        },
        {
          "name": "stderr",
          "output_type": "stream",
          "text": [
            "INFO:tensorflow:Assets written to: saved_networks/duelingdqn_model309/assets\n"
          ]
        },
        {
          "name": "stdout",
          "output_type": "stream",
          "text": [
            "Network saved\n",
            "Episode 938/1000, Score: 293.57344446069175 (0.01), AVG Score: 242.1465866656837\n"
          ]
        },
        {
          "name": "stderr",
          "output_type": "stream",
          "text": [
            "WARNING:absl:Found untraced functions such as dense_layer_call_fn, dense_layer_call_and_return_conditional_losses, dense_1_layer_call_fn, dense_1_layer_call_and_return_conditional_losses, dense_2_layer_call_fn while saving (showing 5 of 20). These functions will not be directly callable after loading.\n"
          ]
        },
        {
          "name": "stdout",
          "output_type": "stream",
          "text": [
            "INFO:tensorflow:Assets written to: saved_networks/duelingdqn_model310/assets\n"
          ]
        },
        {
          "name": "stderr",
          "output_type": "stream",
          "text": [
            "INFO:tensorflow:Assets written to: saved_networks/duelingdqn_model310/assets\n"
          ]
        },
        {
          "name": "stdout",
          "output_type": "stream",
          "text": [
            "Network saved\n",
            "Episode 939/1000, Score: 219.19624083054023 (0.01), AVG Score: 241.65936166276714\n",
            "Episode 940/1000, Score: 227.30867033622934 (0.01), AVG Score: 241.2646995635957\n",
            "Episode 941/1000, Score: 272.1721306008044 (0.01), AVG Score: 241.13403147463032\n"
          ]
        },
        {
          "name": "stderr",
          "output_type": "stream",
          "text": [
            "WARNING:absl:Found untraced functions such as dense_layer_call_fn, dense_layer_call_and_return_conditional_losses, dense_1_layer_call_fn, dense_1_layer_call_and_return_conditional_losses, dense_2_layer_call_fn while saving (showing 5 of 20). These functions will not be directly callable after loading.\n"
          ]
        },
        {
          "name": "stdout",
          "output_type": "stream",
          "text": [
            "INFO:tensorflow:Assets written to: saved_networks/duelingdqn_model311/assets\n"
          ]
        },
        {
          "name": "stderr",
          "output_type": "stream",
          "text": [
            "INFO:tensorflow:Assets written to: saved_networks/duelingdqn_model311/assets\n"
          ]
        },
        {
          "name": "stdout",
          "output_type": "stream",
          "text": [
            "Network saved\n",
            "Episode 942/1000, Score: 291.0054157305865 (0.01), AVG Score: 241.3335077936318\n"
          ]
        },
        {
          "name": "stderr",
          "output_type": "stream",
          "text": [
            "WARNING:absl:Found untraced functions such as dense_layer_call_fn, dense_layer_call_and_return_conditional_losses, dense_1_layer_call_fn, dense_1_layer_call_and_return_conditional_losses, dense_2_layer_call_fn while saving (showing 5 of 20). These functions will not be directly callable after loading.\n"
          ]
        },
        {
          "name": "stdout",
          "output_type": "stream",
          "text": [
            "INFO:tensorflow:Assets written to: saved_networks/duelingdqn_model312/assets\n"
          ]
        },
        {
          "name": "stderr",
          "output_type": "stream",
          "text": [
            "INFO:tensorflow:Assets written to: saved_networks/duelingdqn_model312/assets\n"
          ]
        },
        {
          "name": "stdout",
          "output_type": "stream",
          "text": [
            "Network saved\n",
            "Episode 943/1000, Score: 263.3344543039858 (0.01), AVG Score: 241.27540661784644\n"
          ]
        },
        {
          "name": "stderr",
          "output_type": "stream",
          "text": [
            "WARNING:absl:Found untraced functions such as dense_layer_call_fn, dense_layer_call_and_return_conditional_losses, dense_1_layer_call_fn, dense_1_layer_call_and_return_conditional_losses, dense_2_layer_call_fn while saving (showing 5 of 20). These functions will not be directly callable after loading.\n"
          ]
        },
        {
          "name": "stdout",
          "output_type": "stream",
          "text": [
            "INFO:tensorflow:Assets written to: saved_networks/duelingdqn_model313/assets\n"
          ]
        },
        {
          "name": "stderr",
          "output_type": "stream",
          "text": [
            "INFO:tensorflow:Assets written to: saved_networks/duelingdqn_model313/assets\n"
          ]
        },
        {
          "name": "stdout",
          "output_type": "stream",
          "text": [
            "Network saved\n",
            "Episode 944/1000, Score: 300.7440437680583 (0.01), AVG Score: 241.63648044372496\n"
          ]
        },
        {
          "name": "stderr",
          "output_type": "stream",
          "text": [
            "WARNING:absl:Found untraced functions such as dense_layer_call_fn, dense_layer_call_and_return_conditional_losses, dense_1_layer_call_fn, dense_1_layer_call_and_return_conditional_losses, dense_2_layer_call_fn while saving (showing 5 of 20). These functions will not be directly callable after loading.\n"
          ]
        },
        {
          "name": "stdout",
          "output_type": "stream",
          "text": [
            "INFO:tensorflow:Assets written to: saved_networks/duelingdqn_model314/assets\n"
          ]
        },
        {
          "name": "stderr",
          "output_type": "stream",
          "text": [
            "INFO:tensorflow:Assets written to: saved_networks/duelingdqn_model314/assets\n"
          ]
        },
        {
          "name": "stdout",
          "output_type": "stream",
          "text": [
            "Network saved\n",
            "Episode 945/1000, Score: 226.11174141959927 (0.01), AVG Score: 240.9944787195621\n",
            "Episode 946/1000, Score: 237.88243148105056 (0.01), AVG Score: 240.88377930118895\n",
            "Episode 947/1000, Score: 274.05611408322017 (0.01), AVG Score: 240.94259625672447\n"
          ]
        },
        {
          "name": "stderr",
          "output_type": "stream",
          "text": [
            "WARNING:absl:Found untraced functions such as dense_layer_call_fn, dense_layer_call_and_return_conditional_losses, dense_1_layer_call_fn, dense_1_layer_call_and_return_conditional_losses, dense_2_layer_call_fn while saving (showing 5 of 20). These functions will not be directly callable after loading.\n"
          ]
        },
        {
          "name": "stdout",
          "output_type": "stream",
          "text": [
            "INFO:tensorflow:Assets written to: saved_networks/duelingdqn_model315/assets\n"
          ]
        },
        {
          "name": "stderr",
          "output_type": "stream",
          "text": [
            "INFO:tensorflow:Assets written to: saved_networks/duelingdqn_model315/assets\n"
          ]
        },
        {
          "name": "stdout",
          "output_type": "stream",
          "text": [
            "Network saved\n",
            "Episode 948/1000, Score: 255.68812097921474 (0.01), AVG Score: 240.9743496072682\n"
          ]
        },
        {
          "name": "stderr",
          "output_type": "stream",
          "text": [
            "WARNING:absl:Found untraced functions such as dense_layer_call_fn, dense_layer_call_and_return_conditional_losses, dense_1_layer_call_fn, dense_1_layer_call_and_return_conditional_losses, dense_2_layer_call_fn while saving (showing 5 of 20). These functions will not be directly callable after loading.\n"
          ]
        },
        {
          "name": "stdout",
          "output_type": "stream",
          "text": [
            "INFO:tensorflow:Assets written to: saved_networks/duelingdqn_model316/assets\n"
          ]
        },
        {
          "name": "stderr",
          "output_type": "stream",
          "text": [
            "INFO:tensorflow:Assets written to: saved_networks/duelingdqn_model316/assets\n"
          ]
        },
        {
          "name": "stdout",
          "output_type": "stream",
          "text": [
            "Network saved\n",
            "Episode 949/1000, Score: -17.956887982397546 (0.01), AVG Score: 238.14573464153403\n",
            "Episode 950/1000, Score: 266.67956362238954 (0.01), AVG Score: 238.1432717670843\n"
          ]
        },
        {
          "name": "stderr",
          "output_type": "stream",
          "text": [
            "WARNING:absl:Found untraced functions such as dense_layer_call_fn, dense_layer_call_and_return_conditional_losses, dense_1_layer_call_fn, dense_1_layer_call_and_return_conditional_losses, dense_2_layer_call_fn while saving (showing 5 of 20). These functions will not be directly callable after loading.\n"
          ]
        },
        {
          "name": "stdout",
          "output_type": "stream",
          "text": [
            "INFO:tensorflow:Assets written to: saved_networks/duelingdqn_model317/assets\n"
          ]
        },
        {
          "name": "stderr",
          "output_type": "stream",
          "text": [
            "INFO:tensorflow:Assets written to: saved_networks/duelingdqn_model317/assets\n"
          ]
        },
        {
          "name": "stdout",
          "output_type": "stream",
          "text": [
            "Network saved\n",
            "Episode 951/1000, Score: -194.49500064331855 (0.01), AVG Score: 233.75635291807816\n",
            "Episode 952/1000, Score: 297.7094113267719 (0.01), AVG Score: 233.87843521109187\n"
          ]
        },
        {
          "name": "stderr",
          "output_type": "stream",
          "text": [
            "WARNING:absl:Found untraced functions such as dense_layer_call_fn, dense_layer_call_and_return_conditional_losses, dense_1_layer_call_fn, dense_1_layer_call_and_return_conditional_losses, dense_2_layer_call_fn while saving (showing 5 of 20). These functions will not be directly callable after loading.\n"
          ]
        },
        {
          "name": "stdout",
          "output_type": "stream",
          "text": [
            "INFO:tensorflow:Assets written to: saved_networks/duelingdqn_model318/assets\n"
          ]
        },
        {
          "name": "stderr",
          "output_type": "stream",
          "text": [
            "INFO:tensorflow:Assets written to: saved_networks/duelingdqn_model318/assets\n"
          ]
        },
        {
          "name": "stdout",
          "output_type": "stream",
          "text": [
            "Network saved\n",
            "Episode 953/1000, Score: 268.26446590100113 (0.01), AVG Score: 238.16165272889123\n"
          ]
        },
        {
          "name": "stderr",
          "output_type": "stream",
          "text": [
            "WARNING:absl:Found untraced functions such as dense_layer_call_fn, dense_layer_call_and_return_conditional_losses, dense_1_layer_call_fn, dense_1_layer_call_and_return_conditional_losses, dense_2_layer_call_fn while saving (showing 5 of 20). These functions will not be directly callable after loading.\n"
          ]
        },
        {
          "name": "stdout",
          "output_type": "stream",
          "text": [
            "INFO:tensorflow:Assets written to: saved_networks/duelingdqn_model319/assets\n"
          ]
        },
        {
          "name": "stderr",
          "output_type": "stream",
          "text": [
            "INFO:tensorflow:Assets written to: saved_networks/duelingdqn_model319/assets\n"
          ]
        },
        {
          "name": "stdout",
          "output_type": "stream",
          "text": [
            "Network saved\n",
            "Episode 954/1000, Score: 185.0333932343092 (0.01), AVG Score: 237.14647071770204\n",
            "Episode 955/1000, Score: 314.339476760286 (0.01), AVG Score: 237.47580025643293\n"
          ]
        },
        {
          "name": "stderr",
          "output_type": "stream",
          "text": [
            "WARNING:absl:Found untraced functions such as dense_layer_call_fn, dense_layer_call_and_return_conditional_losses, dense_1_layer_call_fn, dense_1_layer_call_and_return_conditional_losses, dense_2_layer_call_fn while saving (showing 5 of 20). These functions will not be directly callable after loading.\n"
          ]
        },
        {
          "name": "stdout",
          "output_type": "stream",
          "text": [
            "INFO:tensorflow:Assets written to: saved_networks/duelingdqn_model320/assets\n"
          ]
        },
        {
          "name": "stderr",
          "output_type": "stream",
          "text": [
            "INFO:tensorflow:Assets written to: saved_networks/duelingdqn_model320/assets\n"
          ]
        },
        {
          "name": "stdout",
          "output_type": "stream",
          "text": [
            "Network saved\n",
            "Episode 956/1000, Score: 269.6196330157859 (0.01), AVG Score: 241.79212212682748\n"
          ]
        },
        {
          "name": "stderr",
          "output_type": "stream",
          "text": [
            "WARNING:absl:Found untraced functions such as dense_layer_call_fn, dense_layer_call_and_return_conditional_losses, dense_1_layer_call_fn, dense_1_layer_call_and_return_conditional_losses, dense_2_layer_call_fn while saving (showing 5 of 20). These functions will not be directly callable after loading.\n"
          ]
        },
        {
          "name": "stdout",
          "output_type": "stream",
          "text": [
            "INFO:tensorflow:Assets written to: saved_networks/duelingdqn_model321/assets\n"
          ]
        },
        {
          "name": "stderr",
          "output_type": "stream",
          "text": [
            "INFO:tensorflow:Assets written to: saved_networks/duelingdqn_model321/assets\n"
          ]
        },
        {
          "name": "stdout",
          "output_type": "stream",
          "text": [
            "Network saved\n",
            "Episode 957/1000, Score: 290.0707788755485 (0.01), AVG Score: 241.9925986613701\n"
          ]
        },
        {
          "name": "stderr",
          "output_type": "stream",
          "text": [
            "WARNING:absl:Found untraced functions such as dense_layer_call_fn, dense_layer_call_and_return_conditional_losses, dense_1_layer_call_fn, dense_1_layer_call_and_return_conditional_losses, dense_2_layer_call_fn while saving (showing 5 of 20). These functions will not be directly callable after loading.\n"
          ]
        },
        {
          "name": "stdout",
          "output_type": "stream",
          "text": [
            "INFO:tensorflow:Assets written to: saved_networks/duelingdqn_model322/assets\n"
          ]
        },
        {
          "name": "stderr",
          "output_type": "stream",
          "text": [
            "INFO:tensorflow:Assets written to: saved_networks/duelingdqn_model322/assets\n"
          ]
        },
        {
          "name": "stdout",
          "output_type": "stream",
          "text": [
            "Network saved\n",
            "Episode 958/1000, Score: 303.2045215913664 (0.01), AVG Score: 242.58109117984802\n"
          ]
        },
        {
          "name": "stderr",
          "output_type": "stream",
          "text": [
            "WARNING:absl:Found untraced functions such as dense_layer_call_fn, dense_layer_call_and_return_conditional_losses, dense_1_layer_call_fn, dense_1_layer_call_and_return_conditional_losses, dense_2_layer_call_fn while saving (showing 5 of 20). These functions will not be directly callable after loading.\n"
          ]
        },
        {
          "name": "stdout",
          "output_type": "stream",
          "text": [
            "INFO:tensorflow:Assets written to: saved_networks/duelingdqn_model323/assets\n"
          ]
        },
        {
          "name": "stderr",
          "output_type": "stream",
          "text": [
            "INFO:tensorflow:Assets written to: saved_networks/duelingdqn_model323/assets\n"
          ]
        },
        {
          "name": "stdout",
          "output_type": "stream",
          "text": [
            "Network saved\n",
            "Episode 959/1000, Score: 271.6128626941494 (0.01), AVG Score: 242.45791513106255\n"
          ]
        },
        {
          "name": "stderr",
          "output_type": "stream",
          "text": [
            "WARNING:absl:Found untraced functions such as dense_layer_call_fn, dense_layer_call_and_return_conditional_losses, dense_1_layer_call_fn, dense_1_layer_call_and_return_conditional_losses, dense_2_layer_call_fn while saving (showing 5 of 20). These functions will not be directly callable after loading.\n"
          ]
        },
        {
          "name": "stdout",
          "output_type": "stream",
          "text": [
            "INFO:tensorflow:Assets written to: saved_networks/duelingdqn_model324/assets\n"
          ]
        },
        {
          "name": "stderr",
          "output_type": "stream",
          "text": [
            "INFO:tensorflow:Assets written to: saved_networks/duelingdqn_model324/assets\n"
          ]
        },
        {
          "name": "stdout",
          "output_type": "stream",
          "text": [
            "Network saved\n",
            "Episode 960/1000, Score: 265.6632237744761 (0.01), AVG Score: 242.4937893262809\n"
          ]
        },
        {
          "name": "stderr",
          "output_type": "stream",
          "text": [
            "WARNING:absl:Found untraced functions such as dense_layer_call_fn, dense_layer_call_and_return_conditional_losses, dense_1_layer_call_fn, dense_1_layer_call_and_return_conditional_losses, dense_2_layer_call_fn while saving (showing 5 of 20). These functions will not be directly callable after loading.\n"
          ]
        },
        {
          "name": "stdout",
          "output_type": "stream",
          "text": [
            "INFO:tensorflow:Assets written to: saved_networks/duelingdqn_model325/assets\n"
          ]
        },
        {
          "name": "stderr",
          "output_type": "stream",
          "text": [
            "INFO:tensorflow:Assets written to: saved_networks/duelingdqn_model325/assets\n"
          ]
        },
        {
          "name": "stdout",
          "output_type": "stream",
          "text": [
            "Network saved\n",
            "Episode 961/1000, Score: 259.3910151798918 (0.01), AVG Score: 242.82377039958538\n"
          ]
        },
        {
          "name": "stderr",
          "output_type": "stream",
          "text": [
            "WARNING:absl:Found untraced functions such as dense_layer_call_fn, dense_layer_call_and_return_conditional_losses, dense_1_layer_call_fn, dense_1_layer_call_and_return_conditional_losses, dense_2_layer_call_fn while saving (showing 5 of 20). These functions will not be directly callable after loading.\n"
          ]
        },
        {
          "name": "stdout",
          "output_type": "stream",
          "text": [
            "INFO:tensorflow:Assets written to: saved_networks/duelingdqn_model326/assets\n"
          ]
        },
        {
          "name": "stderr",
          "output_type": "stream",
          "text": [
            "INFO:tensorflow:Assets written to: saved_networks/duelingdqn_model326/assets\n"
          ]
        },
        {
          "name": "stdout",
          "output_type": "stream",
          "text": [
            "Network saved\n",
            "Episode 962/1000, Score: 269.2568831326155 (0.01), AVG Score: 242.6175083161884\n"
          ]
        },
        {
          "name": "stderr",
          "output_type": "stream",
          "text": [
            "WARNING:absl:Found untraced functions such as dense_layer_call_fn, dense_layer_call_and_return_conditional_losses, dense_1_layer_call_fn, dense_1_layer_call_and_return_conditional_losses, dense_2_layer_call_fn while saving (showing 5 of 20). These functions will not be directly callable after loading.\n"
          ]
        },
        {
          "name": "stdout",
          "output_type": "stream",
          "text": [
            "INFO:tensorflow:Assets written to: saved_networks/duelingdqn_model327/assets\n"
          ]
        },
        {
          "name": "stderr",
          "output_type": "stream",
          "text": [
            "INFO:tensorflow:Assets written to: saved_networks/duelingdqn_model327/assets\n"
          ]
        },
        {
          "name": "stdout",
          "output_type": "stream",
          "text": [
            "Network saved\n",
            "Episode 963/1000, Score: -656.1040787889362 (0.01), AVG Score: 233.1685240284716\n",
            "Episode 964/1000, Score: 240.80177008770931 (0.01), AVG Score: 232.7024760040709\n",
            "Episode 965/1000, Score: 281.1855964360411 (0.01), AVG Score: 232.81074307967958\n"
          ]
        },
        {
          "name": "stderr",
          "output_type": "stream",
          "text": [
            "WARNING:absl:Found untraced functions such as dense_layer_call_fn, dense_layer_call_and_return_conditional_losses, dense_1_layer_call_fn, dense_1_layer_call_and_return_conditional_losses, dense_2_layer_call_fn while saving (showing 5 of 20). These functions will not be directly callable after loading.\n"
          ]
        },
        {
          "name": "stdout",
          "output_type": "stream",
          "text": [
            "INFO:tensorflow:Assets written to: saved_networks/duelingdqn_model328/assets\n"
          ]
        },
        {
          "name": "stderr",
          "output_type": "stream",
          "text": [
            "INFO:tensorflow:Assets written to: saved_networks/duelingdqn_model328/assets\n"
          ]
        },
        {
          "name": "stdout",
          "output_type": "stream",
          "text": [
            "Network saved\n",
            "Episode 966/1000, Score: 230.0019181365536 (0.01), AVG Score: 232.35663152880227\n",
            "Episode 967/1000, Score: 306.6825121008369 (0.01), AVG Score: 232.7872535565818\n"
          ]
        },
        {
          "name": "stderr",
          "output_type": "stream",
          "text": [
            "WARNING:absl:Found untraced functions such as dense_layer_call_fn, dense_layer_call_and_return_conditional_losses, dense_1_layer_call_fn, dense_1_layer_call_and_return_conditional_losses, dense_2_layer_call_fn while saving (showing 5 of 20). These functions will not be directly callable after loading.\n"
          ]
        },
        {
          "name": "stdout",
          "output_type": "stream",
          "text": [
            "INFO:tensorflow:Assets written to: saved_networks/duelingdqn_model329/assets\n"
          ]
        },
        {
          "name": "stderr",
          "output_type": "stream",
          "text": [
            "INFO:tensorflow:Assets written to: saved_networks/duelingdqn_model329/assets\n"
          ]
        },
        {
          "name": "stdout",
          "output_type": "stream",
          "text": [
            "Network saved\n",
            "Episode 968/1000, Score: 192.29015635247086 (0.01), AVG Score: 232.07953978009988\n",
            "Episode 969/1000, Score: -137.67401065035236 (0.01), AVG Score: 228.02561749973003\n",
            "Episode 970/1000, Score: -353.0150344282949 (0.01), AVG Score: 222.0030863101014\n",
            "Episode 971/1000, Score: 277.3182372564154 (0.01), AVG Score: 221.9160496612146\n"
          ]
        },
        {
          "name": "stderr",
          "output_type": "stream",
          "text": [
            "WARNING:absl:Found untraced functions such as dense_layer_call_fn, dense_layer_call_and_return_conditional_losses, dense_1_layer_call_fn, dense_1_layer_call_and_return_conditional_losses, dense_2_layer_call_fn while saving (showing 5 of 20). These functions will not be directly callable after loading.\n"
          ]
        },
        {
          "name": "stdout",
          "output_type": "stream",
          "text": [
            "INFO:tensorflow:Assets written to: saved_networks/duelingdqn_model330/assets\n"
          ]
        },
        {
          "name": "stderr",
          "output_type": "stream",
          "text": [
            "INFO:tensorflow:Assets written to: saved_networks/duelingdqn_model330/assets\n"
          ]
        },
        {
          "name": "stdout",
          "output_type": "stream",
          "text": [
            "Network saved\n",
            "Episode 972/1000, Score: 295.53999001851946 (0.01), AVG Score: 222.23966589707143\n"
          ]
        },
        {
          "name": "stderr",
          "output_type": "stream",
          "text": [
            "WARNING:absl:Found untraced functions such as dense_layer_call_fn, dense_layer_call_and_return_conditional_losses, dense_1_layer_call_fn, dense_1_layer_call_and_return_conditional_losses, dense_2_layer_call_fn while saving (showing 5 of 20). These functions will not be directly callable after loading.\n"
          ]
        },
        {
          "name": "stdout",
          "output_type": "stream",
          "text": [
            "INFO:tensorflow:Assets written to: saved_networks/duelingdqn_model331/assets\n"
          ]
        },
        {
          "name": "stderr",
          "output_type": "stream",
          "text": [
            "INFO:tensorflow:Assets written to: saved_networks/duelingdqn_model331/assets\n"
          ]
        },
        {
          "name": "stdout",
          "output_type": "stream",
          "text": [
            "Network saved\n",
            "Episode 973/1000, Score: 277.05498755710653 (0.01), AVG Score: 222.14544458541042\n"
          ]
        },
        {
          "name": "stderr",
          "output_type": "stream",
          "text": [
            "WARNING:absl:Found untraced functions such as dense_layer_call_fn, dense_layer_call_and_return_conditional_losses, dense_1_layer_call_fn, dense_1_layer_call_and_return_conditional_losses, dense_2_layer_call_fn while saving (showing 5 of 20). These functions will not be directly callable after loading.\n"
          ]
        },
        {
          "name": "stdout",
          "output_type": "stream",
          "text": [
            "INFO:tensorflow:Assets written to: saved_networks/duelingdqn_model332/assets\n"
          ]
        },
        {
          "name": "stderr",
          "output_type": "stream",
          "text": [
            "INFO:tensorflow:Assets written to: saved_networks/duelingdqn_model332/assets\n"
          ]
        },
        {
          "name": "stdout",
          "output_type": "stream",
          "text": [
            "Network saved\n",
            "Episode 974/1000, Score: 243.33605270357393 (0.01), AVG Score: 222.09606508800655\n",
            "Episode 975/1000, Score: 268.61697763161374 (0.01), AVG Score: 221.99763978948383\n"
          ]
        },
        {
          "name": "stderr",
          "output_type": "stream",
          "text": [
            "WARNING:absl:Found untraced functions such as dense_layer_call_fn, dense_layer_call_and_return_conditional_losses, dense_1_layer_call_fn, dense_1_layer_call_and_return_conditional_losses, dense_2_layer_call_fn while saving (showing 5 of 20). These functions will not be directly callable after loading.\n"
          ]
        },
        {
          "name": "stdout",
          "output_type": "stream",
          "text": [
            "INFO:tensorflow:Assets written to: saved_networks/duelingdqn_model333/assets\n"
          ]
        },
        {
          "name": "stderr",
          "output_type": "stream",
          "text": [
            "INFO:tensorflow:Assets written to: saved_networks/duelingdqn_model333/assets\n"
          ]
        },
        {
          "name": "stdout",
          "output_type": "stream",
          "text": [
            "Network saved\n",
            "Episode 976/1000, Score: 262.50381192288756 (0.01), AVG Score: 224.25434941524668\n"
          ]
        },
        {
          "name": "stderr",
          "output_type": "stream",
          "text": [
            "WARNING:absl:Found untraced functions such as dense_layer_call_fn, dense_layer_call_and_return_conditional_losses, dense_1_layer_call_fn, dense_1_layer_call_and_return_conditional_losses, dense_2_layer_call_fn while saving (showing 5 of 20). These functions will not be directly callable after loading.\n"
          ]
        },
        {
          "name": "stdout",
          "output_type": "stream",
          "text": [
            "INFO:tensorflow:Assets written to: saved_networks/duelingdqn_model334/assets\n"
          ]
        },
        {
          "name": "stderr",
          "output_type": "stream",
          "text": [
            "INFO:tensorflow:Assets written to: saved_networks/duelingdqn_model334/assets\n"
          ]
        },
        {
          "name": "stdout",
          "output_type": "stream",
          "text": [
            "Network saved\n",
            "Episode 977/1000, Score: 272.9027143731115 (0.01), AVG Score: 224.29650063448193\n"
          ]
        },
        {
          "name": "stderr",
          "output_type": "stream",
          "text": [
            "WARNING:absl:Found untraced functions such as dense_layer_call_fn, dense_layer_call_and_return_conditional_losses, dense_1_layer_call_fn, dense_1_layer_call_and_return_conditional_losses, dense_2_layer_call_fn while saving (showing 5 of 20). These functions will not be directly callable after loading.\n"
          ]
        },
        {
          "name": "stdout",
          "output_type": "stream",
          "text": [
            "INFO:tensorflow:Assets written to: saved_networks/duelingdqn_model335/assets\n"
          ]
        },
        {
          "name": "stderr",
          "output_type": "stream",
          "text": [
            "INFO:tensorflow:Assets written to: saved_networks/duelingdqn_model335/assets\n"
          ]
        },
        {
          "name": "stdout",
          "output_type": "stream",
          "text": [
            "Network saved\n",
            "Episode 978/1000, Score: 249.0260933593808 (0.01), AVG Score: 224.2430381616983\n",
            "Episode 979/1000, Score: 271.3039269233279 (0.01), AVG Score: 224.22537888359304\n"
          ]
        },
        {
          "name": "stderr",
          "output_type": "stream",
          "text": [
            "WARNING:absl:Found untraced functions such as dense_layer_call_fn, dense_layer_call_and_return_conditional_losses, dense_1_layer_call_fn, dense_1_layer_call_and_return_conditional_losses, dense_2_layer_call_fn while saving (showing 5 of 20). These functions will not be directly callable after loading.\n"
          ]
        },
        {
          "name": "stdout",
          "output_type": "stream",
          "text": [
            "INFO:tensorflow:Assets written to: saved_networks/duelingdqn_model336/assets\n"
          ]
        },
        {
          "name": "stderr",
          "output_type": "stream",
          "text": [
            "INFO:tensorflow:Assets written to: saved_networks/duelingdqn_model336/assets\n"
          ]
        },
        {
          "name": "stdout",
          "output_type": "stream",
          "text": [
            "Network saved\n",
            "Episode 980/1000, Score: 236.40019538430684 (0.01), AVG Score: 223.7389191023948\n",
            "Episode 981/1000, Score: 254.21425697951577 (0.01), AVG Score: 223.95973293784556\n"
          ]
        },
        {
          "name": "stderr",
          "output_type": "stream",
          "text": [
            "WARNING:absl:Found untraced functions such as dense_layer_call_fn, dense_layer_call_and_return_conditional_losses, dense_1_layer_call_fn, dense_1_layer_call_and_return_conditional_losses, dense_2_layer_call_fn while saving (showing 5 of 20). These functions will not be directly callable after loading.\n"
          ]
        },
        {
          "name": "stdout",
          "output_type": "stream",
          "text": [
            "INFO:tensorflow:Assets written to: saved_networks/duelingdqn_model337/assets\n"
          ]
        },
        {
          "name": "stderr",
          "output_type": "stream",
          "text": [
            "INFO:tensorflow:Assets written to: saved_networks/duelingdqn_model337/assets\n"
          ]
        },
        {
          "name": "stdout",
          "output_type": "stream",
          "text": [
            "Network saved\n",
            "Episode 982/1000, Score: 268.2451455068622 (0.01), AVG Score: 224.0360224587526\n"
          ]
        },
        {
          "name": "stderr",
          "output_type": "stream",
          "text": [
            "WARNING:absl:Found untraced functions such as dense_layer_call_fn, dense_layer_call_and_return_conditional_losses, dense_1_layer_call_fn, dense_1_layer_call_and_return_conditional_losses, dense_2_layer_call_fn while saving (showing 5 of 20). These functions will not be directly callable after loading.\n"
          ]
        },
        {
          "name": "stdout",
          "output_type": "stream",
          "text": [
            "INFO:tensorflow:Assets written to: saved_networks/duelingdqn_model338/assets\n"
          ]
        },
        {
          "name": "stderr",
          "output_type": "stream",
          "text": [
            "INFO:tensorflow:Assets written to: saved_networks/duelingdqn_model338/assets\n"
          ]
        },
        {
          "name": "stdout",
          "output_type": "stream",
          "text": [
            "Network saved\n",
            "Episode 983/1000, Score: 290.220346147225 (0.01), AVG Score: 224.4341512906334\n"
          ]
        },
        {
          "name": "stderr",
          "output_type": "stream",
          "text": [
            "WARNING:absl:Found untraced functions such as dense_layer_call_fn, dense_layer_call_and_return_conditional_losses, dense_1_layer_call_fn, dense_1_layer_call_and_return_conditional_losses, dense_2_layer_call_fn while saving (showing 5 of 20). These functions will not be directly callable after loading.\n"
          ]
        },
        {
          "name": "stdout",
          "output_type": "stream",
          "text": [
            "INFO:tensorflow:Assets written to: saved_networks/duelingdqn_model339/assets\n"
          ]
        },
        {
          "name": "stderr",
          "output_type": "stream",
          "text": [
            "INFO:tensorflow:Assets written to: saved_networks/duelingdqn_model339/assets\n"
          ]
        },
        {
          "name": "stdout",
          "output_type": "stream",
          "text": [
            "Network saved\n",
            "Episode 984/1000, Score: 269.92158606048486 (0.01), AVG Score: 224.13585937264577\n"
          ]
        },
        {
          "name": "stderr",
          "output_type": "stream",
          "text": [
            "WARNING:absl:Found untraced functions such as dense_layer_call_fn, dense_layer_call_and_return_conditional_losses, dense_1_layer_call_fn, dense_1_layer_call_and_return_conditional_losses, dense_2_layer_call_fn while saving (showing 5 of 20). These functions will not be directly callable after loading.\n"
          ]
        },
        {
          "name": "stdout",
          "output_type": "stream",
          "text": [
            "INFO:tensorflow:Assets written to: saved_networks/duelingdqn_model340/assets\n"
          ]
        },
        {
          "name": "stderr",
          "output_type": "stream",
          "text": [
            "INFO:tensorflow:Assets written to: saved_networks/duelingdqn_model340/assets\n"
          ]
        },
        {
          "name": "stdout",
          "output_type": "stream",
          "text": [
            "Network saved\n",
            "Episode 985/1000, Score: -46.71533451002284 (0.01), AVG Score: 221.09901949387074\n",
            "Episode 986/1000, Score: 247.99118340947518 (0.01), AVG Score: 220.9989900918209\n",
            "Episode 987/1000, Score: -142.24027580658748 (0.01), AVG Score: 216.82195704394206\n",
            "Episode 988/1000, Score: -123.06888207910931 (0.01), AVG Score: 212.76710090315729\n",
            "Episode 989/1000, Score: 302.0274203439887 (0.01), AVG Score: 213.24477725800998\n",
            "Episode 990/1000, Score: 301.0184262876369 (0.01), AVG Score: 213.69194696073947\n",
            "Episode 991/1000, Score: 281.23143339354334 (0.01), AVG Score: 213.83715645109444\n",
            "Episode 992/1000, Score: 299.0323726187472 (0.01), AVG Score: 217.03090141930096\n",
            "Episode 993/1000, Score: 249.32062000803262 (0.01), AVG Score: 217.20834485657934\n",
            "Episode 994/1000, Score: 250.28956232755527 (0.01), AVG Score: 216.88082207597319\n",
            "Episode 995/1000, Score: 269.5894277666945 (0.01), AVG Score: 217.2913766558609\n",
            "Episode 996/1000, Score: 302.51747642132125 (0.01), AVG Score: 218.363415423954\n",
            "Episode 997/1000, Score: 254.29671613559296 (0.01), AVG Score: 218.53345589830562\n",
            "Episode 998/1000, Score: 272.109614647028 (0.01), AVG Score: 218.85203658904345\n",
            "Episode 999/1000, Score: -67.22615073217699 (0.01), AVG Score: 215.3657374766079\n",
            "CPU times: user 1h 57min 24s, sys: 10min 57s, total: 2h 8min 21s\n",
            "Wall time: 1h 52min 59s\n"
          ]
        },
        {
          "data": {
            "image/png": "[encoded data removed]",
            "text/plain": [
              "<Figure size 1152x648 with 1 Axes>"
            ]
          },
          "metadata": {},
          "output_type": "display_data"
        }
      ],
      "source": [
        "%%time\n",
        "# Train DDQN Agent\n",
        "duelingdqn_agent.train_model(env, num_episodes, graph)"
      ]
    },
    {
      "cell_type": "code",
      "execution_count": 8,
      "metadata": {
        "colab": {
          "base_uri": "https://localhost:8080/"
        },
        "id": "5QOssvSus3Rd",
        "outputId": "54f2c408-89e6-4f3a-9c94-de2b95a874f4"
      },
      "outputs": [
        {
          "name": "stdout",
          "output_type": "stream",
          "text": [
            "  adding: saved_networks/ (stored 0%)\n",
            "  adding: saved_networks/duelingdqn_model318/ (stored 0%)\n",
            "  adding: saved_networks/duelingdqn_model318/net_weights318.h5 (deflated 94%)\n",
            "  adding: saved_networks/duelingdqn_model318/saved_model.pb (deflated 87%)\n",
            "  adding: saved_networks/duelingdqn_model318/variables/ (stored 0%)\n",
            "  adding: saved_networks/duelingdqn_model318/variables/variables.index (deflated 66%)\n",
            "  adding: saved_networks/duelingdqn_model318/variables/variables.data-00000-of-00001 (deflated 15%)\n",
            "  adding: saved_networks/duelingdqn_model318/assets/ (stored 0%)\n",
            "  adding: saved_networks/duelingdqn_model318/keras_metadata.pb (deflated 64%)\n",
            "  adding: saved_networks/duelingdqn_model205/ (stored 0%)\n",
            "  adding: saved_networks/duelingdqn_model205/saved_model.pb (deflated 87%)\n",
            "  adding: saved_networks/duelingdqn_model205/variables/ (stored 0%)\n",
            "  adding: saved_networks/duelingdqn_model205/variables/variables.index (deflated 66%)\n",
            "  adding: saved_networks/duelingdqn_model205/variables/variables.data-00000-of-00001 (deflated 15%)\n",
            "  adding: saved_networks/duelingdqn_model205/assets/ (stored 0%)\n",
            "  adding: saved_networks/duelingdqn_model205/net_weights205.h5 (deflated 94%)\n",
            "  adding: saved_networks/duelingdqn_model205/keras_metadata.pb (deflated 64%)\n",
            "  adding: saved_networks/duelingdqn_model168/ (stored 0%)\n",
            "  adding: saved_networks/duelingdqn_model168/net_weights168.h5 (deflated 94%)\n",
            "  adding: saved_networks/duelingdqn_model168/saved_model.pb (deflated 87%)\n",
            "  adding: saved_networks/duelingdqn_model168/variables/ (stored 0%)\n",
            "  adding: saved_networks/duelingdqn_model168/variables/variables.index (deflated 66%)\n",
            "  adding: saved_networks/duelingdqn_model168/variables/variables.data-00000-of-00001 (deflated 15%)\n",
            "  adding: saved_networks/duelingdqn_model168/assets/ (stored 0%)\n",
            "  adding: saved_networks/duelingdqn_model168/keras_metadata.pb (deflated 64%)\n",
            "  adding: saved_networks/duelingdqn_model17/ (stored 0%)\n",
            "  adding: saved_networks/duelingdqn_model17/net_weights17.h5 (deflated 94%)\n",
            "  adding: saved_networks/duelingdqn_model17/saved_model.pb (deflated 87%)\n",
            "  adding: saved_networks/duelingdqn_model17/variables/ (stored 0%)\n",
            "  adding: saved_networks/duelingdqn_model17/variables/variables.index (deflated 66%)\n",
            "  adding: saved_networks/duelingdqn_model17/variables/variables.data-00000-of-00001 (deflated 14%)\n",
            "  adding: saved_networks/duelingdqn_model17/assets/ (stored 0%)\n",
            "  adding: saved_networks/duelingdqn_model17/keras_metadata.pb (deflated 64%)\n",
            "  adding: saved_networks/duelingdqn_model335/ (stored 0%)\n",
            "  adding: saved_networks/duelingdqn_model335/saved_model.pb (deflated 87%)\n",
            "  adding: saved_networks/duelingdqn_model335/variables/ (stored 0%)\n",
            "  adding: saved_networks/duelingdqn_model335/variables/variables.index (deflated 66%)\n",
            "  adding: saved_networks/duelingdqn_model335/variables/variables.data-00000-of-00001 (deflated 15%)\n",
            "  adding: saved_networks/duelingdqn_model335/assets/ (stored 0%)\n",
            "  adding: saved_networks/duelingdqn_model335/keras_metadata.pb (deflated 64%)\n",
            "  adding: saved_networks/duelingdqn_model335/net_weights335.h5 (deflated 94%)\n",
            "  adding: saved_networks/duelingdqn_model222/ (stored 0%)\n",
            "  adding: saved_networks/duelingdqn_model222/net_weights222.h5 (deflated 94%)\n",
            "  adding: saved_networks/duelingdqn_model222/saved_model.pb (deflated 87%)\n",
            "  adding: saved_networks/duelingdqn_model222/variables/ (stored 0%)\n",
            "  adding: saved_networks/duelingdqn_model222/variables/variables.index (deflated 66%)\n",
            "  adding: saved_networks/duelingdqn_model222/variables/variables.data-00000-of-00001 (deflated 15%)\n",
            "  adding: saved_networks/duelingdqn_model222/assets/ (stored 0%)\n",
            "  adding: saved_networks/duelingdqn_model222/keras_metadata.pb (deflated 64%)\n",
            "  adding: saved_networks/duelingdqn_model188/ (stored 0%)\n",
            "  adding: saved_networks/duelingdqn_model188/saved_model.pb (deflated 87%)\n",
            "  adding: saved_networks/duelingdqn_model188/variables/ (stored 0%)\n",
            "  adding: saved_networks/duelingdqn_model188/variables/variables.index (deflated 66%)\n",
            "  adding: saved_networks/duelingdqn_model188/variables/variables.data-00000-of-00001 (deflated 15%)\n",
            "  adding: saved_networks/duelingdqn_model188/assets/ (stored 0%)\n",
            "  adding: saved_networks/duelingdqn_model188/net_weights188.h5 (deflated 94%)\n",
            "  adding: saved_networks/duelingdqn_model188/keras_metadata.pb (deflated 64%)\n",
            "  adding: saved_networks/duelingdqn_model44/ (stored 0%)\n",
            "  adding: saved_networks/duelingdqn_model44/net_weights44.h5 (deflated 94%)\n",
            "  adding: saved_networks/duelingdqn_model44/saved_model.pb (deflated 87%)\n",
            "  adding: saved_networks/duelingdqn_model44/variables/ (stored 0%)\n",
            "  adding: saved_networks/duelingdqn_model44/variables/variables.index (deflated 66%)\n",
            "  adding: saved_networks/duelingdqn_model44/variables/variables.data-00000-of-00001 (deflated 15%)\n",
            "  adding: saved_networks/duelingdqn_model44/assets/ (stored 0%)\n",
            "  adding: saved_networks/duelingdqn_model44/keras_metadata.pb (deflated 64%)\n",
            "  adding: saved_networks/duelingdqn_model167/ (stored 0%)\n",
            "  adding: saved_networks/duelingdqn_model167/net_weights167.h5 (deflated 94%)\n",
            "  adding: saved_networks/duelingdqn_model167/saved_model.pb (deflated 87%)\n",
            "  adding: saved_networks/duelingdqn_model167/variables/ (stored 0%)\n",
            "  adding: saved_networks/duelingdqn_model167/variables/variables.index (deflated 66%)\n",
            "  adding: saved_networks/duelingdqn_model167/variables/variables.data-00000-of-00001 (deflated 15%)\n",
            "  adding: saved_networks/duelingdqn_model167/assets/ (stored 0%)\n",
            "  adding: saved_networks/duelingdqn_model167/keras_metadata.pb (deflated 64%)\n",
            "  adding: saved_networks/duelingdqn_model111/ (stored 0%)\n",
            "  adding: saved_networks/duelingdqn_model111/net_weights111.h5 (deflated 94%)\n",
            "  adding: saved_networks/duelingdqn_model111/saved_model.pb (deflated 87%)\n",
            "  adding: saved_networks/duelingdqn_model111/variables/ (stored 0%)\n",
            "  adding: saved_networks/duelingdqn_model111/variables/variables.index (deflated 66%)\n",
            "  adding: saved_networks/duelingdqn_model111/variables/variables.data-00000-of-00001 (deflated 15%)\n",
            "  adding: saved_networks/duelingdqn_model111/assets/ (stored 0%)\n",
            "  adding: saved_networks/duelingdqn_model111/keras_metadata.pb (deflated 64%)\n",
            "  adding: saved_networks/duelingdqn_model26/ (stored 0%)\n",
            "  adding: saved_networks/duelingdqn_model26/saved_model.pb (deflated 87%)\n",
            "  adding: saved_networks/duelingdqn_model26/variables/ (stored 0%)\n",
            "  adding: saved_networks/duelingdqn_model26/variables/variables.index (deflated 66%)\n",
            "  adding: saved_networks/duelingdqn_model26/variables/variables.data-00000-of-00001 (deflated 15%)\n",
            "  adding: saved_networks/duelingdqn_model26/assets/ (stored 0%)\n",
            "  adding: saved_networks/duelingdqn_model26/net_weights26.h5 (deflated 94%)\n",
            "  adding: saved_networks/duelingdqn_model26/keras_metadata.pb (deflated 64%)\n",
            "  adding: saved_networks/duelingdqn_model14/ (stored 0%)\n",
            "  adding: saved_networks/duelingdqn_model14/saved_model.pb (deflated 87%)\n",
            "  adding: saved_networks/duelingdqn_model14/variables/ (stored 0%)\n",
            "  adding: saved_networks/duelingdqn_model14/variables/variables.index (deflated 66%)\n",
            "  adding: saved_networks/duelingdqn_model14/variables/variables.data-00000-of-00001 (deflated 14%)\n",
            "  adding: saved_networks/duelingdqn_model14/net_weights14.h5 (deflated 94%)\n",
            "  adding: saved_networks/duelingdqn_model14/assets/ (stored 0%)\n",
            "  adding: saved_networks/duelingdqn_model14/keras_metadata.pb (deflated 64%)\n",
            "  adding: saved_networks/duelingdqn_model121/ (stored 0%)\n",
            "  adding: saved_networks/duelingdqn_model121/saved_model.pb (deflated 87%)\n",
            "  adding: saved_networks/duelingdqn_model121/variables/ (stored 0%)\n",
            "  adding: saved_networks/duelingdqn_model121/variables/variables.index (deflated 66%)\n",
            "  adding: saved_networks/duelingdqn_model121/variables/variables.data-00000-of-00001 (deflated 15%)\n",
            "  adding: saved_networks/duelingdqn_model121/assets/ (stored 0%)\n",
            "  adding: saved_networks/duelingdqn_model121/net_weights121.h5 (deflated 94%)\n",
            "  adding: saved_networks/duelingdqn_model121/keras_metadata.pb (deflated 64%)\n",
            "  adding: saved_networks/duelingdqn_model12/ (stored 0%)\n",
            "  adding: saved_networks/duelingdqn_model12/saved_model.pb (deflated 88%)\n",
            "  adding: saved_networks/duelingdqn_model12/variables/ (stored 0%)\n",
            "  adding: saved_networks/duelingdqn_model12/variables/variables.index (deflated 66%)\n",
            "  adding: saved_networks/duelingdqn_model12/variables/variables.data-00000-of-00001 (deflated 14%)\n",
            "  adding: saved_networks/duelingdqn_model12/assets/ (stored 0%)\n",
            "  adding: saved_networks/duelingdqn_model12/net_weights12.h5 (deflated 94%)\n",
            "  adding: saved_networks/duelingdqn_model12/keras_metadata.pb (deflated 64%)\n",
            "  adding: saved_networks/duelingdqn_model194/ (stored 0%)\n",
            "  adding: saved_networks/duelingdqn_model194/saved_model.pb (deflated 87%)\n",
            "  adding: saved_networks/duelingdqn_model194/variables/ (stored 0%)\n",
            "  adding: saved_networks/duelingdqn_model194/variables/variables.index (deflated 66%)\n",
            "  adding: saved_networks/duelingdqn_model194/variables/variables.data-00000-of-00001 (deflated 15%)\n",
            "  adding: saved_networks/duelingdqn_model194/assets/ (stored 0%)\n",
            "  adding: saved_networks/duelingdqn_model194/net_weights194.h5 (deflated 94%)\n",
            "  adding: saved_networks/duelingdqn_model194/keras_metadata.pb (deflated 64%)\n",
            "  adding: saved_networks/duelingdqn_model89/ (stored 0%)\n",
            "  adding: saved_networks/duelingdqn_model89/saved_model.pb (deflated 87%)\n",
            "  adding: saved_networks/duelingdqn_model89/variables/ (stored 0%)\n",
            "  adding: saved_networks/duelingdqn_model89/variables/variables.index (deflated 66%)\n",
            "  adding: saved_networks/duelingdqn_model89/variables/variables.data-00000-of-00001 (deflated 15%)\n",
            "  adding: saved_networks/duelingdqn_model89/assets/ (stored 0%)\n",
            "  adding: saved_networks/duelingdqn_model89/net_weights89.h5 (deflated 94%)\n",
            "  adding: saved_networks/duelingdqn_model89/keras_metadata.pb (deflated 64%)\n",
            "  adding: saved_networks/duelingdqn_model34/ (stored 0%)\n",
            "  adding: saved_networks/duelingdqn_model34/net_weights34.h5 (deflated 94%)\n",
            "  adding: saved_networks/duelingdqn_model34/saved_model.pb (deflated 87%)\n",
            "  adding: saved_networks/duelingdqn_model34/variables/ (stored 0%)\n",
            "  adding: saved_networks/duelingdqn_model34/variables/variables.index (deflated 66%)\n",
            "  adding: saved_networks/duelingdqn_model34/variables/variables.data-00000-of-00001 (deflated 15%)\n",
            "  adding: saved_networks/duelingdqn_model34/assets/ (stored 0%)\n",
            "  adding: saved_networks/duelingdqn_model34/keras_metadata.pb (deflated 64%)\n",
            "  adding: saved_networks/duelingdqn_model310/ (stored 0%)\n",
            "  adding: saved_networks/duelingdqn_model310/saved_model.pb (deflated 87%)\n",
            "  adding: saved_networks/duelingdqn_model310/variables/ (stored 0%)\n",
            "  adding: saved_networks/duelingdqn_model310/variables/variables.index (deflated 66%)\n",
            "  adding: saved_networks/duelingdqn_model310/variables/variables.data-00000-of-00001 (deflated 15%)\n",
            "  adding: saved_networks/duelingdqn_model310/assets/ (stored 0%)\n",
            "  adding: saved_networks/duelingdqn_model310/net_weights310.h5 (deflated 94%)\n",
            "  adding: saved_networks/duelingdqn_model310/keras_metadata.pb (deflated 64%)\n",
            "  adding: saved_networks/duelingdqn_model21/ (stored 0%)\n",
            "  adding: saved_networks/duelingdqn_model21/saved_model.pb (deflated 87%)\n",
            "  adding: saved_networks/duelingdqn_model21/variables/ (stored 0%)\n",
            "  adding: saved_networks/duelingdqn_model21/variables/variables.index (deflated 66%)\n",
            "  adding: saved_networks/duelingdqn_model21/variables/variables.data-00000-of-00001 (deflated 14%)\n",
            "  adding: saved_networks/duelingdqn_model21/assets/ (stored 0%)\n",
            "  adding: saved_networks/duelingdqn_model21/keras_metadata.pb (deflated 64%)\n",
            "  adding: saved_networks/duelingdqn_model21/net_weights21.h5 (deflated 94%)\n",
            "  adding: saved_networks/duelingdqn_model272/ (stored 0%)\n",
            "  adding: saved_networks/duelingdqn_model272/saved_model.pb (deflated 88%)\n",
            "  adding: saved_networks/duelingdqn_model272/variables/ (stored 0%)\n",
            "  adding: saved_networks/duelingdqn_model272/variables/variables.index (deflated 66%)\n",
            "  adding: saved_networks/duelingdqn_model272/variables/variables.data-00000-of-00001 (deflated 15%)\n",
            "  adding: saved_networks/duelingdqn_model272/assets/ (stored 0%)\n",
            "  adding: saved_networks/duelingdqn_model272/net_weights272.h5 (deflated 94%)\n",
            "  adding: saved_networks/duelingdqn_model272/keras_metadata.pb (deflated 64%)\n",
            "  adding: saved_networks/duelingdqn_model225/ (stored 0%)\n",
            "  adding: saved_networks/duelingdqn_model225/saved_model.pb (deflated 87%)\n",
            "  adding: saved_networks/duelingdqn_model225/variables/ (stored 0%)\n",
            "  adding: saved_networks/duelingdqn_model225/variables/variables.index (deflated 66%)\n",
            "  adding: saved_networks/duelingdqn_model225/variables/variables.data-00000-of-00001 (deflated 15%)\n",
            "  adding: saved_networks/duelingdqn_model225/net_weights225.h5 (deflated 94%)\n",
            "  adding: saved_networks/duelingdqn_model225/assets/ (stored 0%)\n",
            "  adding: saved_networks/duelingdqn_model225/keras_metadata.pb (deflated 64%)\n",
            "  adding: saved_networks/duelingdqn_model68/ (stored 0%)\n",
            "  adding: saved_networks/duelingdqn_model68/saved_model.pb (deflated 87%)\n",
            "  adding: saved_networks/duelingdqn_model68/net_weights68.h5 (deflated 94%)\n",
            "  adding: saved_networks/duelingdqn_model68/variables/ (stored 0%)\n",
            "  adding: saved_networks/duelingdqn_model68/variables/variables.index (deflated 66%)\n",
            "  adding: saved_networks/duelingdqn_model68/variables/variables.data-00000-of-00001 (deflated 15%)\n",
            "  adding: saved_networks/duelingdqn_model68/assets/ (stored 0%)\n",
            "  adding: saved_networks/duelingdqn_model68/keras_metadata.pb (deflated 64%)\n",
            "  adding: saved_networks/duelingdqn_model28/ (stored 0%)\n",
            "  adding: saved_networks/duelingdqn_model28/net_weights28.h5 (deflated 94%)\n",
            "  adding: saved_networks/duelingdqn_model28/saved_model.pb (deflated 87%)\n",
            "  adding: saved_networks/duelingdqn_model28/variables/ (stored 0%)\n",
            "  adding: saved_networks/duelingdqn_model28/variables/variables.index (deflated 66%)\n",
            "  adding: saved_networks/duelingdqn_model28/variables/variables.data-00000-of-00001 (deflated 15%)\n",
            "  adding: saved_networks/duelingdqn_model28/assets/ (stored 0%)\n",
            "  adding: saved_networks/duelingdqn_model28/keras_metadata.pb (deflated 64%)\n",
            "  adding: saved_networks/duelingdqn_model289/ (stored 0%)\n",
            "  adding: saved_networks/duelingdqn_model289/saved_model.pb (deflated 86%)\n",
            "  adding: saved_networks/duelingdqn_model289/variables/ (stored 0%)\n",
            "  adding: saved_networks/duelingdqn_model289/variables/variables.index (deflated 66%)\n",
            "  adding: saved_networks/duelingdqn_model289/variables/variables.data-00000-of-00001 (deflated 15%)\n",
            "  adding: saved_networks/duelingdqn_model289/assets/ (stored 0%)\n",
            "  adding: saved_networks/duelingdqn_model289/net_weights289.h5 (deflated 94%)\n",
            "  adding: saved_networks/duelingdqn_model289/keras_metadata.pb (deflated 64%)\n",
            "  adding: saved_networks/duelingdqn_model288/ (stored 0%)\n",
            "  adding: saved_networks/duelingdqn_model288/saved_model.pb (deflated 87%)\n",
            "  adding: saved_networks/duelingdqn_model288/variables/ (stored 0%)\n",
            "  adding: saved_networks/duelingdqn_model288/variables/variables.index (deflated 66%)\n",
            "  adding: saved_networks/duelingdqn_model288/variables/variables.data-00000-of-00001 (deflated 15%)\n",
            "  adding: saved_networks/duelingdqn_model288/assets/ (stored 0%)\n",
            "  adding: saved_networks/duelingdqn_model288/net_weights288.h5 (deflated 94%)\n",
            "  adding: saved_networks/duelingdqn_model288/keras_metadata.pb (deflated 64%)\n",
            "  adding: saved_networks/duelingdqn_model134/ (stored 0%)\n",
            "  adding: saved_networks/duelingdqn_model134/saved_model.pb (deflated 87%)\n",
            "  adding: saved_networks/duelingdqn_model134/variables/ (stored 0%)\n",
            "  adding: saved_networks/duelingdqn_model134/variables/variables.index (deflated 66%)\n",
            "  adding: saved_networks/duelingdqn_model134/variables/variables.data-00000-of-00001 (deflated 15%)\n",
            "  adding: saved_networks/duelingdqn_model134/assets/ (stored 0%)\n",
            "  adding: saved_networks/duelingdqn_model134/net_weights134.h5 (deflated 94%)\n",
            "  adding: saved_networks/duelingdqn_model134/keras_metadata.pb (deflated 64%)\n",
            "  adding: saved_networks/duelingdqn_model84/ (stored 0%)\n",
            "  adding: saved_networks/duelingdqn_model84/net_weights84.h5 (deflated 94%)\n",
            "  adding: saved_networks/duelingdqn_model84/saved_model.pb (deflated 87%)\n",
            "  adding: saved_networks/duelingdqn_model84/variables/ (stored 0%)\n",
            "  adding: saved_networks/duelingdqn_model84/variables/variables.index (deflated 66%)\n",
            "  adding: saved_networks/duelingdqn_model84/variables/variables.data-00000-of-00001 (deflated 15%)\n",
            "  adding: saved_networks/duelingdqn_model84/assets/ (stored 0%)\n",
            "  adding: saved_networks/duelingdqn_model84/keras_metadata.pb (deflated 64%)\n",
            "  adding: saved_networks/duelingdqn_model109/ (stored 0%)\n",
            "  adding: saved_networks/duelingdqn_model109/saved_model.pb (deflated 87%)\n",
            "  adding: saved_networks/duelingdqn_model109/variables/ (stored 0%)\n",
            "  adding: saved_networks/duelingdqn_model109/variables/variables.index (deflated 66%)\n",
            "  adding: saved_networks/duelingdqn_model109/variables/variables.data-00000-of-00001 (deflated 15%)\n",
            "  adding: saved_networks/duelingdqn_model109/assets/ (stored 0%)\n",
            "  adding: saved_networks/duelingdqn_model109/net_weights109.h5 (deflated 94%)\n",
            "  adding: saved_networks/duelingdqn_model109/keras_metadata.pb (deflated 64%)\n",
            "  adding: saved_networks/duelingdqn_model53/ (stored 0%)\n",
            "  adding: saved_networks/duelingdqn_model53/net_weights53.h5 (deflated 94%)\n",
            "  adding: saved_networks/duelingdqn_model53/saved_model.pb (deflated 87%)\n",
            "  adding: saved_networks/duelingdqn_model53/variables/ (stored 0%)\n",
            "  adding: saved_networks/duelingdqn_model53/variables/variables.index (deflated 66%)\n",
            "  adding: saved_networks/duelingdqn_model53/variables/variables.data-00000-of-00001 (deflated 15%)\n",
            "  adding: saved_networks/duelingdqn_model53/assets/ (stored 0%)\n",
            "  adding: saved_networks/duelingdqn_model53/keras_metadata.pb (deflated 64%)\n",
            "  adding: saved_networks/duelingdqn_model226/ (stored 0%)\n",
            "  adding: saved_networks/duelingdqn_model226/saved_model.pb (deflated 87%)\n",
            "  adding: saved_networks/duelingdqn_model226/variables/ (stored 0%)\n",
            "  adding: saved_networks/duelingdqn_model226/variables/variables.index (deflated 66%)\n",
            "  adding: saved_networks/duelingdqn_model226/variables/variables.data-00000-of-00001 (deflated 15%)\n",
            "  adding: saved_networks/duelingdqn_model226/assets/ (stored 0%)\n",
            "  adding: saved_networks/duelingdqn_model226/net_weights226.h5 (deflated 94%)\n",
            "  adding: saved_networks/duelingdqn_model226/keras_metadata.pb (deflated 64%)\n",
            "  adding: saved_networks/duelingdqn_model307/ (stored 0%)\n",
            "  adding: saved_networks/duelingdqn_model307/saved_model.pb (deflated 87%)\n",
            "  adding: saved_networks/duelingdqn_model307/variables/ (stored 0%)\n",
            "  adding: saved_networks/duelingdqn_model307/variables/variables.index (deflated 66%)\n",
            "  adding: saved_networks/duelingdqn_model307/variables/variables.data-00000-of-00001 (deflated 15%)\n",
            "  adding: saved_networks/duelingdqn_model307/assets/ (stored 0%)\n",
            "  adding: saved_networks/duelingdqn_model307/net_weights307.h5 (deflated 94%)\n",
            "  adding: saved_networks/duelingdqn_model307/keras_metadata.pb (deflated 64%)\n",
            "  adding: saved_networks/duelingdqn_model22/ (stored 0%)\n",
            "  adding: saved_networks/duelingdqn_model22/saved_model.pb (deflated 87%)\n",
            "  adding: saved_networks/duelingdqn_model22/variables/ (stored 0%)\n",
            "  adding: saved_networks/duelingdqn_model22/variables/variables.index (deflated 66%)\n",
            "  adding: saved_networks/duelingdqn_model22/variables/variables.data-00000-of-00001 (deflated 15%)\n",
            "  adding: saved_networks/duelingdqn_model22/assets/ (stored 0%)\n",
            "  adding: saved_networks/duelingdqn_model22/net_weights22.h5 (deflated 94%)\n",
            "  adding: saved_networks/duelingdqn_model22/keras_metadata.pb (deflated 64%)\n",
            "  adding: saved_networks/duelingdqn_model1/ (stored 0%)\n",
            "  adding: saved_networks/duelingdqn_model1/net_weights1.h5 (deflated 94%)\n",
            "  adding: saved_networks/duelingdqn_model1/saved_model.pb (deflated 87%)\n",
            "  adding: saved_networks/duelingdqn_model1/variables/ (stored 0%)\n",
            "  adding: saved_networks/duelingdqn_model1/variables/variables.index (deflated 66%)\n",
            "  adding: saved_networks/duelingdqn_model1/variables/variables.data-00000-of-00001 (deflated 14%)\n",
            "  adding: saved_networks/duelingdqn_model1/assets/ (stored 0%)\n",
            "  adding: saved_networks/duelingdqn_model1/keras_metadata.pb (deflated 64%)\n",
            "  adding: saved_networks/duelingdqn_model76/ (stored 0%)\n",
            "  adding: saved_networks/duelingdqn_model76/net_weights76.h5 (deflated 94%)\n",
            "  adding: saved_networks/duelingdqn_model76/saved_model.pb (deflated 87%)\n",
            "  adding: saved_networks/duelingdqn_model76/variables/ (stored 0%)\n",
            "  adding: saved_networks/duelingdqn_model76/variables/variables.index (deflated 66%)\n",
            "  adding: saved_networks/duelingdqn_model76/variables/variables.data-00000-of-00001 (deflated 15%)\n",
            "  adding: saved_networks/duelingdqn_model76/assets/ (stored 0%)\n",
            "  adding: saved_networks/duelingdqn_model76/keras_metadata.pb (deflated 64%)\n",
            "  adding: saved_networks/duelingdqn_model39/ (stored 0%)\n",
            "  adding: saved_networks/duelingdqn_model39/net_weights39.h5 (deflated 94%)\n",
            "  adding: saved_networks/duelingdqn_model39/saved_model.pb (deflated 87%)\n",
            "  adding: saved_networks/duelingdqn_model39/variables/ (stored 0%)\n",
            "  adding: saved_networks/duelingdqn_model39/variables/variables.index (deflated 66%)\n",
            "  adding: saved_networks/duelingdqn_model39/variables/variables.data-00000-of-00001 (deflated 15%)\n",
            "  adding: saved_networks/duelingdqn_model39/assets/ (stored 0%)\n",
            "  adding: saved_networks/duelingdqn_model39/keras_metadata.pb (deflated 64%)\n",
            "  adding: saved_networks/duelingdqn_model191/ (stored 0%)\n",
            "  adding: saved_networks/duelingdqn_model191/saved_model.pb (deflated 87%)\n",
            "  adding: saved_networks/duelingdqn_model191/variables/ (stored 0%)\n",
            "  adding: saved_networks/duelingdqn_model191/variables/variables.index (deflated 66%)\n",
            "  adding: saved_networks/duelingdqn_model191/variables/variables.data-00000-of-00001 (deflated 15%)\n",
            "  adding: saved_networks/duelingdqn_model191/net_weights191.h5 (deflated 94%)\n",
            "  adding: saved_networks/duelingdqn_model191/assets/ (stored 0%)\n",
            "  adding: saved_networks/duelingdqn_model191/keras_metadata.pb (deflated 64%)\n",
            "  adding: saved_networks/duelingdqn_model67/ (stored 0%)\n",
            "  adding: saved_networks/duelingdqn_model67/saved_model.pb (deflated 87%)\n",
            "  adding: saved_networks/duelingdqn_model67/variables/ (stored 0%)\n",
            "  adding: saved_networks/duelingdqn_model67/variables/variables.index (deflated 66%)\n",
            "  adding: saved_networks/duelingdqn_model67/variables/variables.data-00000-of-00001 (deflated 15%)\n",
            "  adding: saved_networks/duelingdqn_model67/assets/ (stored 0%)\n",
            "  adding: saved_networks/duelingdqn_model67/keras_metadata.pb (deflated 64%)\n",
            "  adding: saved_networks/duelingdqn_model67/net_weights67.h5 (deflated 94%)\n",
            "  adding: saved_networks/duelingdqn_model2/ (stored 0%)\n",
            "  adding: saved_networks/duelingdqn_model2/saved_model.pb (deflated 87%)\n",
            "  adding: saved_networks/duelingdqn_model2/variables/ (stored 0%)\n",
            "  adding: saved_networks/duelingdqn_model2/variables/variables.index (deflated 66%)\n",
            "  adding: saved_networks/duelingdqn_model2/variables/variables.data-00000-of-00001 (deflated 14%)\n",
            "  adding: saved_networks/duelingdqn_model2/assets/ (stored 0%)\n",
            "  adding: saved_networks/duelingdqn_model2/net_weights2.h5 (deflated 94%)\n",
            "  adding: saved_networks/duelingdqn_model2/keras_metadata.pb (deflated 64%)\n",
            "  adding: saved_networks/duelingdqn_model40/ (stored 0%)\n",
            "  adding: saved_networks/duelingdqn_model40/net_weights40.h5 (deflated 94%)\n",
            "  adding: saved_networks/duelingdqn_model40/saved_model.pb (deflated 87%)\n",
            "  adding: saved_networks/duelingdqn_model40/variables/ (stored 0%)\n",
            "  adding: saved_networks/duelingdqn_model40/variables/variables.index (deflated 66%)\n",
            "  adding: saved_networks/duelingdqn_model40/variables/variables.data-00000-of-00001 (deflated 15%)\n",
            "  adding: saved_networks/duelingdqn_model40/assets/ (stored 0%)\n",
            "  adding: saved_networks/duelingdqn_model40/keras_metadata.pb (deflated 64%)\n",
            "  adding: saved_networks/duelingdqn_model102/ (stored 0%)\n",
            "  adding: saved_networks/duelingdqn_model102/net_weights102.h5 (deflated 94%)\n",
            "  adding: saved_networks/duelingdqn_model102/saved_model.pb (deflated 86%)\n",
            "  adding: saved_networks/duelingdqn_model102/variables/ (stored 0%)\n",
            "  adding: saved_networks/duelingdqn_model102/variables/variables.index (deflated 66%)\n",
            "  adding: saved_networks/duelingdqn_model102/variables/variables.data-00000-of-00001 (deflated 15%)\n",
            "  adding: saved_networks/duelingdqn_model102/assets/ (stored 0%)\n",
            "  adding: saved_networks/duelingdqn_model102/keras_metadata.pb (deflated 64%)\n",
            "  adding: saved_networks/duelingdqn_model189/ (stored 0%)\n",
            "  adding: saved_networks/duelingdqn_model189/saved_model.pb (deflated 87%)\n",
            "  adding: saved_networks/duelingdqn_model189/variables/ (stored 0%)\n",
            "  adding: saved_networks/duelingdqn_model189/variables/variables.index (deflated 66%)\n",
            "  adding: saved_networks/duelingdqn_model189/variables/variables.data-00000-of-00001 (deflated 15%)\n",
            "  adding: saved_networks/duelingdqn_model189/assets/ (stored 0%)\n",
            "  adding: saved_networks/duelingdqn_model189/net_weights189.h5 (deflated 94%)\n",
            "  adding: saved_networks/duelingdqn_model189/keras_metadata.pb (deflated 64%)\n",
            "  adding: saved_networks/duelingdqn_model146/ (stored 0%)\n",
            "  adding: saved_networks/duelingdqn_model146/saved_model.pb (deflated 86%)\n",
            "  adding: saved_networks/duelingdqn_model146/variables/ (stored 0%)\n",
            "  adding: saved_networks/duelingdqn_model146/variables/variables.index (deflated 66%)\n",
            "  adding: saved_networks/duelingdqn_model146/variables/variables.data-00000-of-00001 (deflated 15%)\n",
            "  adding: saved_networks/duelingdqn_model146/net_weights146.h5 (deflated 94%)\n",
            "  adding: saved_networks/duelingdqn_model146/assets/ (stored 0%)\n",
            "  adding: saved_networks/duelingdqn_model146/keras_metadata.pb (deflated 64%)\n",
            "  adding: saved_networks/duelingdqn_model35/ (stored 0%)\n",
            "  adding: saved_networks/duelingdqn_model35/net_weights35.h5 (deflated 94%)\n",
            "  adding: saved_networks/duelingdqn_model35/saved_model.pb (deflated 87%)\n",
            "  adding: saved_networks/duelingdqn_model35/variables/ (stored 0%)\n",
            "  adding: saved_networks/duelingdqn_model35/variables/variables.index (deflated 66%)\n",
            "  adding: saved_networks/duelingdqn_model35/variables/variables.data-00000-of-00001 (deflated 15%)\n",
            "  adding: saved_networks/duelingdqn_model35/assets/ (stored 0%)\n",
            "  adding: saved_networks/duelingdqn_model35/keras_metadata.pb (deflated 64%)\n",
            "  adding: saved_networks/duelingdqn_model178/ (stored 0%)\n",
            "  adding: saved_networks/duelingdqn_model178/net_weights178.h5 (deflated 94%)\n",
            "  adding: saved_networks/duelingdqn_model178/saved_model.pb (deflated 87%)\n",
            "  adding: saved_networks/duelingdqn_model178/variables/ (stored 0%)\n",
            "  adding: saved_networks/duelingdqn_model178/variables/variables.index (deflated 66%)\n",
            "  adding: saved_networks/duelingdqn_model178/variables/variables.data-00000-of-00001 (deflated 15%)\n",
            "  adding: saved_networks/duelingdqn_model178/assets/ (stored 0%)\n",
            "  adding: saved_networks/duelingdqn_model178/keras_metadata.pb (deflated 64%)\n",
            "  adding: saved_networks/duelingdqn_model135/ (stored 0%)\n",
            "  adding: saved_networks/duelingdqn_model135/net_weights135.h5 (deflated 94%)\n",
            "  adding: saved_networks/duelingdqn_model135/saved_model.pb (deflated 87%)\n",
            "  adding: saved_networks/duelingdqn_model135/variables/ (stored 0%)\n",
            "  adding: saved_networks/duelingdqn_model135/variables/variables.index (deflated 66%)\n",
            "  adding: saved_networks/duelingdqn_model135/variables/variables.data-00000-of-00001 (deflated 15%)\n",
            "  adding: saved_networks/duelingdqn_model135/assets/ (stored 0%)\n",
            "  adding: saved_networks/duelingdqn_model135/keras_metadata.pb (deflated 64%)\n",
            "  adding: saved_networks/duelingdqn_model47/ (stored 0%)\n",
            "  adding: saved_networks/duelingdqn_model47/saved_model.pb (deflated 87%)\n",
            "  adding: saved_networks/duelingdqn_model47/net_weights47.h5 (deflated 94%)\n",
            "  adding: saved_networks/duelingdqn_model47/variables/ (stored 0%)\n",
            "  adding: saved_networks/duelingdqn_model47/variables/variables.index (deflated 66%)\n",
            "  adding: saved_networks/duelingdqn_model47/variables/variables.data-00000-of-00001 (deflated 15%)\n",
            "  adding: saved_networks/duelingdqn_model47/assets/ (stored 0%)\n",
            "  adding: saved_networks/duelingdqn_model47/keras_metadata.pb (deflated 64%)\n",
            "  adding: saved_networks/duelingdqn_model247/ (stored 0%)\n",
            "  adding: saved_networks/duelingdqn_model247/saved_model.pb (deflated 88%)\n",
            "  adding: saved_networks/duelingdqn_model247/variables/ (stored 0%)\n",
            "  adding: saved_networks/duelingdqn_model247/variables/variables.index (deflated 66%)\n",
            "  adding: saved_networks/duelingdqn_model247/variables/variables.data-00000-of-00001 (deflated 15%)\n",
            "  adding: saved_networks/duelingdqn_model247/assets/ (stored 0%)\n",
            "  adding: saved_networks/duelingdqn_model247/net_weights247.h5 (deflated 94%)\n",
            "  adding: saved_networks/duelingdqn_model247/keras_metadata.pb (deflated 64%)\n",
            "  adding: saved_networks/duelingdqn_model237/ (stored 0%)\n",
            "  adding: saved_networks/duelingdqn_model237/saved_model.pb (deflated 87%)\n",
            "  adding: saved_networks/duelingdqn_model237/variables/ (stored 0%)\n",
            "  adding: saved_networks/duelingdqn_model237/variables/variables.index (deflated 66%)\n",
            "  adding: saved_networks/duelingdqn_model237/variables/variables.data-00000-of-00001 (deflated 15%)\n",
            "  adding: saved_networks/duelingdqn_model237/assets/ (stored 0%)\n",
            "  adding: saved_networks/duelingdqn_model237/net_weights237.h5 (deflated 94%)\n",
            "  adding: saved_networks/duelingdqn_model237/keras_metadata.pb (deflated 64%)\n",
            "  adding: saved_networks/duelingdqn_model171/ (stored 0%)\n",
            "  adding: saved_networks/duelingdqn_model171/net_weights171.h5 (deflated 94%)\n",
            "  adding: saved_networks/duelingdqn_model171/saved_model.pb (deflated 87%)\n",
            "  adding: saved_networks/duelingdqn_model171/variables/ (stored 0%)\n",
            "  adding: saved_networks/duelingdqn_model171/variables/variables.index (deflated 66%)\n",
            "  adding: saved_networks/duelingdqn_model171/variables/variables.data-00000-of-00001 (deflated 15%)\n",
            "  adding: saved_networks/duelingdqn_model171/assets/ (stored 0%)\n",
            "  adding: saved_networks/duelingdqn_model171/keras_metadata.pb (deflated 64%)\n",
            "  adding: saved_networks/duelingdqn_model148/ (stored 0%)\n",
            "  adding: saved_networks/duelingdqn_model148/net_weights148.h5 (deflated 94%)\n",
            "  adding: saved_networks/duelingdqn_model148/saved_model.pb (deflated 87%)\n",
            "  adding: saved_networks/duelingdqn_model148/variables/ (stored 0%)\n",
            "  adding: saved_networks/duelingdqn_model148/variables/variables.index (deflated 66%)\n",
            "  adding: saved_networks/duelingdqn_model148/variables/variables.data-00000-of-00001 (deflated 15%)\n",
            "  adding: saved_networks/duelingdqn_model148/assets/ (stored 0%)\n",
            "  adding: saved_networks/duelingdqn_model148/keras_metadata.pb (deflated 64%)\n",
            "  adding: saved_networks/duelingdqn_model27/ (stored 0%)\n",
            "  adding: saved_networks/duelingdqn_model27/saved_model.pb (deflated 87%)\n",
            "  adding: saved_networks/duelingdqn_model27/variables/ (stored 0%)\n",
            "  adding: saved_networks/duelingdqn_model27/variables/variables.index (deflated 66%)\n",
            "  adding: saved_networks/duelingdqn_model27/variables/variables.data-00000-of-00001 (deflated 14%)\n",
            "  adding: saved_networks/duelingdqn_model27/net_weights27.h5 (deflated 94%)\n",
            "  adding: saved_networks/duelingdqn_model27/assets/ (stored 0%)\n",
            "  adding: saved_networks/duelingdqn_model27/keras_metadata.pb (deflated 64%)\n",
            "  adding: saved_networks/duelingdqn_model156/ (stored 0%)\n",
            "  adding: saved_networks/duelingdqn_model156/net_weights156.h5 (deflated 94%)\n",
            "  adding: saved_networks/duelingdqn_model156/saved_model.pb (deflated 87%)\n",
            "  adding: saved_networks/duelingdqn_model156/variables/ (stored 0%)\n",
            "  adding: saved_networks/duelingdqn_model156/variables/variables.index (deflated 66%)\n",
            "  adding: saved_networks/duelingdqn_model156/variables/variables.data-00000-of-00001 (deflated 15%)\n",
            "  adding: saved_networks/duelingdqn_model156/assets/ (stored 0%)\n",
            "  adding: saved_networks/duelingdqn_model156/keras_metadata.pb (deflated 64%)\n",
            "  adding: saved_networks/duelingdqn_model50/ (stored 0%)\n",
            "  adding: saved_networks/duelingdqn_model50/saved_model.pb (deflated 87%)\n",
            "  adding: saved_networks/duelingdqn_model50/net_weights50.h5 (deflated 94%)\n",
            "  adding: saved_networks/duelingdqn_model50/variables/ (stored 0%)\n",
            "  adding: saved_networks/duelingdqn_model50/variables/variables.index (deflated 66%)\n",
            "  adding: saved_networks/duelingdqn_model50/variables/variables.data-00000-of-00001 (deflated 15%)\n",
            "  adding: saved_networks/duelingdqn_model50/assets/ (stored 0%)\n",
            "  adding: saved_networks/duelingdqn_model50/keras_metadata.pb (deflated 64%)\n",
            "  adding: saved_networks/duelingdqn_model70/ (stored 0%)\n",
            "  adding: saved_networks/duelingdqn_model70/saved_model.pb (deflated 87%)\n",
            "  adding: saved_networks/duelingdqn_model70/variables/ (stored 0%)\n",
            "  adding: saved_networks/duelingdqn_model70/variables/variables.index (deflated 66%)\n",
            "  adding: saved_networks/duelingdqn_model70/variables/variables.data-00000-of-00001 (deflated 15%)\n",
            "  adding: saved_networks/duelingdqn_model70/assets/ (stored 0%)\n",
            "  adding: saved_networks/duelingdqn_model70/keras_metadata.pb (deflated 64%)\n",
            "  adding: saved_networks/duelingdqn_model70/net_weights70.h5 (deflated 94%)\n",
            "  adding: saved_networks/duelingdqn_model104/ (stored 0%)\n",
            "  adding: saved_networks/duelingdqn_model104/saved_model.pb (deflated 87%)\n",
            "  adding: saved_networks/duelingdqn_model104/variables/ (stored 0%)\n",
            "  adding: saved_networks/duelingdqn_model104/variables/variables.index (deflated 66%)\n",
            "  adding: saved_networks/duelingdqn_model104/variables/variables.data-00000-of-00001 (deflated 15%)\n",
            "  adding: saved_networks/duelingdqn_model104/assets/ (stored 0%)\n",
            "  adding: saved_networks/duelingdqn_model104/keras_metadata.pb (deflated 64%)\n",
            "  adding: saved_networks/duelingdqn_model104/net_weights104.h5 (deflated 94%)\n",
            "  adding: saved_networks/duelingdqn_model334/ (stored 0%)\n",
            "  adding: saved_networks/duelingdqn_model334/saved_model.pb (deflated 87%)\n",
            "  adding: saved_networks/duelingdqn_model334/variables/ (stored 0%)\n",
            "  adding: saved_networks/duelingdqn_model334/variables/variables.index (deflated 66%)\n",
            "  adding: saved_networks/duelingdqn_model334/variables/variables.data-00000-of-00001 (deflated 15%)\n",
            "  adding: saved_networks/duelingdqn_model334/assets/ (stored 0%)\n",
            "  adding: saved_networks/duelingdqn_model334/net_weights334.h5 (deflated 94%)\n",
            "  adding: saved_networks/duelingdqn_model334/keras_metadata.pb (deflated 64%)\n",
            "  adding: saved_networks/duelingdqn_model141/ (stored 0%)\n",
            "  adding: saved_networks/duelingdqn_model141/net_weights141.h5 (deflated 94%)\n",
            "  adding: saved_networks/duelingdqn_model141/saved_model.pb (deflated 87%)\n",
            "  adding: saved_networks/duelingdqn_model141/variables/ (stored 0%)\n",
            "  adding: saved_networks/duelingdqn_model141/variables/variables.index (deflated 66%)\n",
            "  adding: saved_networks/duelingdqn_model141/variables/variables.data-00000-of-00001 (deflated 15%)\n",
            "  adding: saved_networks/duelingdqn_model141/assets/ (stored 0%)\n",
            "  adding: saved_networks/duelingdqn_model141/keras_metadata.pb (deflated 64%)\n",
            "  adding: saved_networks/duelingdqn_model51/ (stored 0%)\n",
            "  adding: saved_networks/duelingdqn_model51/saved_model.pb (deflated 87%)\n",
            "  adding: saved_networks/duelingdqn_model51/variables/ (stored 0%)\n",
            "  adding: saved_networks/duelingdqn_model51/variables/variables.index (deflated 66%)\n",
            "  adding: saved_networks/duelingdqn_model51/variables/variables.data-00000-of-00001 (deflated 15%)\n",
            "  adding: saved_networks/duelingdqn_model51/assets/ (stored 0%)\n",
            "  adding: saved_networks/duelingdqn_model51/keras_metadata.pb (deflated 64%)\n",
            "  adding: saved_networks/duelingdqn_model51/net_weights51.h5 (deflated 94%)\n",
            "  adding: saved_networks/duelingdqn_model98/ (stored 0%)\n",
            "  adding: saved_networks/duelingdqn_model98/saved_model.pb (deflated 87%)\n",
            "  adding: saved_networks/duelingdqn_model98/variables/ (stored 0%)\n",
            "  adding: saved_networks/duelingdqn_model98/variables/variables.index (deflated 66%)\n",
            "  adding: saved_networks/duelingdqn_model98/variables/variables.data-00000-of-00001 (deflated 15%)\n",
            "  adding: saved_networks/duelingdqn_model98/assets/ (stored 0%)\n",
            "  adding: saved_networks/duelingdqn_model98/net_weights98.h5 (deflated 94%)\n",
            "  adding: saved_networks/duelingdqn_model98/keras_metadata.pb (deflated 64%)\n",
            "  adding: saved_networks/duelingdqn_model309/ (stored 0%)\n",
            "  adding: saved_networks/duelingdqn_model309/saved_model.pb (deflated 87%)\n",
            "  adding: saved_networks/duelingdqn_model309/variables/ (stored 0%)\n",
            "  adding: saved_networks/duelingdqn_model309/variables/variables.index (deflated 66%)\n",
            "  adding: saved_networks/duelingdqn_model309/variables/variables.data-00000-of-00001 (deflated 15%)\n",
            "  adding: saved_networks/duelingdqn_model309/assets/ (stored 0%)\n",
            "  adding: saved_networks/duelingdqn_model309/net_weights309.h5 (deflated 94%)\n",
            "  adding: saved_networks/duelingdqn_model309/keras_metadata.pb (deflated 64%)\n",
            "  adding: saved_networks/duelingdqn_model218/ (stored 0%)\n",
            "  adding: saved_networks/duelingdqn_model218/net_weights218.h5 (deflated 94%)\n",
            "  adding: saved_networks/duelingdqn_model218/saved_model.pb (deflated 86%)\n",
            "  adding: saved_networks/duelingdqn_model218/variables/ (stored 0%)\n",
            "  adding: saved_networks/duelingdqn_model218/variables/variables.index (deflated 66%)\n",
            "  adding: saved_networks/duelingdqn_model218/variables/variables.data-00000-of-00001 (deflated 15%)\n",
            "  adding: saved_networks/duelingdqn_model218/assets/ (stored 0%)\n",
            "  adding: saved_networks/duelingdqn_model218/keras_metadata.pb (deflated 64%)\n",
            "  adding: saved_networks/duelingdqn_model282/ (stored 0%)\n",
            "  adding: saved_networks/duelingdqn_model282/net_weights282.h5 (deflated 94%)\n",
            "  adding: saved_networks/duelingdqn_model282/saved_model.pb (deflated 87%)\n",
            "  adding: saved_networks/duelingdqn_model282/variables/ (stored 0%)\n",
            "  adding: saved_networks/duelingdqn_model282/variables/variables.index (deflated 66%)\n",
            "  adding: saved_networks/duelingdqn_model282/variables/variables.data-00000-of-00001 (deflated 15%)\n",
            "  adding: saved_networks/duelingdqn_model282/assets/ (stored 0%)\n",
            "  adding: saved_networks/duelingdqn_model282/keras_metadata.pb (deflated 64%)\n",
            "  adding: saved_networks/duelingdqn_model41/ (stored 0%)\n",
            "  adding: saved_networks/duelingdqn_model41/saved_model.pb (deflated 87%)\n",
            "  adding: saved_networks/duelingdqn_model41/variables/ (stored 0%)\n",
            "  adding: saved_networks/duelingdqn_model41/variables/variables.index (deflated 66%)\n",
            "  adding: saved_networks/duelingdqn_model41/variables/variables.data-00000-of-00001 (deflated 15%)\n",
            "  adding: saved_networks/duelingdqn_model41/assets/ (stored 0%)\n",
            "  adding: saved_networks/duelingdqn_model41/net_weights41.h5 (deflated 94%)\n",
            "  adding: saved_networks/duelingdqn_model41/keras_metadata.pb (deflated 64%)\n",
            "  adding: saved_networks/duelingdqn_model69/ (stored 0%)\n",
            "  adding: saved_networks/duelingdqn_model69/saved_model.pb (deflated 87%)\n",
            "  adding: saved_networks/duelingdqn_model69/variables/ (stored 0%)\n",
            "  adding: saved_networks/duelingdqn_model69/variables/variables.index (deflated 66%)\n",
            "  adding: saved_networks/duelingdqn_model69/variables/variables.data-00000-of-00001 (deflated 15%)\n",
            "  adding: saved_networks/duelingdqn_model69/assets/ (stored 0%)\n",
            "  adding: saved_networks/duelingdqn_model69/net_weights69.h5 (deflated 94%)\n",
            "  adding: saved_networks/duelingdqn_model69/keras_metadata.pb (deflated 64%)\n",
            "  adding: saved_networks/duelingdqn_model0/ (stored 0%)\n",
            "  adding: saved_networks/duelingdqn_model0/net_weights0.h5 (deflated 94%)\n",
            "  adding: saved_networks/duelingdqn_model0/saved_model.pb (deflated 87%)\n",
            "  adding: saved_networks/duelingdqn_model0/variables/ (stored 0%)\n",
            "  adding: saved_networks/duelingdqn_model0/variables/variables.index (deflated 66%)\n",
            "  adding: saved_networks/duelingdqn_model0/variables/variables.data-00000-of-00001 (deflated 14%)\n",
            "  adding: saved_networks/duelingdqn_model0/assets/ (stored 0%)\n",
            "  adding: saved_networks/duelingdqn_model0/keras_metadata.pb (deflated 64%)\n",
            "  adding: saved_networks/duelingdqn_model210/ (stored 0%)\n",
            "  adding: saved_networks/duelingdqn_model210/saved_model.pb (deflated 87%)\n",
            "  adding: saved_networks/duelingdqn_model210/variables/ (stored 0%)\n",
            "  adding: saved_networks/duelingdqn_model210/variables/variables.index (deflated 66%)\n",
            "  adding: saved_networks/duelingdqn_model210/variables/variables.data-00000-of-00001 (deflated 15%)\n",
            "  adding: saved_networks/duelingdqn_model210/assets/ (stored 0%)\n",
            "  adding: saved_networks/duelingdqn_model210/net_weights210.h5 (deflated 94%)\n",
            "  adding: saved_networks/duelingdqn_model210/keras_metadata.pb (deflated 64%)\n",
            "  adding: saved_networks/duelingdqn_model45/ (stored 0%)\n",
            "  adding: saved_networks/duelingdqn_model45/net_weights45.h5 (deflated 94%)\n",
            "  adding: saved_networks/duelingdqn_model45/saved_model.pb (deflated 88%)\n",
            "  adding: saved_networks/duelingdqn_model45/variables/ (stored 0%)\n",
            "  adding: saved_networks/duelingdqn_model45/variables/variables.index (deflated 66%)\n",
            "  adding: saved_networks/duelingdqn_model45/variables/variables.data-00000-of-00001 (deflated 15%)\n",
            "  adding: saved_networks/duelingdqn_model45/assets/ (stored 0%)\n",
            "  adding: saved_networks/duelingdqn_model45/keras_metadata.pb (deflated 64%)\n",
            "  adding: saved_networks/duelingdqn_model314/ (stored 0%)\n",
            "  adding: saved_networks/duelingdqn_model314/net_weights314.h5 (deflated 94%)\n",
            "  adding: saved_networks/duelingdqn_model314/saved_model.pb (deflated 87%)\n",
            "  adding: saved_networks/duelingdqn_model314/variables/ (stored 0%)\n",
            "  adding: saved_networks/duelingdqn_model314/variables/variables.index (deflated 66%)\n",
            "  adding: saved_networks/duelingdqn_model314/variables/variables.data-00000-of-00001 (deflated 15%)\n",
            "  adding: saved_networks/duelingdqn_model314/assets/ (stored 0%)\n",
            "  adding: saved_networks/duelingdqn_model314/keras_metadata.pb (deflated 64%)\n",
            "  adding: saved_networks/duelingdqn_model77/ (stored 0%)\n",
            "  adding: saved_networks/duelingdqn_model77/saved_model.pb (deflated 87%)\n",
            "  adding: saved_networks/duelingdqn_model77/variables/ (stored 0%)\n",
            "  adding: saved_networks/duelingdqn_model77/variables/variables.index (deflated 66%)\n",
            "  adding: saved_networks/duelingdqn_model77/variables/variables.data-00000-of-00001 (deflated 15%)\n",
            "  adding: saved_networks/duelingdqn_model77/assets/ (stored 0%)\n",
            "  adding: saved_networks/duelingdqn_model77/keras_metadata.pb (deflated 64%)\n",
            "  adding: saved_networks/duelingdqn_model77/net_weights77.h5 (deflated 94%)\n",
            "  adding: saved_networks/duelingdqn_model4/ (stored 0%)\n",
            "  adding: saved_networks/duelingdqn_model4/saved_model.pb (deflated 87%)\n",
            "  adding: saved_networks/duelingdqn_model4/variables/ (stored 0%)\n",
            "  adding: saved_networks/duelingdqn_model4/variables/variables.index (deflated 66%)\n",
            "  adding: saved_networks/duelingdqn_model4/variables/variables.data-00000-of-00001 (deflated 14%)\n",
            "  adding: saved_networks/duelingdqn_model4/assets/ (stored 0%)\n",
            "  adding: saved_networks/duelingdqn_model4/keras_metadata.pb (deflated 64%)\n",
            "  adding: saved_networks/duelingdqn_model4/net_weights4.h5 (deflated 94%)\n",
            "  adding: saved_networks/duelingdqn_model10/ (stored 0%)\n",
            "  adding: saved_networks/duelingdqn_model10/net_weights10.h5 (deflated 94%)\n",
            "  adding: saved_networks/duelingdqn_model10/saved_model.pb (deflated 87%)\n",
            "  adding: saved_networks/duelingdqn_model10/variables/ (stored 0%)\n",
            "  adding: saved_networks/duelingdqn_model10/variables/variables.index (deflated 66%)\n",
            "  adding: saved_networks/duelingdqn_model10/variables/variables.data-00000-of-00001 (deflated 14%)\n",
            "  adding: saved_networks/duelingdqn_model10/assets/ (stored 0%)\n",
            "  adding: saved_networks/duelingdqn_model10/keras_metadata.pb (deflated 64%)\n",
            "  adding: saved_networks/duelingdqn_model235/ (stored 0%)\n",
            "  adding: saved_networks/duelingdqn_model235/saved_model.pb (deflated 87%)\n",
            "  adding: saved_networks/duelingdqn_model235/variables/ (stored 0%)\n",
            "  adding: saved_networks/duelingdqn_model235/variables/variables.index (deflated 66%)\n",
            "  adding: saved_networks/duelingdqn_model235/variables/variables.data-00000-of-00001 (deflated 15%)\n",
            "  adding: saved_networks/duelingdqn_model235/assets/ (stored 0%)\n",
            "  adding: saved_networks/duelingdqn_model235/net_weights235.h5 (deflated 94%)\n",
            "  adding: saved_networks/duelingdqn_model235/keras_metadata.pb (deflated 64%)\n",
            "  adding: saved_networks/duelingdqn_model158/ (stored 0%)\n",
            "  adding: saved_networks/duelingdqn_model158/net_weights158.h5 (deflated 94%)\n",
            "  adding: saved_networks/duelingdqn_model158/saved_model.pb (deflated 87%)\n",
            "  adding: saved_networks/duelingdqn_model158/variables/ (stored 0%)\n",
            "  adding: saved_networks/duelingdqn_model158/variables/variables.index (deflated 66%)\n",
            "  adding: saved_networks/duelingdqn_model158/variables/variables.data-00000-of-00001 (deflated 15%)\n",
            "  adding: saved_networks/duelingdqn_model158/assets/ (stored 0%)\n",
            "  adding: saved_networks/duelingdqn_model158/keras_metadata.pb (deflated 64%)\n",
            "  adding: saved_networks/duelingdqn_model261/ (stored 0%)\n",
            "  adding: saved_networks/duelingdqn_model261/saved_model.pb (deflated 88%)\n",
            "  adding: saved_networks/duelingdqn_model261/variables/ (stored 0%)\n",
            "  adding: saved_networks/duelingdqn_model261/variables/variables.index (deflated 66%)\n",
            "  adding: saved_networks/duelingdqn_model261/variables/variables.data-00000-of-00001 (deflated 15%)\n",
            "  adding: saved_networks/duelingdqn_model261/assets/ (stored 0%)\n",
            "  adding: saved_networks/duelingdqn_model261/net_weights261.h5 (deflated 94%)\n",
            "  adding: saved_networks/duelingdqn_model261/keras_metadata.pb (deflated 64%)\n",
            "  adding: saved_networks/duelingdqn_model286/ (stored 0%)\n",
            "  adding: saved_networks/duelingdqn_model286/net_weights286.h5 (deflated 94%)\n",
            "  adding: saved_networks/duelingdqn_model286/saved_model.pb (deflated 87%)\n",
            "  adding: saved_networks/duelingdqn_model286/variables/ (stored 0%)\n",
            "  adding: saved_networks/duelingdqn_model286/variables/variables.index (deflated 66%)\n",
            "  adding: saved_networks/duelingdqn_model286/variables/variables.data-00000-of-00001 (deflated 15%)\n",
            "  adding: saved_networks/duelingdqn_model286/assets/ (stored 0%)\n",
            "  adding: saved_networks/duelingdqn_model286/keras_metadata.pb (deflated 64%)\n",
            "  adding: saved_networks/duelingdqn_model192/ (stored 0%)\n",
            "  adding: saved_networks/duelingdqn_model192/saved_model.pb (deflated 87%)\n",
            "  adding: saved_networks/duelingdqn_model192/variables/ (stored 0%)\n",
            "  adding: saved_networks/duelingdqn_model192/variables/variables.index (deflated 66%)\n",
            "  adding: saved_networks/duelingdqn_model192/variables/variables.data-00000-of-00001 (deflated 15%)\n",
            "  adding: saved_networks/duelingdqn_model192/assets/ (stored 0%)\n",
            "  adding: saved_networks/duelingdqn_model192/keras_metadata.pb (deflated 64%)\n",
            "  adding: saved_networks/duelingdqn_model192/net_weights192.h5 (deflated 94%)\n",
            "  adding: saved_networks/duelingdqn_model91/ (stored 0%)\n",
            "  adding: saved_networks/duelingdqn_model91/saved_model.pb (deflated 87%)\n",
            "  adding: saved_networks/duelingdqn_model91/variables/ (stored 0%)\n",
            "  adding: saved_networks/duelingdqn_model91/variables/variables.index (deflated 66%)\n",
            "  adding: saved_networks/duelingdqn_model91/variables/variables.data-00000-of-00001 (deflated 15%)\n",
            "  adding: saved_networks/duelingdqn_model91/assets/ (stored 0%)\n",
            "  adding: saved_networks/duelingdqn_model91/net_weights91.h5 (deflated 94%)\n",
            "  adding: saved_networks/duelingdqn_model91/keras_metadata.pb (deflated 64%)\n",
            "  adding: saved_networks/duelingdqn_model180/ (stored 0%)\n",
            "  adding: saved_networks/duelingdqn_model180/saved_model.pb (deflated 87%)\n",
            "  adding: saved_networks/duelingdqn_model180/variables/ (stored 0%)\n",
            "  adding: saved_networks/duelingdqn_model180/variables/variables.index (deflated 66%)\n",
            "  adding: saved_networks/duelingdqn_model180/variables/variables.data-00000-of-00001 (deflated 15%)\n",
            "  adding: saved_networks/duelingdqn_model180/assets/ (stored 0%)\n",
            "  adding: saved_networks/duelingdqn_model180/net_weights180.h5 (deflated 94%)\n",
            "  adding: saved_networks/duelingdqn_model180/keras_metadata.pb (deflated 64%)\n",
            "  adding: saved_networks/duelingdqn_model245/ (stored 0%)\n",
            "  adding: saved_networks/duelingdqn_model245/net_weights245.h5 (deflated 94%)\n",
            "  adding: saved_networks/duelingdqn_model245/saved_model.pb (deflated 87%)\n",
            "  adding: saved_networks/duelingdqn_model245/variables/ (stored 0%)\n",
            "  adding: saved_networks/duelingdqn_model245/variables/variables.index (deflated 66%)\n",
            "  adding: saved_networks/duelingdqn_model245/variables/variables.data-00000-of-00001 (deflated 15%)\n",
            "  adding: saved_networks/duelingdqn_model245/assets/ (stored 0%)\n",
            "  adding: saved_networks/duelingdqn_model245/keras_metadata.pb (deflated 64%)\n",
            "  adding: saved_networks/duelingdqn_model182/ (stored 0%)\n",
            "  adding: saved_networks/duelingdqn_model182/net_weights182.h5 (deflated 94%)\n",
            "  adding: saved_networks/duelingdqn_model182/saved_model.pb (deflated 87%)\n",
            "  adding: saved_networks/duelingdqn_model182/variables/ (stored 0%)\n",
            "  adding: saved_networks/duelingdqn_model182/variables/variables.index (deflated 66%)\n",
            "  adding: saved_networks/duelingdqn_model182/variables/variables.data-00000-of-00001 (deflated 15%)\n",
            "  adding: saved_networks/duelingdqn_model182/assets/ (stored 0%)\n",
            "  adding: saved_networks/duelingdqn_model182/keras_metadata.pb (deflated 64%)\n",
            "  adding: saved_networks/duelingdqn_model339/ (stored 0%)\n",
            "  adding: saved_networks/duelingdqn_model339/net_weights339.h5 (deflated 94%)\n",
            "  adding: saved_networks/duelingdqn_model339/saved_model.pb (deflated 87%)\n",
            "  adding: saved_networks/duelingdqn_model339/variables/ (stored 0%)\n",
            "  adding: saved_networks/duelingdqn_model339/variables/variables.index (deflated 66%)\n",
            "  adding: saved_networks/duelingdqn_model339/variables/variables.data-00000-of-00001 (deflated 15%)\n",
            "  adding: saved_networks/duelingdqn_model339/assets/ (stored 0%)\n",
            "  adding: saved_networks/duelingdqn_model339/keras_metadata.pb (deflated 64%)\n",
            "  adding: saved_networks/duelingdqn_model275/ (stored 0%)\n",
            "  adding: saved_networks/duelingdqn_model275/net_weights275.h5 (deflated 94%)\n",
            "  adding: saved_networks/duelingdqn_model275/saved_model.pb (deflated 87%)\n",
            "  adding: saved_networks/duelingdqn_model275/variables/ (stored 0%)\n",
            "  adding: saved_networks/duelingdqn_model275/variables/variables.index (deflated 66%)\n",
            "  adding: saved_networks/duelingdqn_model275/variables/variables.data-00000-of-00001 (deflated 15%)\n",
            "  adding: saved_networks/duelingdqn_model275/assets/ (stored 0%)\n",
            "  adding: saved_networks/duelingdqn_model275/keras_metadata.pb (deflated 64%)\n",
            "  adding: saved_networks/duelingdqn_model269/ (stored 0%)\n",
            "  adding: saved_networks/duelingdqn_model269/net_weights269.h5 (deflated 94%)\n",
            "  adding: saved_networks/duelingdqn_model269/saved_model.pb (deflated 86%)\n",
            "  adding: saved_networks/duelingdqn_model269/variables/ (stored 0%)\n",
            "  adding: saved_networks/duelingdqn_model269/variables/variables.index (deflated 66%)\n",
            "  adding: saved_networks/duelingdqn_model269/variables/variables.data-00000-of-00001 (deflated 15%)\n",
            "  adding: saved_networks/duelingdqn_model269/assets/ (stored 0%)\n",
            "  adding: saved_networks/duelingdqn_model269/keras_metadata.pb (deflated 64%)\n",
            "  adding: saved_networks/duelingdqn_model80/ (stored 0%)\n",
            "  adding: saved_networks/duelingdqn_model80/saved_model.pb (deflated 88%)\n",
            "  adding: saved_networks/duelingdqn_model80/variables/ (stored 0%)\n",
            "  adding: saved_networks/duelingdqn_model80/variables/variables.index (deflated 66%)\n",
            "  adding: saved_networks/duelingdqn_model80/variables/variables.data-00000-of-00001 (deflated 15%)\n",
            "  adding: saved_networks/duelingdqn_model80/assets/ (stored 0%)\n",
            "  adding: saved_networks/duelingdqn_model80/keras_metadata.pb (deflated 64%)\n",
            "  adding: saved_networks/duelingdqn_model80/net_weights80.h5 (deflated 94%)\n",
            "  adding: saved_networks/duelingdqn_model337/ (stored 0%)\n",
            "  adding: saved_networks/duelingdqn_model337/net_weights337.h5 (deflated 94%)\n",
            "  adding: saved_networks/duelingdqn_model337/saved_model.pb (deflated 87%)\n",
            "  adding: saved_networks/duelingdqn_model337/variables/ (stored 0%)\n",
            "  adding: saved_networks/duelingdqn_model337/variables/variables.index (deflated 66%)\n",
            "  adding: saved_networks/duelingdqn_model337/variables/variables.data-00000-of-00001 (deflated 15%)\n",
            "  adding: saved_networks/duelingdqn_model337/assets/ (stored 0%)\n",
            "  adding: saved_networks/duelingdqn_model337/keras_metadata.pb (deflated 64%)\n",
            "  adding: saved_networks/duelingdqn_model138/ (stored 0%)\n",
            "  adding: saved_networks/duelingdqn_model138/saved_model.pb (deflated 87%)\n",
            "  adding: saved_networks/duelingdqn_model138/net_weights138.h5 (deflated 94%)\n",
            "  adding: saved_networks/duelingdqn_model138/variables/ (stored 0%)\n",
            "  adding: saved_networks/duelingdqn_model138/variables/variables.index (deflated 66%)\n",
            "  adding: saved_networks/duelingdqn_model138/variables/variables.data-00000-of-00001 (deflated 15%)\n",
            "  adding: saved_networks/duelingdqn_model138/assets/ (stored 0%)\n",
            "  adding: saved_networks/duelingdqn_model138/keras_metadata.pb (deflated 64%)\n",
            "  adding: saved_networks/duelingdqn_model276/ (stored 0%)\n",
            "  adding: saved_networks/duelingdqn_model276/saved_model.pb (deflated 87%)\n",
            "  adding: saved_networks/duelingdqn_model276/net_weights276.h5 (deflated 94%)\n",
            "  adding: saved_networks/duelingdqn_model276/variables/ (stored 0%)\n",
            "  adding: saved_networks/duelingdqn_model276/variables/variables.index (deflated 66%)\n",
            "  adding: saved_networks/duelingdqn_model276/variables/variables.data-00000-of-00001 (deflated 15%)\n",
            "  adding: saved_networks/duelingdqn_model276/assets/ (stored 0%)\n",
            "  adding: saved_networks/duelingdqn_model276/keras_metadata.pb (deflated 64%)\n",
            "  adding: saved_networks/duelingdqn_model49/ (stored 0%)\n",
            "  adding: saved_networks/duelingdqn_model49/net_weights49.h5 (deflated 94%)\n",
            "  adding: saved_networks/duelingdqn_model49/saved_model.pb (deflated 87%)\n",
            "  adding: saved_networks/duelingdqn_model49/variables/ (stored 0%)\n",
            "  adding: saved_networks/duelingdqn_model49/variables/variables.index (deflated 66%)\n",
            "  adding: saved_networks/duelingdqn_model49/variables/variables.data-00000-of-00001 (deflated 15%)\n",
            "  adding: saved_networks/duelingdqn_model49/assets/ (stored 0%)\n",
            "  adding: saved_networks/duelingdqn_model49/keras_metadata.pb (deflated 64%)\n",
            "  adding: saved_networks/duelingdqn_model299/ (stored 0%)\n",
            "  adding: saved_networks/duelingdqn_model299/saved_model.pb (deflated 87%)\n",
            "  adding: saved_networks/duelingdqn_model299/variables/ (stored 0%)\n",
            "  adding: saved_networks/duelingdqn_model299/variables/variables.index (deflated 66%)\n",
            "  adding: saved_networks/duelingdqn_model299/variables/variables.data-00000-of-00001 (deflated 15%)\n",
            "  adding: saved_networks/duelingdqn_model299/net_weights299.h5 (deflated 94%)\n",
            "  adding: saved_networks/duelingdqn_model299/assets/ (stored 0%)\n",
            "  adding: saved_networks/duelingdqn_model299/keras_metadata.pb (deflated 64%)\n",
            "  adding: saved_networks/duelingdqn_model126/ (stored 0%)\n",
            "  adding: saved_networks/duelingdqn_model126/net_weights126.h5 (deflated 94%)\n",
            "  adding: saved_networks/duelingdqn_model126/saved_model.pb (deflated 87%)\n",
            "  adding: saved_networks/duelingdqn_model126/variables/ (stored 0%)\n",
            "  adding: saved_networks/duelingdqn_model126/variables/variables.index (deflated 66%)\n",
            "  adding: saved_networks/duelingdqn_model126/variables/variables.data-00000-of-00001 (deflated 15%)\n",
            "  adding: saved_networks/duelingdqn_model126/assets/ (stored 0%)\n",
            "  adding: saved_networks/duelingdqn_model126/keras_metadata.pb (deflated 64%)\n",
            "  adding: saved_networks/duelingdqn_model153/ (stored 0%)\n",
            "  adding: saved_networks/duelingdqn_model153/net_weights153.h5 (deflated 94%)\n",
            "  adding: saved_networks/duelingdqn_model153/saved_model.pb (deflated 87%)\n",
            "  adding: saved_networks/duelingdqn_model153/variables/ (stored 0%)\n",
            "  adding: saved_networks/duelingdqn_model153/variables/variables.index (deflated 66%)\n",
            "  adding: saved_networks/duelingdqn_model153/variables/variables.data-00000-of-00001 (deflated 15%)\n",
            "  adding: saved_networks/duelingdqn_model153/assets/ (stored 0%)\n",
            "  adding: saved_networks/duelingdqn_model153/keras_metadata.pb (deflated 64%)\n",
            "  adding: saved_networks/duelingdqn_model236/ (stored 0%)\n",
            "  adding: saved_networks/duelingdqn_model236/saved_model.pb (deflated 87%)\n",
            "  adding: saved_networks/duelingdqn_model236/net_weights236.h5 (deflated 94%)\n",
            "  adding: saved_networks/duelingdqn_model236/variables/ (stored 0%)\n",
            "  adding: saved_networks/duelingdqn_model236/variables/variables.index (deflated 66%)\n",
            "  adding: saved_networks/duelingdqn_model236/variables/variables.data-00000-of-00001 (deflated 15%)\n",
            "  adding: saved_networks/duelingdqn_model236/assets/ (stored 0%)\n",
            "  adding: saved_networks/duelingdqn_model236/keras_metadata.pb (deflated 64%)\n",
            "  adding: saved_networks/duelingdqn_model154/ (stored 0%)\n",
            "  adding: saved_networks/duelingdqn_model154/saved_model.pb (deflated 87%)\n",
            "  adding: saved_networks/duelingdqn_model154/variables/ (stored 0%)\n",
            "  adding: saved_networks/duelingdqn_model154/variables/variables.index (deflated 66%)\n",
            "  adding: saved_networks/duelingdqn_model154/variables/variables.data-00000-of-00001 (deflated 15%)\n",
            "  adding: saved_networks/duelingdqn_model154/assets/ (stored 0%)\n",
            "  adding: saved_networks/duelingdqn_model154/net_weights154.h5 (deflated 94%)\n",
            "  adding: saved_networks/duelingdqn_model154/keras_metadata.pb (deflated 64%)\n",
            "  adding: saved_networks/duelingdqn_model83/ (stored 0%)\n",
            "  adding: saved_networks/duelingdqn_model83/net_weights83.h5 (deflated 94%)\n",
            "  adding: saved_networks/duelingdqn_model83/saved_model.pb (deflated 87%)\n",
            "  adding: saved_networks/duelingdqn_model83/variables/ (stored 0%)\n",
            "  adding: saved_networks/duelingdqn_model83/variables/variables.index (deflated 66%)\n",
            "  adding: saved_networks/duelingdqn_model83/variables/variables.data-00000-of-00001 (deflated 15%)\n",
            "  adding: saved_networks/duelingdqn_model83/assets/ (stored 0%)\n",
            "  adding: saved_networks/duelingdqn_model83/keras_metadata.pb (deflated 64%)\n",
            "  adding: saved_networks/duelingdqn_model315/ (stored 0%)\n",
            "  adding: saved_networks/duelingdqn_model315/saved_model.pb (deflated 87%)\n",
            "  adding: saved_networks/duelingdqn_model315/variables/ (stored 0%)\n",
            "  adding: saved_networks/duelingdqn_model315/variables/variables.index (deflated 66%)\n",
            "  adding: saved_networks/duelingdqn_model315/variables/variables.data-00000-of-00001 (deflated 15%)\n",
            "  adding: saved_networks/duelingdqn_model315/assets/ (stored 0%)\n",
            "  adding: saved_networks/duelingdqn_model315/net_weights315.h5 (deflated 94%)\n",
            "  adding: saved_networks/duelingdqn_model315/keras_metadata.pb (deflated 64%)\n",
            "  adding: saved_networks/duelingdqn_model151/ (stored 0%)\n",
            "  adding: saved_networks/duelingdqn_model151/saved_model.pb (deflated 87%)\n",
            "  adding: saved_networks/duelingdqn_model151/variables/ (stored 0%)\n",
            "  adding: saved_networks/duelingdqn_model151/variables/variables.index (deflated 66%)\n",
            "  adding: saved_networks/duelingdqn_model151/variables/variables.data-00000-of-00001 (deflated 15%)\n",
            "  adding: saved_networks/duelingdqn_model151/assets/ (stored 0%)\n",
            "  adding: saved_networks/duelingdqn_model151/net_weights151.h5 (deflated 94%)\n",
            "  adding: saved_networks/duelingdqn_model151/keras_metadata.pb (deflated 64%)\n",
            "  adding: saved_networks/duelingdqn_model132/ (stored 0%)\n",
            "  adding: saved_networks/duelingdqn_model132/net_weights132.h5 (deflated 94%)\n",
            "  adding: saved_networks/duelingdqn_model132/saved_model.pb (deflated 87%)\n",
            "  adding: saved_networks/duelingdqn_model132/variables/ (stored 0%)\n",
            "  adding: saved_networks/duelingdqn_model132/variables/variables.index (deflated 66%)\n",
            "  adding: saved_networks/duelingdqn_model132/variables/variables.data-00000-of-00001 (deflated 15%)\n",
            "  adding: saved_networks/duelingdqn_model132/assets/ (stored 0%)\n",
            "  adding: saved_networks/duelingdqn_model132/keras_metadata.pb (deflated 64%)\n",
            "  adding: saved_networks/duelingdqn_model230/ (stored 0%)\n",
            "  adding: saved_networks/duelingdqn_model230/net_weights230.h5 (deflated 94%)\n",
            "  adding: saved_networks/duelingdqn_model230/saved_model.pb (deflated 87%)\n",
            "  adding: saved_networks/duelingdqn_model230/variables/ (stored 0%)\n",
            "  adding: saved_networks/duelingdqn_model230/variables/variables.index (deflated 66%)\n",
            "  adding: saved_networks/duelingdqn_model230/variables/variables.data-00000-of-00001 (deflated 15%)\n",
            "  adding: saved_networks/duelingdqn_model230/assets/ (stored 0%)\n",
            "  adding: saved_networks/duelingdqn_model230/keras_metadata.pb (deflated 64%)\n",
            "  adding: saved_networks/duelingdqn_model166/ (stored 0%)\n",
            "  adding: saved_networks/duelingdqn_model166/saved_model.pb (deflated 88%)\n",
            "  adding: saved_networks/duelingdqn_model166/net_weights166.h5 (deflated 94%)\n",
            "  adding: saved_networks/duelingdqn_model166/variables/ (stored 0%)\n",
            "  adding: saved_networks/duelingdqn_model166/variables/variables.index (deflated 66%)\n",
            "  adding: saved_networks/duelingdqn_model166/variables/variables.data-00000-of-00001 (deflated 15%)\n",
            "  adding: saved_networks/duelingdqn_model166/assets/ (stored 0%)\n",
            "  adding: saved_networks/duelingdqn_model166/keras_metadata.pb (deflated 64%)\n",
            "  adding: saved_networks/duelingdqn_model118/ (stored 0%)\n",
            "  adding: saved_networks/duelingdqn_model118/net_weights118.h5 (deflated 94%)\n",
            "  adding: saved_networks/duelingdqn_model118/saved_model.pb (deflated 87%)\n",
            "  adding: saved_networks/duelingdqn_model118/variables/ (stored 0%)\n",
            "  adding: saved_networks/duelingdqn_model118/variables/variables.index (deflated 66%)\n",
            "  adding: saved_networks/duelingdqn_model118/variables/variables.data-00000-of-00001 (deflated 15%)\n",
            "  adding: saved_networks/duelingdqn_model118/assets/ (stored 0%)\n",
            "  adding: saved_networks/duelingdqn_model118/keras_metadata.pb (deflated 64%)\n",
            "  adding: saved_networks/duelingdqn_model142/ (stored 0%)\n",
            "  adding: saved_networks/duelingdqn_model142/net_weights142.h5 (deflated 94%)\n",
            "  adding: saved_networks/duelingdqn_model142/saved_model.pb (deflated 87%)\n",
            "  adding: saved_networks/duelingdqn_model142/variables/ (stored 0%)\n",
            "  adding: saved_networks/duelingdqn_model142/variables/variables.index (deflated 66%)\n",
            "  adding: saved_networks/duelingdqn_model142/variables/variables.data-00000-of-00001 (deflated 15%)\n",
            "  adding: saved_networks/duelingdqn_model142/assets/ (stored 0%)\n",
            "  adding: saved_networks/duelingdqn_model142/keras_metadata.pb (deflated 64%)\n",
            "  adding: saved_networks/duelingdqn_model248/ (stored 0%)\n",
            "  adding: saved_networks/duelingdqn_model248/net_weights248.h5 (deflated 94%)\n",
            "  adding: saved_networks/duelingdqn_model248/saved_model.pb (deflated 87%)\n",
            "  adding: saved_networks/duelingdqn_model248/variables/ (stored 0%)\n",
            "  adding: saved_networks/duelingdqn_model248/variables/variables.index (deflated 66%)\n",
            "  adding: saved_networks/duelingdqn_model248/variables/variables.data-00000-of-00001 (deflated 15%)\n",
            "  adding: saved_networks/duelingdqn_model248/assets/ (stored 0%)\n",
            "  adding: saved_networks/duelingdqn_model248/keras_metadata.pb (deflated 64%)\n",
            "  adding: saved_networks/duelingdqn_model66/ (stored 0%)\n",
            "  adding: saved_networks/duelingdqn_model66/net_weights66.h5 (deflated 94%)\n",
            "  adding: saved_networks/duelingdqn_model66/saved_model.pb (deflated 87%)\n",
            "  adding: saved_networks/duelingdqn_model66/variables/ (stored 0%)\n",
            "  adding: saved_networks/duelingdqn_model66/variables/variables.index (deflated 66%)\n",
            "  adding: saved_networks/duelingdqn_model66/variables/variables.data-00000-of-00001 (deflated 15%)\n",
            "  adding: saved_networks/duelingdqn_model66/assets/ (stored 0%)\n",
            "  adding: saved_networks/duelingdqn_model66/keras_metadata.pb (deflated 64%)\n",
            "  adding: saved_networks/duelingdqn_model203/ (stored 0%)\n",
            "  adding: saved_networks/duelingdqn_model203/net_weights203.h5 (deflated 94%)\n",
            "  adding: saved_networks/duelingdqn_model203/saved_model.pb (deflated 87%)\n",
            "  adding: saved_networks/duelingdqn_model203/variables/ (stored 0%)\n",
            "  adding: saved_networks/duelingdqn_model203/variables/variables.index (deflated 66%)\n",
            "  adding: saved_networks/duelingdqn_model203/variables/variables.data-00000-of-00001 (deflated 15%)\n",
            "  adding: saved_networks/duelingdqn_model203/assets/ (stored 0%)\n",
            "  adding: saved_networks/duelingdqn_model203/keras_metadata.pb (deflated 64%)\n",
            "  adding: saved_networks/duelingdqn_model209/ (stored 0%)\n",
            "  adding: saved_networks/duelingdqn_model209/saved_model.pb (deflated 87%)\n",
            "  adding: saved_networks/duelingdqn_model209/variables/ (stored 0%)\n",
            "  adding: saved_networks/duelingdqn_model209/variables/variables.index (deflated 66%)\n",
            "  adding: saved_networks/duelingdqn_model209/variables/variables.data-00000-of-00001 (deflated 15%)\n",
            "  adding: saved_networks/duelingdqn_model209/assets/ (stored 0%)\n",
            "  adding: saved_networks/duelingdqn_model209/net_weights209.h5 (deflated 94%)\n",
            "  adding: saved_networks/duelingdqn_model209/keras_metadata.pb (deflated 64%)\n",
            "  adding: saved_networks/duelingdqn_model179/ (stored 0%)\n",
            "  adding: saved_networks/duelingdqn_model179/net_weights179.h5 (deflated 94%)\n",
            "  adding: saved_networks/duelingdqn_model179/saved_model.pb (deflated 87%)\n",
            "  adding: saved_networks/duelingdqn_model179/variables/ (stored 0%)\n",
            "  adding: saved_networks/duelingdqn_model179/variables/variables.index (deflated 66%)\n",
            "  adding: saved_networks/duelingdqn_model179/variables/variables.data-00000-of-00001 (deflated 15%)\n",
            "  adding: saved_networks/duelingdqn_model179/assets/ (stored 0%)\n",
            "  adding: saved_networks/duelingdqn_model179/keras_metadata.pb (deflated 64%)\n",
            "  adding: saved_networks/duelingdqn_model62/ (stored 0%)\n",
            "  adding: saved_networks/duelingdqn_model62/saved_model.pb (deflated 87%)\n",
            "  adding: saved_networks/duelingdqn_model62/variables/ (stored 0%)\n",
            "  adding: saved_networks/duelingdqn_model62/variables/variables.index (deflated 66%)\n",
            "  adding: saved_networks/duelingdqn_model62/variables/variables.data-00000-of-00001 (deflated 15%)\n",
            "  adding: saved_networks/duelingdqn_model62/assets/ (stored 0%)\n",
            "  adding: saved_networks/duelingdqn_model62/net_weights62.h5 (deflated 94%)\n",
            "  adding: saved_networks/duelingdqn_model62/keras_metadata.pb (deflated 64%)\n",
            "  adding: saved_networks/duelingdqn_model85/ (stored 0%)\n",
            "  adding: saved_networks/duelingdqn_model85/net_weights85.h5 (deflated 94%)\n",
            "  adding: saved_networks/duelingdqn_model85/saved_model.pb (deflated 87%)\n",
            "  adding: saved_networks/duelingdqn_model85/variables/ (stored 0%)\n",
            "  adding: saved_networks/duelingdqn_model85/variables/variables.index (deflated 66%)\n",
            "  adding: saved_networks/duelingdqn_model85/variables/variables.data-00000-of-00001 (deflated 15%)\n",
            "  adding: saved_networks/duelingdqn_model85/assets/ (stored 0%)\n",
            "  adding: saved_networks/duelingdqn_model85/keras_metadata.pb (deflated 64%)\n",
            "  adding: saved_networks/duelingdqn_model100/ (stored 0%)\n",
            "  adding: saved_networks/duelingdqn_model100/saved_model.pb (deflated 87%)\n",
            "  adding: saved_networks/duelingdqn_model100/variables/ (stored 0%)\n",
            "  adding: saved_networks/duelingdqn_model100/variables/variables.index (deflated 66%)\n",
            "  adding: saved_networks/duelingdqn_model100/variables/variables.data-00000-of-00001 (deflated 15%)\n",
            "  adding: saved_networks/duelingdqn_model100/assets/ (stored 0%)\n",
            "  adding: saved_networks/duelingdqn_model100/net_weights100.h5 (deflated 94%)\n",
            "  adding: saved_networks/duelingdqn_model100/keras_metadata.pb (deflated 64%)\n",
            "  adding: saved_networks/duelingdqn_model301/ (stored 0%)\n",
            "  adding: saved_networks/duelingdqn_model301/saved_model.pb (deflated 87%)\n",
            "  adding: saved_networks/duelingdqn_model301/variables/ (stored 0%)\n",
            "  adding: saved_networks/duelingdqn_model301/variables/variables.index (deflated 66%)\n",
            "  adding: saved_networks/duelingdqn_model301/variables/variables.data-00000-of-00001 (deflated 15%)\n",
            "  adding: saved_networks/duelingdqn_model301/assets/ (stored 0%)\n",
            "  adding: saved_networks/duelingdqn_model301/net_weights301.h5 (deflated 94%)\n",
            "  adding: saved_networks/duelingdqn_model301/keras_metadata.pb (deflated 64%)\n",
            "  adding: saved_networks/duelingdqn_model37/ (stored 0%)\n",
            "  adding: saved_networks/duelingdqn_model37/net_weights37.h5 (deflated 94%)\n",
            "  adding: saved_networks/duelingdqn_model37/saved_model.pb (deflated 87%)\n",
            "  adding: saved_networks/duelingdqn_model37/variables/ (stored 0%)\n",
            "  adding: saved_networks/duelingdqn_model37/variables/variables.index (deflated 66%)\n",
            "  adding: saved_networks/duelingdqn_model37/variables/variables.data-00000-of-00001 (deflated 15%)\n",
            "  adding: saved_networks/duelingdqn_model37/assets/ (stored 0%)\n",
            "  adding: saved_networks/duelingdqn_model37/keras_metadata.pb (deflated 64%)\n",
            "  adding: saved_networks/duelingdqn_model3/ (stored 0%)\n",
            "  adding: saved_networks/duelingdqn_model3/net_weights3.h5 (deflated 94%)\n",
            "  adding: saved_networks/duelingdqn_model3/saved_model.pb (deflated 87%)\n",
            "  adding: saved_networks/duelingdqn_model3/variables/ (stored 0%)\n",
            "  adding: saved_networks/duelingdqn_model3/variables/variables.index (deflated 66%)\n",
            "  adding: saved_networks/duelingdqn_model3/variables/variables.data-00000-of-00001 (deflated 14%)\n",
            "  adding: saved_networks/duelingdqn_model3/assets/ (stored 0%)\n",
            "  adding: saved_networks/duelingdqn_model3/keras_metadata.pb (deflated 64%)\n",
            "  adding: saved_networks/duelingdqn_model110/ (stored 0%)\n",
            "  adding: saved_networks/duelingdqn_model110/net_weights110.h5 (deflated 94%)\n",
            "  adding: saved_networks/duelingdqn_model110/saved_model.pb (deflated 87%)\n",
            "  adding: saved_networks/duelingdqn_model110/variables/ (stored 0%)\n",
            "  adding: saved_networks/duelingdqn_model110/variables/variables.index (deflated 66%)\n",
            "  adding: saved_networks/duelingdqn_model110/variables/variables.data-00000-of-00001 (deflated 15%)\n",
            "  adding: saved_networks/duelingdqn_model110/assets/ (stored 0%)\n",
            "  adding: saved_networks/duelingdqn_model110/keras_metadata.pb (deflated 64%)\n",
            "  adding: saved_networks/duelingdqn_model137/ (stored 0%)\n",
            "  adding: saved_networks/duelingdqn_model137/saved_model.pb (deflated 87%)\n",
            "  adding: saved_networks/duelingdqn_model137/variables/ (stored 0%)\n",
            "  adding: saved_networks/duelingdqn_model137/variables/variables.index (deflated 66%)\n",
            "  adding: saved_networks/duelingdqn_model137/variables/variables.data-00000-of-00001 (deflated 15%)\n",
            "  adding: saved_networks/duelingdqn_model137/assets/ (stored 0%)\n",
            "  adding: saved_networks/duelingdqn_model137/net_weights137.h5 (deflated 94%)\n",
            "  adding: saved_networks/duelingdqn_model137/keras_metadata.pb (deflated 64%)\n",
            "  adding: saved_networks/duelingdqn_model293/ (stored 0%)\n",
            "  adding: saved_networks/duelingdqn_model293/net_weights293.h5 (deflated 94%)\n",
            "  adding: saved_networks/duelingdqn_model293/saved_model.pb (deflated 87%)\n",
            "  adding: saved_networks/duelingdqn_model293/variables/ (stored 0%)\n",
            "  adding: saved_networks/duelingdqn_model293/variables/variables.index (deflated 66%)\n",
            "  adding: saved_networks/duelingdqn_model293/variables/variables.data-00000-of-00001 (deflated 15%)\n",
            "  adding: saved_networks/duelingdqn_model293/assets/ (stored 0%)\n",
            "  adding: saved_networks/duelingdqn_model293/keras_metadata.pb (deflated 64%)\n",
            "  adding: saved_networks/duelingdqn_model162/ (stored 0%)\n",
            "  adding: saved_networks/duelingdqn_model162/saved_model.pb (deflated 87%)\n",
            "  adding: saved_networks/duelingdqn_model162/variables/ (stored 0%)\n",
            "  adding: saved_networks/duelingdqn_model162/variables/variables.index (deflated 66%)\n",
            "  adding: saved_networks/duelingdqn_model162/variables/variables.data-00000-of-00001 (deflated 15%)\n",
            "  adding: saved_networks/duelingdqn_model162/assets/ (stored 0%)\n",
            "  adding: saved_networks/duelingdqn_model162/keras_metadata.pb (deflated 64%)\n",
            "  adding: saved_networks/duelingdqn_model162/net_weights162.h5 (deflated 94%)\n",
            "  adding: saved_networks/duelingdqn_model274/ (stored 0%)\n",
            "  adding: saved_networks/duelingdqn_model274/saved_model.pb (deflated 87%)\n",
            "  adding: saved_networks/duelingdqn_model274/variables/ (stored 0%)\n",
            "  adding: saved_networks/duelingdqn_model274/variables/variables.index (deflated 66%)\n",
            "  adding: saved_networks/duelingdqn_model274/variables/variables.data-00000-of-00001 (deflated 15%)\n",
            "  adding: saved_networks/duelingdqn_model274/assets/ (stored 0%)\n",
            "  adding: saved_networks/duelingdqn_model274/net_weights274.h5 (deflated 94%)\n",
            "  adding: saved_networks/duelingdqn_model274/keras_metadata.pb (deflated 64%)\n",
            "  adding: saved_networks/duelingdqn_model200/ (stored 0%)\n",
            "  adding: saved_networks/duelingdqn_model200/saved_model.pb (deflated 87%)\n",
            "  adding: saved_networks/duelingdqn_model200/variables/ (stored 0%)\n",
            "  adding: saved_networks/duelingdqn_model200/variables/variables.index (deflated 66%)\n",
            "  adding: saved_networks/duelingdqn_model200/variables/variables.data-00000-of-00001 (deflated 15%)\n",
            "  adding: saved_networks/duelingdqn_model200/assets/ (stored 0%)\n",
            "  adding: saved_networks/duelingdqn_model200/net_weights200.h5 (deflated 94%)\n",
            "  adding: saved_networks/duelingdqn_model200/keras_metadata.pb (deflated 64%)\n",
            "  adding: saved_networks/duelingdqn_model284/ (stored 0%)\n",
            "  adding: saved_networks/duelingdqn_model284/saved_model.pb (deflated 87%)\n",
            "  adding: saved_networks/duelingdqn_model284/variables/ (stored 0%)\n",
            "  adding: saved_networks/duelingdqn_model284/variables/variables.index (deflated 66%)\n",
            "  adding: saved_networks/duelingdqn_model284/variables/variables.data-00000-of-00001 (deflated 15%)\n",
            "  adding: saved_networks/duelingdqn_model284/assets/ (stored 0%)\n",
            "  adding: saved_networks/duelingdqn_model284/net_weights284.h5 (deflated 94%)\n",
            "  adding: saved_networks/duelingdqn_model284/keras_metadata.pb (deflated 64%)\n",
            "  adding: saved_networks/duelingdqn_model152/ (stored 0%)\n",
            "  adding: saved_networks/duelingdqn_model152/saved_model.pb (deflated 87%)\n",
            "  adding: saved_networks/duelingdqn_model152/variables/ (stored 0%)\n",
            "  adding: saved_networks/duelingdqn_model152/variables/variables.index (deflated 66%)\n",
            "  adding: saved_networks/duelingdqn_model152/variables/variables.data-00000-of-00001 (deflated 15%)\n",
            "  adding: saved_networks/duelingdqn_model152/assets/ (stored 0%)\n",
            "  adding: saved_networks/duelingdqn_model152/net_weights152.h5 (deflated 94%)\n",
            "  adding: saved_networks/duelingdqn_model152/keras_metadata.pb (deflated 64%)\n",
            "  adding: saved_networks/duelingdqn_model38/ (stored 0%)\n",
            "  adding: saved_networks/duelingdqn_model38/net_weights38.h5 (deflated 94%)\n",
            "  adding: saved_networks/duelingdqn_model38/saved_model.pb (deflated 87%)\n",
            "  adding: saved_networks/duelingdqn_model38/variables/ (stored 0%)\n",
            "  adding: saved_networks/duelingdqn_model38/variables/variables.index (deflated 66%)\n",
            "  adding: saved_networks/duelingdqn_model38/variables/variables.data-00000-of-00001 (deflated 15%)\n",
            "  adding: saved_networks/duelingdqn_model38/assets/ (stored 0%)\n",
            "  adding: saved_networks/duelingdqn_model38/keras_metadata.pb (deflated 64%)\n",
            "  adding: saved_networks/duelingdqn_model340/ (stored 0%)\n",
            "  adding: saved_networks/duelingdqn_model340/saved_model.pb (deflated 87%)\n",
            "  adding: saved_networks/duelingdqn_model340/variables/ (stored 0%)\n",
            "  adding: saved_networks/duelingdqn_model340/variables/variables.index (deflated 66%)\n",
            "  adding: saved_networks/duelingdqn_model340/variables/variables.data-00000-of-00001 (deflated 15%)\n",
            "  adding: saved_networks/duelingdqn_model340/assets/ (stored 0%)\n",
            "  adding: saved_networks/duelingdqn_model340/net_weights340.h5 (deflated 94%)\n",
            "  adding: saved_networks/duelingdqn_model340/keras_metadata.pb (deflated 64%)\n",
            "  adding: saved_networks/duelingdqn_model81/ (stored 0%)\n",
            "  adding: saved_networks/duelingdqn_model81/saved_model.pb (deflated 87%)\n",
            "  adding: saved_networks/duelingdqn_model81/net_weights81.h5 (deflated 94%)\n",
            "  adding: saved_networks/duelingdqn_model81/variables/ (stored 0%)\n",
            "  adding: saved_networks/duelingdqn_model81/variables/variables.index (deflated 66%)\n",
            "  adding: saved_networks/duelingdqn_model81/variables/variables.data-00000-of-00001 (deflated 15%)\n",
            "  adding: saved_networks/duelingdqn_model81/assets/ (stored 0%)\n",
            "  adding: saved_networks/duelingdqn_model81/keras_metadata.pb (deflated 64%)\n",
            "  adding: saved_networks/duelingdqn_model292/ (stored 0%)\n",
            "  adding: saved_networks/duelingdqn_model292/net_weights292.h5 (deflated 94%)\n",
            "  adding: saved_networks/duelingdqn_model292/saved_model.pb (deflated 87%)\n",
            "  adding: saved_networks/duelingdqn_model292/variables/ (stored 0%)\n",
            "  adding: saved_networks/duelingdqn_model292/variables/variables.index (deflated 66%)\n",
            "  adding: saved_networks/duelingdqn_model292/variables/variables.data-00000-of-00001 (deflated 15%)\n",
            "  adding: saved_networks/duelingdqn_model292/assets/ (stored 0%)\n",
            "  adding: saved_networks/duelingdqn_model292/keras_metadata.pb (deflated 64%)\n",
            "  adding: saved_networks/duelingdqn_model8/ (stored 0%)\n",
            "  adding: saved_networks/duelingdqn_model8/saved_model.pb (deflated 87%)\n",
            "  adding: saved_networks/duelingdqn_model8/variables/ (stored 0%)\n",
            "  adding: saved_networks/duelingdqn_model8/variables/variables.index (deflated 66%)\n",
            "  adding: saved_networks/duelingdqn_model8/variables/variables.data-00000-of-00001 (deflated 14%)\n",
            "  adding: saved_networks/duelingdqn_model8/assets/ (stored 0%)\n",
            "  adding: saved_networks/duelingdqn_model8/net_weights8.h5 (deflated 94%)\n",
            "  adding: saved_networks/duelingdqn_model8/keras_metadata.pb (deflated 64%)\n",
            "  adding: saved_networks/duelingdqn_model96/ (stored 0%)\n",
            "  adding: saved_networks/duelingdqn_model96/net_weights96.h5 (deflated 94%)\n",
            "  adding: saved_networks/duelingdqn_model96/saved_model.pb (deflated 87%)\n",
            "  adding: saved_networks/duelingdqn_model96/variables/ (stored 0%)\n",
            "  adding: saved_networks/duelingdqn_model96/variables/variables.index (deflated 66%)\n",
            "  adding: saved_networks/duelingdqn_model96/variables/variables.data-00000-of-00001 (deflated 15%)\n",
            "  adding: saved_networks/duelingdqn_model96/assets/ (stored 0%)\n",
            "  adding: saved_networks/duelingdqn_model96/keras_metadata.pb (deflated 64%)\n",
            "  adding: saved_networks/duelingdqn_model63/ (stored 0%)\n",
            "  adding: saved_networks/duelingdqn_model63/net_weights63.h5 (deflated 94%)\n",
            "  adding: saved_networks/duelingdqn_model63/saved_model.pb (deflated 87%)\n",
            "  adding: saved_networks/duelingdqn_model63/variables/ (stored 0%)\n",
            "  adding: saved_networks/duelingdqn_model63/variables/variables.index (deflated 66%)\n",
            "  adding: saved_networks/duelingdqn_model63/variables/variables.data-00000-of-00001 (deflated 15%)\n",
            "  adding: saved_networks/duelingdqn_model63/assets/ (stored 0%)\n",
            "  adding: saved_networks/duelingdqn_model63/keras_metadata.pb (deflated 64%)\n",
            "  adding: saved_networks/duelingdqn_model196/ (stored 0%)\n",
            "  adding: saved_networks/duelingdqn_model196/net_weights196.h5 (deflated 94%)\n",
            "  adding: saved_networks/duelingdqn_model196/saved_model.pb (deflated 87%)\n",
            "  adding: saved_networks/duelingdqn_model196/variables/ (stored 0%)\n",
            "  adding: saved_networks/duelingdqn_model196/variables/variables.index (deflated 66%)\n",
            "  adding: saved_networks/duelingdqn_model196/variables/variables.data-00000-of-00001 (deflated 15%)\n",
            "  adding: saved_networks/duelingdqn_model196/assets/ (stored 0%)\n",
            "  adding: saved_networks/duelingdqn_model196/keras_metadata.pb (deflated 64%)\n",
            "  adding: saved_networks/duelingdqn_model319/ (stored 0%)\n",
            "  adding: saved_networks/duelingdqn_model319/saved_model.pb (deflated 87%)\n",
            "  adding: saved_networks/duelingdqn_model319/net_weights319.h5 (deflated 94%)\n",
            "  adding: saved_networks/duelingdqn_model319/variables/ (stored 0%)\n",
            "  adding: saved_networks/duelingdqn_model319/variables/variables.index (deflated 66%)\n",
            "  adding: saved_networks/duelingdqn_model319/variables/variables.data-00000-of-00001 (deflated 15%)\n",
            "  adding: saved_networks/duelingdqn_model319/assets/ (stored 0%)\n",
            "  adding: saved_networks/duelingdqn_model319/keras_metadata.pb (deflated 64%)\n",
            "  adding: saved_networks/duelingdqn_model285/ (stored 0%)\n",
            "  adding: saved_networks/duelingdqn_model285/saved_model.pb (deflated 87%)\n",
            "  adding: saved_networks/duelingdqn_model285/variables/ (stored 0%)\n",
            "  adding: saved_networks/duelingdqn_model285/variables/variables.index (deflated 66%)\n",
            "  adding: saved_networks/duelingdqn_model285/variables/variables.data-00000-of-00001 (deflated 15%)\n",
            "  adding: saved_networks/duelingdqn_model285/assets/ (stored 0%)\n",
            "  adding: saved_networks/duelingdqn_model285/net_weights285.h5 (deflated 94%)\n",
            "  adding: saved_networks/duelingdqn_model285/keras_metadata.pb (deflated 64%)\n",
            "  adding: saved_networks/duelingdqn_model18/ (stored 0%)\n",
            "  adding: saved_networks/duelingdqn_model18/net_weights18.h5 (deflated 94%)\n",
            "  adding: saved_networks/duelingdqn_model18/saved_model.pb (deflated 87%)\n",
            "  adding: saved_networks/duelingdqn_model18/variables/ (stored 0%)\n",
            "  adding: saved_networks/duelingdqn_model18/variables/variables.index (deflated 66%)\n",
            "  adding: saved_networks/duelingdqn_model18/variables/variables.data-00000-of-00001 (deflated 14%)\n",
            "  adding: saved_networks/duelingdqn_model18/assets/ (stored 0%)\n",
            "  adding: saved_networks/duelingdqn_model18/keras_metadata.pb (deflated 64%)\n",
            "  adding: saved_networks/duelingdqn_model169/ (stored 0%)\n",
            "  adding: saved_networks/duelingdqn_model169/net_weights169.h5 (deflated 94%)\n",
            "  adding: saved_networks/duelingdqn_model169/saved_model.pb (deflated 87%)\n",
            "  adding: saved_networks/duelingdqn_model169/variables/ (stored 0%)\n",
            "  adding: saved_networks/duelingdqn_model169/variables/variables.index (deflated 66%)\n",
            "  adding: saved_networks/duelingdqn_model169/variables/variables.data-00000-of-00001 (deflated 15%)\n",
            "  adding: saved_networks/duelingdqn_model169/assets/ (stored 0%)\n",
            "  adding: saved_networks/duelingdqn_model169/keras_metadata.pb (deflated 64%)\n",
            "  adding: saved_networks/duelingdqn_model54/ (stored 0%)\n",
            "  adding: saved_networks/duelingdqn_model54/net_weights54.h5 (deflated 94%)\n",
            "  adding: saved_networks/duelingdqn_model54/saved_model.pb (deflated 87%)\n",
            "  adding: saved_networks/duelingdqn_model54/variables/ (stored 0%)\n",
            "  adding: saved_networks/duelingdqn_model54/variables/variables.index (deflated 66%)\n",
            "  adding: saved_networks/duelingdqn_model54/variables/variables.data-00000-of-00001 (deflated 15%)\n",
            "  adding: saved_networks/duelingdqn_model54/assets/ (stored 0%)\n",
            "  adding: saved_networks/duelingdqn_model54/keras_metadata.pb (deflated 64%)\n",
            "  adding: saved_networks/duelingdqn_model255/ (stored 0%)\n",
            "  adding: saved_networks/duelingdqn_model255/net_weights255.h5 (deflated 94%)\n",
            "  adding: saved_networks/duelingdqn_model255/saved_model.pb (deflated 87%)\n",
            "  adding: saved_networks/duelingdqn_model255/variables/ (stored 0%)\n",
            "  adding: saved_networks/duelingdqn_model255/variables/variables.index (deflated 66%)\n",
            "  adding: saved_networks/duelingdqn_model255/variables/variables.data-00000-of-00001 (deflated 15%)\n",
            "  adding: saved_networks/duelingdqn_model255/assets/ (stored 0%)\n",
            "  adding: saved_networks/duelingdqn_model255/keras_metadata.pb (deflated 64%)\n",
            "  adding: saved_networks/duelingdqn_model87/ (stored 0%)\n",
            "  adding: saved_networks/duelingdqn_model87/net_weights87.h5 (deflated 94%)\n",
            "  adding: saved_networks/duelingdqn_model87/saved_model.pb (deflated 87%)\n",
            "  adding: saved_networks/duelingdqn_model87/variables/ (stored 0%)\n",
            "  adding: saved_networks/duelingdqn_model87/variables/variables.index (deflated 66%)\n",
            "  adding: saved_networks/duelingdqn_model87/variables/variables.data-00000-of-00001 (deflated 15%)\n",
            "  adding: saved_networks/duelingdqn_model87/assets/ (stored 0%)\n",
            "  adding: saved_networks/duelingdqn_model87/keras_metadata.pb (deflated 64%)\n",
            "  adding: saved_networks/duelingdqn_model31/ (stored 0%)\n",
            "  adding: saved_networks/duelingdqn_model31/saved_model.pb (deflated 87%)\n",
            "  adding: saved_networks/duelingdqn_model31/variables/ (stored 0%)\n",
            "  adding: saved_networks/duelingdqn_model31/variables/variables.index (deflated 66%)\n",
            "  adding: saved_networks/duelingdqn_model31/variables/variables.data-00000-of-00001 (deflated 15%)\n",
            "  adding: saved_networks/duelingdqn_model31/assets/ (stored 0%)\n",
            "  adding: saved_networks/duelingdqn_model31/net_weights31.h5 (deflated 94%)\n",
            "  adding: saved_networks/duelingdqn_model31/keras_metadata.pb (deflated 64%)\n",
            "  adding: saved_networks/duelingdqn_model257/ (stored 0%)\n",
            "  adding: saved_networks/duelingdqn_model257/net_weights257.h5 (deflated 94%)\n",
            "  adding: saved_networks/duelingdqn_model257/saved_model.pb (deflated 87%)\n",
            "  adding: saved_networks/duelingdqn_model257/variables/ (stored 0%)\n",
            "  adding: saved_networks/duelingdqn_model257/variables/variables.index (deflated 66%)\n",
            "  adding: saved_networks/duelingdqn_model257/variables/variables.data-00000-of-00001 (deflated 15%)\n",
            "  adding: saved_networks/duelingdqn_model257/assets/ (stored 0%)\n",
            "  adding: saved_networks/duelingdqn_model257/keras_metadata.pb (deflated 64%)\n",
            "  adding: saved_networks/duelingdqn_model164/ (stored 0%)\n",
            "  adding: saved_networks/duelingdqn_model164/net_weights164.h5 (deflated 94%)\n",
            "  adding: saved_networks/duelingdqn_model164/saved_model.pb (deflated 87%)\n",
            "  adding: saved_networks/duelingdqn_model164/variables/ (stored 0%)\n",
            "  adding: saved_networks/duelingdqn_model164/variables/variables.index (deflated 66%)\n",
            "  adding: saved_networks/duelingdqn_model164/variables/variables.data-00000-of-00001 (deflated 15%)\n",
            "  adding: saved_networks/duelingdqn_model164/assets/ (stored 0%)\n",
            "  adding: saved_networks/duelingdqn_model164/keras_metadata.pb (deflated 64%)\n",
            "  adding: saved_networks/duelingdqn_model308/ (stored 0%)\n",
            "  adding: saved_networks/duelingdqn_model308/net_weights308.h5 (deflated 94%)\n",
            "  adding: saved_networks/duelingdqn_model308/saved_model.pb (deflated 87%)\n",
            "  adding: saved_networks/duelingdqn_model308/variables/ (stored 0%)\n",
            "  adding: saved_networks/duelingdqn_model308/variables/variables.index (deflated 66%)\n",
            "  adding: saved_networks/duelingdqn_model308/variables/variables.data-00000-of-00001 (deflated 15%)\n",
            "  adding: saved_networks/duelingdqn_model308/assets/ (stored 0%)\n",
            "  adding: saved_networks/duelingdqn_model308/keras_metadata.pb (deflated 64%)\n",
            "  adding: saved_networks/duelingdqn_model19/ (stored 0%)\n",
            "  adding: saved_networks/duelingdqn_model19/net_weights19.h5 (deflated 94%)\n",
            "  adding: saved_networks/duelingdqn_model19/saved_model.pb (deflated 87%)\n",
            "  adding: saved_networks/duelingdqn_model19/variables/ (stored 0%)\n",
            "  adding: saved_networks/duelingdqn_model19/variables/variables.index (deflated 66%)\n",
            "  adding: saved_networks/duelingdqn_model19/variables/variables.data-00000-of-00001 (deflated 14%)\n",
            "  adding: saved_networks/duelingdqn_model19/assets/ (stored 0%)\n",
            "  adding: saved_networks/duelingdqn_model19/keras_metadata.pb (deflated 64%)\n",
            "  adding: saved_networks/duelingdqn_model294/ (stored 0%)\n",
            "  adding: saved_networks/duelingdqn_model294/net_weights294.h5 (deflated 94%)\n",
            "  adding: saved_networks/duelingdqn_model294/saved_model.pb (deflated 87%)\n",
            "  adding: saved_networks/duelingdqn_model294/variables/ (stored 0%)\n",
            "  adding: saved_networks/duelingdqn_model294/variables/variables.index (deflated 66%)\n",
            "  adding: saved_networks/duelingdqn_model294/variables/variables.data-00000-of-00001 (deflated 15%)\n",
            "  adding: saved_networks/duelingdqn_model294/assets/ (stored 0%)\n",
            "  adding: saved_networks/duelingdqn_model294/keras_metadata.pb (deflated 64%)\n",
            "  adding: saved_networks/duelingdqn_model113/ (stored 0%)\n",
            "  adding: saved_networks/duelingdqn_model113/net_weights113.h5 (deflated 94%)\n",
            "  adding: saved_networks/duelingdqn_model113/saved_model.pb (deflated 87%)\n",
            "  adding: saved_networks/duelingdqn_model113/variables/ (stored 0%)\n",
            "  adding: saved_networks/duelingdqn_model113/variables/variables.index (deflated 66%)\n",
            "  adding: saved_networks/duelingdqn_model113/variables/variables.data-00000-of-00001 (deflated 15%)\n",
            "  adding: saved_networks/duelingdqn_model113/assets/ (stored 0%)\n",
            "  adding: saved_networks/duelingdqn_model113/keras_metadata.pb (deflated 64%)\n",
            "  adding: saved_networks/duelingdqn_model79/ (stored 0%)\n",
            "  adding: saved_networks/duelingdqn_model79/net_weights79.h5 (deflated 94%)\n",
            "  adding: saved_networks/duelingdqn_model79/saved_model.pb (deflated 86%)\n",
            "  adding: saved_networks/duelingdqn_model79/variables/ (stored 0%)\n",
            "  adding: saved_networks/duelingdqn_model79/variables/variables.index (deflated 66%)\n",
            "  adding: saved_networks/duelingdqn_model79/variables/variables.data-00000-of-00001 (deflated 15%)\n",
            "  adding: saved_networks/duelingdqn_model79/assets/ (stored 0%)\n",
            "  adding: saved_networks/duelingdqn_model79/keras_metadata.pb (deflated 64%)\n",
            "  adding: saved_networks/duelingdqn_model123/ (stored 0%)\n",
            "  adding: saved_networks/duelingdqn_model123/net_weights123.h5 (deflated 94%)\n",
            "  adding: saved_networks/duelingdqn_model123/saved_model.pb (deflated 87%)\n",
            "  adding: saved_networks/duelingdqn_model123/variables/ (stored 0%)\n",
            "  adding: saved_networks/duelingdqn_model123/variables/variables.index (deflated 66%)\n",
            "  adding: saved_networks/duelingdqn_model123/variables/variables.data-00000-of-00001 (deflated 15%)\n",
            "  adding: saved_networks/duelingdqn_model123/assets/ (stored 0%)\n",
            "  adding: saved_networks/duelingdqn_model123/keras_metadata.pb (deflated 64%)\n",
            "  adding: saved_networks/duelingdqn_model202/ (stored 0%)\n",
            "  adding: saved_networks/duelingdqn_model202/saved_model.pb (deflated 87%)\n",
            "  adding: saved_networks/duelingdqn_model202/variables/ (stored 0%)\n",
            "  adding: saved_networks/duelingdqn_model202/variables/variables.index (deflated 66%)\n",
            "  adding: saved_networks/duelingdqn_model202/variables/variables.data-00000-of-00001 (deflated 15%)\n",
            "  adding: saved_networks/duelingdqn_model202/net_weights202.h5 (deflated 94%)\n",
            "  adding: saved_networks/duelingdqn_model202/assets/ (stored 0%)\n",
            "  adding: saved_networks/duelingdqn_model202/keras_metadata.pb (deflated 64%)\n",
            "  adding: saved_networks/duelingdqn_model264/ (stored 0%)\n",
            "  adding: saved_networks/duelingdqn_model264/saved_model.pb (deflated 87%)\n",
            "  adding: saved_networks/duelingdqn_model264/variables/ (stored 0%)\n",
            "  adding: saved_networks/duelingdqn_model264/variables/variables.index (deflated 66%)\n",
            "  adding: saved_networks/duelingdqn_model264/variables/variables.data-00000-of-00001 (deflated 15%)\n",
            "  adding: saved_networks/duelingdqn_model264/net_weights264.h5 (deflated 94%)\n",
            "  adding: saved_networks/duelingdqn_model264/assets/ (stored 0%)\n",
            "  adding: saved_networks/duelingdqn_model264/keras_metadata.pb (deflated 64%)\n",
            "  adding: saved_networks/duelingdqn_model74/ (stored 0%)\n",
            "  adding: saved_networks/duelingdqn_model74/saved_model.pb (deflated 87%)\n",
            "  adding: saved_networks/duelingdqn_model74/variables/ (stored 0%)\n",
            "  adding: saved_networks/duelingdqn_model74/variables/variables.index (deflated 66%)\n",
            "  adding: saved_networks/duelingdqn_model74/variables/variables.data-00000-of-00001 (deflated 15%)\n",
            "  adding: saved_networks/duelingdqn_model74/assets/ (stored 0%)\n",
            "  adding: saved_networks/duelingdqn_model74/net_weights74.h5 (deflated 94%)\n",
            "  adding: saved_networks/duelingdqn_model74/keras_metadata.pb (deflated 64%)\n",
            "  adding: saved_networks/duelingdqn_model13/ (stored 0%)\n",
            "  adding: saved_networks/duelingdqn_model13/net_weights13.h5 (deflated 94%)\n",
            "  adding: saved_networks/duelingdqn_model13/saved_model.pb (deflated 87%)\n",
            "  adding: saved_networks/duelingdqn_model13/variables/ (stored 0%)\n",
            "  adding: saved_networks/duelingdqn_model13/variables/variables.index (deflated 66%)\n",
            "  adding: saved_networks/duelingdqn_model13/variables/variables.data-00000-of-00001 (deflated 14%)\n",
            "  adding: saved_networks/duelingdqn_model13/assets/ (stored 0%)\n",
            "  adding: saved_networks/duelingdqn_model13/keras_metadata.pb (deflated 64%)\n",
            "  adding: saved_networks/duelingdqn_model114/ (stored 0%)\n",
            "  adding: saved_networks/duelingdqn_model114/saved_model.pb (deflated 87%)\n",
            "  adding: saved_networks/duelingdqn_model114/variables/ (stored 0%)\n",
            "  adding: saved_networks/duelingdqn_model114/variables/variables.index (deflated 66%)\n",
            "  adding: saved_networks/duelingdqn_model114/variables/variables.data-00000-of-00001 (deflated 15%)\n",
            "  adding: saved_networks/duelingdqn_model114/assets/ (stored 0%)\n",
            "  adding: saved_networks/duelingdqn_model114/net_weights114.h5 (deflated 94%)\n",
            "  adding: saved_networks/duelingdqn_model114/keras_metadata.pb (deflated 64%)\n",
            "  adding: saved_networks/duelingdqn_model122/ (stored 0%)\n",
            "  adding: saved_networks/duelingdqn_model122/saved_model.pb (deflated 87%)\n",
            "  adding: saved_networks/duelingdqn_model122/net_weights122.h5 (deflated 94%)\n",
            "  adding: saved_networks/duelingdqn_model122/variables/ (stored 0%)\n",
            "  adding: saved_networks/duelingdqn_model122/variables/variables.index (deflated 66%)\n",
            "  adding: saved_networks/duelingdqn_model122/variables/variables.data-00000-of-00001 (deflated 15%)\n",
            "  adding: saved_networks/duelingdqn_model122/assets/ (stored 0%)\n",
            "  adding: saved_networks/duelingdqn_model122/keras_metadata.pb (deflated 64%)\n",
            "  adding: saved_networks/duelingdqn_model170/ (stored 0%)\n",
            "  adding: saved_networks/duelingdqn_model170/net_weights170.h5 (deflated 94%)\n",
            "  adding: saved_networks/duelingdqn_model170/saved_model.pb (deflated 87%)\n",
            "  adding: saved_networks/duelingdqn_model170/variables/ (stored 0%)\n",
            "  adding: saved_networks/duelingdqn_model170/variables/variables.index (deflated 66%)\n",
            "  adding: saved_networks/duelingdqn_model170/variables/variables.data-00000-of-00001 (deflated 15%)\n",
            "  adding: saved_networks/duelingdqn_model170/assets/ (stored 0%)\n",
            "  adding: saved_networks/duelingdqn_model170/keras_metadata.pb (deflated 64%)\n",
            "  adding: saved_networks/duelingdqn_model175/ (stored 0%)\n",
            "  adding: saved_networks/duelingdqn_model175/net_weights175.h5 (deflated 94%)\n",
            "  adding: saved_networks/duelingdqn_model175/saved_model.pb (deflated 87%)\n",
            "  adding: saved_networks/duelingdqn_model175/variables/ (stored 0%)\n",
            "  adding: saved_networks/duelingdqn_model175/variables/variables.index (deflated 66%)\n",
            "  adding: saved_networks/duelingdqn_model175/variables/variables.data-00000-of-00001 (deflated 15%)\n",
            "  adding: saved_networks/duelingdqn_model175/assets/ (stored 0%)\n",
            "  adding: saved_networks/duelingdqn_model175/keras_metadata.pb (deflated 64%)\n",
            "  adding: saved_networks/duelingdqn_model140/ (stored 0%)\n",
            "  adding: saved_networks/duelingdqn_model140/saved_model.pb (deflated 87%)\n",
            "  adding: saved_networks/duelingdqn_model140/variables/ (stored 0%)\n",
            "  adding: saved_networks/duelingdqn_model140/variables/variables.index (deflated 66%)\n",
            "  adding: saved_networks/duelingdqn_model140/variables/variables.data-00000-of-00001 (deflated 15%)\n",
            "  adding: saved_networks/duelingdqn_model140/assets/ (stored 0%)\n",
            "  adding: saved_networks/duelingdqn_model140/net_weights140.h5 (deflated 94%)\n",
            "  adding: saved_networks/duelingdqn_model140/keras_metadata.pb (deflated 64%)\n",
            "  adding: saved_networks/duelingdqn_model253/ (stored 0%)\n",
            "  adding: saved_networks/duelingdqn_model253/saved_model.pb (deflated 87%)\n",
            "  adding: saved_networks/duelingdqn_model253/net_weights253.h5 (deflated 94%)\n",
            "  adding: saved_networks/duelingdqn_model253/variables/ (stored 0%)\n",
            "  adding: saved_networks/duelingdqn_model253/variables/variables.index (deflated 66%)\n",
            "  adding: saved_networks/duelingdqn_model253/variables/variables.data-00000-of-00001 (deflated 15%)\n",
            "  adding: saved_networks/duelingdqn_model253/assets/ (stored 0%)\n",
            "  adding: saved_networks/duelingdqn_model253/keras_metadata.pb (deflated 64%)\n",
            "  adding: saved_networks/duelingdqn_model327/ (stored 0%)\n",
            "  adding: saved_networks/duelingdqn_model327/saved_model.pb (deflated 87%)\n",
            "  adding: saved_networks/duelingdqn_model327/variables/ (stored 0%)\n",
            "  adding: saved_networks/duelingdqn_model327/variables/variables.index (deflated 66%)\n",
            "  adding: saved_networks/duelingdqn_model327/variables/variables.data-00000-of-00001 (deflated 15%)\n",
            "  adding: saved_networks/duelingdqn_model327/assets/ (stored 0%)\n",
            "  adding: saved_networks/duelingdqn_model327/net_weights327.h5 (deflated 94%)\n",
            "  adding: saved_networks/duelingdqn_model327/keras_metadata.pb (deflated 64%)\n",
            "  adding: saved_networks/duelingdqn_model117/ (stored 0%)\n",
            "  adding: saved_networks/duelingdqn_model117/saved_model.pb (deflated 88%)\n",
            "  adding: saved_networks/duelingdqn_model117/variables/ (stored 0%)\n",
            "  adding: saved_networks/duelingdqn_model117/variables/variables.index (deflated 66%)\n",
            "  adding: saved_networks/duelingdqn_model117/variables/variables.data-00000-of-00001 (deflated 15%)\n",
            "  adding: saved_networks/duelingdqn_model117/assets/ (stored 0%)\n",
            "  adding: saved_networks/duelingdqn_model117/net_weights117.h5 (deflated 94%)\n",
            "  adding: saved_networks/duelingdqn_model117/keras_metadata.pb (deflated 64%)\n",
            "  adding: saved_networks/duelingdqn_model228/ (stored 0%)\n",
            "  adding: saved_networks/duelingdqn_model228/saved_model.pb (deflated 87%)\n",
            "  adding: saved_networks/duelingdqn_model228/variables/ (stored 0%)\n",
            "  adding: saved_networks/duelingdqn_model228/variables/variables.index (deflated 66%)\n",
            "  adding: saved_networks/duelingdqn_model228/variables/variables.data-00000-of-00001 (deflated 15%)\n",
            "  adding: saved_networks/duelingdqn_model228/assets/ (stored 0%)\n",
            "  adding: saved_networks/duelingdqn_model228/net_weights228.h5 (deflated 94%)\n",
            "  adding: saved_networks/duelingdqn_model228/keras_metadata.pb (deflated 64%)\n",
            "  adding: saved_networks/duelingdqn_model329/ (stored 0%)\n",
            "  adding: saved_networks/duelingdqn_model329/net_weights329.h5 (deflated 94%)\n",
            "  adding: saved_networks/duelingdqn_model329/saved_model.pb (deflated 86%)\n",
            "  adding: saved_networks/duelingdqn_model329/variables/ (stored 0%)\n",
            "  adding: saved_networks/duelingdqn_model329/variables/variables.index (deflated 66%)\n",
            "  adding: saved_networks/duelingdqn_model329/variables/variables.data-00000-of-00001 (deflated 15%)\n",
            "  adding: saved_networks/duelingdqn_model329/assets/ (stored 0%)\n",
            "  adding: saved_networks/duelingdqn_model329/keras_metadata.pb (deflated 64%)\n",
            "  adding: saved_networks/duelingdqn_model65/ (stored 0%)\n",
            "  adding: saved_networks/duelingdqn_model65/saved_model.pb (deflated 87%)\n",
            "  adding: saved_networks/duelingdqn_model65/variables/ (stored 0%)\n",
            "  adding: saved_networks/duelingdqn_model65/variables/variables.index (deflated 66%)\n",
            "  adding: saved_networks/duelingdqn_model65/variables/variables.data-00000-of-00001 (deflated 15%)\n",
            "  adding: saved_networks/duelingdqn_model65/assets/ (stored 0%)\n",
            "  adding: saved_networks/duelingdqn_model65/net_weights65.h5 (deflated 94%)\n",
            "  adding: saved_networks/duelingdqn_model65/keras_metadata.pb (deflated 64%)\n",
            "  adding: saved_networks/duelingdqn_model313/ (stored 0%)\n",
            "  adding: saved_networks/duelingdqn_model313/saved_model.pb (deflated 87%)\n",
            "  adding: saved_networks/duelingdqn_model313/variables/ (stored 0%)\n",
            "  adding: saved_networks/duelingdqn_model313/variables/variables.index (deflated 66%)\n",
            "  adding: saved_networks/duelingdqn_model313/variables/variables.data-00000-of-00001 (deflated 15%)\n",
            "  adding: saved_networks/duelingdqn_model313/assets/ (stored 0%)\n",
            "  adding: saved_networks/duelingdqn_model313/net_weights313.h5 (deflated 94%)\n",
            "  adding: saved_networks/duelingdqn_model313/keras_metadata.pb (deflated 64%)\n",
            "  adding: saved_networks/duelingdqn_model161/ (stored 0%)\n",
            "  adding: saved_networks/duelingdqn_model161/net_weights161.h5 (deflated 94%)\n",
            "  adding: saved_networks/duelingdqn_model161/saved_model.pb (deflated 87%)\n",
            "  adding: saved_networks/duelingdqn_model161/variables/ (stored 0%)\n",
            "  adding: saved_networks/duelingdqn_model161/variables/variables.index (deflated 66%)\n",
            "  adding: saved_networks/duelingdqn_model161/variables/variables.data-00000-of-00001 (deflated 14%)\n",
            "  adding: saved_networks/duelingdqn_model161/assets/ (stored 0%)\n",
            "  adding: saved_networks/duelingdqn_model161/keras_metadata.pb (deflated 64%)\n",
            "  adding: saved_networks/duelingdqn_model260/ (stored 0%)\n",
            "  adding: saved_networks/duelingdqn_model260/net_weights260.h5 (deflated 94%)\n",
            "  adding: saved_networks/duelingdqn_model260/saved_model.pb (deflated 87%)\n",
            "  adding: saved_networks/duelingdqn_model260/variables/ (stored 0%)\n",
            "  adding: saved_networks/duelingdqn_model260/variables/variables.index (deflated 66%)\n",
            "  adding: saved_networks/duelingdqn_model260/variables/variables.data-00000-of-00001 (deflated 15%)\n",
            "  adding: saved_networks/duelingdqn_model260/assets/ (stored 0%)\n",
            "  adding: saved_networks/duelingdqn_model260/keras_metadata.pb (deflated 64%)\n",
            "  adding: saved_networks/duelingdqn_model52/ (stored 0%)\n",
            "  adding: saved_networks/duelingdqn_model52/saved_model.pb (deflated 87%)\n",
            "  adding: saved_networks/duelingdqn_model52/variables/ (stored 0%)\n",
            "  adding: saved_networks/duelingdqn_model52/variables/variables.index (deflated 66%)\n",
            "  adding: saved_networks/duelingdqn_model52/variables/variables.data-00000-of-00001 (deflated 15%)\n",
            "  adding: saved_networks/duelingdqn_model52/assets/ (stored 0%)\n",
            "  adding: saved_networks/duelingdqn_model52/net_weights52.h5 (deflated 94%)\n",
            "  adding: saved_networks/duelingdqn_model52/keras_metadata.pb (deflated 64%)\n",
            "  adding: saved_networks/duelingdqn_model119/ (stored 0%)\n",
            "  adding: saved_networks/duelingdqn_model119/saved_model.pb (deflated 87%)\n",
            "  adding: saved_networks/duelingdqn_model119/variables/ (stored 0%)\n",
            "  adding: saved_networks/duelingdqn_model119/variables/variables.index (deflated 66%)\n",
            "  adding: saved_networks/duelingdqn_model119/variables/variables.data-00000-of-00001 (deflated 15%)\n",
            "  adding: saved_networks/duelingdqn_model119/assets/ (stored 0%)\n",
            "  adding: saved_networks/duelingdqn_model119/net_weights119.h5 (deflated 94%)\n",
            "  adding: saved_networks/duelingdqn_model119/keras_metadata.pb (deflated 64%)\n",
            "  adding: saved_networks/duelingdqn_model112/ (stored 0%)\n",
            "  adding: saved_networks/duelingdqn_model112/net_weights112.h5 (deflated 94%)\n",
            "  adding: saved_networks/duelingdqn_model112/saved_model.pb (deflated 87%)\n",
            "  adding: saved_networks/duelingdqn_model112/variables/ (stored 0%)\n",
            "  adding: saved_networks/duelingdqn_model112/variables/variables.index (deflated 66%)\n",
            "  adding: saved_networks/duelingdqn_model112/variables/variables.data-00000-of-00001 (deflated 15%)\n",
            "  adding: saved_networks/duelingdqn_model112/assets/ (stored 0%)\n",
            "  adding: saved_networks/duelingdqn_model112/keras_metadata.pb (deflated 64%)\n",
            "  adding: saved_networks/duelingdqn_model101/ (stored 0%)\n",
            "  adding: saved_networks/duelingdqn_model101/saved_model.pb (deflated 87%)\n",
            "  adding: saved_networks/duelingdqn_model101/variables/ (stored 0%)\n",
            "  adding: saved_networks/duelingdqn_model101/variables/variables.index (deflated 66%)\n",
            "  adding: saved_networks/duelingdqn_model101/variables/variables.data-00000-of-00001 (deflated 15%)\n",
            "  adding: saved_networks/duelingdqn_model101/assets/ (stored 0%)\n",
            "  adding: saved_networks/duelingdqn_model101/net_weights101.h5 (deflated 94%)\n",
            "  adding: saved_networks/duelingdqn_model101/keras_metadata.pb (deflated 64%)\n",
            "  adding: saved_networks/duelingdqn_model246/ (stored 0%)\n",
            "  adding: saved_networks/duelingdqn_model246/net_weights246.h5 (deflated 94%)\n",
            "  adding: saved_networks/duelingdqn_model246/saved_model.pb (deflated 87%)\n",
            "  adding: saved_networks/duelingdqn_model246/variables/ (stored 0%)\n",
            "  adding: saved_networks/duelingdqn_model246/variables/variables.index (deflated 66%)\n",
            "  adding: saved_networks/duelingdqn_model246/variables/variables.data-00000-of-00001 (deflated 15%)\n",
            "  adding: saved_networks/duelingdqn_model246/assets/ (stored 0%)\n",
            "  adding: saved_networks/duelingdqn_model246/keras_metadata.pb (deflated 64%)\n",
            "  adding: saved_networks/duelingdqn_model145/ (stored 0%)\n",
            "  adding: saved_networks/duelingdqn_model145/net_weights145.h5 (deflated 94%)\n",
            "  adding: saved_networks/duelingdqn_model145/saved_model.pb (deflated 87%)\n",
            "  adding: saved_networks/duelingdqn_model145/variables/ (stored 0%)\n",
            "  adding: saved_networks/duelingdqn_model145/variables/variables.index (deflated 66%)\n",
            "  adding: saved_networks/duelingdqn_model145/variables/variables.data-00000-of-00001 (deflated 15%)\n",
            "  adding: saved_networks/duelingdqn_model145/assets/ (stored 0%)\n",
            "  adding: saved_networks/duelingdqn_model145/keras_metadata.pb (deflated 64%)\n",
            "  adding: saved_networks/duelingdqn_model330/ (stored 0%)\n",
            "  adding: saved_networks/duelingdqn_model330/saved_model.pb (deflated 87%)\n",
            "  adding: saved_networks/duelingdqn_model330/variables/ (stored 0%)\n",
            "  adding: saved_networks/duelingdqn_model330/variables/variables.index (deflated 66%)\n",
            "  adding: saved_networks/duelingdqn_model330/variables/variables.data-00000-of-00001 (deflated 15%)\n",
            "  adding: saved_networks/duelingdqn_model330/assets/ (stored 0%)\n",
            "  adding: saved_networks/duelingdqn_model330/net_weights330.h5 (deflated 94%)\n",
            "  adding: saved_networks/duelingdqn_model330/keras_metadata.pb (deflated 64%)\n",
            "  adding: saved_networks/duelingdqn_model5/ (stored 0%)\n",
            "  adding: saved_networks/duelingdqn_model5/saved_model.pb (deflated 87%)\n",
            "  adding: saved_networks/duelingdqn_model5/variables/ (stored 0%)\n",
            "  adding: saved_networks/duelingdqn_model5/variables/variables.index (deflated 66%)\n",
            "  adding: saved_networks/duelingdqn_model5/variables/variables.data-00000-of-00001 (deflated 14%)\n",
            "  adding: saved_networks/duelingdqn_model5/assets/ (stored 0%)\n",
            "  adding: saved_networks/duelingdqn_model5/net_weights5.h5 (deflated 94%)\n",
            "  adding: saved_networks/duelingdqn_model5/keras_metadata.pb (deflated 64%)\n",
            "  adding: saved_networks/duelingdqn_model187/ (stored 0%)\n",
            "  adding: saved_networks/duelingdqn_model187/net_weights187.h5 (deflated 94%)\n",
            "  adding: saved_networks/duelingdqn_model187/saved_model.pb (deflated 87%)\n",
            "  adding: saved_networks/duelingdqn_model187/variables/ (stored 0%)\n",
            "  adding: saved_networks/duelingdqn_model187/variables/variables.index (deflated 66%)\n",
            "  adding: saved_networks/duelingdqn_model187/variables/variables.data-00000-of-00001 (deflated 15%)\n",
            "  adding: saved_networks/duelingdqn_model187/assets/ (stored 0%)\n",
            "  adding: saved_networks/duelingdqn_model187/keras_metadata.pb (deflated 64%)\n",
            "  adding: saved_networks/duelingdqn_model198/ (stored 0%)\n",
            "  adding: saved_networks/duelingdqn_model198/saved_model.pb (deflated 87%)\n",
            "  adding: saved_networks/duelingdqn_model198/variables/ (stored 0%)\n",
            "  adding: saved_networks/duelingdqn_model198/variables/variables.index (deflated 66%)\n",
            "  adding: saved_networks/duelingdqn_model198/variables/variables.data-00000-of-00001 (deflated 15%)\n",
            "  adding: saved_networks/duelingdqn_model198/assets/ (stored 0%)\n",
            "  adding: saved_networks/duelingdqn_model198/net_weights198.h5 (deflated 94%)\n",
            "  adding: saved_networks/duelingdqn_model198/keras_metadata.pb (deflated 64%)\n",
            "  adding: saved_networks/duelingdqn_model232/ (stored 0%)\n",
            "  adding: saved_networks/duelingdqn_model232/net_weights232.h5 (deflated 94%)\n",
            "  adding: saved_networks/duelingdqn_model232/saved_model.pb (deflated 87%)\n",
            "  adding: saved_networks/duelingdqn_model232/variables/ (stored 0%)\n",
            "  adding: saved_networks/duelingdqn_model232/variables/variables.index (deflated 66%)\n",
            "  adding: saved_networks/duelingdqn_model232/variables/variables.data-00000-of-00001 (deflated 15%)\n",
            "  adding: saved_networks/duelingdqn_model232/assets/ (stored 0%)\n",
            "  adding: saved_networks/duelingdqn_model232/keras_metadata.pb (deflated 64%)\n",
            "  adding: saved_networks/duelingdqn_model320/ (stored 0%)\n",
            "  adding: saved_networks/duelingdqn_model320/saved_model.pb (deflated 87%)\n",
            "  adding: saved_networks/duelingdqn_model320/variables/ (stored 0%)\n",
            "  adding: saved_networks/duelingdqn_model320/variables/variables.index (deflated 66%)\n",
            "  adding: saved_networks/duelingdqn_model320/variables/variables.data-00000-of-00001 (deflated 15%)\n",
            "  adding: saved_networks/duelingdqn_model320/assets/ (stored 0%)\n",
            "  adding: saved_networks/duelingdqn_model320/net_weights320.h5 (deflated 94%)\n",
            "  adding: saved_networks/duelingdqn_model320/keras_metadata.pb (deflated 64%)\n",
            "  adding: saved_networks/duelingdqn_model279/ (stored 0%)\n",
            "  adding: saved_networks/duelingdqn_model279/net_weights279.h5 (deflated 94%)\n",
            "  adding: saved_networks/duelingdqn_model279/saved_model.pb (deflated 87%)\n",
            "  adding: saved_networks/duelingdqn_model279/variables/ (stored 0%)\n",
            "  adding: saved_networks/duelingdqn_model279/variables/variables.index (deflated 66%)\n",
            "  adding: saved_networks/duelingdqn_model279/variables/variables.data-00000-of-00001 (deflated 15%)\n",
            "  adding: saved_networks/duelingdqn_model279/assets/ (stored 0%)\n",
            "  adding: saved_networks/duelingdqn_model279/keras_metadata.pb (deflated 64%)\n",
            "  adding: saved_networks/duelingdqn_model280/ (stored 0%)\n",
            "  adding: saved_networks/duelingdqn_model280/net_weights280.h5 (deflated 94%)\n",
            "  adding: saved_networks/duelingdqn_model280/saved_model.pb (deflated 87%)\n",
            "  adding: saved_networks/duelingdqn_model280/variables/ (stored 0%)\n",
            "  adding: saved_networks/duelingdqn_model280/variables/variables.index (deflated 66%)\n",
            "  adding: saved_networks/duelingdqn_model280/variables/variables.data-00000-of-00001 (deflated 15%)\n",
            "  adding: saved_networks/duelingdqn_model280/assets/ (stored 0%)\n",
            "  adding: saved_networks/duelingdqn_model280/keras_metadata.pb (deflated 64%)\n",
            "  adding: saved_networks/duelingdqn_model127/ (stored 0%)\n",
            "  adding: saved_networks/duelingdqn_model127/net_weights127.h5 (deflated 94%)\n",
            "  adding: saved_networks/duelingdqn_model127/saved_model.pb (deflated 87%)\n",
            "  adding: saved_networks/duelingdqn_model127/variables/ (stored 0%)\n",
            "  adding: saved_networks/duelingdqn_model127/variables/variables.index (deflated 66%)\n",
            "  adding: saved_networks/duelingdqn_model127/variables/variables.data-00000-of-00001 (deflated 15%)\n",
            "  adding: saved_networks/duelingdqn_model127/assets/ (stored 0%)\n",
            "  adding: saved_networks/duelingdqn_model127/keras_metadata.pb (deflated 64%)\n",
            "  adding: saved_networks/duelingdqn_model107/ (stored 0%)\n",
            "  adding: saved_networks/duelingdqn_model107/net_weights107.h5 (deflated 94%)\n",
            "  adding: saved_networks/duelingdqn_model107/saved_model.pb (deflated 87%)\n",
            "  adding: saved_networks/duelingdqn_model107/variables/ (stored 0%)\n",
            "  adding: saved_networks/duelingdqn_model107/variables/variables.index (deflated 66%)\n",
            "  adding: saved_networks/duelingdqn_model107/variables/variables.data-00000-of-00001 (deflated 15%)\n",
            "  adding: saved_networks/duelingdqn_model107/assets/ (stored 0%)\n",
            "  adding: saved_networks/duelingdqn_model107/keras_metadata.pb (deflated 64%)\n",
            "  adding: saved_networks/duelingdqn_model212/ (stored 0%)\n",
            "  adding: saved_networks/duelingdqn_model212/saved_model.pb (deflated 87%)\n",
            "  adding: saved_networks/duelingdqn_model212/variables/ (stored 0%)\n",
            "  adding: saved_networks/duelingdqn_model212/variables/variables.index (deflated 66%)\n",
            "  adding: saved_networks/duelingdqn_model212/variables/variables.data-00000-of-00001 (deflated 15%)\n",
            "  adding: saved_networks/duelingdqn_model212/assets/ (stored 0%)\n",
            "  adding: saved_networks/duelingdqn_model212/keras_metadata.pb (deflated 64%)\n",
            "  adding: saved_networks/duelingdqn_model212/net_weights212.h5 (deflated 94%)\n",
            "  adding: saved_networks/duelingdqn_model143/ (stored 0%)\n",
            "  adding: saved_networks/duelingdqn_model143/saved_model.pb (deflated 87%)\n",
            "  adding: saved_networks/duelingdqn_model143/variables/ (stored 0%)\n",
            "  adding: saved_networks/duelingdqn_model143/variables/variables.index (deflated 66%)\n",
            "  adding: saved_networks/duelingdqn_model143/variables/variables.data-00000-of-00001 (deflated 15%)\n",
            "  adding: saved_networks/duelingdqn_model143/assets/ (stored 0%)\n",
            "  adding: saved_networks/duelingdqn_model143/keras_metadata.pb (deflated 64%)\n",
            "  adding: saved_networks/duelingdqn_model143/net_weights143.h5 (deflated 94%)\n",
            "  adding: saved_networks/duelingdqn_model124/ (stored 0%)\n",
            "  adding: saved_networks/duelingdqn_model124/net_weights124.h5 (deflated 94%)\n",
            "  adding: saved_networks/duelingdqn_model124/saved_model.pb (deflated 87%)\n",
            "  adding: saved_networks/duelingdqn_model124/variables/ (stored 0%)\n",
            "  adding: saved_networks/duelingdqn_model124/variables/variables.index (deflated 66%)\n",
            "  adding: saved_networks/duelingdqn_model124/variables/variables.data-00000-of-00001 (deflated 15%)\n",
            "  adding: saved_networks/duelingdqn_model124/assets/ (stored 0%)\n",
            "  adding: saved_networks/duelingdqn_model124/keras_metadata.pb (deflated 64%)\n",
            "  adding: saved_networks/duelingdqn_model328/ (stored 0%)\n",
            "  adding: saved_networks/duelingdqn_model328/net_weights328.h5 (deflated 94%)\n",
            "  adding: saved_networks/duelingdqn_model328/saved_model.pb (deflated 87%)\n",
            "  adding: saved_networks/duelingdqn_model328/variables/ (stored 0%)\n",
            "  adding: saved_networks/duelingdqn_model328/variables/variables.index (deflated 66%)\n",
            "  adding: saved_networks/duelingdqn_model328/variables/variables.data-00000-of-00001 (deflated 15%)\n",
            "  adding: saved_networks/duelingdqn_model328/assets/ (stored 0%)\n",
            "  adding: saved_networks/duelingdqn_model328/keras_metadata.pb (deflated 64%)\n",
            "  adding: saved_networks/duelingdqn_model144/ (stored 0%)\n",
            "  adding: saved_networks/duelingdqn_model144/saved_model.pb (deflated 88%)\n",
            "  adding: saved_networks/duelingdqn_model144/variables/ (stored 0%)\n",
            "  adding: saved_networks/duelingdqn_model144/variables/variables.index (deflated 66%)\n",
            "  adding: saved_networks/duelingdqn_model144/variables/variables.data-00000-of-00001 (deflated 15%)\n",
            "  adding: saved_networks/duelingdqn_model144/assets/ (stored 0%)\n",
            "  adding: saved_networks/duelingdqn_model144/net_weights144.h5 (deflated 94%)\n",
            "  adding: saved_networks/duelingdqn_model144/keras_metadata.pb (deflated 64%)\n",
            "  adding: saved_networks/duelingdqn_model88/ (stored 0%)\n",
            "  adding: saved_networks/duelingdqn_model88/saved_model.pb (deflated 87%)\n",
            "  adding: saved_networks/duelingdqn_model88/variables/ (stored 0%)\n",
            "  adding: saved_networks/duelingdqn_model88/variables/variables.index (deflated 66%)\n",
            "  adding: saved_networks/duelingdqn_model88/variables/variables.data-00000-of-00001 (deflated 15%)\n",
            "  adding: saved_networks/duelingdqn_model88/assets/ (stored 0%)\n",
            "  adding: saved_networks/duelingdqn_model88/keras_metadata.pb (deflated 64%)\n",
            "  adding: saved_networks/duelingdqn_model88/net_weights88.h5 (deflated 94%)\n",
            "  adding: saved_networks/duelingdqn_model298/ (stored 0%)\n",
            "  adding: saved_networks/duelingdqn_model298/saved_model.pb (deflated 88%)\n",
            "  adding: saved_networks/duelingdqn_model298/variables/ (stored 0%)\n",
            "  adding: saved_networks/duelingdqn_model298/variables/variables.index (deflated 66%)\n",
            "  adding: saved_networks/duelingdqn_model298/variables/variables.data-00000-of-00001 (deflated 15%)\n",
            "  adding: saved_networks/duelingdqn_model298/assets/ (stored 0%)\n",
            "  adding: saved_networks/duelingdqn_model298/keras_metadata.pb (deflated 64%)\n",
            "  adding: saved_networks/duelingdqn_model298/net_weights298.h5 (deflated 94%)\n",
            "  adding: saved_networks/duelingdqn_model291/ (stored 0%)\n",
            "  adding: saved_networks/duelingdqn_model291/saved_model.pb (deflated 87%)\n",
            "  adding: saved_networks/duelingdqn_model291/variables/ (stored 0%)\n",
            "  adding: saved_networks/duelingdqn_model291/variables/variables.index (deflated 66%)\n",
            "  adding: saved_networks/duelingdqn_model291/variables/variables.data-00000-of-00001 (deflated 15%)\n",
            "  adding: saved_networks/duelingdqn_model291/assets/ (stored 0%)\n",
            "  adding: saved_networks/duelingdqn_model291/net_weights291.h5 (deflated 94%)\n",
            "  adding: saved_networks/duelingdqn_model291/keras_metadata.pb (deflated 64%)\n",
            "  adding: saved_networks/duelingdqn_model72/ (stored 0%)\n",
            "  adding: saved_networks/duelingdqn_model72/saved_model.pb (deflated 86%)\n",
            "  adding: saved_networks/duelingdqn_model72/variables/ (stored 0%)\n",
            "  adding: saved_networks/duelingdqn_model72/variables/variables.index (deflated 66%)\n",
            "  adding: saved_networks/duelingdqn_model72/variables/variables.data-00000-of-00001 (deflated 15%)\n",
            "  adding: saved_networks/duelingdqn_model72/assets/ (stored 0%)\n",
            "  adding: saved_networks/duelingdqn_model72/keras_metadata.pb (deflated 64%)\n",
            "  adding: saved_networks/duelingdqn_model72/net_weights72.h5 (deflated 94%)\n",
            "  adding: saved_networks/duelingdqn_model312/ (stored 0%)\n",
            "  adding: saved_networks/duelingdqn_model312/net_weights312.h5 (deflated 94%)\n",
            "  adding: saved_networks/duelingdqn_model312/saved_model.pb (deflated 87%)\n",
            "  adding: saved_networks/duelingdqn_model312/variables/ (stored 0%)\n",
            "  adding: saved_networks/duelingdqn_model312/variables/variables.index (deflated 66%)\n",
            "  adding: saved_networks/duelingdqn_model312/variables/variables.data-00000-of-00001 (deflated 15%)\n",
            "  adding: saved_networks/duelingdqn_model312/assets/ (stored 0%)\n",
            "  adding: saved_networks/duelingdqn_model312/keras_metadata.pb (deflated 64%)\n",
            "  adding: saved_networks/duelingdqn_model99/ (stored 0%)\n",
            "  adding: saved_networks/duelingdqn_model99/saved_model.pb (deflated 87%)\n",
            "  adding: saved_networks/duelingdqn_model99/variables/ (stored 0%)\n",
            "  adding: saved_networks/duelingdqn_model99/variables/variables.index (deflated 66%)\n",
            "  adding: saved_networks/duelingdqn_model99/variables/variables.data-00000-of-00001 (deflated 15%)\n",
            "  adding: saved_networks/duelingdqn_model99/net_weights99.h5 (deflated 94%)\n",
            "  adding: saved_networks/duelingdqn_model99/assets/ (stored 0%)\n",
            "  adding: saved_networks/duelingdqn_model99/keras_metadata.pb (deflated 64%)\n",
            "  adding: saved_networks/duelingdqn_model120/ (stored 0%)\n",
            "  adding: saved_networks/duelingdqn_model120/saved_model.pb (deflated 87%)\n",
            "  adding: saved_networks/duelingdqn_model120/variables/ (stored 0%)\n",
            "  adding: saved_networks/duelingdqn_model120/variables/variables.index (deflated 66%)\n",
            "  adding: saved_networks/duelingdqn_model120/variables/variables.data-00000-of-00001 (deflated 15%)\n",
            "  adding: saved_networks/duelingdqn_model120/assets/ (stored 0%)\n",
            "  adding: saved_networks/duelingdqn_model120/net_weights120.h5 (deflated 94%)\n",
            "  adding: saved_networks/duelingdqn_model120/keras_metadata.pb (deflated 64%)\n",
            "  adding: saved_networks/duelingdqn_model332/ (stored 0%)\n",
            "  adding: saved_networks/duelingdqn_model332/saved_model.pb (deflated 87%)\n",
            "  adding: saved_networks/duelingdqn_model332/variables/ (stored 0%)\n",
            "  adding: saved_networks/duelingdqn_model332/variables/variables.index (deflated 66%)\n",
            "  adding: saved_networks/duelingdqn_model332/variables/variables.data-00000-of-00001 (deflated 15%)\n",
            "  adding: saved_networks/duelingdqn_model332/assets/ (stored 0%)\n",
            "  adding: saved_networks/duelingdqn_model332/keras_metadata.pb (deflated 64%)\n",
            "  adding: saved_networks/duelingdqn_model332/net_weights332.h5 (deflated 94%)\n",
            "  adding: saved_networks/duelingdqn_model58/ (stored 0%)\n",
            "  adding: saved_networks/duelingdqn_model58/net_weights58.h5 (deflated 94%)\n",
            "  adding: saved_networks/duelingdqn_model58/saved_model.pb (deflated 87%)\n",
            "  adding: saved_networks/duelingdqn_model58/variables/ (stored 0%)\n",
            "  adding: saved_networks/duelingdqn_model58/variables/variables.index (deflated 66%)\n",
            "  adding: saved_networks/duelingdqn_model58/variables/variables.data-00000-of-00001 (deflated 15%)\n",
            "  adding: saved_networks/duelingdqn_model58/assets/ (stored 0%)\n",
            "  adding: saved_networks/duelingdqn_model58/keras_metadata.pb (deflated 64%)\n",
            "  adding: saved_networks/duelingdqn_model48/ (stored 0%)\n",
            "  adding: saved_networks/duelingdqn_model48/net_weights48.h5 (deflated 94%)\n",
            "  adding: saved_networks/duelingdqn_model48/saved_model.pb (deflated 87%)\n",
            "  adding: saved_networks/duelingdqn_model48/variables/ (stored 0%)\n",
            "  adding: saved_networks/duelingdqn_model48/variables/variables.index (deflated 66%)\n",
            "  adding: saved_networks/duelingdqn_model48/variables/variables.data-00000-of-00001 (deflated 15%)\n",
            "  adding: saved_networks/duelingdqn_model48/assets/ (stored 0%)\n",
            "  adding: saved_networks/duelingdqn_model48/keras_metadata.pb (deflated 64%)\n",
            "  adding: saved_networks/duelingdqn_model239/ (stored 0%)\n",
            "  adding: saved_networks/duelingdqn_model239/saved_model.pb (deflated 87%)\n",
            "  adding: saved_networks/duelingdqn_model239/variables/ (stored 0%)\n",
            "  adding: saved_networks/duelingdqn_model239/variables/variables.index (deflated 66%)\n",
            "  adding: saved_networks/duelingdqn_model239/variables/variables.data-00000-of-00001 (deflated 15%)\n",
            "  adding: saved_networks/duelingdqn_model239/assets/ (stored 0%)\n",
            "  adding: saved_networks/duelingdqn_model239/net_weights239.h5 (deflated 94%)\n",
            "  adding: saved_networks/duelingdqn_model239/keras_metadata.pb (deflated 64%)\n",
            "  adding: saved_networks/duelingdqn_model129/ (stored 0%)\n",
            "  adding: saved_networks/duelingdqn_model129/net_weights129.h5 (deflated 94%)\n",
            "  adding: saved_networks/duelingdqn_model129/saved_model.pb (deflated 87%)\n",
            "  adding: saved_networks/duelingdqn_model129/variables/ (stored 0%)\n",
            "  adding: saved_networks/duelingdqn_model129/variables/variables.index (deflated 66%)\n",
            "  adding: saved_networks/duelingdqn_model129/variables/variables.data-00000-of-00001 (deflated 15%)\n",
            "  adding: saved_networks/duelingdqn_model129/assets/ (stored 0%)\n",
            "  adding: saved_networks/duelingdqn_model129/keras_metadata.pb (deflated 64%)\n",
            "  adding: saved_networks/duelingdqn_model219/ (stored 0%)\n",
            "  adding: saved_networks/duelingdqn_model219/net_weights219.h5 (deflated 94%)\n",
            "  adding: saved_networks/duelingdqn_model219/saved_model.pb (deflated 88%)\n",
            "  adding: saved_networks/duelingdqn_model219/variables/ (stored 0%)\n",
            "  adding: saved_networks/duelingdqn_model219/variables/variables.index (deflated 66%)\n",
            "  adding: saved_networks/duelingdqn_model219/variables/variables.data-00000-of-00001 (deflated 15%)\n",
            "  adding: saved_networks/duelingdqn_model219/assets/ (stored 0%)\n",
            "  adding: saved_networks/duelingdqn_model219/keras_metadata.pb (deflated 64%)\n",
            "  adding: saved_networks/duelingdqn_model243/ (stored 0%)\n",
            "  adding: saved_networks/duelingdqn_model243/net_weights243.h5 (deflated 94%)\n",
            "  adding: saved_networks/duelingdqn_model243/saved_model.pb (deflated 87%)\n",
            "  adding: saved_networks/duelingdqn_model243/variables/ (stored 0%)\n",
            "  adding: saved_networks/duelingdqn_model243/variables/variables.index (deflated 66%)\n",
            "  adding: saved_networks/duelingdqn_model243/variables/variables.data-00000-of-00001 (deflated 15%)\n",
            "  adding: saved_networks/duelingdqn_model243/assets/ (stored 0%)\n",
            "  adding: saved_networks/duelingdqn_model243/keras_metadata.pb (deflated 64%)\n",
            "  adding: saved_networks/duelingdqn_model242/ (stored 0%)\n",
            "  adding: saved_networks/duelingdqn_model242/saved_model.pb (deflated 87%)\n",
            "  adding: saved_networks/duelingdqn_model242/variables/ (stored 0%)\n",
            "  adding: saved_networks/duelingdqn_model242/variables/variables.index (deflated 66%)\n",
            "  adding: saved_networks/duelingdqn_model242/variables/variables.data-00000-of-00001 (deflated 15%)\n",
            "  adding: saved_networks/duelingdqn_model242/assets/ (stored 0%)\n",
            "  adding: saved_networks/duelingdqn_model242/net_weights242.h5 (deflated 94%)\n",
            "  adding: saved_networks/duelingdqn_model242/keras_metadata.pb (deflated 64%)\n",
            "  adding: saved_networks/duelingdqn_model130/ (stored 0%)\n",
            "  adding: saved_networks/duelingdqn_model130/saved_model.pb (deflated 87%)\n",
            "  adding: saved_networks/duelingdqn_model130/variables/ (stored 0%)\n",
            "  adding: saved_networks/duelingdqn_model130/variables/variables.index (deflated 66%)\n",
            "  adding: saved_networks/duelingdqn_model130/variables/variables.data-00000-of-00001 (deflated 15%)\n",
            "  adding: saved_networks/duelingdqn_model130/assets/ (stored 0%)\n",
            "  adding: saved_networks/duelingdqn_model130/net_weights130.h5 (deflated 94%)\n",
            "  adding: saved_networks/duelingdqn_model130/keras_metadata.pb (deflated 64%)\n",
            "  adding: saved_networks/duelingdqn_model300/ (stored 0%)\n",
            "  adding: saved_networks/duelingdqn_model300/net_weights300.h5 (deflated 94%)\n",
            "  adding: saved_networks/duelingdqn_model300/saved_model.pb (deflated 87%)\n",
            "  adding: saved_networks/duelingdqn_model300/variables/ (stored 0%)\n",
            "  adding: saved_networks/duelingdqn_model300/variables/variables.index (deflated 66%)\n",
            "  adding: saved_networks/duelingdqn_model300/variables/variables.data-00000-of-00001 (deflated 15%)\n",
            "  adding: saved_networks/duelingdqn_model300/assets/ (stored 0%)\n",
            "  adding: saved_networks/duelingdqn_model300/keras_metadata.pb (deflated 64%)\n",
            "  adding: saved_networks/duelingdqn_model78/ (stored 0%)\n",
            "  adding: saved_networks/duelingdqn_model78/saved_model.pb (deflated 87%)\n",
            "  adding: saved_networks/duelingdqn_model78/variables/ (stored 0%)\n",
            "  adding: saved_networks/duelingdqn_model78/variables/variables.index (deflated 66%)\n",
            "  adding: saved_networks/duelingdqn_model78/variables/variables.data-00000-of-00001 (deflated 15%)\n",
            "  adding: saved_networks/duelingdqn_model78/assets/ (stored 0%)\n",
            "  adding: saved_networks/duelingdqn_model78/net_weights78.h5 (deflated 94%)\n",
            "  adding: saved_networks/duelingdqn_model78/keras_metadata.pb (deflated 64%)\n",
            "  adding: saved_networks/duelingdqn_model278/ (stored 0%)\n",
            "  adding: saved_networks/duelingdqn_model278/net_weights278.h5 (deflated 94%)\n",
            "  adding: saved_networks/duelingdqn_model278/saved_model.pb (deflated 87%)\n",
            "  adding: saved_networks/duelingdqn_model278/variables/ (stored 0%)\n",
            "  adding: saved_networks/duelingdqn_model278/variables/variables.index (deflated 66%)\n",
            "  adding: saved_networks/duelingdqn_model278/variables/variables.data-00000-of-00001 (deflated 15%)\n",
            "  adding: saved_networks/duelingdqn_model278/assets/ (stored 0%)\n",
            "  adding: saved_networks/duelingdqn_model278/keras_metadata.pb (deflated 64%)\n",
            "  adding: saved_networks/duelingdqn_model94/ (stored 0%)\n",
            "  adding: saved_networks/duelingdqn_model94/saved_model.pb (deflated 87%)\n",
            "  adding: saved_networks/duelingdqn_model94/net_weights94.h5 (deflated 94%)\n",
            "  adding: saved_networks/duelingdqn_model94/variables/ (stored 0%)\n",
            "  adding: saved_networks/duelingdqn_model94/variables/variables.index (deflated 66%)\n",
            "  adding: saved_networks/duelingdqn_model94/variables/variables.data-00000-of-00001 (deflated 15%)\n",
            "  adding: saved_networks/duelingdqn_model94/assets/ (stored 0%)\n",
            "  adding: saved_networks/duelingdqn_model94/keras_metadata.pb (deflated 64%)\n",
            "  adding: saved_networks/duelingdqn_model234/ (stored 0%)\n",
            "  adding: saved_networks/duelingdqn_model234/net_weights234.h5 (deflated 94%)\n",
            "  adding: saved_networks/duelingdqn_model234/saved_model.pb (deflated 87%)\n",
            "  adding: saved_networks/duelingdqn_model234/variables/ (stored 0%)\n",
            "  adding: saved_networks/duelingdqn_model234/variables/variables.index (deflated 66%)\n",
            "  adding: saved_networks/duelingdqn_model234/variables/variables.data-00000-of-00001 (deflated 15%)\n",
            "  adding: saved_networks/duelingdqn_model234/assets/ (stored 0%)\n",
            "  adding: saved_networks/duelingdqn_model234/keras_metadata.pb (deflated 64%)\n",
            "  adding: saved_networks/duelingdqn_model150/ (stored 0%)\n",
            "  adding: saved_networks/duelingdqn_model150/saved_model.pb (deflated 87%)\n",
            "  adding: saved_networks/duelingdqn_model150/variables/ (stored 0%)\n",
            "  adding: saved_networks/duelingdqn_model150/variables/variables.index (deflated 66%)\n",
            "  adding: saved_networks/duelingdqn_model150/variables/variables.data-00000-of-00001 (deflated 15%)\n",
            "  adding: saved_networks/duelingdqn_model150/assets/ (stored 0%)\n",
            "  adding: saved_networks/duelingdqn_model150/net_weights150.h5 (deflated 94%)\n",
            "  adding: saved_networks/duelingdqn_model150/keras_metadata.pb (deflated 64%)\n",
            "  adding: saved_networks/duelingdqn_model296/ (stored 0%)\n",
            "  adding: saved_networks/duelingdqn_model296/saved_model.pb (deflated 87%)\n",
            "  adding: saved_networks/duelingdqn_model296/variables/ (stored 0%)\n",
            "  adding: saved_networks/duelingdqn_model296/variables/variables.index (deflated 66%)\n",
            "  adding: saved_networks/duelingdqn_model296/variables/variables.data-00000-of-00001 (deflated 15%)\n",
            "  adding: saved_networks/duelingdqn_model296/assets/ (stored 0%)\n",
            "  adding: saved_networks/duelingdqn_model296/net_weights296.h5 (deflated 94%)\n",
            "  adding: saved_networks/duelingdqn_model296/keras_metadata.pb (deflated 64%)\n",
            "  adding: saved_networks/duelingdqn_model208/ (stored 0%)\n",
            "  adding: saved_networks/duelingdqn_model208/saved_model.pb (deflated 87%)\n",
            "  adding: saved_networks/duelingdqn_model208/variables/ (stored 0%)\n",
            "  adding: saved_networks/duelingdqn_model208/variables/variables.index (deflated 66%)\n",
            "  adding: saved_networks/duelingdqn_model208/variables/variables.data-00000-of-00001 (deflated 15%)\n",
            "  adding: saved_networks/duelingdqn_model208/assets/ (stored 0%)\n",
            "  adding: saved_networks/duelingdqn_model208/net_weights208.h5 (deflated 94%)\n",
            "  adding: saved_networks/duelingdqn_model208/keras_metadata.pb (deflated 64%)\n",
            "  adding: saved_networks/duelingdqn_model221/ (stored 0%)\n",
            "  adding: saved_networks/duelingdqn_model221/saved_model.pb (deflated 88%)\n",
            "  adding: saved_networks/duelingdqn_model221/variables/ (stored 0%)\n",
            "  adding: saved_networks/duelingdqn_model221/variables/variables.index (deflated 66%)\n",
            "  adding: saved_networks/duelingdqn_model221/variables/variables.data-00000-of-00001 (deflated 15%)\n",
            "  adding: saved_networks/duelingdqn_model221/assets/ (stored 0%)\n",
            "  adding: saved_networks/duelingdqn_model221/keras_metadata.pb (deflated 64%)\n",
            "  adding: saved_networks/duelingdqn_model221/net_weights221.h5 (deflated 94%)\n",
            "  adding: saved_networks/duelingdqn_model220/ (stored 0%)\n",
            "  adding: saved_networks/duelingdqn_model220/saved_model.pb (deflated 87%)\n",
            "  adding: saved_networks/duelingdqn_model220/variables/ (stored 0%)\n",
            "  adding: saved_networks/duelingdqn_model220/variables/variables.index (deflated 66%)\n",
            "  adding: saved_networks/duelingdqn_model220/variables/variables.data-00000-of-00001 (deflated 15%)\n",
            "  adding: saved_networks/duelingdqn_model220/assets/ (stored 0%)\n",
            "  adding: saved_networks/duelingdqn_model220/keras_metadata.pb (deflated 64%)\n",
            "  adding: saved_networks/duelingdqn_model220/net_weights220.h5 (deflated 94%)\n",
            "  adding: saved_networks/duelingdqn_model270/ (stored 0%)\n",
            "  adding: saved_networks/duelingdqn_model270/saved_model.pb (deflated 87%)\n",
            "  adding: saved_networks/duelingdqn_model270/net_weights270.h5 (deflated 94%)\n",
            "  adding: saved_networks/duelingdqn_model270/variables/ (stored 0%)\n",
            "  adding: saved_networks/duelingdqn_model270/variables/variables.index (deflated 66%)\n",
            "  adding: saved_networks/duelingdqn_model270/variables/variables.data-00000-of-00001 (deflated 15%)\n",
            "  adding: saved_networks/duelingdqn_model270/assets/ (stored 0%)\n",
            "  adding: saved_networks/duelingdqn_model270/keras_metadata.pb (deflated 64%)\n",
            "  adding: saved_networks/duelingdqn_model277/ (stored 0%)\n",
            "  adding: saved_networks/duelingdqn_model277/net_weights277.h5 (deflated 94%)\n",
            "  adding: saved_networks/duelingdqn_model277/saved_model.pb (deflated 87%)\n",
            "  adding: saved_networks/duelingdqn_model277/variables/ (stored 0%)\n",
            "  adding: saved_networks/duelingdqn_model277/variables/variables.index (deflated 66%)\n",
            "  adding: saved_networks/duelingdqn_model277/variables/variables.data-00000-of-00001 (deflated 15%)\n",
            "  adding: saved_networks/duelingdqn_model277/assets/ (stored 0%)\n",
            "  adding: saved_networks/duelingdqn_model277/keras_metadata.pb (deflated 64%)\n",
            "  adding: saved_networks/duelingdqn_model73/ (stored 0%)\n",
            "  adding: saved_networks/duelingdqn_model73/saved_model.pb (deflated 87%)\n",
            "  adding: saved_networks/duelingdqn_model73/net_weights73.h5 (deflated 94%)\n",
            "  adding: saved_networks/duelingdqn_model73/variables/ (stored 0%)\n",
            "  adding: saved_networks/duelingdqn_model73/variables/variables.index (deflated 66%)\n",
            "  adding: saved_networks/duelingdqn_model73/variables/variables.data-00000-of-00001 (deflated 15%)\n",
            "  adding: saved_networks/duelingdqn_model73/assets/ (stored 0%)\n",
            "  adding: saved_networks/duelingdqn_model73/keras_metadata.pb (deflated 64%)\n",
            "  adding: saved_networks/duelingdqn_model7/ (stored 0%)\n",
            "  adding: saved_networks/duelingdqn_model7/saved_model.pb (deflated 87%)\n",
            "  adding: saved_networks/duelingdqn_model7/variables/ (stored 0%)\n",
            "  adding: saved_networks/duelingdqn_model7/variables/variables.index (deflated 66%)\n",
            "  adding: saved_networks/duelingdqn_model7/variables/variables.data-00000-of-00001 (deflated 14%)\n",
            "  adding: saved_networks/duelingdqn_model7/assets/ (stored 0%)\n",
            "  adding: saved_networks/duelingdqn_model7/keras_metadata.pb (deflated 64%)\n",
            "  adding: saved_networks/duelingdqn_model7/net_weights7.h5 (deflated 94%)\n",
            "  adding: saved_networks/duelingdqn_model133/ (stored 0%)\n",
            "  adding: saved_networks/duelingdqn_model133/saved_model.pb (deflated 87%)\n",
            "  adding: saved_networks/duelingdqn_model133/variables/ (stored 0%)\n",
            "  adding: saved_networks/duelingdqn_model133/variables/variables.index (deflated 66%)\n",
            "  adding: saved_networks/duelingdqn_model133/variables/variables.data-00000-of-00001 (deflated 15%)\n",
            "  adding: saved_networks/duelingdqn_model133/assets/ (stored 0%)\n",
            "  adding: saved_networks/duelingdqn_model133/keras_metadata.pb (deflated 64%)\n",
            "  adding: saved_networks/duelingdqn_model133/net_weights133.h5 (deflated 94%)\n",
            "  adding: saved_networks/duelingdqn_model177/ (stored 0%)\n",
            "  adding: saved_networks/duelingdqn_model177/saved_model.pb (deflated 87%)\n",
            "  adding: saved_networks/duelingdqn_model177/variables/ (stored 0%)\n",
            "  adding: saved_networks/duelingdqn_model177/variables/variables.index (deflated 66%)\n",
            "  adding: saved_networks/duelingdqn_model177/variables/variables.data-00000-of-00001 (deflated 15%)\n",
            "  adding: saved_networks/duelingdqn_model177/assets/ (stored 0%)\n",
            "  adding: saved_networks/duelingdqn_model177/keras_metadata.pb (deflated 64%)\n",
            "  adding: saved_networks/duelingdqn_model177/net_weights177.h5 (deflated 94%)\n",
            "  adding: saved_networks/duelingdqn_model333/ (stored 0%)\n",
            "  adding: saved_networks/duelingdqn_model333/net_weights333.h5 (deflated 94%)\n",
            "  adding: saved_networks/duelingdqn_model333/saved_model.pb (deflated 87%)\n",
            "  adding: saved_networks/duelingdqn_model333/variables/ (stored 0%)\n",
            "  adding: saved_networks/duelingdqn_model333/variables/variables.index (deflated 66%)\n",
            "  adding: saved_networks/duelingdqn_model333/variables/variables.data-00000-of-00001 (deflated 15%)\n",
            "  adding: saved_networks/duelingdqn_model333/assets/ (stored 0%)\n",
            "  adding: saved_networks/duelingdqn_model333/keras_metadata.pb (deflated 64%)\n",
            "  adding: saved_networks/duelingdqn_model57/ (stored 0%)\n",
            "  adding: saved_networks/duelingdqn_model57/net_weights57.h5 (deflated 94%)\n",
            "  adding: saved_networks/duelingdqn_model57/saved_model.pb (deflated 87%)\n",
            "  adding: saved_networks/duelingdqn_model57/variables/ (stored 0%)\n",
            "  adding: saved_networks/duelingdqn_model57/variables/variables.index (deflated 66%)\n",
            "  adding: saved_networks/duelingdqn_model57/variables/variables.data-00000-of-00001 (deflated 15%)\n",
            "  adding: saved_networks/duelingdqn_model57/assets/ (stored 0%)\n",
            "  adding: saved_networks/duelingdqn_model57/keras_metadata.pb (deflated 64%)\n",
            "  adding: saved_networks/duelingdqn_model115/ (stored 0%)\n",
            "  adding: saved_networks/duelingdqn_model115/net_weights115.h5 (deflated 94%)\n",
            "  adding: saved_networks/duelingdqn_model115/saved_model.pb (deflated 87%)\n",
            "  adding: saved_networks/duelingdqn_model115/variables/ (stored 0%)\n",
            "  adding: saved_networks/duelingdqn_model115/variables/variables.index (deflated 66%)\n",
            "  adding: saved_networks/duelingdqn_model115/variables/variables.data-00000-of-00001 (deflated 15%)\n",
            "  adding: saved_networks/duelingdqn_model115/assets/ (stored 0%)\n",
            "  adding: saved_networks/duelingdqn_model115/keras_metadata.pb (deflated 64%)\n",
            "  adding: saved_networks/duelingdqn_model231/ (stored 0%)\n",
            "  adding: saved_networks/duelingdqn_model231/net_weights231.h5 (deflated 94%)\n",
            "  adding: saved_networks/duelingdqn_model231/saved_model.pb (deflated 87%)\n",
            "  adding: saved_networks/duelingdqn_model231/variables/ (stored 0%)\n",
            "  adding: saved_networks/duelingdqn_model231/variables/variables.index (deflated 66%)\n",
            "  adding: saved_networks/duelingdqn_model231/variables/variables.data-00000-of-00001 (deflated 15%)\n",
            "  adding: saved_networks/duelingdqn_model231/assets/ (stored 0%)\n",
            "  adding: saved_networks/duelingdqn_model231/keras_metadata.pb (deflated 64%)\n",
            "  adding: saved_networks/duelingdqn_model55/ (stored 0%)\n",
            "  adding: saved_networks/duelingdqn_model55/saved_model.pb (deflated 87%)\n",
            "  adding: saved_networks/duelingdqn_model55/variables/ (stored 0%)\n",
            "  adding: saved_networks/duelingdqn_model55/variables/variables.index (deflated 66%)\n",
            "  adding: saved_networks/duelingdqn_model55/variables/variables.data-00000-of-00001 (deflated 15%)\n",
            "  adding: saved_networks/duelingdqn_model55/net_weights55.h5 (deflated 94%)\n",
            "  adding: saved_networks/duelingdqn_model55/assets/ (stored 0%)\n",
            "  adding: saved_networks/duelingdqn_model55/keras_metadata.pb (deflated 64%)\n",
            "  adding: saved_networks/duelingdqn_model93/ (stored 0%)\n",
            "  adding: saved_networks/duelingdqn_model93/saved_model.pb (deflated 87%)\n",
            "  adding: saved_networks/duelingdqn_model93/variables/ (stored 0%)\n",
            "  adding: saved_networks/duelingdqn_model93/variables/variables.index (deflated 66%)\n",
            "  adding: saved_networks/duelingdqn_model93/variables/variables.data-00000-of-00001 (deflated 15%)\n",
            "  adding: saved_networks/duelingdqn_model93/assets/ (stored 0%)\n",
            "  adding: saved_networks/duelingdqn_model93/keras_metadata.pb (deflated 64%)\n",
            "  adding: saved_networks/duelingdqn_model93/net_weights93.h5 (deflated 94%)\n",
            "  adding: saved_networks/duelingdqn_model325/ (stored 0%)\n",
            "  adding: saved_networks/duelingdqn_model325/saved_model.pb (deflated 87%)\n",
            "  adding: saved_networks/duelingdqn_model325/variables/ (stored 0%)\n",
            "  adding: saved_networks/duelingdqn_model325/variables/variables.index (deflated 66%)\n",
            "  adding: saved_networks/duelingdqn_model325/variables/variables.data-00000-of-00001 (deflated 15%)\n",
            "  adding: saved_networks/duelingdqn_model325/assets/ (stored 0%)\n",
            "  adding: saved_networks/duelingdqn_model325/net_weights325.h5 (deflated 94%)\n",
            "  adding: saved_networks/duelingdqn_model325/keras_metadata.pb (deflated 64%)\n",
            "  adding: saved_networks/duelingdqn_model60/ (stored 0%)\n",
            "  adding: saved_networks/duelingdqn_model60/saved_model.pb (deflated 87%)\n",
            "  adding: saved_networks/duelingdqn_model60/net_weights60.h5 (deflated 94%)\n",
            "  adding: saved_networks/duelingdqn_model60/variables/ (stored 0%)\n",
            "  adding: saved_networks/duelingdqn_model60/variables/variables.index (deflated 66%)\n",
            "  adding: saved_networks/duelingdqn_model60/variables/variables.data-00000-of-00001 (deflated 15%)\n",
            "  adding: saved_networks/duelingdqn_model60/assets/ (stored 0%)\n",
            "  adding: saved_networks/duelingdqn_model60/keras_metadata.pb (deflated 64%)\n",
            "  adding: saved_networks/duelingdqn_model131/ (stored 0%)\n",
            "  adding: saved_networks/duelingdqn_model131/net_weights131.h5 (deflated 94%)\n",
            "  adding: saved_networks/duelingdqn_model131/saved_model.pb (deflated 87%)\n",
            "  adding: saved_networks/duelingdqn_model131/variables/ (stored 0%)\n",
            "  adding: saved_networks/duelingdqn_model131/variables/variables.index (deflated 66%)\n",
            "  adding: saved_networks/duelingdqn_model131/variables/variables.data-00000-of-00001 (deflated 15%)\n",
            "  adding: saved_networks/duelingdqn_model131/assets/ (stored 0%)\n",
            "  adding: saved_networks/duelingdqn_model131/keras_metadata.pb (deflated 64%)\n",
            "  adding: saved_networks/duelingdqn_model259/ (stored 0%)\n",
            "  adding: saved_networks/duelingdqn_model259/net_weights259.h5 (deflated 94%)\n",
            "  adding: saved_networks/duelingdqn_model259/saved_model.pb (deflated 87%)\n",
            "  adding: saved_networks/duelingdqn_model259/variables/ (stored 0%)\n",
            "  adding: saved_networks/duelingdqn_model259/variables/variables.index (deflated 66%)\n",
            "  adding: saved_networks/duelingdqn_model259/variables/variables.data-00000-of-00001 (deflated 15%)\n",
            "  adding: saved_networks/duelingdqn_model259/assets/ (stored 0%)\n",
            "  adding: saved_networks/duelingdqn_model259/keras_metadata.pb (deflated 64%)\n",
            "  adding: saved_networks/duelingdqn_model207/ (stored 0%)\n",
            "  adding: saved_networks/duelingdqn_model207/net_weights207.h5 (deflated 94%)\n",
            "  adding: saved_networks/duelingdqn_model207/saved_model.pb (deflated 87%)\n",
            "  adding: saved_networks/duelingdqn_model207/variables/ (stored 0%)\n",
            "  adding: saved_networks/duelingdqn_model207/variables/variables.index (deflated 66%)\n",
            "  adding: saved_networks/duelingdqn_model207/variables/variables.data-00000-of-00001 (deflated 15%)\n",
            "  adding: saved_networks/duelingdqn_model207/assets/ (stored 0%)\n",
            "  adding: saved_networks/duelingdqn_model207/keras_metadata.pb (deflated 64%)\n",
            "  adding: saved_networks/duelingdqn_model75/ (stored 0%)\n",
            "  adding: saved_networks/duelingdqn_model75/saved_model.pb (deflated 87%)\n",
            "  adding: saved_networks/duelingdqn_model75/variables/ (stored 0%)\n",
            "  adding: saved_networks/duelingdqn_model75/variables/variables.index (deflated 66%)\n",
            "  adding: saved_networks/duelingdqn_model75/variables/variables.data-00000-of-00001 (deflated 15%)\n",
            "  adding: saved_networks/duelingdqn_model75/assets/ (stored 0%)\n",
            "  adding: saved_networks/duelingdqn_model75/net_weights75.h5 (deflated 94%)\n",
            "  adding: saved_networks/duelingdqn_model75/keras_metadata.pb (deflated 64%)\n",
            "  adding: saved_networks/duelingdqn_model211/ (stored 0%)\n",
            "  adding: saved_networks/duelingdqn_model211/net_weights211.h5 (deflated 94%)\n",
            "  adding: saved_networks/duelingdqn_model211/saved_model.pb (deflated 88%)\n",
            "  adding: saved_networks/duelingdqn_model211/variables/ (stored 0%)\n",
            "  adding: saved_networks/duelingdqn_model211/variables/variables.index (deflated 66%)\n",
            "  adding: saved_networks/duelingdqn_model211/variables/variables.data-00000-of-00001 (deflated 15%)\n",
            "  adding: saved_networks/duelingdqn_model211/assets/ (stored 0%)\n",
            "  adding: saved_networks/duelingdqn_model211/keras_metadata.pb (deflated 64%)\n",
            "  adding: saved_networks/duelingdqn_model281/ (stored 0%)\n",
            "  adding: saved_networks/duelingdqn_model281/saved_model.pb (deflated 87%)\n",
            "  adding: saved_networks/duelingdqn_model281/net_weights281.h5 (deflated 94%)\n",
            "  adding: saved_networks/duelingdqn_model281/variables/ (stored 0%)\n",
            "  adding: saved_networks/duelingdqn_model281/variables/variables.index (deflated 66%)\n",
            "  adding: saved_networks/duelingdqn_model281/variables/variables.data-00000-of-00001 (deflated 15%)\n",
            "  adding: saved_networks/duelingdqn_model281/assets/ (stored 0%)\n",
            "  adding: saved_networks/duelingdqn_model281/keras_metadata.pb (deflated 64%)\n",
            "  adding: saved_networks/duelingdqn_model238/ (stored 0%)\n",
            "  adding: saved_networks/duelingdqn_model238/net_weights238.h5 (deflated 94%)\n",
            "  adding: saved_networks/duelingdqn_model238/saved_model.pb (deflated 87%)\n",
            "  adding: saved_networks/duelingdqn_model238/variables/ (stored 0%)\n",
            "  adding: saved_networks/duelingdqn_model238/variables/variables.index (deflated 66%)\n",
            "  adding: saved_networks/duelingdqn_model238/variables/variables.data-00000-of-00001 (deflated 15%)\n",
            "  adding: saved_networks/duelingdqn_model238/assets/ (stored 0%)\n",
            "  adding: saved_networks/duelingdqn_model238/keras_metadata.pb (deflated 64%)\n",
            "  adding: saved_networks/duelingdqn_model263/ (stored 0%)\n",
            "  adding: saved_networks/duelingdqn_model263/net_weights263.h5 (deflated 94%)\n",
            "  adding: saved_networks/duelingdqn_model263/saved_model.pb (deflated 87%)\n",
            "  adding: saved_networks/duelingdqn_model263/variables/ (stored 0%)\n",
            "  adding: saved_networks/duelingdqn_model263/variables/variables.index (deflated 66%)\n",
            "  adding: saved_networks/duelingdqn_model263/variables/variables.data-00000-of-00001 (deflated 15%)\n",
            "  adding: saved_networks/duelingdqn_model263/assets/ (stored 0%)\n",
            "  adding: saved_networks/duelingdqn_model263/keras_metadata.pb (deflated 64%)\n",
            "  adding: saved_networks/duelingdqn_model147/ (stored 0%)\n",
            "  adding: saved_networks/duelingdqn_model147/saved_model.pb (deflated 88%)\n",
            "  adding: saved_networks/duelingdqn_model147/variables/ (stored 0%)\n",
            "  adding: saved_networks/duelingdqn_model147/variables/variables.index (deflated 66%)\n",
            "  adding: saved_networks/duelingdqn_model147/variables/variables.data-00000-of-00001 (deflated 15%)\n",
            "  adding: saved_networks/duelingdqn_model147/assets/ (stored 0%)\n",
            "  adding: saved_networks/duelingdqn_model147/net_weights147.h5 (deflated 94%)\n",
            "  adding: saved_networks/duelingdqn_model147/keras_metadata.pb (deflated 64%)\n",
            "  adding: saved_networks/duelingdqn_model125/ (stored 0%)\n",
            "  adding: saved_networks/duelingdqn_model125/saved_model.pb (deflated 87%)\n",
            "  adding: saved_networks/duelingdqn_model125/variables/ (stored 0%)\n",
            "  adding: saved_networks/duelingdqn_model125/variables/variables.index (deflated 66%)\n",
            "  adding: saved_networks/duelingdqn_model125/variables/variables.data-00000-of-00001 (deflated 15%)\n",
            "  adding: saved_networks/duelingdqn_model125/assets/ (stored 0%)\n",
            "  adding: saved_networks/duelingdqn_model125/net_weights125.h5 (deflated 94%)\n",
            "  adding: saved_networks/duelingdqn_model125/keras_metadata.pb (deflated 64%)\n",
            "  adding: saved_networks/duelingdqn_model92/ (stored 0%)\n",
            "  adding: saved_networks/duelingdqn_model92/saved_model.pb (deflated 87%)\n",
            "  adding: saved_networks/duelingdqn_model92/net_weights92.h5 (deflated 94%)\n",
            "  adding: saved_networks/duelingdqn_model92/variables/ (stored 0%)\n",
            "  adding: saved_networks/duelingdqn_model92/variables/variables.index (deflated 66%)\n",
            "  adding: saved_networks/duelingdqn_model92/variables/variables.data-00000-of-00001 (deflated 14%)\n",
            "  adding: saved_networks/duelingdqn_model92/assets/ (stored 0%)\n",
            "  adding: saved_networks/duelingdqn_model92/keras_metadata.pb (deflated 64%)\n",
            "  adding: saved_networks/duelingdqn_model336/ (stored 0%)\n",
            "  adding: saved_networks/duelingdqn_model336/saved_model.pb (deflated 88%)\n",
            "  adding: saved_networks/duelingdqn_model336/variables/ (stored 0%)\n",
            "  adding: saved_networks/duelingdqn_model336/variables/variables.index (deflated 66%)\n",
            "  adding: saved_networks/duelingdqn_model336/variables/variables.data-00000-of-00001 (deflated 15%)\n",
            "  adding: saved_networks/duelingdqn_model336/assets/ (stored 0%)\n",
            "  adding: saved_networks/duelingdqn_model336/net_weights336.h5 (deflated 94%)\n",
            "  adding: saved_networks/duelingdqn_model336/keras_metadata.pb (deflated 64%)\n",
            "  adding: saved_networks/duelingdqn_model106/ (stored 0%)\n",
            "  adding: saved_networks/duelingdqn_model106/saved_model.pb (deflated 87%)\n",
            "  adding: saved_networks/duelingdqn_model106/variables/ (stored 0%)\n",
            "  adding: saved_networks/duelingdqn_model106/variables/variables.index (deflated 66%)\n",
            "  adding: saved_networks/duelingdqn_model106/variables/variables.data-00000-of-00001 (deflated 15%)\n",
            "  adding: saved_networks/duelingdqn_model106/assets/ (stored 0%)\n",
            "  adding: saved_networks/duelingdqn_model106/keras_metadata.pb (deflated 64%)\n",
            "  adding: saved_networks/duelingdqn_model106/net_weights106.h5 (deflated 94%)\n",
            "  adding: saved_networks/duelingdqn_model311/ (stored 0%)\n",
            "  adding: saved_networks/duelingdqn_model311/net_weights311.h5 (deflated 94%)\n",
            "  adding: saved_networks/duelingdqn_model311/saved_model.pb (deflated 87%)\n",
            "  adding: saved_networks/duelingdqn_model311/variables/ (stored 0%)\n",
            "  adding: saved_networks/duelingdqn_model311/variables/variables.index (deflated 66%)\n",
            "  adding: saved_networks/duelingdqn_model311/variables/variables.data-00000-of-00001 (deflated 15%)\n",
            "  adding: saved_networks/duelingdqn_model311/assets/ (stored 0%)\n",
            "  adding: saved_networks/duelingdqn_model311/keras_metadata.pb (deflated 64%)\n",
            "  adding: saved_networks/duelingdqn_model108/ (stored 0%)\n",
            "  adding: saved_networks/duelingdqn_model108/net_weights108.h5 (deflated 94%)\n",
            "  adding: saved_networks/duelingdqn_model108/saved_model.pb (deflated 87%)\n",
            "  adding: saved_networks/duelingdqn_model108/variables/ (stored 0%)\n",
            "  adding: saved_networks/duelingdqn_model108/variables/variables.index (deflated 66%)\n",
            "  adding: saved_networks/duelingdqn_model108/variables/variables.data-00000-of-00001 (deflated 15%)\n",
            "  adding: saved_networks/duelingdqn_model108/assets/ (stored 0%)\n",
            "  adding: saved_networks/duelingdqn_model108/keras_metadata.pb (deflated 64%)\n",
            "  adding: saved_networks/duelingdqn_model204/ (stored 0%)\n",
            "  adding: saved_networks/duelingdqn_model204/net_weights204.h5 (deflated 94%)\n",
            "  adding: saved_networks/duelingdqn_model204/saved_model.pb (deflated 87%)\n",
            "  adding: saved_networks/duelingdqn_model204/variables/ (stored 0%)\n",
            "  adding: saved_networks/duelingdqn_model204/variables/variables.index (deflated 66%)\n",
            "  adding: saved_networks/duelingdqn_model204/variables/variables.data-00000-of-00001 (deflated 15%)\n",
            "  adding: saved_networks/duelingdqn_model204/assets/ (stored 0%)\n",
            "  adding: saved_networks/duelingdqn_model204/keras_metadata.pb (deflated 64%)\n",
            "  adding: saved_networks/duelingdqn_model163/ (stored 0%)\n",
            "  adding: saved_networks/duelingdqn_model163/saved_model.pb (deflated 87%)\n",
            "  adding: saved_networks/duelingdqn_model163/variables/ (stored 0%)\n",
            "  adding: saved_networks/duelingdqn_model163/variables/variables.index (deflated 66%)\n",
            "  adding: saved_networks/duelingdqn_model163/variables/variables.data-00000-of-00001 (deflated 15%)\n",
            "  adding: saved_networks/duelingdqn_model163/assets/ (stored 0%)\n",
            "  adding: saved_networks/duelingdqn_model163/net_weights163.h5 (deflated 94%)\n",
            "  adding: saved_networks/duelingdqn_model163/keras_metadata.pb (deflated 64%)\n",
            "  adding: saved_networks/duelingdqn_model95/ (stored 0%)\n",
            "  adding: saved_networks/duelingdqn_model95/net_weights95.h5 (deflated 94%)\n",
            "  adding: saved_networks/duelingdqn_model95/saved_model.pb (deflated 88%)\n",
            "  adding: saved_networks/duelingdqn_model95/variables/ (stored 0%)\n",
            "  adding: saved_networks/duelingdqn_model95/variables/variables.index (deflated 66%)\n",
            "  adding: saved_networks/duelingdqn_model95/variables/variables.data-00000-of-00001 (deflated 15%)\n",
            "  adding: saved_networks/duelingdqn_model95/assets/ (stored 0%)\n",
            "  adding: saved_networks/duelingdqn_model95/keras_metadata.pb (deflated 64%)\n",
            "  adding: saved_networks/duelingdqn_model64/ (stored 0%)\n",
            "  adding: saved_networks/duelingdqn_model64/net_weights64.h5 (deflated 94%)\n",
            "  adding: saved_networks/duelingdqn_model64/saved_model.pb (deflated 87%)\n",
            "  adding: saved_networks/duelingdqn_model64/variables/ (stored 0%)\n",
            "  adding: saved_networks/duelingdqn_model64/variables/variables.index (deflated 66%)\n",
            "  adding: saved_networks/duelingdqn_model64/variables/variables.data-00000-of-00001 (deflated 15%)\n",
            "  adding: saved_networks/duelingdqn_model64/assets/ (stored 0%)\n",
            "  adding: saved_networks/duelingdqn_model64/keras_metadata.pb (deflated 64%)\n",
            "  adding: saved_networks/duelingdqn_model241/ (stored 0%)\n",
            "  adding: saved_networks/duelingdqn_model241/net_weights241.h5 (deflated 94%)\n",
            "  adding: saved_networks/duelingdqn_model241/saved_model.pb (deflated 86%)\n",
            "  adding: saved_networks/duelingdqn_model241/variables/ (stored 0%)\n",
            "  adding: saved_networks/duelingdqn_model241/variables/variables.index (deflated 66%)\n",
            "  adding: saved_networks/duelingdqn_model241/variables/variables.data-00000-of-00001 (deflated 15%)\n",
            "  adding: saved_networks/duelingdqn_model241/assets/ (stored 0%)\n",
            "  adding: saved_networks/duelingdqn_model241/keras_metadata.pb (deflated 64%)\n",
            "  adding: saved_networks/duelingdqn_model326/ (stored 0%)\n",
            "  adding: saved_networks/duelingdqn_model326/saved_model.pb (deflated 87%)\n",
            "  adding: saved_networks/duelingdqn_model326/variables/ (stored 0%)\n",
            "  adding: saved_networks/duelingdqn_model326/variables/variables.index (deflated 66%)\n",
            "  adding: saved_networks/duelingdqn_model326/variables/variables.data-00000-of-00001 (deflated 15%)\n",
            "  adding: saved_networks/duelingdqn_model326/net_weights326.h5 (deflated 94%)\n",
            "  adding: saved_networks/duelingdqn_model326/assets/ (stored 0%)\n",
            "  adding: saved_networks/duelingdqn_model326/keras_metadata.pb (deflated 64%)\n",
            "  adding: saved_networks/duelingdqn_model197/ (stored 0%)\n",
            "  adding: saved_networks/duelingdqn_model197/saved_model.pb (deflated 87%)\n",
            "  adding: saved_networks/duelingdqn_model197/variables/ (stored 0%)\n",
            "  adding: saved_networks/duelingdqn_model197/variables/variables.index (deflated 66%)\n",
            "  adding: saved_networks/duelingdqn_model197/variables/variables.data-00000-of-00001 (deflated 15%)\n",
            "  adding: saved_networks/duelingdqn_model197/assets/ (stored 0%)\n",
            "  adding: saved_networks/duelingdqn_model197/net_weights197.h5 (deflated 94%)\n",
            "  adding: saved_networks/duelingdqn_model197/keras_metadata.pb (deflated 64%)\n",
            "  adding: saved_networks/duelingdqn_model201/ (stored 0%)\n",
            "  adding: saved_networks/duelingdqn_model201/saved_model.pb (deflated 87%)\n",
            "  adding: saved_networks/duelingdqn_model201/variables/ (stored 0%)\n",
            "  adding: saved_networks/duelingdqn_model201/variables/variables.index (deflated 66%)\n",
            "  adding: saved_networks/duelingdqn_model201/variables/variables.data-00000-of-00001 (deflated 15%)\n",
            "  adding: saved_networks/duelingdqn_model201/assets/ (stored 0%)\n",
            "  adding: saved_networks/duelingdqn_model201/net_weights201.h5 (deflated 94%)\n",
            "  adding: saved_networks/duelingdqn_model201/keras_metadata.pb (deflated 64%)\n",
            "  adding: saved_networks/duelingdqn_model9/ (stored 0%)\n",
            "  adding: saved_networks/duelingdqn_model9/saved_model.pb (deflated 87%)\n",
            "  adding: saved_networks/duelingdqn_model9/variables/ (stored 0%)\n",
            "  adding: saved_networks/duelingdqn_model9/variables/variables.index (deflated 66%)\n",
            "  adding: saved_networks/duelingdqn_model9/variables/variables.data-00000-of-00001 (deflated 14%)\n",
            "  adding: saved_networks/duelingdqn_model9/assets/ (stored 0%)\n",
            "  adding: saved_networks/duelingdqn_model9/net_weights9.h5 (deflated 94%)\n",
            "  adding: saved_networks/duelingdqn_model9/keras_metadata.pb (deflated 64%)\n",
            "  adding: saved_networks/duelingdqn_model306/ (stored 0%)\n",
            "  adding: saved_networks/duelingdqn_model306/net_weights306.h5 (deflated 94%)\n",
            "  adding: saved_networks/duelingdqn_model306/saved_model.pb (deflated 87%)\n",
            "  adding: saved_networks/duelingdqn_model306/variables/ (stored 0%)\n",
            "  adding: saved_networks/duelingdqn_model306/variables/variables.index (deflated 66%)\n",
            "  adding: saved_networks/duelingdqn_model306/variables/variables.data-00000-of-00001 (deflated 15%)\n",
            "  adding: saved_networks/duelingdqn_model306/assets/ (stored 0%)\n",
            "  adding: saved_networks/duelingdqn_model306/keras_metadata.pb (deflated 64%)\n",
            "  adding: saved_networks/duelingdqn_model186/ (stored 0%)\n",
            "  adding: saved_networks/duelingdqn_model186/net_weights186.h5 (deflated 94%)\n",
            "  adding: saved_networks/duelingdqn_model186/saved_model.pb (deflated 87%)\n",
            "  adding: saved_networks/duelingdqn_model186/variables/ (stored 0%)\n",
            "  adding: saved_networks/duelingdqn_model186/variables/variables.index (deflated 66%)\n",
            "  adding: saved_networks/duelingdqn_model186/variables/variables.data-00000-of-00001 (deflated 15%)\n",
            "  adding: saved_networks/duelingdqn_model186/assets/ (stored 0%)\n",
            "  adding: saved_networks/duelingdqn_model186/keras_metadata.pb (deflated 64%)\n",
            "  adding: saved_networks/duelingdqn_model229/ (stored 0%)\n",
            "  adding: saved_networks/duelingdqn_model229/net_weights229.h5 (deflated 94%)\n",
            "  adding: saved_networks/duelingdqn_model229/saved_model.pb (deflated 87%)\n",
            "  adding: saved_networks/duelingdqn_model229/variables/ (stored 0%)\n",
            "  adding: saved_networks/duelingdqn_model229/variables/variables.index (deflated 66%)\n",
            "  adding: saved_networks/duelingdqn_model229/variables/variables.data-00000-of-00001 (deflated 15%)\n",
            "  adding: saved_networks/duelingdqn_model229/assets/ (stored 0%)\n",
            "  adding: saved_networks/duelingdqn_model229/keras_metadata.pb (deflated 64%)\n",
            "  adding: saved_networks/duelingdqn_model316/ (stored 0%)\n",
            "  adding: saved_networks/duelingdqn_model316/net_weights316.h5 (deflated 94%)\n",
            "  adding: saved_networks/duelingdqn_model316/saved_model.pb (deflated 87%)\n",
            "  adding: saved_networks/duelingdqn_model316/variables/ (stored 0%)\n",
            "  adding: saved_networks/duelingdqn_model316/variables/variables.index (deflated 66%)\n",
            "  adding: saved_networks/duelingdqn_model316/variables/variables.data-00000-of-00001 (deflated 15%)\n",
            "  adding: saved_networks/duelingdqn_model316/assets/ (stored 0%)\n",
            "  adding: saved_networks/duelingdqn_model316/keras_metadata.pb (deflated 64%)\n",
            "  adding: saved_networks/duelingdqn_model185/ (stored 0%)\n",
            "  adding: saved_networks/duelingdqn_model185/net_weights185.h5 (deflated 94%)\n",
            "  adding: saved_networks/duelingdqn_model185/saved_model.pb (deflated 87%)\n",
            "  adding: saved_networks/duelingdqn_model185/variables/ (stored 0%)\n",
            "  adding: saved_networks/duelingdqn_model185/variables/variables.index (deflated 66%)\n",
            "  adding: saved_networks/duelingdqn_model185/variables/variables.data-00000-of-00001 (deflated 15%)\n",
            "  adding: saved_networks/duelingdqn_model185/assets/ (stored 0%)\n",
            "  adding: saved_networks/duelingdqn_model185/keras_metadata.pb (deflated 64%)\n",
            "  adding: saved_networks/duelingdqn_model90/ (stored 0%)\n",
            "  adding: saved_networks/duelingdqn_model90/saved_model.pb (deflated 87%)\n",
            "  adding: saved_networks/duelingdqn_model90/net_weights90.h5 (deflated 94%)\n",
            "  adding: saved_networks/duelingdqn_model90/variables/ (stored 0%)\n",
            "  adding: saved_networks/duelingdqn_model90/variables/variables.index (deflated 66%)\n",
            "  adding: saved_networks/duelingdqn_model90/variables/variables.data-00000-of-00001 (deflated 15%)\n",
            "  adding: saved_networks/duelingdqn_model90/assets/ (stored 0%)\n",
            "  adding: saved_networks/duelingdqn_model90/keras_metadata.pb (deflated 64%)\n",
            "  adding: saved_networks/duelingdqn_model149/ (stored 0%)\n",
            "  adding: saved_networks/duelingdqn_model149/saved_model.pb (deflated 87%)\n",
            "  adding: saved_networks/duelingdqn_model149/variables/ (stored 0%)\n",
            "  adding: saved_networks/duelingdqn_model149/variables/variables.index (deflated 66%)\n",
            "  adding: saved_networks/duelingdqn_model149/variables/variables.data-00000-of-00001 (deflated 15%)\n",
            "  adding: saved_networks/duelingdqn_model149/assets/ (stored 0%)\n",
            "  adding: saved_networks/duelingdqn_model149/net_weights149.h5 (deflated 94%)\n",
            "  adding: saved_networks/duelingdqn_model149/keras_metadata.pb (deflated 64%)\n",
            "  adding: saved_networks/duelingdqn_model165/ (stored 0%)\n",
            "  adding: saved_networks/duelingdqn_model165/saved_model.pb (deflated 88%)\n",
            "  adding: saved_networks/duelingdqn_model165/variables/ (stored 0%)\n",
            "  adding: saved_networks/duelingdqn_model165/variables/variables.index (deflated 66%)\n",
            "  adding: saved_networks/duelingdqn_model165/variables/variables.data-00000-of-00001 (deflated 15%)\n",
            "  adding: saved_networks/duelingdqn_model165/assets/ (stored 0%)\n",
            "  adding: saved_networks/duelingdqn_model165/net_weights165.h5 (deflated 94%)\n",
            "  adding: saved_networks/duelingdqn_model165/keras_metadata.pb (deflated 64%)\n",
            "  adding: saved_networks/duelingdqn_model297/ (stored 0%)\n",
            "  adding: saved_networks/duelingdqn_model297/saved_model.pb (deflated 87%)\n",
            "  adding: saved_networks/duelingdqn_model297/variables/ (stored 0%)\n",
            "  adding: saved_networks/duelingdqn_model297/variables/variables.index (deflated 66%)\n",
            "  adding: saved_networks/duelingdqn_model297/variables/variables.data-00000-of-00001 (deflated 15%)\n",
            "  adding: saved_networks/duelingdqn_model297/assets/ (stored 0%)\n",
            "  adding: saved_networks/duelingdqn_model297/net_weights297.h5 (deflated 94%)\n",
            "  adding: saved_networks/duelingdqn_model297/keras_metadata.pb (deflated 64%)\n",
            "  adding: saved_networks/duelingdqn_model250/ (stored 0%)\n",
            "  adding: saved_networks/duelingdqn_model250/net_weights250.h5 (deflated 94%)\n",
            "  adding: saved_networks/duelingdqn_model250/saved_model.pb (deflated 87%)\n",
            "  adding: saved_networks/duelingdqn_model250/variables/ (stored 0%)\n",
            "  adding: saved_networks/duelingdqn_model250/variables/variables.index (deflated 66%)\n",
            "  adding: saved_networks/duelingdqn_model250/variables/variables.data-00000-of-00001 (deflated 15%)\n",
            "  adding: saved_networks/duelingdqn_model250/assets/ (stored 0%)\n",
            "  adding: saved_networks/duelingdqn_model250/keras_metadata.pb (deflated 64%)\n",
            "  adding: saved_networks/duelingdqn_model172/ (stored 0%)\n",
            "  adding: saved_networks/duelingdqn_model172/net_weights172.h5 (deflated 94%)\n",
            "  adding: saved_networks/duelingdqn_model172/saved_model.pb (deflated 87%)\n",
            "  adding: saved_networks/duelingdqn_model172/variables/ (stored 0%)\n",
            "  adding: saved_networks/duelingdqn_model172/variables/variables.index (deflated 66%)\n",
            "  adding: saved_networks/duelingdqn_model172/variables/variables.data-00000-of-00001 (deflated 15%)\n",
            "  adding: saved_networks/duelingdqn_model172/assets/ (stored 0%)\n",
            "  adding: saved_networks/duelingdqn_model172/keras_metadata.pb (deflated 64%)\n",
            "  adding: saved_networks/duelingdqn_model184/ (stored 0%)\n",
            "  adding: saved_networks/duelingdqn_model184/net_weights184.h5 (deflated 94%)\n",
            "  adding: saved_networks/duelingdqn_model184/saved_model.pb (deflated 87%)\n",
            "  adding: saved_networks/duelingdqn_model184/variables/ (stored 0%)\n",
            "  adding: saved_networks/duelingdqn_model184/variables/variables.index (deflated 66%)\n",
            "  adding: saved_networks/duelingdqn_model184/variables/variables.data-00000-of-00001 (deflated 15%)\n",
            "  adding: saved_networks/duelingdqn_model184/assets/ (stored 0%)\n",
            "  adding: saved_networks/duelingdqn_model184/keras_metadata.pb (deflated 64%)\n",
            "  adding: saved_networks/duelingdqn_model32/ (stored 0%)\n",
            "  adding: saved_networks/duelingdqn_model32/net_weights32.h5 (deflated 94%)\n",
            "  adding: saved_networks/duelingdqn_model32/saved_model.pb (deflated 87%)\n",
            "  adding: saved_networks/duelingdqn_model32/variables/ (stored 0%)\n",
            "  adding: saved_networks/duelingdqn_model32/variables/variables.index (deflated 66%)\n",
            "  adding: saved_networks/duelingdqn_model32/variables/variables.data-00000-of-00001 (deflated 14%)\n",
            "  adding: saved_networks/duelingdqn_model32/assets/ (stored 0%)\n",
            "  adding: saved_networks/duelingdqn_model32/keras_metadata.pb (deflated 64%)\n",
            "  adding: saved_networks/duelingdqn_model6/ (stored 0%)\n",
            "  adding: saved_networks/duelingdqn_model6/net_weights6.h5 (deflated 94%)\n",
            "  adding: saved_networks/duelingdqn_model6/saved_model.pb (deflated 87%)\n",
            "  adding: saved_networks/duelingdqn_model6/variables/ (stored 0%)\n",
            "  adding: saved_networks/duelingdqn_model6/variables/variables.index (deflated 66%)\n",
            "  adding: saved_networks/duelingdqn_model6/variables/variables.data-00000-of-00001 (deflated 14%)\n",
            "  adding: saved_networks/duelingdqn_model6/assets/ (stored 0%)\n",
            "  adding: saved_networks/duelingdqn_model6/keras_metadata.pb (deflated 64%)\n",
            "  adding: saved_networks/duelingdqn_model224/ (stored 0%)\n",
            "  adding: saved_networks/duelingdqn_model224/saved_model.pb (deflated 87%)\n",
            "  adding: saved_networks/duelingdqn_model224/variables/ (stored 0%)\n",
            "  adding: saved_networks/duelingdqn_model224/variables/variables.index (deflated 66%)\n",
            "  adding: saved_networks/duelingdqn_model224/variables/variables.data-00000-of-00001 (deflated 15%)\n",
            "  adding: saved_networks/duelingdqn_model224/assets/ (stored 0%)\n",
            "  adding: saved_networks/duelingdqn_model224/keras_metadata.pb (deflated 64%)\n",
            "  adding: saved_networks/duelingdqn_model224/net_weights224.h5 (deflated 94%)\n",
            "  adding: saved_networks/duelingdqn_model195/ (stored 0%)\n",
            "  adding: saved_networks/duelingdqn_model195/net_weights195.h5 (deflated 94%)\n",
            "  adding: saved_networks/duelingdqn_model195/saved_model.pb (deflated 87%)\n",
            "  adding: saved_networks/duelingdqn_model195/variables/ (stored 0%)\n",
            "  adding: saved_networks/duelingdqn_model195/variables/variables.index (deflated 66%)\n",
            "  adding: saved_networks/duelingdqn_model195/variables/variables.data-00000-of-00001 (deflated 15%)\n",
            "  adding: saved_networks/duelingdqn_model195/assets/ (stored 0%)\n",
            "  adding: saved_networks/duelingdqn_model195/keras_metadata.pb (deflated 64%)\n",
            "  adding: saved_networks/duelingdqn_model227/ (stored 0%)\n",
            "  adding: saved_networks/duelingdqn_model227/saved_model.pb (deflated 87%)\n",
            "  adding: saved_networks/duelingdqn_model227/net_weights227.h5 (deflated 94%)\n",
            "  adding: saved_networks/duelingdqn_model227/variables/ (stored 0%)\n",
            "  adding: saved_networks/duelingdqn_model227/variables/variables.index (deflated 66%)\n",
            "  adding: saved_networks/duelingdqn_model227/variables/variables.data-00000-of-00001 (deflated 15%)\n",
            "  adding: saved_networks/duelingdqn_model227/assets/ (stored 0%)\n",
            "  adding: saved_networks/duelingdqn_model227/keras_metadata.pb (deflated 64%)\n",
            "  adding: saved_networks/duelingdqn_model43/ (stored 0%)\n",
            "  adding: saved_networks/duelingdqn_model43/saved_model.pb (deflated 87%)\n",
            "  adding: saved_networks/duelingdqn_model43/variables/ (stored 0%)\n",
            "  adding: saved_networks/duelingdqn_model43/variables/variables.index (deflated 66%)\n",
            "  adding: saved_networks/duelingdqn_model43/variables/variables.data-00000-of-00001 (deflated 15%)\n",
            "  adding: saved_networks/duelingdqn_model43/assets/ (stored 0%)\n",
            "  adding: saved_networks/duelingdqn_model43/net_weights43.h5 (deflated 94%)\n",
            "  adding: saved_networks/duelingdqn_model43/keras_metadata.pb (deflated 64%)\n",
            "  adding: saved_networks/duelingdqn_model157/ (stored 0%)\n",
            "  adding: saved_networks/duelingdqn_model157/net_weights157.h5 (deflated 94%)\n",
            "  adding: saved_networks/duelingdqn_model157/saved_model.pb (deflated 87%)\n",
            "  adding: saved_networks/duelingdqn_model157/variables/ (stored 0%)\n",
            "  adding: saved_networks/duelingdqn_model157/variables/variables.index (deflated 66%)\n",
            "  adding: saved_networks/duelingdqn_model157/variables/variables.data-00000-of-00001 (deflated 15%)\n",
            "  adding: saved_networks/duelingdqn_model157/assets/ (stored 0%)\n",
            "  adding: saved_networks/duelingdqn_model157/keras_metadata.pb (deflated 64%)\n",
            "  adding: saved_networks/duelingdqn_model183/ (stored 0%)\n",
            "  adding: saved_networks/duelingdqn_model183/saved_model.pb (deflated 87%)\n",
            "  adding: saved_networks/duelingdqn_model183/variables/ (stored 0%)\n",
            "  adding: saved_networks/duelingdqn_model183/variables/variables.index (deflated 66%)\n",
            "  adding: saved_networks/duelingdqn_model183/variables/variables.data-00000-of-00001 (deflated 15%)\n",
            "  adding: saved_networks/duelingdqn_model183/assets/ (stored 0%)\n",
            "  adding: saved_networks/duelingdqn_model183/net_weights183.h5 (deflated 94%)\n",
            "  adding: saved_networks/duelingdqn_model183/keras_metadata.pb (deflated 64%)\n",
            "  adding: saved_networks/duelingdqn_model267/ (stored 0%)\n",
            "  adding: saved_networks/duelingdqn_model267/saved_model.pb (deflated 87%)\n",
            "  adding: saved_networks/duelingdqn_model267/variables/ (stored 0%)\n",
            "  adding: saved_networks/duelingdqn_model267/variables/variables.index (deflated 66%)\n",
            "  adding: saved_networks/duelingdqn_model267/variables/variables.data-00000-of-00001 (deflated 15%)\n",
            "  adding: saved_networks/duelingdqn_model267/assets/ (stored 0%)\n",
            "  adding: saved_networks/duelingdqn_model267/net_weights267.h5 (deflated 94%)\n",
            "  adding: saved_networks/duelingdqn_model267/keras_metadata.pb (deflated 64%)\n",
            "  adding: saved_networks/duelingdqn_model214/ (stored 0%)\n",
            "  adding: saved_networks/duelingdqn_model214/net_weights214.h5 (deflated 94%)\n",
            "  adding: saved_networks/duelingdqn_model214/saved_model.pb (deflated 87%)\n",
            "  adding: saved_networks/duelingdqn_model214/variables/ (stored 0%)\n",
            "  adding: saved_networks/duelingdqn_model214/variables/variables.index (deflated 66%)\n",
            "  adding: saved_networks/duelingdqn_model214/variables/variables.data-00000-of-00001 (deflated 15%)\n",
            "  adding: saved_networks/duelingdqn_model214/assets/ (stored 0%)\n",
            "  adding: saved_networks/duelingdqn_model214/keras_metadata.pb (deflated 64%)\n",
            "  adding: saved_networks/duelingdqn_model290/ (stored 0%)\n",
            "  adding: saved_networks/duelingdqn_model290/saved_model.pb (deflated 87%)\n",
            "  adding: saved_networks/duelingdqn_model290/variables/ (stored 0%)\n",
            "  adding: saved_networks/duelingdqn_model290/variables/variables.index (deflated 66%)\n",
            "  adding: saved_networks/duelingdqn_model290/variables/variables.data-00000-of-00001 (deflated 15%)\n",
            "  adding: saved_networks/duelingdqn_model290/assets/ (stored 0%)\n",
            "  adding: saved_networks/duelingdqn_model290/net_weights290.h5 (deflated 94%)\n",
            "  adding: saved_networks/duelingdqn_model290/keras_metadata.pb (deflated 64%)\n",
            "  adding: saved_networks/duelingdqn_model159/ (stored 0%)\n",
            "  adding: saved_networks/duelingdqn_model159/net_weights159.h5 (deflated 94%)\n",
            "  adding: saved_networks/duelingdqn_model159/saved_model.pb (deflated 87%)\n",
            "  adding: saved_networks/duelingdqn_model159/variables/ (stored 0%)\n",
            "  adding: saved_networks/duelingdqn_model159/variables/variables.index (deflated 66%)\n",
            "  adding: saved_networks/duelingdqn_model159/variables/variables.data-00000-of-00001 (deflated 14%)\n",
            "  adding: saved_networks/duelingdqn_model159/assets/ (stored 0%)\n",
            "  adding: saved_networks/duelingdqn_model159/keras_metadata.pb (deflated 64%)\n",
            "  adding: saved_networks/duelingdqn_model24/ (stored 0%)\n",
            "  adding: saved_networks/duelingdqn_model24/saved_model.pb (deflated 87%)\n",
            "  adding: saved_networks/duelingdqn_model24/variables/ (stored 0%)\n",
            "  adding: saved_networks/duelingdqn_model24/variables/variables.index (deflated 66%)\n",
            "  adding: saved_networks/duelingdqn_model24/variables/variables.data-00000-of-00001 (deflated 14%)\n",
            "  adding: saved_networks/duelingdqn_model24/assets/ (stored 0%)\n",
            "  adding: saved_networks/duelingdqn_model24/net_weights24.h5 (deflated 94%)\n",
            "  adding: saved_networks/duelingdqn_model24/keras_metadata.pb (deflated 64%)\n",
            "  adding: saved_networks/duelingdqn_model193/ (stored 0%)\n",
            "  adding: saved_networks/duelingdqn_model193/net_weights193.h5 (deflated 94%)\n",
            "  adding: saved_networks/duelingdqn_model193/saved_model.pb (deflated 87%)\n",
            "  adding: saved_networks/duelingdqn_model193/variables/ (stored 0%)\n",
            "  adding: saved_networks/duelingdqn_model193/variables/variables.index (deflated 66%)\n",
            "  adding: saved_networks/duelingdqn_model193/variables/variables.data-00000-of-00001 (deflated 15%)\n",
            "  adding: saved_networks/duelingdqn_model193/assets/ (stored 0%)\n",
            "  adding: saved_networks/duelingdqn_model193/keras_metadata.pb (deflated 64%)\n",
            "  adding: saved_networks/duelingdqn_model155/ (stored 0%)\n",
            "  adding: saved_networks/duelingdqn_model155/saved_model.pb (deflated 87%)\n",
            "  adding: saved_networks/duelingdqn_model155/variables/ (stored 0%)\n",
            "  adding: saved_networks/duelingdqn_model155/variables/variables.index (deflated 66%)\n",
            "  adding: saved_networks/duelingdqn_model155/variables/variables.data-00000-of-00001 (deflated 15%)\n",
            "  adding: saved_networks/duelingdqn_model155/assets/ (stored 0%)\n",
            "  adding: saved_networks/duelingdqn_model155/net_weights155.h5 (deflated 94%)\n",
            "  adding: saved_networks/duelingdqn_model155/keras_metadata.pb (deflated 64%)\n",
            "  adding: saved_networks/duelingdqn_model30/ (stored 0%)\n",
            "  adding: saved_networks/duelingdqn_model30/net_weights30.h5 (deflated 94%)\n",
            "  adding: saved_networks/duelingdqn_model30/saved_model.pb (deflated 87%)\n",
            "  adding: saved_networks/duelingdqn_model30/variables/ (stored 0%)\n",
            "  adding: saved_networks/duelingdqn_model30/variables/variables.index (deflated 66%)\n",
            "  adding: saved_networks/duelingdqn_model30/variables/variables.data-00000-of-00001 (deflated 15%)\n",
            "  adding: saved_networks/duelingdqn_model30/assets/ (stored 0%)\n",
            "  adding: saved_networks/duelingdqn_model30/keras_metadata.pb (deflated 64%)\n",
            "  adding: saved_networks/duelingdqn_model199/ (stored 0%)\n",
            "  adding: saved_networks/duelingdqn_model199/saved_model.pb (deflated 87%)\n",
            "  adding: saved_networks/duelingdqn_model199/variables/ (stored 0%)\n",
            "  adding: saved_networks/duelingdqn_model199/variables/variables.index (deflated 66%)\n",
            "  adding: saved_networks/duelingdqn_model199/variables/variables.data-00000-of-00001 (deflated 15%)\n",
            "  adding: saved_networks/duelingdqn_model199/assets/ (stored 0%)\n",
            "  adding: saved_networks/duelingdqn_model199/net_weights199.h5 (deflated 94%)\n",
            "  adding: saved_networks/duelingdqn_model199/keras_metadata.pb (deflated 64%)\n",
            "  adding: saved_networks/duelingdqn_model86/ (stored 0%)\n",
            "  adding: saved_networks/duelingdqn_model86/saved_model.pb (deflated 87%)\n",
            "  adding: saved_networks/duelingdqn_model86/variables/ (stored 0%)\n",
            "  adding: saved_networks/duelingdqn_model86/variables/variables.index (deflated 66%)\n",
            "  adding: saved_networks/duelingdqn_model86/variables/variables.data-00000-of-00001 (deflated 15%)\n",
            "  adding: saved_networks/duelingdqn_model86/assets/ (stored 0%)\n",
            "  adding: saved_networks/duelingdqn_model86/keras_metadata.pb (deflated 64%)\n",
            "  adding: saved_networks/duelingdqn_model86/net_weights86.h5 (deflated 94%)\n",
            "  adding: saved_networks/duelingdqn_model82/ (stored 0%)\n",
            "  adding: saved_networks/duelingdqn_model82/saved_model.pb (deflated 87%)\n",
            "  adding: saved_networks/duelingdqn_model82/variables/ (stored 0%)\n",
            "  adding: saved_networks/duelingdqn_model82/variables/variables.index (deflated 66%)\n",
            "  adding: saved_networks/duelingdqn_model82/variables/variables.data-00000-of-00001 (deflated 15%)\n",
            "  adding: saved_networks/duelingdqn_model82/assets/ (stored 0%)\n",
            "  adding: saved_networks/duelingdqn_model82/net_weights82.h5 (deflated 94%)\n",
            "  adding: saved_networks/duelingdqn_model82/keras_metadata.pb (deflated 64%)\n",
            "  adding: saved_networks/duelingdqn_model249/ (stored 0%)\n",
            "  adding: saved_networks/duelingdqn_model249/saved_model.pb (deflated 87%)\n",
            "  adding: saved_networks/duelingdqn_model249/variables/ (stored 0%)\n",
            "  adding: saved_networks/duelingdqn_model249/variables/variables.index (deflated 66%)\n",
            "  adding: saved_networks/duelingdqn_model249/variables/variables.data-00000-of-00001 (deflated 15%)\n",
            "  adding: saved_networks/duelingdqn_model249/net_weights249.h5 (deflated 94%)\n",
            "  adding: saved_networks/duelingdqn_model249/assets/ (stored 0%)\n",
            "  adding: saved_networks/duelingdqn_model249/keras_metadata.pb (deflated 64%)\n",
            "  adding: saved_networks/duelingdqn_model331/ (stored 0%)\n",
            "  adding: saved_networks/duelingdqn_model331/saved_model.pb (deflated 87%)\n",
            "  adding: saved_networks/duelingdqn_model331/variables/ (stored 0%)\n",
            "  adding: saved_networks/duelingdqn_model331/variables/variables.index (deflated 66%)\n",
            "  adding: saved_networks/duelingdqn_model331/variables/variables.data-00000-of-00001 (deflated 15%)\n",
            "  adding: saved_networks/duelingdqn_model331/assets/ (stored 0%)\n",
            "  adding: saved_networks/duelingdqn_model331/keras_metadata.pb (deflated 64%)\n",
            "  adding: saved_networks/duelingdqn_model331/net_weights331.h5 (deflated 94%)\n",
            "  adding: saved_networks/duelingdqn_model251/ (stored 0%)\n",
            "  adding: saved_networks/duelingdqn_model251/net_weights251.h5 (deflated 94%)\n",
            "  adding: saved_networks/duelingdqn_model251/saved_model.pb (deflated 88%)\n",
            "  adding: saved_networks/duelingdqn_model251/variables/ (stored 0%)\n",
            "  adding: saved_networks/duelingdqn_model251/variables/variables.index (deflated 66%)\n",
            "  adding: saved_networks/duelingdqn_model251/variables/variables.data-00000-of-00001 (deflated 15%)\n",
            "  adding: saved_networks/duelingdqn_model251/assets/ (stored 0%)\n",
            "  adding: saved_networks/duelingdqn_model251/keras_metadata.pb (deflated 64%)\n",
            "  adding: saved_networks/duelingdqn_model303/ (stored 0%)\n",
            "  adding: saved_networks/duelingdqn_model303/net_weights303.h5 (deflated 94%)\n",
            "  adding: saved_networks/duelingdqn_model303/saved_model.pb (deflated 87%)\n",
            "  adding: saved_networks/duelingdqn_model303/variables/ (stored 0%)\n",
            "  adding: saved_networks/duelingdqn_model303/variables/variables.index (deflated 66%)\n",
            "  adding: saved_networks/duelingdqn_model303/variables/variables.data-00000-of-00001 (deflated 15%)\n",
            "  adding: saved_networks/duelingdqn_model303/assets/ (stored 0%)\n",
            "  adding: saved_networks/duelingdqn_model303/keras_metadata.pb (deflated 64%)\n",
            "  adding: saved_networks/duelingdqn_model213/ (stored 0%)\n",
            "  adding: saved_networks/duelingdqn_model213/net_weights213.h5 (deflated 94%)\n",
            "  adding: saved_networks/duelingdqn_model213/saved_model.pb (deflated 87%)\n",
            "  adding: saved_networks/duelingdqn_model213/variables/ (stored 0%)\n",
            "  adding: saved_networks/duelingdqn_model213/variables/variables.index (deflated 66%)\n",
            "  adding: saved_networks/duelingdqn_model213/variables/variables.data-00000-of-00001 (deflated 15%)\n",
            "  adding: saved_networks/duelingdqn_model213/assets/ (stored 0%)\n",
            "  adding: saved_networks/duelingdqn_model213/keras_metadata.pb (deflated 64%)\n",
            "  adding: saved_networks/duelingdqn_model262/ (stored 0%)\n",
            "  adding: saved_networks/duelingdqn_model262/net_weights262.h5 (deflated 94%)\n",
            "  adding: saved_networks/duelingdqn_model262/saved_model.pb (deflated 88%)\n",
            "  adding: saved_networks/duelingdqn_model262/variables/ (stored 0%)\n",
            "  adding: saved_networks/duelingdqn_model262/variables/variables.index (deflated 66%)\n",
            "  adding: saved_networks/duelingdqn_model262/variables/variables.data-00000-of-00001 (deflated 15%)\n",
            "  adding: saved_networks/duelingdqn_model262/assets/ (stored 0%)\n",
            "  adding: saved_networks/duelingdqn_model262/keras_metadata.pb (deflated 64%)\n",
            "  adding: saved_networks/duelingdqn_model20/ (stored 0%)\n",
            "  adding: saved_networks/duelingdqn_model20/net_weights20.h5 (deflated 94%)\n",
            "  adding: saved_networks/duelingdqn_model20/saved_model.pb (deflated 87%)\n",
            "  adding: saved_networks/duelingdqn_model20/variables/ (stored 0%)\n",
            "  adding: saved_networks/duelingdqn_model20/variables/variables.index (deflated 66%)\n",
            "  adding: saved_networks/duelingdqn_model20/variables/variables.data-00000-of-00001 (deflated 14%)\n",
            "  adding: saved_networks/duelingdqn_model20/assets/ (stored 0%)\n",
            "  adding: saved_networks/duelingdqn_model20/keras_metadata.pb (deflated 64%)\n",
            "  adding: saved_networks/duelingdqn_model36/ (stored 0%)\n",
            "  adding: saved_networks/duelingdqn_model36/net_weights36.h5 (deflated 94%)\n",
            "  adding: saved_networks/duelingdqn_model36/saved_model.pb (deflated 87%)\n",
            "  adding: saved_networks/duelingdqn_model36/variables/ (stored 0%)\n",
            "  adding: saved_networks/duelingdqn_model36/variables/variables.index (deflated 66%)\n",
            "  adding: saved_networks/duelingdqn_model36/variables/variables.data-00000-of-00001 (deflated 14%)\n",
            "  adding: saved_networks/duelingdqn_model36/assets/ (stored 0%)\n",
            "  adding: saved_networks/duelingdqn_model36/keras_metadata.pb (deflated 64%)\n",
            "  adding: saved_networks/duelingdqn_model71/ (stored 0%)\n",
            "  adding: saved_networks/duelingdqn_model71/net_weights71.h5 (deflated 94%)\n",
            "  adding: saved_networks/duelingdqn_model71/saved_model.pb (deflated 87%)\n",
            "  adding: saved_networks/duelingdqn_model71/variables/ (stored 0%)\n",
            "  adding: saved_networks/duelingdqn_model71/variables/variables.index (deflated 66%)\n",
            "  adding: saved_networks/duelingdqn_model71/variables/variables.data-00000-of-00001 (deflated 15%)\n",
            "  adding: saved_networks/duelingdqn_model71/assets/ (stored 0%)\n",
            "  adding: saved_networks/duelingdqn_model71/keras_metadata.pb (deflated 64%)\n",
            "  adding: saved_networks/duelingdqn_model59/ (stored 0%)\n",
            "  adding: saved_networks/duelingdqn_model59/saved_model.pb (deflated 87%)\n",
            "  adding: saved_networks/duelingdqn_model59/variables/ (stored 0%)\n",
            "  adding: saved_networks/duelingdqn_model59/variables/variables.index (deflated 66%)\n",
            "  adding: saved_networks/duelingdqn_model59/variables/variables.data-00000-of-00001 (deflated 15%)\n",
            "  adding: saved_networks/duelingdqn_model59/assets/ (stored 0%)\n",
            "  adding: saved_networks/duelingdqn_model59/net_weights59.h5 (deflated 94%)\n",
            "  adding: saved_networks/duelingdqn_model59/keras_metadata.pb (deflated 64%)\n",
            "  adding: saved_networks/duelingdqn_model295/ (stored 0%)\n",
            "  adding: saved_networks/duelingdqn_model295/saved_model.pb (deflated 87%)\n",
            "  adding: saved_networks/duelingdqn_model295/variables/ (stored 0%)\n",
            "  adding: saved_networks/duelingdqn_model295/variables/variables.index (deflated 66%)\n",
            "  adding: saved_networks/duelingdqn_model295/variables/variables.data-00000-of-00001 (deflated 15%)\n",
            "  adding: saved_networks/duelingdqn_model295/assets/ (stored 0%)\n",
            "  adding: saved_networks/duelingdqn_model295/net_weights295.h5 (deflated 94%)\n",
            "  adding: saved_networks/duelingdqn_model295/keras_metadata.pb (deflated 64%)\n",
            "  adding: saved_networks/duelingdqn_model338/ (stored 0%)\n",
            "  adding: saved_networks/duelingdqn_model338/saved_model.pb (deflated 87%)\n",
            "  adding: saved_networks/duelingdqn_model338/variables/ (stored 0%)\n",
            "  adding: saved_networks/duelingdqn_model338/variables/variables.index (deflated 66%)\n",
            "  adding: saved_networks/duelingdqn_model338/variables/variables.data-00000-of-00001 (deflated 15%)\n",
            "  adding: saved_networks/duelingdqn_model338/assets/ (stored 0%)\n",
            "  adding: saved_networks/duelingdqn_model338/net_weights338.h5 (deflated 94%)\n",
            "  adding: saved_networks/duelingdqn_model338/keras_metadata.pb (deflated 64%)\n",
            "  adding: saved_networks/duelingdqn_model160/ (stored 0%)\n",
            "  adding: saved_networks/duelingdqn_model160/saved_model.pb (deflated 87%)\n",
            "  adding: saved_networks/duelingdqn_model160/variables/ (stored 0%)\n",
            "  adding: saved_networks/duelingdqn_model160/variables/variables.index (deflated 66%)\n",
            "  adding: saved_networks/duelingdqn_model160/variables/variables.data-00000-of-00001 (deflated 14%)\n",
            "  adding: saved_networks/duelingdqn_model160/assets/ (stored 0%)\n",
            "  adding: saved_networks/duelingdqn_model160/net_weights160.h5 (deflated 94%)\n",
            "  adding: saved_networks/duelingdqn_model160/keras_metadata.pb (deflated 64%)\n",
            "  adding: saved_networks/duelingdqn_model97/ (stored 0%)\n",
            "  adding: saved_networks/duelingdqn_model97/saved_model.pb (deflated 87%)\n",
            "  adding: saved_networks/duelingdqn_model97/variables/ (stored 0%)\n",
            "  adding: saved_networks/duelingdqn_model97/variables/variables.index (deflated 66%)\n",
            "  adding: saved_networks/duelingdqn_model97/variables/variables.data-00000-of-00001 (deflated 15%)\n",
            "  adding: saved_networks/duelingdqn_model97/assets/ (stored 0%)\n",
            "  adding: saved_networks/duelingdqn_model97/net_weights97.h5 (deflated 94%)\n",
            "  adding: saved_networks/duelingdqn_model97/keras_metadata.pb (deflated 64%)\n",
            "  adding: saved_networks/duelingdqn_model46/ (stored 0%)\n",
            "  adding: saved_networks/duelingdqn_model46/net_weights46.h5 (deflated 94%)\n",
            "  adding: saved_networks/duelingdqn_model46/saved_model.pb (deflated 86%)\n",
            "  adding: saved_networks/duelingdqn_model46/variables/ (stored 0%)\n",
            "  adding: saved_networks/duelingdqn_model46/variables/variables.index (deflated 66%)\n",
            "  adding: saved_networks/duelingdqn_model46/variables/variables.data-00000-of-00001 (deflated 15%)\n",
            "  adding: saved_networks/duelingdqn_model46/assets/ (stored 0%)\n",
            "  adding: saved_networks/duelingdqn_model46/keras_metadata.pb (deflated 64%)\n",
            "  adding: saved_networks/duelingdqn_model16/ (stored 0%)\n",
            "  adding: saved_networks/duelingdqn_model16/saved_model.pb (deflated 87%)\n",
            "  adding: saved_networks/duelingdqn_model16/variables/ (stored 0%)\n",
            "  adding: saved_networks/duelingdqn_model16/variables/variables.index (deflated 66%)\n",
            "  adding: saved_networks/duelingdqn_model16/variables/variables.data-00000-of-00001 (deflated 14%)\n",
            "  adding: saved_networks/duelingdqn_model16/net_weights16.h5 (deflated 94%)\n",
            "  adding: saved_networks/duelingdqn_model16/assets/ (stored 0%)\n",
            "  adding: saved_networks/duelingdqn_model16/keras_metadata.pb (deflated 64%)\n",
            "  adding: saved_networks/duelingdqn_model322/ (stored 0%)\n",
            "  adding: saved_networks/duelingdqn_model322/saved_model.pb (deflated 87%)\n",
            "  adding: saved_networks/duelingdqn_model322/variables/ (stored 0%)\n",
            "  adding: saved_networks/duelingdqn_model322/variables/variables.index (deflated 66%)\n",
            "  adding: saved_networks/duelingdqn_model322/variables/variables.data-00000-of-00001 (deflated 15%)\n",
            "  adding: saved_networks/duelingdqn_model322/assets/ (stored 0%)\n",
            "  adding: saved_networks/duelingdqn_model322/net_weights322.h5 (deflated 94%)\n",
            "  adding: saved_networks/duelingdqn_model322/keras_metadata.pb (deflated 64%)\n",
            "  adding: saved_networks/duelingdqn_model29/ (stored 0%)\n",
            "  adding: saved_networks/duelingdqn_model29/saved_model.pb (deflated 87%)\n",
            "  adding: saved_networks/duelingdqn_model29/variables/ (stored 0%)\n",
            "  adding: saved_networks/duelingdqn_model29/variables/variables.index (deflated 66%)\n",
            "  adding: saved_networks/duelingdqn_model29/variables/variables.data-00000-of-00001 (deflated 14%)\n",
            "  adding: saved_networks/duelingdqn_model29/assets/ (stored 0%)\n",
            "  adding: saved_networks/duelingdqn_model29/net_weights29.h5 (deflated 94%)\n",
            "  adding: saved_networks/duelingdqn_model29/keras_metadata.pb (deflated 64%)\n",
            "  adding: saved_networks/duelingdqn_model173/ (stored 0%)\n",
            "  adding: saved_networks/duelingdqn_model173/saved_model.pb (deflated 87%)\n",
            "  adding: saved_networks/duelingdqn_model173/variables/ (stored 0%)\n",
            "  adding: saved_networks/duelingdqn_model173/variables/variables.index (deflated 66%)\n",
            "  adding: saved_networks/duelingdqn_model173/variables/variables.data-00000-of-00001 (deflated 15%)\n",
            "  adding: saved_networks/duelingdqn_model173/assets/ (stored 0%)\n",
            "  adding: saved_networks/duelingdqn_model173/net_weights173.h5 (deflated 94%)\n",
            "  adding: saved_networks/duelingdqn_model173/keras_metadata.pb (deflated 64%)\n",
            "  adding: saved_networks/duelingdqn_model181/ (stored 0%)\n",
            "  adding: saved_networks/duelingdqn_model181/saved_model.pb (deflated 87%)\n",
            "  adding: saved_networks/duelingdqn_model181/variables/ (stored 0%)\n",
            "  adding: saved_networks/duelingdqn_model181/variables/variables.index (deflated 66%)\n",
            "  adding: saved_networks/duelingdqn_model181/variables/variables.data-00000-of-00001 (deflated 15%)\n",
            "  adding: saved_networks/duelingdqn_model181/assets/ (stored 0%)\n",
            "  adding: saved_networks/duelingdqn_model181/keras_metadata.pb (deflated 64%)\n",
            "  adding: saved_networks/duelingdqn_model181/net_weights181.h5 (deflated 94%)\n",
            "  adding: saved_networks/duelingdqn_model268/ (stored 0%)\n",
            "  adding: saved_networks/duelingdqn_model268/net_weights268.h5 (deflated 94%)\n",
            "  adding: saved_networks/duelingdqn_model268/saved_model.pb (deflated 88%)\n",
            "  adding: saved_networks/duelingdqn_model268/variables/ (stored 0%)\n",
            "  adding: saved_networks/duelingdqn_model268/variables/variables.index (deflated 66%)\n",
            "  adding: saved_networks/duelingdqn_model268/variables/variables.data-00000-of-00001 (deflated 15%)\n",
            "  adding: saved_networks/duelingdqn_model268/assets/ (stored 0%)\n",
            "  adding: saved_networks/duelingdqn_model268/keras_metadata.pb (deflated 64%)\n",
            "  adding: saved_networks/duelingdqn_model116/ (stored 0%)\n",
            "  adding: saved_networks/duelingdqn_model116/saved_model.pb (deflated 88%)\n",
            "  adding: saved_networks/duelingdqn_model116/variables/ (stored 0%)\n",
            "  adding: saved_networks/duelingdqn_model116/variables/variables.index (deflated 66%)\n",
            "  adding: saved_networks/duelingdqn_model116/variables/variables.data-00000-of-00001 (deflated 15%)\n",
            "  adding: saved_networks/duelingdqn_model116/assets/ (stored 0%)\n",
            "  adding: saved_networks/duelingdqn_model116/net_weights116.h5 (deflated 94%)\n",
            "  adding: saved_networks/duelingdqn_model116/keras_metadata.pb (deflated 64%)\n",
            "  adding: saved_networks/duelingdqn_model190/ (stored 0%)\n",
            "  adding: saved_networks/duelingdqn_model190/net_weights190.h5 (deflated 94%)\n",
            "  adding: saved_networks/duelingdqn_model190/saved_model.pb (deflated 87%)\n",
            "  adding: saved_networks/duelingdqn_model190/variables/ (stored 0%)\n",
            "  adding: saved_networks/duelingdqn_model190/variables/variables.index (deflated 66%)\n",
            "  adding: saved_networks/duelingdqn_model190/variables/variables.data-00000-of-00001 (deflated 15%)\n",
            "  adding: saved_networks/duelingdqn_model190/assets/ (stored 0%)\n",
            "  adding: saved_networks/duelingdqn_model190/keras_metadata.pb (deflated 64%)\n",
            "  adding: saved_networks/duelingdqn_model216/ (stored 0%)\n",
            "  adding: saved_networks/duelingdqn_model216/saved_model.pb (deflated 87%)\n",
            "  adding: saved_networks/duelingdqn_model216/net_weights216.h5 (deflated 94%)\n",
            "  adding: saved_networks/duelingdqn_model216/variables/ (stored 0%)\n",
            "  adding: saved_networks/duelingdqn_model216/variables/variables.index (deflated 66%)\n",
            "  adding: saved_networks/duelingdqn_model216/variables/variables.data-00000-of-00001 (deflated 15%)\n",
            "  adding: saved_networks/duelingdqn_model216/assets/ (stored 0%)\n",
            "  adding: saved_networks/duelingdqn_model216/keras_metadata.pb (deflated 64%)\n",
            "  adding: saved_networks/duelingdqn_model15/ (stored 0%)\n",
            "  adding: saved_networks/duelingdqn_model15/net_weights15.h5 (deflated 94%)\n",
            "  adding: saved_networks/duelingdqn_model15/saved_model.pb (deflated 87%)\n",
            "  adding: saved_networks/duelingdqn_model15/variables/ (stored 0%)\n",
            "  adding: saved_networks/duelingdqn_model15/variables/variables.index (deflated 66%)\n",
            "  adding: saved_networks/duelingdqn_model15/variables/variables.data-00000-of-00001 (deflated 14%)\n",
            "  adding: saved_networks/duelingdqn_model15/assets/ (stored 0%)\n",
            "  adding: saved_networks/duelingdqn_model15/keras_metadata.pb (deflated 64%)\n",
            "  adding: saved_networks/duelingdqn_model283/ (stored 0%)\n",
            "  adding: saved_networks/duelingdqn_model283/saved_model.pb (deflated 87%)\n",
            "  adding: saved_networks/duelingdqn_model283/variables/ (stored 0%)\n",
            "  adding: saved_networks/duelingdqn_model283/variables/variables.index (deflated 66%)\n",
            "  adding: saved_networks/duelingdqn_model283/variables/variables.data-00000-of-00001 (deflated 15%)\n",
            "  adding: saved_networks/duelingdqn_model283/assets/ (stored 0%)\n",
            "  adding: saved_networks/duelingdqn_model283/net_weights283.h5 (deflated 94%)\n",
            "  adding: saved_networks/duelingdqn_model283/keras_metadata.pb (deflated 64%)\n",
            "  adding: saved_networks/duelingdqn_model23/ (stored 0%)\n",
            "  adding: saved_networks/duelingdqn_model23/saved_model.pb (deflated 87%)\n",
            "  adding: saved_networks/duelingdqn_model23/variables/ (stored 0%)\n",
            "  adding: saved_networks/duelingdqn_model23/variables/variables.index (deflated 66%)\n",
            "  adding: saved_networks/duelingdqn_model23/variables/variables.data-00000-of-00001 (deflated 14%)\n",
            "  adding: saved_networks/duelingdqn_model23/assets/ (stored 0%)\n",
            "  adding: saved_networks/duelingdqn_model23/keras_metadata.pb (deflated 64%)\n",
            "  adding: saved_networks/duelingdqn_model23/net_weights23.h5 (deflated 94%)\n",
            "  adding: saved_networks/duelingdqn_model105/ (stored 0%)\n",
            "  adding: saved_networks/duelingdqn_model105/net_weights105.h5 (deflated 94%)\n",
            "  adding: saved_networks/duelingdqn_model105/saved_model.pb (deflated 87%)\n",
            "  adding: saved_networks/duelingdqn_model105/variables/ (stored 0%)\n",
            "  adding: saved_networks/duelingdqn_model105/variables/variables.index (deflated 66%)\n",
            "  adding: saved_networks/duelingdqn_model105/variables/variables.data-00000-of-00001 (deflated 15%)\n",
            "  adding: saved_networks/duelingdqn_model105/assets/ (stored 0%)\n",
            "  adding: saved_networks/duelingdqn_model105/keras_metadata.pb (deflated 64%)\n",
            "  adding: saved_networks/duelingdqn_model287/ (stored 0%)\n",
            "  adding: saved_networks/duelingdqn_model287/saved_model.pb (deflated 87%)\n",
            "  adding: saved_networks/duelingdqn_model287/variables/ (stored 0%)\n",
            "  adding: saved_networks/duelingdqn_model287/variables/variables.index (deflated 66%)\n",
            "  adding: saved_networks/duelingdqn_model287/variables/variables.data-00000-of-00001 (deflated 15%)\n",
            "  adding: saved_networks/duelingdqn_model287/assets/ (stored 0%)\n",
            "  adding: saved_networks/duelingdqn_model287/net_weights287.h5 (deflated 94%)\n",
            "  adding: saved_networks/duelingdqn_model287/keras_metadata.pb (deflated 64%)\n",
            "  adding: saved_networks/duelingdqn_model265/ (stored 0%)\n",
            "  adding: saved_networks/duelingdqn_model265/saved_model.pb (deflated 87%)\n",
            "  adding: saved_networks/duelingdqn_model265/variables/ (stored 0%)\n",
            "  adding: saved_networks/duelingdqn_model265/variables/variables.index (deflated 66%)\n",
            "  adding: saved_networks/duelingdqn_model265/variables/variables.data-00000-of-00001 (deflated 15%)\n",
            "  adding: saved_networks/duelingdqn_model265/assets/ (stored 0%)\n",
            "  adding: saved_networks/duelingdqn_model265/keras_metadata.pb (deflated 64%)\n",
            "  adding: saved_networks/duelingdqn_model265/net_weights265.h5 (deflated 94%)\n",
            "  adding: saved_networks/duelingdqn_model11/ (stored 0%)\n",
            "  adding: saved_networks/duelingdqn_model11/saved_model.pb (deflated 87%)\n",
            "  adding: saved_networks/duelingdqn_model11/net_weights11.h5 (deflated 94%)\n",
            "  adding: saved_networks/duelingdqn_model11/variables/ (stored 0%)\n",
            "  adding: saved_networks/duelingdqn_model11/variables/variables.index (deflated 66%)\n",
            "  adding: saved_networks/duelingdqn_model11/variables/variables.data-00000-of-00001 (deflated 14%)\n",
            "  adding: saved_networks/duelingdqn_model11/assets/ (stored 0%)\n",
            "  adding: saved_networks/duelingdqn_model11/keras_metadata.pb (deflated 64%)\n",
            "  adding: saved_networks/duelingdqn_model136/ (stored 0%)\n",
            "  adding: saved_networks/duelingdqn_model136/saved_model.pb (deflated 87%)\n",
            "  adding: saved_networks/duelingdqn_model136/net_weights136.h5 (deflated 94%)\n",
            "  adding: saved_networks/duelingdqn_model136/variables/ (stored 0%)\n",
            "  adding: saved_networks/duelingdqn_model136/variables/variables.index (deflated 66%)\n",
            "  adding: saved_networks/duelingdqn_model136/variables/variables.data-00000-of-00001 (deflated 15%)\n",
            "  adding: saved_networks/duelingdqn_model136/assets/ (stored 0%)\n",
            "  adding: saved_networks/duelingdqn_model136/keras_metadata.pb (deflated 64%)\n",
            "  adding: saved_networks/duelingdqn_model304/ (stored 0%)\n",
            "  adding: saved_networks/duelingdqn_model304/saved_model.pb (deflated 87%)\n",
            "  adding: saved_networks/duelingdqn_model304/variables/ (stored 0%)\n",
            "  adding: saved_networks/duelingdqn_model304/variables/variables.index (deflated 66%)\n",
            "  adding: saved_networks/duelingdqn_model304/variables/variables.data-00000-of-00001 (deflated 15%)\n",
            "  adding: saved_networks/duelingdqn_model304/assets/ (stored 0%)\n",
            "  adding: saved_networks/duelingdqn_model304/net_weights304.h5 (deflated 94%)\n",
            "  adding: saved_networks/duelingdqn_model304/keras_metadata.pb (deflated 64%)\n",
            "  adding: saved_networks/duelingdqn_model139/ (stored 0%)\n",
            "  adding: saved_networks/duelingdqn_model139/saved_model.pb (deflated 87%)\n",
            "  adding: saved_networks/duelingdqn_model139/variables/ (stored 0%)\n",
            "  adding: saved_networks/duelingdqn_model139/variables/variables.index (deflated 66%)\n",
            "  adding: saved_networks/duelingdqn_model139/variables/variables.data-00000-of-00001 (deflated 15%)\n",
            "  adding: saved_networks/duelingdqn_model139/assets/ (stored 0%)\n",
            "  adding: saved_networks/duelingdqn_model139/keras_metadata.pb (deflated 64%)\n",
            "  adding: saved_networks/duelingdqn_model139/net_weights139.h5 (deflated 94%)\n",
            "  adding: saved_networks/duelingdqn_model61/ (stored 0%)\n",
            "  adding: saved_networks/duelingdqn_model61/saved_model.pb (deflated 87%)\n",
            "  adding: saved_networks/duelingdqn_model61/variables/ (stored 0%)\n",
            "  adding: saved_networks/duelingdqn_model61/variables/variables.index (deflated 66%)\n",
            "  adding: saved_networks/duelingdqn_model61/variables/variables.data-00000-of-00001 (deflated 15%)\n",
            "  adding: saved_networks/duelingdqn_model61/assets/ (stored 0%)\n",
            "  adding: saved_networks/duelingdqn_model61/net_weights61.h5 (deflated 94%)\n",
            "  adding: saved_networks/duelingdqn_model61/keras_metadata.pb (deflated 64%)\n",
            "  adding: saved_networks/duelingdqn_model42/ (stored 0%)\n",
            "  adding: saved_networks/duelingdqn_model42/net_weights42.h5 (deflated 94%)\n",
            "  adding: saved_networks/duelingdqn_model42/saved_model.pb (deflated 87%)\n",
            "  adding: saved_networks/duelingdqn_model42/variables/ (stored 0%)\n",
            "  adding: saved_networks/duelingdqn_model42/variables/variables.index (deflated 66%)\n",
            "  adding: saved_networks/duelingdqn_model42/variables/variables.data-00000-of-00001 (deflated 15%)\n",
            "  adding: saved_networks/duelingdqn_model42/assets/ (stored 0%)\n",
            "  adding: saved_networks/duelingdqn_model42/keras_metadata.pb (deflated 64%)\n",
            "  adding: saved_networks/duelingdqn_model323/ (stored 0%)\n",
            "  adding: saved_networks/duelingdqn_model323/saved_model.pb (deflated 87%)\n",
            "  adding: saved_networks/duelingdqn_model323/net_weights323.h5 (deflated 94%)\n",
            "  adding: saved_networks/duelingdqn_model323/variables/ (stored 0%)\n",
            "  adding: saved_networks/duelingdqn_model323/variables/variables.index (deflated 66%)\n",
            "  adding: saved_networks/duelingdqn_model323/variables/variables.data-00000-of-00001 (deflated 15%)\n",
            "  adding: saved_networks/duelingdqn_model323/assets/ (stored 0%)\n",
            "  adding: saved_networks/duelingdqn_model323/keras_metadata.pb (deflated 64%)\n",
            "  adding: saved_networks/duelingdqn_model103/ (stored 0%)\n",
            "  adding: saved_networks/duelingdqn_model103/net_weights103.h5 (deflated 94%)\n",
            "  adding: saved_networks/duelingdqn_model103/saved_model.pb (deflated 86%)\n",
            "  adding: saved_networks/duelingdqn_model103/variables/ (stored 0%)\n",
            "  adding: saved_networks/duelingdqn_model103/variables/variables.index (deflated 66%)\n",
            "  adding: saved_networks/duelingdqn_model103/variables/variables.data-00000-of-00001 (deflated 15%)\n",
            "  adding: saved_networks/duelingdqn_model103/assets/ (stored 0%)\n",
            "  adding: saved_networks/duelingdqn_model103/keras_metadata.pb (deflated 64%)\n",
            "  adding: saved_networks/duelingdqn_model302/ (stored 0%)\n",
            "  adding: saved_networks/duelingdqn_model302/saved_model.pb (deflated 87%)\n",
            "  adding: saved_networks/duelingdqn_model302/variables/ (stored 0%)\n",
            "  adding: saved_networks/duelingdqn_model302/variables/variables.index (deflated 66%)\n",
            "  adding: saved_networks/duelingdqn_model302/variables/variables.data-00000-of-00001 (deflated 15%)\n",
            "  adding: saved_networks/duelingdqn_model302/assets/ (stored 0%)\n",
            "  adding: saved_networks/duelingdqn_model302/net_weights302.h5 (deflated 94%)\n",
            "  adding: saved_networks/duelingdqn_model302/keras_metadata.pb (deflated 64%)\n",
            "  adding: saved_networks/duelingdqn_model258/ (stored 0%)\n",
            "  adding: saved_networks/duelingdqn_model258/saved_model.pb (deflated 87%)\n",
            "  adding: saved_networks/duelingdqn_model258/variables/ (stored 0%)\n",
            "  adding: saved_networks/duelingdqn_model258/variables/variables.index (deflated 66%)\n",
            "  adding: saved_networks/duelingdqn_model258/variables/variables.data-00000-of-00001 (deflated 15%)\n",
            "  adding: saved_networks/duelingdqn_model258/assets/ (stored 0%)\n",
            "  adding: saved_networks/duelingdqn_model258/net_weights258.h5 (deflated 94%)\n",
            "  adding: saved_networks/duelingdqn_model258/keras_metadata.pb (deflated 64%)\n",
            "  adding: saved_networks/duelingdqn_model233/ (stored 0%)\n",
            "  adding: saved_networks/duelingdqn_model233/net_weights233.h5 (deflated 94%)\n",
            "  adding: saved_networks/duelingdqn_model233/saved_model.pb (deflated 87%)\n",
            "  adding: saved_networks/duelingdqn_model233/variables/ (stored 0%)\n",
            "  adding: saved_networks/duelingdqn_model233/variables/variables.index (deflated 66%)\n",
            "  adding: saved_networks/duelingdqn_model233/variables/variables.data-00000-of-00001 (deflated 15%)\n",
            "  adding: saved_networks/duelingdqn_model233/assets/ (stored 0%)\n",
            "  adding: saved_networks/duelingdqn_model233/keras_metadata.pb (deflated 64%)\n",
            "  adding: saved_networks/duelingdqn_model244/ (stored 0%)\n",
            "  adding: saved_networks/duelingdqn_model244/net_weights244.h5 (deflated 94%)\n",
            "  adding: saved_networks/duelingdqn_model244/saved_model.pb (deflated 87%)\n",
            "  adding: saved_networks/duelingdqn_model244/variables/ (stored 0%)\n",
            "  adding: saved_networks/duelingdqn_model244/variables/variables.index (deflated 66%)\n",
            "  adding: saved_networks/duelingdqn_model244/variables/variables.data-00000-of-00001 (deflated 15%)\n",
            "  adding: saved_networks/duelingdqn_model244/assets/ (stored 0%)\n",
            "  adding: saved_networks/duelingdqn_model244/keras_metadata.pb (deflated 64%)\n",
            "  adding: saved_networks/duelingdqn_model25/ (stored 0%)\n",
            "  adding: saved_networks/duelingdqn_model25/saved_model.pb (deflated 87%)\n",
            "  adding: saved_networks/duelingdqn_model25/variables/ (stored 0%)\n",
            "  adding: saved_networks/duelingdqn_model25/variables/variables.index (deflated 66%)\n",
            "  adding: saved_networks/duelingdqn_model25/variables/variables.data-00000-of-00001 (deflated 15%)\n",
            "  adding: saved_networks/duelingdqn_model25/assets/ (stored 0%)\n",
            "  adding: saved_networks/duelingdqn_model25/net_weights25.h5 (deflated 94%)\n",
            "  adding: saved_networks/duelingdqn_model25/keras_metadata.pb (deflated 64%)\n",
            "  adding: saved_networks/duelingdqn_model217/ (stored 0%)\n",
            "  adding: saved_networks/duelingdqn_model217/net_weights217.h5 (deflated 94%)\n",
            "  adding: saved_networks/duelingdqn_model217/saved_model.pb (deflated 87%)\n",
            "  adding: saved_networks/duelingdqn_model217/variables/ (stored 0%)\n",
            "  adding: saved_networks/duelingdqn_model217/variables/variables.index (deflated 66%)\n",
            "  adding: saved_networks/duelingdqn_model217/variables/variables.data-00000-of-00001 (deflated 15%)\n",
            "  adding: saved_networks/duelingdqn_model217/assets/ (stored 0%)\n",
            "  adding: saved_networks/duelingdqn_model217/keras_metadata.pb (deflated 64%)\n",
            "  adding: saved_networks/duelingdqn_model215/ (stored 0%)\n",
            "  adding: saved_networks/duelingdqn_model215/saved_model.pb (deflated 86%)\n",
            "  adding: saved_networks/duelingdqn_model215/variables/ (stored 0%)\n",
            "  adding: saved_networks/duelingdqn_model215/variables/variables.index (deflated 66%)\n",
            "  adding: saved_networks/duelingdqn_model215/variables/variables.data-00000-of-00001 (deflated 15%)\n",
            "  adding: saved_networks/duelingdqn_model215/net_weights215.h5 (deflated 94%)\n",
            "  adding: saved_networks/duelingdqn_model215/assets/ (stored 0%)\n",
            "  adding: saved_networks/duelingdqn_model215/keras_metadata.pb (deflated 64%)\n",
            "  adding: saved_networks/duelingdqn_model176/ (stored 0%)\n",
            "  adding: saved_networks/duelingdqn_model176/net_weights176.h5 (deflated 94%)\n",
            "  adding: saved_networks/duelingdqn_model176/saved_model.pb (deflated 87%)\n",
            "  adding: saved_networks/duelingdqn_model176/variables/ (stored 0%)\n",
            "  adding: saved_networks/duelingdqn_model176/variables/variables.index (deflated 66%)\n",
            "  adding: saved_networks/duelingdqn_model176/variables/variables.data-00000-of-00001 (deflated 15%)\n",
            "  adding: saved_networks/duelingdqn_model176/assets/ (stored 0%)\n",
            "  adding: saved_networks/duelingdqn_model176/keras_metadata.pb (deflated 64%)\n",
            "  adding: saved_networks/duelingdqn_model223/ (stored 0%)\n",
            "  adding: saved_networks/duelingdqn_model223/net_weights223.h5 (deflated 94%)\n",
            "  adding: saved_networks/duelingdqn_model223/saved_model.pb (deflated 87%)\n",
            "  adding: saved_networks/duelingdqn_model223/variables/ (stored 0%)\n",
            "  adding: saved_networks/duelingdqn_model223/variables/variables.index (deflated 66%)\n",
            "  adding: saved_networks/duelingdqn_model223/variables/variables.data-00000-of-00001 (deflated 15%)\n",
            "  adding: saved_networks/duelingdqn_model223/assets/ (stored 0%)\n",
            "  adding: saved_networks/duelingdqn_model223/keras_metadata.pb (deflated 64%)\n",
            "  adding: saved_networks/duelingdqn_model206/ (stored 0%)\n",
            "  adding: saved_networks/duelingdqn_model206/net_weights206.h5 (deflated 94%)\n",
            "  adding: saved_networks/duelingdqn_model206/saved_model.pb (deflated 87%)\n",
            "  adding: saved_networks/duelingdqn_model206/variables/ (stored 0%)\n",
            "  adding: saved_networks/duelingdqn_model206/variables/variables.index (deflated 66%)\n",
            "  adding: saved_networks/duelingdqn_model206/variables/variables.data-00000-of-00001 (deflated 15%)\n",
            "  adding: saved_networks/duelingdqn_model206/assets/ (stored 0%)\n",
            "  adding: saved_networks/duelingdqn_model206/keras_metadata.pb (deflated 64%)\n",
            "  adding: saved_networks/duelingdqn_model240/ (stored 0%)\n",
            "  adding: saved_networks/duelingdqn_model240/net_weights240.h5 (deflated 94%)\n",
            "  adding: saved_networks/duelingdqn_model240/saved_model.pb (deflated 87%)\n",
            "  adding: saved_networks/duelingdqn_model240/variables/ (stored 0%)\n",
            "  adding: saved_networks/duelingdqn_model240/variables/variables.index (deflated 66%)\n",
            "  adding: saved_networks/duelingdqn_model240/variables/variables.data-00000-of-00001 (deflated 15%)\n",
            "  adding: saved_networks/duelingdqn_model240/assets/ (stored 0%)\n",
            "  adding: saved_networks/duelingdqn_model240/keras_metadata.pb (deflated 64%)\n",
            "  adding: saved_networks/duelingdqn_model273/ (stored 0%)\n",
            "  adding: saved_networks/duelingdqn_model273/net_weights273.h5 (deflated 94%)\n",
            "  adding: saved_networks/duelingdqn_model273/saved_model.pb (deflated 87%)\n",
            "  adding: saved_networks/duelingdqn_model273/variables/ (stored 0%)\n",
            "  adding: saved_networks/duelingdqn_model273/variables/variables.index (deflated 66%)\n",
            "  adding: saved_networks/duelingdqn_model273/variables/variables.data-00000-of-00001 (deflated 15%)\n",
            "  adding: saved_networks/duelingdqn_model273/assets/ (stored 0%)\n",
            "  adding: saved_networks/duelingdqn_model273/keras_metadata.pb (deflated 64%)\n",
            "  adding: saved_networks/duelingdqn_model271/ (stored 0%)\n",
            "  adding: saved_networks/duelingdqn_model271/saved_model.pb (deflated 87%)\n",
            "  adding: saved_networks/duelingdqn_model271/variables/ (stored 0%)\n",
            "  adding: saved_networks/duelingdqn_model271/variables/variables.index (deflated 66%)\n",
            "  adding: saved_networks/duelingdqn_model271/variables/variables.data-00000-of-00001 (deflated 15%)\n",
            "  adding: saved_networks/duelingdqn_model271/assets/ (stored 0%)\n",
            "  adding: saved_networks/duelingdqn_model271/net_weights271.h5 (deflated 94%)\n",
            "  adding: saved_networks/duelingdqn_model271/keras_metadata.pb (deflated 64%)\n",
            "  adding: saved_networks/duelingdqn_model174/ (stored 0%)\n",
            "  adding: saved_networks/duelingdqn_model174/net_weights174.h5 (deflated 94%)\n",
            "  adding: saved_networks/duelingdqn_model174/saved_model.pb (deflated 87%)\n",
            "  adding: saved_networks/duelingdqn_model174/variables/ (stored 0%)\n",
            "  adding: saved_networks/duelingdqn_model174/variables/variables.index (deflated 66%)\n",
            "  adding: saved_networks/duelingdqn_model174/variables/variables.data-00000-of-00001 (deflated 15%)\n",
            "  adding: saved_networks/duelingdqn_model174/assets/ (stored 0%)\n",
            "  adding: saved_networks/duelingdqn_model174/keras_metadata.pb (deflated 64%)\n",
            "  adding: saved_networks/duelingdqn_model56/ (stored 0%)\n",
            "  adding: saved_networks/duelingdqn_model56/net_weights56.h5 (deflated 94%)\n",
            "  adding: saved_networks/duelingdqn_model56/saved_model.pb (deflated 86%)\n",
            "  adding: saved_networks/duelingdqn_model56/variables/ (stored 0%)\n",
            "  adding: saved_networks/duelingdqn_model56/variables/variables.index (deflated 66%)\n",
            "  adding: saved_networks/duelingdqn_model56/variables/variables.data-00000-of-00001 (deflated 15%)\n",
            "  adding: saved_networks/duelingdqn_model56/assets/ (stored 0%)\n",
            "  adding: saved_networks/duelingdqn_model56/keras_metadata.pb (deflated 64%)\n",
            "  adding: saved_networks/duelingdqn_model128/ (stored 0%)\n",
            "  adding: saved_networks/duelingdqn_model128/saved_model.pb (deflated 87%)\n",
            "  adding: saved_networks/duelingdqn_model128/variables/ (stored 0%)\n",
            "  adding: saved_networks/duelingdqn_model128/variables/variables.index (deflated 66%)\n",
            "  adding: saved_networks/duelingdqn_model128/variables/variables.data-00000-of-00001 (deflated 15%)\n",
            "  adding: saved_networks/duelingdqn_model128/assets/ (stored 0%)\n",
            "  adding: saved_networks/duelingdqn_model128/net_weights128.h5 (deflated 94%)\n",
            "  adding: saved_networks/duelingdqn_model128/keras_metadata.pb (deflated 64%)\n",
            "  adding: saved_networks/duelingdqn_model33/ (stored 0%)\n",
            "  adding: saved_networks/duelingdqn_model33/net_weights33.h5 (deflated 94%)\n",
            "  adding: saved_networks/duelingdqn_model33/saved_model.pb (deflated 87%)\n",
            "  adding: saved_networks/duelingdqn_model33/variables/ (stored 0%)\n",
            "  adding: saved_networks/duelingdqn_model33/variables/variables.index (deflated 66%)\n",
            "  adding: saved_networks/duelingdqn_model33/variables/variables.data-00000-of-00001 (deflated 14%)\n",
            "  adding: saved_networks/duelingdqn_model33/assets/ (stored 0%)\n",
            "  adding: saved_networks/duelingdqn_model33/keras_metadata.pb (deflated 64%)\n",
            "  adding: saved_networks/duelingdqn_model252/ (stored 0%)\n",
            "  adding: saved_networks/duelingdqn_model252/net_weights252.h5 (deflated 94%)\n",
            "  adding: saved_networks/duelingdqn_model252/saved_model.pb (deflated 87%)\n",
            "  adding: saved_networks/duelingdqn_model252/variables/ (stored 0%)\n",
            "  adding: saved_networks/duelingdqn_model252/variables/variables.index (deflated 66%)\n",
            "  adding: saved_networks/duelingdqn_model252/variables/variables.data-00000-of-00001 (deflated 15%)\n",
            "  adding: saved_networks/duelingdqn_model252/assets/ (stored 0%)\n",
            "  adding: saved_networks/duelingdqn_model252/keras_metadata.pb (deflated 64%)\n",
            "  adding: saved_networks/duelingdqn_model254/ (stored 0%)\n",
            "  adding: saved_networks/duelingdqn_model254/saved_model.pb (deflated 87%)\n",
            "  adding: saved_networks/duelingdqn_model254/variables/ (stored 0%)\n",
            "  adding: saved_networks/duelingdqn_model254/variables/variables.index (deflated 66%)\n",
            "  adding: saved_networks/duelingdqn_model254/variables/variables.data-00000-of-00001 (deflated 15%)\n",
            "  adding: saved_networks/duelingdqn_model254/assets/ (stored 0%)\n",
            "  adding: saved_networks/duelingdqn_model254/keras_metadata.pb (deflated 64%)\n",
            "  adding: saved_networks/duelingdqn_model254/net_weights254.h5 (deflated 94%)\n",
            "  adding: saved_networks/duelingdqn_model305/ (stored 0%)\n",
            "  adding: saved_networks/duelingdqn_model305/saved_model.pb (deflated 88%)\n",
            "  adding: saved_networks/duelingdqn_model305/variables/ (stored 0%)\n",
            "  adding: saved_networks/duelingdqn_model305/variables/variables.index (deflated 66%)\n",
            "  adding: saved_networks/duelingdqn_model305/variables/variables.data-00000-of-00001 (deflated 15%)\n",
            "  adding: saved_networks/duelingdqn_model305/assets/ (stored 0%)\n",
            "  adding: saved_networks/duelingdqn_model305/net_weights305.h5 (deflated 94%)\n",
            "  adding: saved_networks/duelingdqn_model305/keras_metadata.pb (deflated 64%)\n",
            "  adding: saved_networks/duelingdqn_model256/ (stored 0%)\n",
            "  adding: saved_networks/duelingdqn_model256/saved_model.pb (deflated 87%)\n",
            "  adding: saved_networks/duelingdqn_model256/variables/ (stored 0%)\n",
            "  adding: saved_networks/duelingdqn_model256/variables/variables.index (deflated 66%)\n",
            "  adding: saved_networks/duelingdqn_model256/variables/variables.data-00000-of-00001 (deflated 15%)\n",
            "  adding: saved_networks/duelingdqn_model256/assets/ (stored 0%)\n",
            "  adding: saved_networks/duelingdqn_model256/keras_metadata.pb (deflated 64%)\n",
            "  adding: saved_networks/duelingdqn_model256/net_weights256.h5 (deflated 94%)\n",
            "  adding: saved_networks/duelingdqn_model324/ (stored 0%)\n",
            "  adding: saved_networks/duelingdqn_model324/saved_model.pb (deflated 87%)\n",
            "  adding: saved_networks/duelingdqn_model324/variables/ (stored 0%)\n",
            "  adding: saved_networks/duelingdqn_model324/variables/variables.index (deflated 66%)\n",
            "  adding: saved_networks/duelingdqn_model324/variables/variables.data-00000-of-00001 (deflated 15%)\n",
            "  adding: saved_networks/duelingdqn_model324/net_weights324.h5 (deflated 94%)\n",
            "  adding: saved_networks/duelingdqn_model324/assets/ (stored 0%)\n",
            "  adding: saved_networks/duelingdqn_model324/keras_metadata.pb (deflated 64%)\n",
            "  adding: saved_networks/duelingdqn_model317/ (stored 0%)\n",
            "  adding: saved_networks/duelingdqn_model317/net_weights317.h5 (deflated 94%)\n",
            "  adding: saved_networks/duelingdqn_model317/saved_model.pb (deflated 87%)\n",
            "  adding: saved_networks/duelingdqn_model317/variables/ (stored 0%)\n",
            "  adding: saved_networks/duelingdqn_model317/variables/variables.index (deflated 66%)\n",
            "  adding: saved_networks/duelingdqn_model317/variables/variables.data-00000-of-00001 (deflated 15%)\n",
            "  adding: saved_networks/duelingdqn_model317/assets/ (stored 0%)\n",
            "  adding: saved_networks/duelingdqn_model317/keras_metadata.pb (deflated 64%)\n",
            "  adding: saved_networks/duelingdqn_model321/ (stored 0%)\n",
            "  adding: saved_networks/duelingdqn_model321/saved_model.pb (deflated 87%)\n",
            "  adding: saved_networks/duelingdqn_model321/net_weights321.h5 (deflated 94%)\n",
            "  adding: saved_networks/duelingdqn_model321/variables/ (stored 0%)\n",
            "  adding: saved_networks/duelingdqn_model321/variables/variables.index (deflated 66%)\n",
            "  adding: saved_networks/duelingdqn_model321/variables/variables.data-00000-of-00001 (deflated 15%)\n",
            "  adding: saved_networks/duelingdqn_model321/assets/ (stored 0%)\n",
            "  adding: saved_networks/duelingdqn_model321/keras_metadata.pb (deflated 64%)\n",
            "  adding: saved_networks/duelingdqn_model266/ (stored 0%)\n",
            "  adding: saved_networks/duelingdqn_model266/saved_model.pb (deflated 87%)\n",
            "  adding: saved_networks/duelingdqn_model266/variables/ (stored 0%)\n",
            "  adding: saved_networks/duelingdqn_model266/variables/variables.index (deflated 66%)\n",
            "  adding: saved_networks/duelingdqn_model266/variables/variables.data-00000-of-00001 (deflated 15%)\n",
            "  adding: saved_networks/duelingdqn_model266/assets/ (stored 0%)\n",
            "  adding: saved_networks/duelingdqn_model266/keras_metadata.pb (deflated 64%)\n",
            "  adding: saved_networks/duelingdqn_model266/net_weights266.h5 (deflated 94%)\n"
          ]
        }
      ],
      "source": [
        "# saving weights\n",
        "! zip -r saved_networks.zip saved_networks"
      ]
    },
    {
      "cell_type": "code",
      "execution_count": null,
      "metadata": {
        "id": "QnrxGJ6dq2nW"
      },
      "outputs": [],
      "source": []
    }
  ],
  "metadata": {
    "accelerator": "GPU",
    "colab": {
      "authorship_tag": "ABX9TyOc73PPWxpRul4p3EtHVEli",
      "include_colab_link": true,
      "machine_shape": "hm",
      "name": "DDQN Train.ipynb",
      "provenance": []
    },
    "kernelspec": {
      "display_name": "Python 3",
      "name": "python3"
    },
    "language_info": {
      "name": "python"
    }
  },
  "nbformat": 4,
  "nbformat_minor": 0
}
